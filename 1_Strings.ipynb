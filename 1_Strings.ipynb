{
 "cells": [
  {
   "cell_type": "markdown",
   "id": "a2c33790-0fe5-4087-b581-7749d2e30bf3",
   "metadata": {},
   "source": [
    "# STRINGS"
   ]
  },
  {
   "cell_type": "markdown",
   "id": "0df85c1e",
   "metadata": {},
   "source": [
    "Strings are an ordered and immutable collection data type used for the text representation of data. They are one of the basic data types in the language. Strings can be created using single quotes (') or double quotes (\") or three double quotes(\"\"\"), and Python supports various operations and methods for working with strings."
   ]
  },
  {
   "cell_type": "markdown",
   "id": "1cf6078b-91fb-47d6-96b5-5f5343a97ec1",
   "metadata": {},
   "source": [
    "### Single Quotes"
   ]
  },
  {
   "cell_type": "code",
   "execution_count": 5,
   "id": "510f3440-8bc8-4cb8-9cf6-3af9a890ebdf",
   "metadata": {},
   "outputs": [],
   "source": [
    "string1='NMQ'"
   ]
  },
  {
   "cell_type": "code",
   "execution_count": 7,
   "id": "79a591c9-5e54-4565-a4e7-7ce9919f1b4c",
   "metadata": {},
   "outputs": [
    {
     "name": "stdout",
     "output_type": "stream",
     "text": [
      "<class 'str'>\n",
      "NMQ\n"
     ]
    }
   ],
   "source": [
    "print(type(string1))\n",
    "print(string1)"
   ]
  },
  {
   "cell_type": "markdown",
   "id": "e8b6a6eb-8bd4-44cc-9377-409ea34eb77d",
   "metadata": {},
   "source": [
    "### Double Quotes \""
   ]
  },
  {
   "cell_type": "markdown",
   "id": "76b8d2fd-2620-457d-9453-4261dc57663e",
   "metadata": {},
   "source": [
    "Alternatively, you can form a string by enclosing the text in double quotes."
   ]
  },
  {
   "cell_type": "code",
   "execution_count": 8,
   "id": "fb34c82a",
   "metadata": {},
   "outputs": [],
   "source": [
    "new_string=\"NMQ\""
   ]
  },
  {
   "cell_type": "code",
   "execution_count": 9,
   "id": "11cdfde2",
   "metadata": {},
   "outputs": [
    {
     "name": "stdout",
     "output_type": "stream",
     "text": [
      "<class 'str'>\n",
      "NMQ\n"
     ]
    }
   ],
   "source": [
    "print(type(new_string))\n",
    "print(new_string)"
   ]
  },
  {
   "cell_type": "markdown",
   "id": "0041fe24-27f3-43a0-8738-068def394312",
   "metadata": {},
   "source": [
    "### Three Double Quotes \""
   ]
  },
  {
   "cell_type": "markdown",
   "id": "f79e0f4f-69f0-476a-83bd-8fa582f628c6",
   "metadata": {},
   "source": [
    "Alternatively, you can form a string by enclosing the text in three double quotes."
   ]
  },
  {
   "cell_type": "code",
   "execution_count": 10,
   "id": "a3cffead-8686-4a9d-b89c-1356ee36226b",
   "metadata": {},
   "outputs": [],
   "source": [
    "new_string=\"\"\"NMQ\"\"\""
   ]
  },
  {
   "cell_type": "code",
   "execution_count": 11,
   "id": "825e8883-3f79-4335-aa78-8a67a19c0fb4",
   "metadata": {},
   "outputs": [
    {
     "name": "stdout",
     "output_type": "stream",
     "text": [
      "<class 'str'>\n",
      "NMQ\n"
     ]
    }
   ],
   "source": [
    "print(type(new_string))\n",
    "print(new_string)"
   ]
  },
  {
   "cell_type": "markdown",
   "id": "22e815af-dbfc-463b-9763-c43f9310ecd8",
   "metadata": {},
   "source": [
    "Whether you utilize single quotes ' or double quotes \" or 3 double quotes, the resulting strings are equivalent"
   ]
  },
  {
   "cell_type": "code",
   "execution_count": 163,
   "id": "be742ccf-5bfc-4d51-8842-71b2158512b1",
   "metadata": {},
   "outputs": [
    {
     "name": "stdout",
     "output_type": "stream",
     "text": [
      "True\n"
     ]
    }
   ],
   "source": [
    "string1='NMQ'\n",
    "string2=\"NMQ\"\n",
    "string3=\"\"\"NMQ\"\"\"\n",
    "print(string1==string2==string3)"
   ]
  },
  {
   "cell_type": "markdown",
   "id": "60d64ee3-99c7-4f86-9fc2-c275a7122f82",
   "metadata": {},
   "source": [
    "### Quotes in strings are handled differently"
   ]
  },
  {
   "cell_type": "markdown",
   "id": "af5e0d2b-f9b2-48df-9f23-67b9a531c64b",
   "metadata": {},
   "source": [
    "- Single quote allow you to embed \"double\" quotes in your string\n",
    "- Double quote allow you to embed 'single' quotes in your string\n",
    "- Triple quotes allows to embed \"double quotes\" as well as 'single quotes' in your string. \n",
    "And can also span across multiple lines"
   ]
  },
  {
   "cell_type": "markdown",
   "id": "cb858ecb-15a7-4ab6-be9f-1788a3884b36",
   "metadata": {},
   "source": [
    "In a string enclosed with single quotes ', you can use double quotes \" directly. However, single quotes ' need to be escaped with a backslash, like this: \\'. Writing \\\" for double quotes within the single-quoted string is also permissible, but unnecessary."
   ]
  },
  {
   "cell_type": "code",
   "execution_count": 4,
   "id": "bbd53cfd-e953-432d-8c03-3fe179671fb2",
   "metadata": {},
   "outputs": [
    {
     "ename": "SyntaxError",
     "evalue": "unterminated string literal (detected at line 1) (1909298260.py, line 1)",
     "output_type": "error",
     "traceback": [
      "\u001b[1;36m  Cell \u001b[1;32mIn[4], line 1\u001b[1;36m\u001b[0m\n\u001b[1;33m    string='I'am a senior data analyst'\u001b[0m\n\u001b[1;37m                                      ^\u001b[0m\n\u001b[1;31mSyntaxError\u001b[0m\u001b[1;31m:\u001b[0m unterminated string literal (detected at line 1)\n"
     ]
    }
   ],
   "source": [
    "string='I'am a senior data analyst'\n",
    "print(type(string))\n",
    "print(string)"
   ]
  },
  {
   "cell_type": "code",
   "execution_count": 9,
   "id": "2f27fdc0",
   "metadata": {},
   "outputs": [
    {
     "name": "stdout",
     "output_type": "stream",
     "text": [
      "<class 'str'>\n",
      "I'am a senior data analyst\n"
     ]
    }
   ],
   "source": [
    "string='I\\'am a senior data analyst'\n",
    "print(type(string))\n",
    "print(string)"
   ]
  },
  {
   "cell_type": "code",
   "execution_count": 2,
   "id": "037151a0-5db2-421f-a19f-1cdf7bb45b4a",
   "metadata": {},
   "outputs": [
    {
     "name": "stdout",
     "output_type": "stream",
     "text": [
      "<class 'str'>\n",
      "I'am a senior data analyst\n"
     ]
    }
   ],
   "source": [
    "#Double quote allow you to embed 'single' quotes in your string\n",
    "string=\"I'am a senior data analyst\"\n",
    "print(type(string))\n",
    "print(string)"
   ]
  },
  {
   "cell_type": "code",
   "execution_count": 3,
   "id": "47d9afb9",
   "metadata": {},
   "outputs": [
    {
     "name": "stdout",
     "output_type": "stream",
     "text": [
      "I'am a senior data analyst\n"
     ]
    }
   ],
   "source": [
    "my_string=\"\"\"I'am a senior data analyst\"\"\"\n",
    "print(my_string)"
   ]
  },
  {
   "cell_type": "markdown",
   "id": "bd3ab636-6bb6-4d1a-aee6-3452f5fe7957",
   "metadata": {},
   "source": [
    "### Handle line breaks"
   ]
  },
  {
   "cell_type": "markdown",
   "id": "f5b6add5-683e-433e-bac0-dc9402126e64",
   "metadata": {},
   "source": [
    "Use the escape character \\n to represent a new line"
   ]
  },
  {
   "cell_type": "code",
   "execution_count": 11,
   "id": "ed495754",
   "metadata": {},
   "outputs": [
    {
     "name": "stdout",
     "output_type": "stream",
     "text": [
      "I'am a \n",
      " senior data analyst\n"
     ]
    }
   ],
   "source": [
    "my_string=\"\"\"I'am a \\n senior data analyst\"\"\"\n",
    "print(my_string)"
   ]
  },
  {
   "cell_type": "code",
   "execution_count": 12,
   "id": "a5624b09-2680-476c-90db-7edb1eea64b0",
   "metadata": {},
   "outputs": [
    {
     "name": "stdout",
     "output_type": "stream",
     "text": [
      "This is a single line.\n",
      "This is\n",
      "a multi-line\n",
      "string.\n"
     ]
    }
   ],
   "source": [
    "single_line = \"This is a single line.\"\n",
    "multi_line = \"This is\\na multi-line\\nstring.\"\n",
    "print(single_line)\n",
    "print(multi_line)"
   ]
  },
  {
   "cell_type": "markdown",
   "id": "eed05515-6ac8-4452-b313-69febe67d169",
   "metadata": {},
   "source": [
    "Triple-Quoted Strings:\r\n",
    "Triple-quoted strings (''' or \"\"\") can span multiple lines."
   ]
  },
  {
   "cell_type": "code",
   "execution_count": 40,
   "id": "6be851ce-7800-4af5-b51e-6febf5d2f6c7",
   "metadata": {},
   "outputs": [
    {
     "name": "stdout",
     "output_type": "stream",
     "text": [
      "This is a\n",
      "multi-line\n",
      "string.\n"
     ]
    }
   ],
   "source": [
    "multi_line = '''This is a\n",
    "multi-line\n",
    "string.'''\n",
    "print(multi_line)"
   ]
  },
  {
   "cell_type": "code",
   "execution_count": 41,
   "id": "7787a3c9-5bac-45ae-91fe-85ac3f2265da",
   "metadata": {},
   "outputs": [
    {
     "name": "stdout",
     "output_type": "stream",
     "text": [
      "This is a\n",
      "multi-line\n",
      "string.\n"
     ]
    }
   ],
   "source": [
    "multi_line = \"\"\"This is a\n",
    "multi-line\n",
    "string.\"\"\"\n",
    "print(multi_line)"
   ]
  },
  {
   "cell_type": "markdown",
   "id": "32716b1d-a61b-4d76-9687-a5a4671d33ee",
   "metadata": {},
   "source": [
    "You can use a raw string (r\"...\") to avoid interpreting escape characters."
   ]
  },
  {
   "cell_type": "code",
   "execution_count": 42,
   "id": "6ba0fba2-66ec-4c78-986d-4dd3d2ed4f96",
   "metadata": {},
   "outputs": [
    {
     "name": "stdout",
     "output_type": "stream",
     "text": [
      "This is a raw string\\nwith a literal\\nbackslash.\n"
     ]
    }
   ],
   "source": [
    "raw_string = r\"This is a raw string\\nwith a literal\\nbackslash.\"\n",
    "print(raw_string)"
   ]
  },
  {
   "cell_type": "markdown",
   "id": "2a7b3c5b-d724-4de9-a177-9133f24125f7",
   "metadata": {},
   "source": [
    "### Length of the strings"
   ]
  },
  {
   "cell_type": "code",
   "execution_count": 153,
   "id": "56d33fc5-e7d8-4ee7-90ac-d669c2218cda",
   "metadata": {},
   "outputs": [
    {
     "name": "stdout",
     "output_type": "stream",
     "text": [
      "13\n"
     ]
    }
   ],
   "source": [
    "# Define a string\n",
    "my_string = \"Hello, World!\"\n",
    "print(len(my_string))"
   ]
  },
  {
   "cell_type": "markdown",
   "id": "845c8617-217b-470f-a1c1-1258586d0757",
   "metadata": {},
   "source": [
    "### SLICING"
   ]
  },
  {
   "cell_type": "markdown",
   "id": "30e7d75a-5c27-430e-9873-3b8b19f6f54b",
   "metadata": {},
   "source": [
    "string[start:stop:step]"
   ]
  },
  {
   "cell_type": "markdown",
   "id": "826a3630-569a-44c5-aa53-9ad74fc84ec9",
   "metadata": {},
   "source": [
    "- start: The index where the slicing begins (inclusive).\r",
    "- \n",
    "stop: The index where the slicing stops (exclusive)\n",
    "- \r\n",
    "step:(optional) The step or stride between characters."
   ]
  },
  {
   "cell_type": "code",
   "execution_count": 154,
   "id": "ed75ccb8-59b8-4b1b-a302-04089a419346",
   "metadata": {},
   "outputs": [
    {
     "name": "stdout",
     "output_type": "stream",
     "text": [
      "Hello, World!\n"
     ]
    }
   ],
   "source": [
    "# Define a string\n",
    "my_string = \"Hello, World!\"\n",
    "print(my_string)"
   ]
  },
  {
   "cell_type": "code",
   "execution_count": 155,
   "id": "0aabd3ac-a96e-4445-a54b-12adbb25cee9",
   "metadata": {},
   "outputs": [
    {
     "name": "stdout",
     "output_type": "stream",
     "text": [
      "World\n"
     ]
    }
   ],
   "source": [
    "# Slicing from index 7 to 12 (not including 5)\n",
    "substring = my_string[7:12]\n",
    "print(substring)"
   ]
  },
  {
   "cell_type": "code",
   "execution_count": 118,
   "id": "85890400-f5b9-4a83-ae0d-dfe0ad16c59a",
   "metadata": {},
   "outputs": [
    {
     "name": "stdout",
     "output_type": "stream",
     "text": [
      "Hello\n"
     ]
    }
   ],
   "source": [
    "# Slicing from the beginning to index 5 (not including 5-exclusive)\n",
    "substring_start_omit = my_string[:5]  \n",
    "print(substring_start_omit)"
   ]
  },
  {
   "cell_type": "code",
   "execution_count": 121,
   "id": "e19e5ae6-284b-499d-8ab5-f9ef177e1882",
   "metadata": {},
   "outputs": [
    {
     "name": "stdout",
     "output_type": "stream",
     "text": [
      "He\n"
     ]
    }
   ],
   "source": [
    "substring_start_omit = my_string[:2]  # From the beginning to index 2 (exclusive)\n",
    "print(substring_start_omit)"
   ]
  },
  {
   "cell_type": "code",
   "execution_count": 141,
   "id": "49a311b4-6d3e-4f2b-ae7a-0c8678959bf8",
   "metadata": {},
   "outputs": [
    {
     "name": "stdout",
     "output_type": "stream",
     "text": [
      "World!\n"
     ]
    }
   ],
   "source": [
    "substring_stop_omit = my_string[7:]   # From index 7 to the end\n",
    "print(substring_stop_omit)   # Output: World!"
   ]
  },
  {
   "cell_type": "code",
   "execution_count": 150,
   "id": "a0916535",
   "metadata": {},
   "outputs": [
    {
     "name": "stdout",
     "output_type": "stream",
     "text": [
      "Hello, World!\n",
      "H\n",
      "e\n",
      "l\n",
      "W\n"
     ]
    }
   ],
   "source": [
    "# Define a string\n",
    "my_string = \"Hello, World!\"\n",
    "print(my_string)\n",
    "print(my_string[0])#print index  0\n",
    "print(my_string[1])#print index  1\n",
    "print(my_string[3])#print index  3\n",
    "print(my_string[7])#print index  7"
   ]
  },
  {
   "cell_type": "code",
   "execution_count": 151,
   "id": "95f09ac6-239b-4db9-8e8d-a2ccddd73624",
   "metadata": {},
   "outputs": [
    {
     "name": "stdout",
     "output_type": "stream",
     "text": [
      "Hello, World!\n",
      "!\n",
      "d\n",
      "l\n"
     ]
    }
   ],
   "source": [
    "# Define a string\n",
    "my_string = \"Hello, World!\"\n",
    "print(my_string)\n",
    "print(my_string[-1])#extract first element from the end of the string\n",
    "print(my_string[-2])#extract second element from the end of the string\n",
    "print(my_string[-3])#extract third element from the end of the string"
   ]
  },
  {
   "cell_type": "code",
   "execution_count": 148,
   "id": "a85726cf-42ab-4858-aa38-207952eae075",
   "metadata": {},
   "outputs": [
    {
     "name": "stdout",
     "output_type": "stream",
     "text": [
      "World\n"
     ]
    }
   ],
   "source": [
    "# Negative indices\n",
    "substring_negative = my_string[-6:-1]  # Equivalent to my_string[7:12]\n",
    "print(substring_negative)  "
   ]
  },
  {
   "cell_type": "markdown",
   "id": "d2509207-bb40-4794-8f3d-5c422beb11ee",
   "metadata": {},
   "source": [
    "take every character from the beginning to the end of the string"
   ]
  },
  {
   "cell_type": "code",
   "execution_count": 59,
   "id": "30b1d994-7253-4ae1-8f19-e820c315bd31",
   "metadata": {},
   "outputs": [
    {
     "name": "stdout",
     "output_type": "stream",
     "text": [
      "Hello, World!\n"
     ]
    }
   ],
   "source": [
    "print(my_string[::1])"
   ]
  },
  {
   "cell_type": "markdown",
   "id": "a8e9f55b-1585-492a-bf5f-1bf5f994c93a",
   "metadata": {},
   "source": [
    "omit start index and stop index and extract whole string"
   ]
  },
  {
   "cell_type": "code",
   "execution_count": 63,
   "id": "5372070e-751d-4f67-9242-32821f764399",
   "metadata": {},
   "outputs": [
    {
     "name": "stdout",
     "output_type": "stream",
     "text": [
      "llo\n"
     ]
    }
   ],
   "source": [
    "print(my_string[:])"
   ]
  },
  {
   "cell_type": "markdown",
   "id": "d752ae71-b6bd-4c6a-aac1-d9dbe67a0f2e",
   "metadata": {},
   "source": [
    "take every second character from the beginning to the end of the string"
   ]
  },
  {
   "cell_type": "code",
   "execution_count": 61,
   "id": "3889f254-6730-46e8-8437-298b538e6c7e",
   "metadata": {},
   "outputs": [
    {
     "name": "stdout",
     "output_type": "stream",
     "text": [
      "Hlo ol!\n"
     ]
    }
   ],
   "source": [
    "print(my_string[::2])"
   ]
  },
  {
   "cell_type": "code",
   "execution_count": 68,
   "id": "412bf6ac",
   "metadata": {},
   "outputs": [
    {
     "name": "stdout",
     "output_type": "stream",
     "text": [
      "Hello, World!\n",
      "!dlroW ,olleH\n"
     ]
    }
   ],
   "source": [
    "#It utilizes slicing with a negative step value to iterate over the string in reverse order.\n",
    "my_string = \"Hello, World!\"\n",
    "print(my_string)\n",
    "print(my_string[::-1])"
   ]
  },
  {
   "cell_type": "code",
   "execution_count": 70,
   "id": "c4cb8464-6820-4d85-bf2a-256ec1cb87f8",
   "metadata": {},
   "outputs": [
    {
     "name": "stdout",
     "output_type": "stream",
     "text": [
      "Hello, World!\n",
      "!lo olH\n"
     ]
    }
   ],
   "source": [
    "#take every second  character from the end to the beginning of the string, with a step of -2\n",
    "my_string = \"Hello, World!\"\n",
    "print(my_string)\n",
    "print(my_string[::-2])"
   ]
  },
  {
   "cell_type": "markdown",
   "id": "f4cefda1-897c-4d6d-8eb7-7fdb8f24a41e",
   "metadata": {},
   "source": [
    "#### strings are immutable and they can never ever change "
   ]
  },
  {
   "cell_type": "code",
   "execution_count": 72,
   "id": "6417c2a2",
   "metadata": {},
   "outputs": [
    {
     "ename": "TypeError",
     "evalue": "'str' object does not support item assignment",
     "output_type": "error",
     "traceback": [
      "\u001b[1;31m---------------------------------------------------------------------------\u001b[0m",
      "\u001b[1;31mTypeError\u001b[0m                                 Traceback (most recent call last)",
      "Cell \u001b[1;32mIn[72], line 2\u001b[0m\n\u001b[0;32m      1\u001b[0m my_string \u001b[38;5;241m=\u001b[39m \u001b[38;5;124m\"\u001b[39m\u001b[38;5;124mHello, World!\u001b[39m\u001b[38;5;124m\"\u001b[39m\n\u001b[1;32m----> 2\u001b[0m my_string[\u001b[38;5;241m0\u001b[39m]\u001b[38;5;241m=\u001b[39m\u001b[38;5;124m'\u001b[39m\u001b[38;5;124mxx\u001b[39m\u001b[38;5;124m'\u001b[39m\n\u001b[0;32m      3\u001b[0m \u001b[38;5;28mprint\u001b[39m(my_string)\n",
      "\u001b[1;31mTypeError\u001b[0m: 'str' object does not support item assignment"
     ]
    }
   ],
   "source": [
    "my_string = \"Hello, World!\"\n",
    "my_string[0]='xx'\n",
    "print(my_string)"
   ]
  },
  {
   "cell_type": "markdown",
   "id": "e1f0e31d-5d09-43b1-93d2-253b5b4951fc",
   "metadata": {},
   "source": [
    "if we want to change it we need we need to assign the new string back to s"
   ]
  },
  {
   "cell_type": "code",
   "execution_count": 52,
   "id": "c4e11c5d-870d-4f24-8958-bbddd21bb139",
   "metadata": {},
   "outputs": [
    {
     "name": "stdout",
     "output_type": "stream",
     "text": [
      "HellM, WMrld!\n"
     ]
    }
   ],
   "source": [
    "my_string=my_string.replace('o','M')\n",
    "print(my_string)"
   ]
  },
  {
   "cell_type": "code",
   "execution_count": 73,
   "id": "24bfe20e-8698-4af1-8031-e6ac3932ddcc",
   "metadata": {},
   "outputs": [
    {
     "name": "stdout",
     "output_type": "stream",
     "text": [
      "Hello, World!KYZ\n"
     ]
    }
   ],
   "source": [
    "#The += operator in Python is used for string concatenation when combined with a value\n",
    "my_string = \"Hello, World!\"\n",
    "my_string+='KYZ'\n",
    "print(my_string)"
   ]
  },
  {
   "cell_type": "markdown",
   "id": "4b5933a6-c96f-4940-8f2e-271820a2bfa7",
   "metadata": {},
   "source": [
    "\r\n",
    "In Python, the id() function is used to get the identity (memory address) of an object. When you use id(string), it will return the memory address of the string object in memory."
   ]
  },
  {
   "cell_type": "code",
   "execution_count": 75,
   "id": "e88b9e20-305b-4931-99fd-0f4ce5ef6827",
   "metadata": {},
   "outputs": [
    {
     "data": {
      "text/plain": [
       "1772539100848"
      ]
     },
     "execution_count": 75,
     "metadata": {},
     "output_type": "execute_result"
    }
   ],
   "source": [
    "my_string = \"Hello, World!\" #what is the unique obhect ID of the item (string) that s refers to\n",
    "id(my_string)"
   ]
  },
  {
   "cell_type": "markdown",
   "id": "dd21d110-ba44-47ea-92ba-34d9d09cc93a",
   "metadata": {},
   "source": [
    "In Python, when you use the + operator with two strings, it concatenates them, meaning it combines the characters from \n",
    "both strings to create a new string. Here's an example:"
   ]
  },
  {
   "cell_type": "code",
   "execution_count": 76,
   "id": "9e77dae6",
   "metadata": {},
   "outputs": [],
   "source": [
    "s1=\"\"\"abcd\"\"\"\n",
    "s2=\"\"\"'efg\"\"\""
   ]
  },
  {
   "cell_type": "code",
   "execution_count": 77,
   "id": "55de2291",
   "metadata": {},
   "outputs": [
    {
     "name": "stdout",
     "output_type": "stream",
     "text": [
      "abcd'efg\n"
     ]
    }
   ],
   "source": [
    "sentence=s1+s2\n",
    "print(sentence)"
   ]
  },
  {
   "cell_type": "code",
   "execution_count": 78,
   "id": "842adfc9",
   "metadata": {},
   "outputs": [
    {
     "name": "stdout",
     "output_type": "stream",
     "text": [
      "'\n",
      "e\n",
      "f\n",
      "g\n"
     ]
    }
   ],
   "source": [
    "s2=\"\"\"'efg\"\"\"\n",
    "for i in s2:\n",
    "    print(i)"
   ]
  },
  {
   "cell_type": "code",
   "execution_count": 79,
   "id": "f4e8fe3c",
   "metadata": {},
   "outputs": [
    {
     "name": "stdout",
     "output_type": "stream",
     "text": [
      "yes\n"
     ]
    }
   ],
   "source": [
    "if 'e' in s2:\n",
    "    print('yes')\n",
    "else:\n",
    "    print('no')"
   ]
  },
  {
   "cell_type": "code",
   "execution_count": 80,
   "id": "4f738eac",
   "metadata": {},
   "outputs": [
    {
     "name": "stdout",
     "output_type": "stream",
     "text": [
      "yes\n"
     ]
    }
   ],
   "source": [
    "if 'fg' in s2:\n",
    "    print('yes')\n",
    "else:\n",
    "    print('no')"
   ]
  },
  {
   "cell_type": "code",
   "execution_count": 81,
   "id": "568c568c",
   "metadata": {},
   "outputs": [
    {
     "name": "stdout",
     "output_type": "stream",
     "text": [
      "no\n"
     ]
    }
   ],
   "source": [
    "if 'q' in s2:\n",
    "    print('yes')\n",
    "else:\n",
    "    print('no')"
   ]
  },
  {
   "cell_type": "markdown",
   "id": "792af9c6-5075-432a-b97b-a31ec40dd55b",
   "metadata": {},
   "source": [
    "### Strip\n",
    "\n",
    "In Python, the strip() method is used to remove leading and trailing whitespaces (including spaces, tabs, and newline characters) from a string. The strip() method does not modify the original string; instead, it returns a new string with the leading and trailing whitespaces removed."
   ]
  },
  {
   "cell_type": "code",
   "execution_count": 5,
   "id": "d94ccce9",
   "metadata": {},
   "outputs": [
    {
     "name": "stdout",
     "output_type": "stream",
     "text": [
      "  abcd \"\"efg    \n"
     ]
    }
   ],
   "source": [
    "s='  abcd \"\"efg    '\n",
    "print(s)"
   ]
  },
  {
   "cell_type": "code",
   "execution_count": 6,
   "id": "4954ef8a",
   "metadata": {},
   "outputs": [
    {
     "name": "stdout",
     "output_type": "stream",
     "text": [
      "abcd \"\"efg\n"
     ]
    }
   ],
   "source": [
    "s=s.strip()\n",
    "print(s)"
   ]
  },
  {
   "cell_type": "code",
   "execution_count": 7,
   "id": "6808e8fb",
   "metadata": {},
   "outputs": [
    {
     "name": "stdout",
     "output_type": "stream",
     "text": [
      "  abcd \"\"efg    \n"
     ]
    }
   ],
   "source": [
    "s='  abcd \"\"efg    '\n",
    "s.strip() #original not change\n",
    "print(s)"
   ]
  },
  {
   "cell_type": "markdown",
   "id": "8706b6d1-fea1-4ca1-81fd-c970938442bf",
   "metadata": {},
   "source": [
    "### upper & lower & startswith"
   ]
  },
  {
   "cell_type": "markdown",
   "id": "d155d5d8-7571-41a2-9300-b8ffc019732b",
   "metadata": {},
   "source": [
    "In Python, you can use the upper() method to convert a string to uppercase"
   ]
  },
  {
   "cell_type": "code",
   "execution_count": 14,
   "id": "dd805fa4",
   "metadata": {},
   "outputs": [
    {
     "name": "stdout",
     "output_type": "stream",
     "text": [
      "Hello, World!\n",
      "HELLO, WORLD!\n"
     ]
    }
   ],
   "source": [
    "my_string = \"Hello, World!\"\n",
    "print(my_string)\n",
    "print(my_string.upper())"
   ]
  },
  {
   "cell_type": "markdown",
   "id": "34a3f16d-ec9e-4a18-9542-d6b7b5efa5ed",
   "metadata": {},
   "source": [
    "\n",
    "To convert a string to lowercase in Python, you can use the lower()"
   ]
  },
  {
   "cell_type": "code",
   "execution_count": 15,
   "id": "6ed8bcd3",
   "metadata": {},
   "outputs": [
    {
     "name": "stdout",
     "output_type": "stream",
     "text": [
      "HELLO, World!\n",
      "hello, world!\n"
     ]
    }
   ],
   "source": [
    "my_string = \"HELLO, World!\"\n",
    "print(my_string)\n",
    "print(my_string.lower())"
   ]
  },
  {
   "cell_type": "markdown",
   "id": "89feff35-47b9-4784-9f8a-1b6469d82704",
   "metadata": {},
   "source": [
    "you can check if a string starts with a specific substring using the startswith() method."
   ]
  },
  {
   "cell_type": "code",
   "execution_count": 18,
   "id": "94c7b22e",
   "metadata": {},
   "outputs": [
    {
     "name": "stdout",
     "output_type": "stream",
     "text": [
      "True\n",
      "abcd \"\"efg\n"
     ]
    }
   ],
   "source": [
    "s='abcd \"\"efg'\n",
    "print(s.startswith('abc'))\n",
    "print(s)"
   ]
  },
  {
   "cell_type": "code",
   "execution_count": 19,
   "id": "d6a342c2",
   "metadata": {},
   "outputs": [
    {
     "name": "stdout",
     "output_type": "stream",
     "text": [
      "False\n",
      "abcd \"\"efg\n"
     ]
    }
   ],
   "source": [
    "s='abcd \"\"efg'\n",
    "print(s.startswith('A'))\n",
    "print(s)"
   ]
  },
  {
   "cell_type": "code",
   "execution_count": 30,
   "id": "99008cae-035e-4be5-ba00-595d315d98d6",
   "metadata": {},
   "outputs": [
    {
     "name": "stdout",
     "output_type": "stream",
     "text": [
      "The substring 'Hello' is present in the first 5 characters\n"
     ]
    }
   ],
   "source": [
    "# Check if the substring \"Hello\" is present in the first 5 characters\n",
    "my_string = \"Hello, World!\"\n",
    "if my_string.startswith(\"Hello\", 0, 5):\n",
    "    print(\"The substring 'Hello' is present in the first 5 characters\")\n",
    "else:\n",
    "    print(\"The substring 'Hello' is not present in the first 5 characters\")"
   ]
  },
  {
   "cell_type": "code",
   "execution_count": 32,
   "id": "56371331-91de-499d-bfb7-d73698ece182",
   "metadata": {},
   "outputs": [
    {
     "name": "stdout",
     "output_type": "stream",
     "text": [
      "The substring 'Hello' is not present in the first 3 characters\n"
     ]
    }
   ],
   "source": [
    "# Check if the substring \"hal\" is present in the first 3 characters\n",
    "if my_string.startswith(\"hal\", 0, 3):\n",
    "    print(\"The substring 'Hello' is present in the first 3 characters\")\n",
    "else:\n",
    "    print(\"The substring 'Hello' is not present in the first 3 characters\")"
   ]
  },
  {
   "cell_type": "markdown",
   "id": "673fef14-ea98-436c-a8d1-348dbaba844b",
   "metadata": {},
   "source": [
    "### endswith"
   ]
  },
  {
   "cell_type": "markdown",
   "id": "642b936f-8e2b-49ce-a74e-0d98ddf381ac",
   "metadata": {},
   "source": [
    "\r\n",
    "In Python, you can check if a string ends with a specific substring using the endswith() method. "
   ]
  },
  {
   "cell_type": "code",
   "execution_count": 20,
   "id": "53b76f9e",
   "metadata": {},
   "outputs": [
    {
     "name": "stdout",
     "output_type": "stream",
     "text": [
      "True\n",
      "abcd \"\"efg\n"
     ]
    }
   ],
   "source": [
    "s='abcd \"\"efg'\n",
    "print(s.endswith('g'))\n",
    "print(s)"
   ]
  },
  {
   "cell_type": "code",
   "execution_count": 21,
   "id": "627ccbe1",
   "metadata": {},
   "outputs": [
    {
     "name": "stdout",
     "output_type": "stream",
     "text": [
      "True\n",
      "abcd \"\"efg\n"
     ]
    }
   ],
   "source": [
    "s='abcd \"\"efg'\n",
    "print(s.endswith('efg'))\n",
    "print(s)"
   ]
  },
  {
   "cell_type": "code",
   "execution_count": 33,
   "id": "049eac74-2ab6-4c91-8cbc-5afa5ae44221",
   "metadata": {},
   "outputs": [
    {
     "name": "stdout",
     "output_type": "stream",
     "text": [
      "The substring 'World' is not present in the last 6 characters\n"
     ]
    }
   ],
   "source": [
    "# Check if the substring \"World\" is present in the last 6 characters\n",
    "my_string = \"Hello, World!\"\n",
    "if my_string.endswith(\"World\", -6):\n",
    "    print(\"The substring 'World' is present in the last 6 characters\")\n",
    "else:\n",
    "    print(\"The substring 'World' is not present in the last 6 characters\")"
   ]
  },
  {
   "cell_type": "markdown",
   "id": "0cc12a01-90f6-4f25-9c91-21b6bb1936ff",
   "metadata": {},
   "source": [
    "### find"
   ]
  },
  {
   "cell_type": "markdown",
   "id": "0b83bd59-7469-4d2b-aa95-e70a31604514",
   "metadata": {},
   "source": [
    "In Python, you can use the find() method to locate the index of the first occurrence of a substring within a string.If the substring is not found, the method returns -1."
   ]
  },
  {
   "cell_type": "code",
   "execution_count": 59,
   "id": "e4715bac",
   "metadata": {},
   "outputs": [
    {
     "name": "stdout",
     "output_type": "stream",
     "text": [
      "abcd \"\"efg\n",
      "7\n"
     ]
    }
   ],
   "source": [
    "s='abcd \"\"efg'\n",
    "print(s)\n",
    "print(s.find('e'))"
   ]
  },
  {
   "cell_type": "code",
   "execution_count": 60,
   "id": "7799d4ee-d5b4-4194-817f-0677a5fbd1fc",
   "metadata": {},
   "outputs": [
    {
     "name": "stdout",
     "output_type": "stream",
     "text": [
      "abcd \"\"efg\n",
      "7\n"
     ]
    }
   ],
   "source": [
    "s='abcd \"\"efg'\n",
    "print(s)\n",
    "print(s.find('efg'))"
   ]
  },
  {
   "cell_type": "code",
   "execution_count": 61,
   "id": "208fd437",
   "metadata": {},
   "outputs": [
    {
     "name": "stdout",
     "output_type": "stream",
     "text": [
      "abcd \"\"efg\n",
      "2\n"
     ]
    }
   ],
   "source": [
    "s='abcd \"\"efg'\n",
    "print(s)\n",
    "print(s.find('cd'))"
   ]
  },
  {
   "cell_type": "code",
   "execution_count": 62,
   "id": "7b5cbee7",
   "metadata": {},
   "outputs": [
    {
     "name": "stdout",
     "output_type": "stream",
     "text": [
      "-1\n"
     ]
    }
   ],
   "source": [
    "my_string='Hello World'\n",
    "print(my_string.find('zk'))"
   ]
  },
  {
   "cell_type": "code",
   "execution_count": 63,
   "id": "bd57205b-b2f8-4a74-97eb-50125d240ea2",
   "metadata": {},
   "outputs": [
    {
     "name": "stdout",
     "output_type": "stream",
     "text": [
      "Hello, World!\n",
      "7\n",
      "The substring 'World' is found at index 7\n"
     ]
    }
   ],
   "source": [
    "my_string = \"Hello, World!\"\n",
    "print(my_string)\n",
    "\n",
    "# Find the index of the substring \"World\" starting from index 7\n",
    "index1 = my_string.find(\"World\", 7)\n",
    "print(index1)\n",
    "if index != -1:\n",
    "    print(f\"The substring 'World' is found at index {index}\")\n",
    "else:\n",
    "    print(\"The substring 'World' is not found in the specified range\")"
   ]
  },
  {
   "cell_type": "markdown",
   "id": "eb76ef1f-66e8-472b-af2f-dfaea7a90d32",
   "metadata": {},
   "source": [
    "### Count"
   ]
  },
  {
   "cell_type": "code",
   "execution_count": 68,
   "id": "c76103dc-d6b7-404b-bb7a-eba1ffcd99d7",
   "metadata": {},
   "outputs": [
    {
     "name": "stdout",
     "output_type": "stream",
     "text": [
      "The substring 'Hello' appears 3 times in the string.\n"
     ]
    }
   ],
   "source": [
    "my_string = \"Hello, World! Hello, Universe! Hello, Python!\"\n",
    "\n",
    "# Count the occurrences of the substring \"Hello\"\n",
    "count = my_string.count(\"Hello\")\n",
    "\n",
    "print(f\"The substring 'Hello' appears {count} times in the string.\")"
   ]
  },
  {
   "cell_type": "markdown",
   "id": "916dd997-b5f3-4152-9e6b-196da55f2055",
   "metadata": {},
   "source": [
    "In this example, the count() method is used to count the number of occurrences of the substring \"Hello\" in the my_string variable.\r\n",
    "\r\n",
    "You can also use optional start and end parameters to count occurrences within a specific range:"
   ]
  },
  {
   "cell_type": "code",
   "execution_count": 69,
   "id": "267ba9a5-ca1a-42b1-b9fd-e068ed72292a",
   "metadata": {},
   "outputs": [
    {
     "name": "stdout",
     "output_type": "stream",
     "text": [
      "The substring 'Hello' appears 2 times in the specified range.\n"
     ]
    }
   ],
   "source": [
    "my_string = \"Hello, World! Hello, Universe! Hello, Python!\"\n",
    "\n",
    "# Count the occurrences of the substring \"Hello\" in the first 20 characters\n",
    "count = my_string.count(\"Hello\", 0, 20)\n",
    "\n",
    "print(f\"The substring 'Hello' appears {count} times in the specified range.\")"
   ]
  },
  {
   "cell_type": "code",
   "execution_count": 70,
   "id": "0a61d9d2-3d74-418f-bea5-825b0a51f324",
   "metadata": {},
   "outputs": [
    {
     "name": "stdout",
     "output_type": "stream",
     "text": [
      "3\n",
      "abcd \"\"efga a\n"
     ]
    }
   ],
   "source": [
    "s='abcd \"\"efga a'\n",
    "print(s.count('a'))\n",
    "print(s)"
   ]
  },
  {
   "cell_type": "code",
   "execution_count": 71,
   "id": "a55df6b2",
   "metadata": {},
   "outputs": [
    {
     "name": "stdout",
     "output_type": "stream",
     "text": [
      "0\n",
      "abcd \"\"efga a\n"
     ]
    }
   ],
   "source": [
    "s='abcd \"\"efga a'\n",
    "print(s.count('q'))\n",
    "print(s)"
   ]
  },
  {
   "cell_type": "markdown",
   "id": "970db8a1-e950-4868-8fd8-24debdb9e19c",
   "metadata": {},
   "source": [
    "### replace"
   ]
  },
  {
   "cell_type": "markdown",
   "id": "21b054e9-3330-4d79-b72d-cabdd51b3ee7",
   "metadata": {},
   "source": [
    "To replace occurrences of a substring within a string in Python, you can use the replace() method"
   ]
  },
  {
   "cell_type": "code",
   "execution_count": 75,
   "id": "c7897958",
   "metadata": {},
   "outputs": [
    {
     "name": "stdout",
     "output_type": "stream",
     "text": [
      "Hello eeel\n"
     ]
    }
   ],
   "source": [
    "my_string='Hello World'\n",
    "print(my_string.replace('World','eeel'))"
   ]
  },
  {
   "cell_type": "code",
   "execution_count": 76,
   "id": "5f597f86",
   "metadata": {},
   "outputs": [
    {
     "name": "stdout",
     "output_type": "stream",
     "text": [
      "abcd \"\"222a a\n"
     ]
    }
   ],
   "source": [
    "s='abcd \"\"efga a'\n",
    "print(s.replace('efg','222'))"
   ]
  },
  {
   "cell_type": "markdown",
   "id": "e1886fe2-74a7-4c67-a140-7c09d689cdd0",
   "metadata": {},
   "source": [
    "# split"
   ]
  },
  {
   "cell_type": "markdown",
   "id": "a6375b45-3de9-4215-a5d8-4b0b1ca37222",
   "metadata": {},
   "source": [
    "\r\n",
    "In Python, you can use the split() method to split a string into a list of substrings based on a specified delimiter."
   ]
  },
  {
   "cell_type": "code",
   "execution_count": 78,
   "id": "079e454b-7138-4c15-9a2a-3284d9325637",
   "metadata": {},
   "outputs": [
    {
     "name": "stdout",
     "output_type": "stream",
     "text": [
      "['apple', 'banana', 'orange', 'grape']\n"
     ]
    }
   ],
   "source": [
    "my_string = \"apple,banana,orange,grape\"\n",
    "\n",
    "# Split the string into a list of fruits\n",
    "fruit_list = my_string.split(',')\n",
    "\n",
    "print(fruit_list)"
   ]
  },
  {
   "cell_type": "code",
   "execution_count": 79,
   "id": "1c1d92c5-fbb8-4c0f-9f1e-289c08282570",
   "metadata": {},
   "outputs": [
    {
     "name": "stdout",
     "output_type": "stream",
     "text": [
      "['one', 'two', 'three', 'four five']\n"
     ]
    }
   ],
   "source": [
    "my_string = \"one two three four five\"\n",
    "\n",
    "# Split the string into a list, limiting the splits to 3\n",
    "parts = my_string.split(' ', 3)\n",
    "\n",
    "print(parts)"
   ]
  },
  {
   "cell_type": "code",
   "execution_count": 182,
   "id": "f7b5a396",
   "metadata": {},
   "outputs": [
    {
     "name": "stdout",
     "output_type": "stream",
     "text": [
      "<class 'list'>\n",
      "['abcd', '\"\"efga', 'a']\n"
     ]
    }
   ],
   "source": [
    "s='abcd \"\"efga a'\n",
    "list1=s.split()\n",
    "print(type(list1))\n",
    "print(list1)"
   ]
  },
  {
   "cell_type": "code",
   "execution_count": 183,
   "id": "588191c9",
   "metadata": {},
   "outputs": [
    {
     "name": "stdout",
     "output_type": "stream",
     "text": [
      "['abcd', '\"\"efga', 'a']\n"
     ]
    }
   ],
   "source": [
    "s='abcd \"\"efga a'\n",
    "list2=s.split(\" \")\n",
    "print(list2)"
   ]
  },
  {
   "cell_type": "code",
   "execution_count": 184,
   "id": "19be3cd1-eaa1-4c23-bfdd-bc7dbff1206a",
   "metadata": {},
   "outputs": [
    {
     "name": "stdout",
     "output_type": "stream",
     "text": [
      "['abcd', '\"\"', 'efga', ' a']\n"
     ]
    }
   ],
   "source": [
    "s='abcd,\"\",efga, a'\n",
    "list3=s.split(\",\")\n",
    "print(list3)"
   ]
  },
  {
   "cell_type": "code",
   "execution_count": 185,
   "id": "7a04e673-9280-4e1d-aa52-3d48a77cda13",
   "metadata": {},
   "outputs": [
    {
     "name": "stdout",
     "output_type": "stream",
     "text": [
      "['abcd', '\"\"', 'efga', ' a']\n",
      "abcd\"\"efga a\n"
     ]
    }
   ],
   "source": [
    "s='abcd,\"\",efga, a'\n",
    "s=s.split(\",\")\n",
    "print(s)\n",
    "s=''.join(s)\n",
    "print(s)"
   ]
  },
  {
   "cell_type": "markdown",
   "id": "41d694a6-ba28-485f-9c1b-df8886fee54c",
   "metadata": {},
   "source": [
    "### Join method"
   ]
  },
  {
   "cell_type": "markdown",
   "id": "03c04a38-a0ae-4578-8ebe-6f07367c33d1",
   "metadata": {},
   "source": [
    "The join() method in Python is used to concatenate a sequence of strings, typically elements of a list, with a specified separator. While it may not be immediately obvious, using join() instead of concatenation (+ operator) for combining strings has several computational advantages, especially when dealing with large datasets or loops. Here are some reasons why using join() is advantageous:"
   ]
  },
  {
   "cell_type": "markdown",
   "id": "a813c7b1-2261-4857-8fbf-30e72c1cdd0e",
   "metadata": {},
   "source": [
    "Efficiency: The join() method is more efficient than using the + operator for concatenating multiple strings, especially when dealing with a large number of strings. This is because join() operates directly on the list of strings and doesn't create intermediate string objects."
   ]
  },
  {
   "cell_type": "markdown",
   "id": "a7e9e88f-9965-4317-a32d-50390eae2586",
   "metadata": {},
   "source": [
    "Memory Usage: When you use + to concatenate strings in a loop, a new string is created at each iteration. This can lead to excessive memory usage, especially with a large number of iterations. join() is more memory-efficient since it operates on the original list without creating intermediate strings."
   ]
  },
  {
   "cell_type": "markdown",
   "id": "dd51ba61-3b8f-4638-9fa9-1fa325f560a1",
   "metadata": {},
   "source": [
    "Readability and Maintainability: The use of join() often makes the code more readable and concise. It clearly communicates the intent of concatenating strings with a specific separator."
   ]
  },
  {
   "cell_type": "code",
   "execution_count": 84,
   "id": "96da96f5",
   "metadata": {},
   "outputs": [
    {
     "name": "stdout",
     "output_type": "stream",
     "text": [
      "['abcd', '\"\"', 'efga', ' a']\n",
      "abcd \"\" efga  a\n"
     ]
    }
   ],
   "source": [
    "s='abcd,\"\",efga, a'\n",
    "s=s.split(\",\")\n",
    "print(s)\n",
    "s=' '.join(s)\n",
    "print(s)"
   ]
  },
  {
   "cell_type": "code",
   "execution_count": 85,
   "id": "02b8d0e9",
   "metadata": {},
   "outputs": [
    {
     "name": "stdout",
     "output_type": "stream",
     "text": [
      "['s', 's', 's', 's', 's', 's']\n"
     ]
    }
   ],
   "source": [
    "list=['s']*6\n",
    "print(list)"
   ]
  },
  {
   "cell_type": "code",
   "execution_count": 86,
   "id": "bcbd0737",
   "metadata": {},
   "outputs": [],
   "source": [
    "from timeit import default_timer as timer"
   ]
  },
  {
   "cell_type": "code",
   "execution_count": 164,
   "id": "31e21750",
   "metadata": {},
   "outputs": [
    {
     "name": "stdout",
     "output_type": "stream",
     "text": [
      "14.563211700005922\n"
     ]
    }
   ],
   "source": [
    "#bad code expensive to compute \n",
    "start=timer()\n",
    "list1=['s']*1000000\n",
    "#print(list)\n",
    "s=''\n",
    "for i  in list1:\n",
    "    s +=i\n",
    "    stop=timer()\n",
    "#print(s)\n",
    "print(stop-start)"
   ]
  },
  {
   "cell_type": "code",
   "execution_count": 165,
   "id": "522f75f8",
   "metadata": {},
   "outputs": [
    {
     "name": "stdout",
     "output_type": "stream",
     "text": [
      "0.01296060000458965\n"
     ]
    }
   ],
   "source": [
    "#good and cheap to compute\n",
    "start=timer()\n",
    "list1=['s']*1000000\n",
    "#print(my_list)\n",
    "s =''.join(list1)\n",
    "stop=timer()\n",
    "#print(my_string)\n",
    "print(stop-start)"
   ]
  },
  {
   "cell_type": "markdown",
   "id": "0759f93d-f602-44c7-9eb6-725a42bb849f",
   "metadata": {},
   "source": [
    "As it far less minutes than the join method so In summary, using the join() method is generally recommended for concatenating strings, especially when dealing with large datasets or repetitive operations. It leads to more efficient code in terms of time and memory usage. "
   ]
  },
  {
   "cell_type": "markdown",
   "id": "cce712dd",
   "metadata": {},
   "source": [
    "### format strings"
   ]
  },
  {
   "cell_type": "markdown",
   "id": "d37484ac-5fc1-4464-9733-721fba10586f",
   "metadata": {},
   "source": [
    "You can use the % operator for string formatting. It allows you to embed values into a string using placeholders."
   ]
  },
  {
   "cell_type": "code",
   "execution_count": 166,
   "id": "9e92bc09",
   "metadata": {},
   "outputs": [
    {
     "name": "stdout",
     "output_type": "stream",
     "text": [
      "my name is Alex\n"
     ]
    }
   ],
   "source": [
    "name=\"Alex\"\n",
    "s=\"my name is %s\" % name\n",
    "print(s)"
   ]
  },
  {
   "cell_type": "code",
   "execution_count": 167,
   "id": "8085dded-44f6-42df-aa87-ce6f9de6b105",
   "metadata": {},
   "outputs": [
    {
     "name": "stdout",
     "output_type": "stream",
     "text": [
      "My name is Bob and I am 25 years old.\n"
     ]
    }
   ],
   "source": [
    "name = \"Bob\"\n",
    "age = 25\n",
    "message = \"My name is %s and I am %d years old.\" % (name, age)\n",
    "print(message)"
   ]
  },
  {
   "cell_type": "markdown",
   "id": "5ee4c69a-4ba8-41a7-9885-1812e56bbd1c",
   "metadata": {},
   "source": [
    "if variable is number"
   ]
  },
  {
   "cell_type": "code",
   "execution_count": 168,
   "id": "ce25acfc",
   "metadata": {},
   "outputs": [
    {
     "name": "stdout",
     "output_type": "stream",
     "text": [
      "my age is 44\n",
      "<class 'str'>\n"
     ]
    }
   ],
   "source": [
    "age=44\n",
    "s=\"my age is %d\" % age\n",
    "print(s)\n",
    "print(type(s))"
   ]
  },
  {
   "cell_type": "code",
   "execution_count": 169,
   "id": "958f45ab",
   "metadata": {},
   "outputs": [
    {
     "name": "stdout",
     "output_type": "stream",
     "text": [
      "the price of the product is 5 dollars\n"
     ]
    }
   ],
   "source": [
    "var=5.34256\n",
    "s=\"the price of the product is %d dollars\" % var\n",
    "print(s)"
   ]
  },
  {
   "cell_type": "code",
   "execution_count": 170,
   "id": "523503f9",
   "metadata": {},
   "outputs": [
    {
     "name": "stdout",
     "output_type": "stream",
     "text": [
      "the price of the product is 5.345672 dollars\n"
     ]
    }
   ],
   "source": [
    "var=5.34567234\n",
    "s=\"the price of the product is %f dollars\" % var \n",
    "print(s)"
   ]
  },
  {
   "cell_type": "code",
   "execution_count": 171,
   "id": "95cc2f11",
   "metadata": {},
   "outputs": [
    {
     "name": "stdout",
     "output_type": "stream",
     "text": [
      "the price of the product is 125.76 dollars\n"
     ]
    }
   ],
   "source": [
    "var=125.7644545634\n",
    "s=\"the price of the product is %.2f dollars\" % var\n",
    "print(s)"
   ]
  },
  {
   "cell_type": "markdown",
   "id": "9a52efb8-e97e-4aac-a3fe-bcdea1d60616",
   "metadata": {},
   "source": [
    "The format() method provides a more flexible and readable way to format strings. You can use placeholders within the string and then call the format() method to substitute values.on"
   ]
  },
  {
   "cell_type": "code",
   "execution_count": 172,
   "id": "1401f437",
   "metadata": {},
   "outputs": [
    {
     "name": "stdout",
     "output_type": "stream",
     "text": [
      "the variable is 5.123456789456\n"
     ]
    }
   ],
   "source": [
    "var=5.123456789456\n",
    "s=\"the variable is {}\".format(var)\n",
    "print(s)"
   ]
  },
  {
   "cell_type": "code",
   "execution_count": 173,
   "id": "0e86419f",
   "metadata": {},
   "outputs": [
    {
     "name": "stdout",
     "output_type": "stream",
     "text": [
      "I have 23.46 dollars\n"
     ]
    }
   ],
   "source": [
    "var=23.4564546\n",
    "s=\"I have {:.2f} dollars\".format(var)\n",
    "print(s)"
   ]
  },
  {
   "cell_type": "code",
   "execution_count": 174,
   "id": "69f99d68",
   "metadata": {},
   "outputs": [
    {
     "name": "stdout",
     "output_type": "stream",
     "text": [
      "my height is 1.75 and my name is John\n"
     ]
    }
   ],
   "source": [
    "height=1.754\n",
    "name='John'\n",
    "s=\"my height is {:.2f} and my name is {}\".format(height,name)\n",
    "print(s)"
   ]
  },
  {
   "cell_type": "code",
   "execution_count": 175,
   "id": "80ac6236-617f-4e51-9741-d4bab25dc486",
   "metadata": {},
   "outputs": [
    {
     "name": "stdout",
     "output_type": "stream",
     "text": [
      "my height is 1.55 and my name is John\n"
     ]
    }
   ],
   "source": [
    "height=1.754\n",
    "name='John'\n",
    "s=\"my height is {height:.2f} and my name is {name}\".format(height=1.5467,name=\"John\")\n",
    "print(s)"
   ]
  },
  {
   "cell_type": "markdown",
   "id": "b77999a7-9d44-40dc-a8b9-0c4ab214484e",
   "metadata": {},
   "source": [
    "In this example, variables are directly embedded within the string using curly braces {} preceded by an f character."
   ]
  },
  {
   "cell_type": "code",
   "execution_count": 176,
   "id": "813267f7",
   "metadata": {},
   "outputs": [
    {
     "name": "stdout",
     "output_type": "stream",
     "text": [
      "the variable is 11.35147156 and 6\n"
     ]
    }
   ],
   "source": [
    "var=5.67573578\n",
    "var2=6\n",
    "my_string=f\"the variable is {var*2} and {var2}\"\n",
    "print(my_string)"
   ]
  },
  {
   "cell_type": "code",
   "execution_count": 177,
   "id": "1958538c-f7e8-4cb2-ada2-f8385bbd1c9a",
   "metadata": {},
   "outputs": [
    {
     "name": "stdout",
     "output_type": "stream",
     "text": [
      "My name is Matt, I'm 36 years old\n"
     ]
    }
   ],
   "source": [
    "s = \"My name is {fname}, I'm {age} years old\".format(fname = \"Matt\", age = 36)\n",
    "print(s)"
   ]
  },
  {
   "cell_type": "code",
   "execution_count": 178,
   "id": "4e7ba4c8-0dae-4e79-9ec9-d5fcb34b4aef",
   "metadata": {},
   "outputs": [
    {
     "name": "stdout",
     "output_type": "stream",
     "text": [
      "My name is Matt, I'm 36\n"
     ]
    }
   ],
   "source": [
    "s = \"My name is {0}, I'm {1}\".format(\"Matt\", 36)\n",
    "print(s)"
   ]
  },
  {
   "cell_type": "code",
   "execution_count": 4,
   "id": "62ef98cb-b050-420c-9072-1762533fef2c",
   "metadata": {},
   "outputs": [
    {
     "name": "stdout",
     "output_type": "stream",
     "text": [
      "My name is Matt and I am 45 years old. My best friend is also 45 years old.\n"
     ]
    }
   ],
   "source": [
    "name=\"Matt\"\n",
    "age=45\n",
    "s = \"My name is {0} and I am {1} years old. My best friend is also {1} years old.\".format(name, age)\n",
    "print(s)"
   ]
  },
  {
   "cell_type": "code",
   "execution_count": 3,
   "id": "46a4476a-dbe4-49f5-b78d-30c2790f9a38",
   "metadata": {},
   "outputs": [
    {
     "name": "stdout",
     "output_type": "stream",
     "text": [
      "GeeksforGeeks, is a computer geeks science portal\n"
     ]
    }
   ],
   "source": [
    "my_string = \"{}, is a {} {} science portal\"\n",
    " \n",
    "print(my_string.format(\"GeeksforGeeks\", \"computer\", \"geeks\"))"
   ]
  },
  {
   "cell_type": "markdown",
   "id": "e474e4ad-2e74-4980-b1b9-af5ec9e9055d",
   "metadata": {},
   "source": [
    "### Zip"
   ]
  },
  {
   "cell_type": "markdown",
   "id": "51c98d7e-5ec8-408c-92c0-7cdb7e5bef74",
   "metadata": {},
   "source": [
    "If you want to \"zip\" two strings together in Python, you can achieve this by converting the strings into iterables of characters (e.g., lists or tuples) and then using the zip function. Here's an example:"
   ]
  },
  {
   "cell_type": "code",
   "execution_count": 2,
   "id": "33436e7b-5878-4e49-a340-086db34ff8be",
   "metadata": {},
   "outputs": [
    {
     "name": "stdout",
     "output_type": "stream",
     "text": [
      "[('H', 'W'), ('e', 'o'), ('l', 'r'), ('l', 'l'), ('o', 'd')]\n"
     ]
    }
   ],
   "source": [
    "string1 = \"Hello\"\n",
    "string2 = \"World\"\n",
    "\n",
    "# Convert strings to lists of characters\n",
    "list1 = list(string1)\n",
    "list2 = list(string2)\n",
    "\n",
    "# Use zip to combine corresponding characters into tuples\n",
    "result = zip(list1, list2)\n",
    "\n",
    "# Convert the zip object to a list for easy display\n",
    "result_list = list(result)\n",
    "\n",
    "print(result_list)"
   ]
  }
 ],
 "metadata": {
  "kernelspec": {
   "display_name": "Python 3 (ipykernel)",
   "language": "python",
   "name": "python3"
  },
  "language_info": {
   "codemirror_mode": {
    "name": "ipython",
    "version": 3
   },
   "file_extension": ".py",
   "mimetype": "text/x-python",
   "name": "python",
   "nbconvert_exporter": "python",
   "pygments_lexer": "ipython3",
   "version": "3.11.5"
  }
 },
 "nbformat": 4,
 "nbformat_minor": 5
}
