{
 "cells": [
  {
   "cell_type": "markdown",
   "metadata": {},
   "source": [
    "# Pypsark Dataframe'ini Panda Dataframe'ine çevirirken yaşanan performans sıkıntısına bir çözüm: Pyarrow Modulü \n",
    " <br>\n",
    "<font size=4,font style=arial>\n",
    " Bu yazımızda oluşturduğumuz pyspark dataframe'ini panda daraframe'ine çevirirken yaşanan bekleme süresini %80 <br> \n",
    " iyileştiren bir modül olan Pyarrow modülünü test edeceğiz. Öncelikle Windows Command penceresinde \"pip install <br> \n",
    " pyarrow\" yazıp bu modülü kurmanız gerekmektedir. <br> \n",
    "Not:Kurmadan önce bilgisayarınız 64 bit ve sizde python 32 bit kurulmuşsa bu problem. Python 64 bit için olanı <br>\n",
    "  kurmanız gerekiyor. Bu düzeltme yapılmazsa Pyarrow paketi kurulmuyor.<br>   \n",
    "</font>   "
   ]
  },
  {
   "cell_type": "markdown",
   "metadata": {},
   "source": [
    "<font size=4,font style=arial>\n",
    "Sparksession ve sparkcontext'i oluşturalım. Round,pandas,randn fonskiyonlarını yükleyelim\n",
    "</font> "
   ]
  },
  {
   "cell_type": "code",
   "execution_count": 2,
   "metadata": {},
   "outputs": [],
   "source": [
    " #for the round function\n",
    "import pyspark.sql.functions as func\n",
    "#for pandas\n",
    "import pandas as pd\n",
    "#for randn \n",
    "from pyspark.sql.functions import randn\n",
    "##create spark session\n",
    "from pyspark import SparkContext\n",
    "from pyspark.sql import SQLContext\n",
    "sc =SparkContext()\n",
    "sqlContext = SQLContext(sc)\n",
    "from pyspark.sql.session import SparkSession\n",
    "spark = SparkSession(sc)"
   ]
  },
  {
   "cell_type": "markdown",
   "metadata": {},
   "source": [
    "<font size=4,font style=arial>\n",
    "5 tane normal dağılımlı(mean=0,std=1) kolona sahip olan veri setimizi oluşturalım.\n",
    "</font>  "
   ]
  },
  {
   "cell_type": "code",
   "execution_count": 3,
   "metadata": {},
   "outputs": [],
   "source": [
    "df1 = sqlContext.range(0, 4000000)\\\n",
    "     .withColumn('normal1',func.abs(func.round(100*randn(seed=1),2)))\\\n",
    "     .withColumn('normal2',func.abs(func.round(100*randn(seed=2),2)))\\\n",
    "     .withColumn('normal3',func.abs(func.round(100*randn(seed=3),2)))\\\n",
    "     .withColumn('normal4',func.abs(func.round(100*randn(seed=4),2)))\\\n",
    "     .withColumn('normal5',func.abs(func.round(100*randn(seed=5),2)))"
   ]
  },
  {
   "cell_type": "markdown",
   "metadata": {},
   "source": [
    "<font size=4,font style=arial>\n",
    "Sparkcontext'in içeriği aşağıda ki şekilde görülebilir. Spark UI tıklanırsa çalışılan jop'lar görüleiblir. Master makinem kendi lokalim.\n",
    "</font>  "
   ]
  },
  {
   "cell_type": "code",
   "execution_count": 4,
   "metadata": {},
   "outputs": [
    {
     "data": {
      "text/html": [
       "\n",
       "        <div>\n",
       "            <p><b>SparkContext</b></p>\n",
       "\n",
       "            <p><a href=\"http://melik:4040\">Spark UI</a></p>\n",
       "\n",
       "            <dl>\n",
       "              <dt>Version</dt>\n",
       "                <dd><code>v2.4.0</code></dd>\n",
       "              <dt>Master</dt>\n",
       "                <dd><code>local[*]</code></dd>\n",
       "              <dt>AppName</dt>\n",
       "                <dd><code>pyspark-shell</code></dd>\n",
       "            </dl>\n",
       "        </div>\n",
       "        "
      ],
      "text/plain": [
       "<SparkContext master=local[*] appName=pyspark-shell>"
      ]
     },
     "execution_count": 4,
     "metadata": {},
     "output_type": "execute_result"
    }
   ],
   "source": [
    "sc"
   ]
  },
  {
   "cell_type": "markdown",
   "metadata": {},
   "source": [
    "<font size=4,font style=arial>\n",
    "df1 dataframe'ini panda dataframe'i yapalım ve süreyi görelim.\n",
    "</font> "
   ]
  },
  {
   "cell_type": "code",
   "execution_count": 5,
   "metadata": {},
   "outputs": [
    {
     "name": "stdout",
     "output_type": "stream",
     "text": [
      "Wall time: 1min 7s\n"
     ]
    }
   ],
   "source": [
    "%time pdf = df1.toPandas()"
   ]
  },
  {
   "cell_type": "markdown",
   "metadata": {},
   "source": [
    "<font size=4,font style=arial>\n",
    "Şimdi pyarrow paketini enable yapıp tekrar panda dataframe'ine çevirip süreyi görelim\n",
    "</font> "
   ]
  },
  {
   "cell_type": "code",
   "execution_count": 6,
   "metadata": {},
   "outputs": [],
   "source": [
    "spark.conf.set(\"spark.sql.execution.arrow.enabled\", \"true\")"
   ]
  },
  {
   "cell_type": "code",
   "execution_count": 7,
   "metadata": {},
   "outputs": [
    {
     "name": "stdout",
     "output_type": "stream",
     "text": [
      "Wall time: 14.1 s\n"
     ]
    }
   ],
   "source": [
    "%time pdf = df1.toPandas()"
   ]
  },
  {
   "cell_type": "markdown",
   "metadata": {},
   "source": [
    "<font size=4,font style=arial>\n",
    "Sürede %80'lik bir iyileştirme var ki bu süper bir rakam.\n",
    "</font> "
   ]
  },
  {
   "cell_type": "markdown",
   "metadata": {},
   "source": [
    "<font size=4,font style=arial>\n",
    "pdf panda dataframe'i df1 ise spark dataframe'idir. Panda'da head, sparkda show ile dataframe görülebilir.\n",
    "</font> "
   ]
  },
  {
   "cell_type": "code",
   "execution_count": 8,
   "metadata": {},
   "outputs": [
    {
     "data": {
      "text/html": [
       "<div>\n",
       "<style scoped>\n",
       "    .dataframe tbody tr th:only-of-type {\n",
       "        vertical-align: middle;\n",
       "    }\n",
       "\n",
       "    .dataframe tbody tr th {\n",
       "        vertical-align: top;\n",
       "    }\n",
       "\n",
       "    .dataframe thead th {\n",
       "        text-align: right;\n",
       "    }\n",
       "</style>\n",
       "<table border=\"1\" class=\"dataframe\">\n",
       "  <thead>\n",
       "    <tr style=\"text-align: right;\">\n",
       "      <th></th>\n",
       "      <th>id</th>\n",
       "      <th>normal1</th>\n",
       "      <th>normal2</th>\n",
       "      <th>normal3</th>\n",
       "      <th>normal4</th>\n",
       "      <th>normal5</th>\n",
       "    </tr>\n",
       "  </thead>\n",
       "  <tbody>\n",
       "    <tr>\n",
       "      <th>0</th>\n",
       "      <td>0</td>\n",
       "      <td>103.23</td>\n",
       "      <td>63.46</td>\n",
       "      <td>92.18</td>\n",
       "      <td>75.12</td>\n",
       "      <td>81.92</td>\n",
       "    </tr>\n",
       "    <tr>\n",
       "      <th>1</th>\n",
       "      <td>1</td>\n",
       "      <td>25.31</td>\n",
       "      <td>80.91</td>\n",
       "      <td>25.38</td>\n",
       "      <td>120.15</td>\n",
       "      <td>15.78</td>\n",
       "    </tr>\n",
       "    <tr>\n",
       "      <th>2</th>\n",
       "      <td>2</td>\n",
       "      <td>69.78</td>\n",
       "      <td>126.63</td>\n",
       "      <td>70.60</td>\n",
       "      <td>134.24</td>\n",
       "      <td>179.92</td>\n",
       "    </tr>\n",
       "    <tr>\n",
       "      <th>3</th>\n",
       "      <td>3</td>\n",
       "      <td>20.28</td>\n",
       "      <td>77.50</td>\n",
       "      <td>80.25</td>\n",
       "      <td>57.03</td>\n",
       "      <td>56.39</td>\n",
       "    </tr>\n",
       "    <tr>\n",
       "      <th>4</th>\n",
       "      <td>4</td>\n",
       "      <td>70.96</td>\n",
       "      <td>204.73</td>\n",
       "      <td>31.35</td>\n",
       "      <td>108.08</td>\n",
       "      <td>15.75</td>\n",
       "    </tr>\n",
       "  </tbody>\n",
       "</table>\n",
       "</div>"
      ],
      "text/plain": [
       "   id  normal1  normal2  normal3  normal4  normal5\n",
       "0   0   103.23    63.46    92.18    75.12    81.92\n",
       "1   1    25.31    80.91    25.38   120.15    15.78\n",
       "2   2    69.78   126.63    70.60   134.24   179.92\n",
       "3   3    20.28    77.50    80.25    57.03    56.39\n",
       "4   4    70.96   204.73    31.35   108.08    15.75"
      ]
     },
     "execution_count": 8,
     "metadata": {},
     "output_type": "execute_result"
    }
   ],
   "source": [
    "pdf.head(5)"
   ]
  },
  {
   "cell_type": "code",
   "execution_count": 9,
   "metadata": {},
   "outputs": [
    {
     "name": "stdout",
     "output_type": "stream",
     "text": [
      "+---+-------+-------+-------+-------+-------+\n",
      "| id|normal1|normal2|normal3|normal4|normal5|\n",
      "+---+-------+-------+-------+-------+-------+\n",
      "|  0| 103.23|  63.46|  92.18|  75.12|  81.92|\n",
      "|  1|  25.31|  80.91|  25.38| 120.15|  15.78|\n",
      "|  2|  69.78| 126.63|   70.6| 134.24| 179.92|\n",
      "|  3|  20.28|   77.5|  80.25|  57.03|  56.39|\n",
      "|  4|  70.96| 204.73|  31.35| 108.08|  15.75|\n",
      "+---+-------+-------+-------+-------+-------+\n",
      "only showing top 5 rows\n",
      "\n"
     ]
    }
   ],
   "source": [
    "df1.show(5)"
   ]
  },
  {
   "cell_type": "markdown",
   "metadata": {},
   "source": [
    "<font size=4,font style=arial>\n",
    "pdf panda dataframe'i olduktan sonra panda paketinin esnekliğinden faydalanarak her türlü veri manipulasyonu yapılabilir.\n",
    "</font> "
   ]
  },
  {
   "cell_type": "code",
   "execution_count": 10,
   "metadata": {},
   "outputs": [],
   "source": [
    "pd.set_option('float_format', '{:f}'.format)"
   ]
  },
  {
   "cell_type": "markdown",
   "metadata": {},
   "source": [
    "<font size=4,font style=arial>\n",
    "Mesela describe\n",
    "</font> "
   ]
  },
  {
   "cell_type": "code",
   "execution_count": 11,
   "metadata": {},
   "outputs": [
    {
     "data": {
      "text/html": [
       "<div>\n",
       "<style scoped>\n",
       "    .dataframe tbody tr th:only-of-type {\n",
       "        vertical-align: middle;\n",
       "    }\n",
       "\n",
       "    .dataframe tbody tr th {\n",
       "        vertical-align: top;\n",
       "    }\n",
       "\n",
       "    .dataframe thead th {\n",
       "        text-align: right;\n",
       "    }\n",
       "</style>\n",
       "<table border=\"1\" class=\"dataframe\">\n",
       "  <thead>\n",
       "    <tr style=\"text-align: right;\">\n",
       "      <th></th>\n",
       "      <th>id</th>\n",
       "      <th>normal1</th>\n",
       "      <th>normal2</th>\n",
       "      <th>normal3</th>\n",
       "      <th>normal4</th>\n",
       "      <th>normal5</th>\n",
       "    </tr>\n",
       "  </thead>\n",
       "  <tbody>\n",
       "    <tr>\n",
       "      <th>count</th>\n",
       "      <td>4000000.000000</td>\n",
       "      <td>4000000.000000</td>\n",
       "      <td>4000000.000000</td>\n",
       "      <td>4000000.000000</td>\n",
       "      <td>4000000.000000</td>\n",
       "      <td>4000000.000000</td>\n",
       "    </tr>\n",
       "    <tr>\n",
       "      <th>mean</th>\n",
       "      <td>1999999.500000</td>\n",
       "      <td>79.794201</td>\n",
       "      <td>79.789656</td>\n",
       "      <td>79.746779</td>\n",
       "      <td>79.722241</td>\n",
       "      <td>79.714956</td>\n",
       "    </tr>\n",
       "    <tr>\n",
       "      <th>std</th>\n",
       "      <td>1154700.682717</td>\n",
       "      <td>60.244889</td>\n",
       "      <td>60.240130</td>\n",
       "      <td>60.216199</td>\n",
       "      <td>60.213637</td>\n",
       "      <td>60.212164</td>\n",
       "    </tr>\n",
       "    <tr>\n",
       "      <th>min</th>\n",
       "      <td>0.000000</td>\n",
       "      <td>0.000000</td>\n",
       "      <td>0.000000</td>\n",
       "      <td>0.000000</td>\n",
       "      <td>0.000000</td>\n",
       "      <td>0.000000</td>\n",
       "    </tr>\n",
       "    <tr>\n",
       "      <th>25%</th>\n",
       "      <td>999999.750000</td>\n",
       "      <td>31.880000</td>\n",
       "      <td>31.900000</td>\n",
       "      <td>31.890000</td>\n",
       "      <td>31.850000</td>\n",
       "      <td>31.840000</td>\n",
       "    </tr>\n",
       "    <tr>\n",
       "      <th>50%</th>\n",
       "      <td>1999999.500000</td>\n",
       "      <td>67.500000</td>\n",
       "      <td>67.500000</td>\n",
       "      <td>67.445000</td>\n",
       "      <td>67.400000</td>\n",
       "      <td>67.390000</td>\n",
       "    </tr>\n",
       "    <tr>\n",
       "      <th>75%</th>\n",
       "      <td>2999999.250000</td>\n",
       "      <td>115.090000</td>\n",
       "      <td>115.050000</td>\n",
       "      <td>114.960000</td>\n",
       "      <td>114.930000</td>\n",
       "      <td>114.910000</td>\n",
       "    </tr>\n",
       "    <tr>\n",
       "      <th>max</th>\n",
       "      <td>3999999.000000</td>\n",
       "      <td>490.000000</td>\n",
       "      <td>490.000000</td>\n",
       "      <td>500.770000</td>\n",
       "      <td>500.770000</td>\n",
       "      <td>510.480000</td>\n",
       "    </tr>\n",
       "  </tbody>\n",
       "</table>\n",
       "</div>"
      ],
      "text/plain": [
       "                  id        normal1        normal2        normal3  \\\n",
       "count 4000000.000000 4000000.000000 4000000.000000 4000000.000000   \n",
       "mean  1999999.500000      79.794201      79.789656      79.746779   \n",
       "std   1154700.682717      60.244889      60.240130      60.216199   \n",
       "min         0.000000       0.000000       0.000000       0.000000   \n",
       "25%    999999.750000      31.880000      31.900000      31.890000   \n",
       "50%   1999999.500000      67.500000      67.500000      67.445000   \n",
       "75%   2999999.250000     115.090000     115.050000     114.960000   \n",
       "max   3999999.000000     490.000000     490.000000     500.770000   \n",
       "\n",
       "             normal4        normal5  \n",
       "count 4000000.000000 4000000.000000  \n",
       "mean       79.722241      79.714956  \n",
       "std        60.213637      60.212164  \n",
       "min         0.000000       0.000000  \n",
       "25%        31.850000      31.840000  \n",
       "50%        67.400000      67.390000  \n",
       "75%       114.930000     114.910000  \n",
       "max       500.770000     510.480000  "
      ]
     },
     "execution_count": 11,
     "metadata": {},
     "output_type": "execute_result"
    }
   ],
   "source": [
    "pdf.describe()"
   ]
  }
 ],
 "metadata": {
  "kernelspec": {
   "display_name": "Python 3",
   "language": "python",
   "name": "python3"
  },
  "language_info": {
   "codemirror_mode": {
    "name": "ipython",
    "version": 3
   },
   "file_extension": ".py",
   "mimetype": "text/x-python",
   "name": "python",
   "nbconvert_exporter": "python",
   "pygments_lexer": "ipython3",
   "version": "3.7.1"
  }
 },
 "nbformat": 4,
 "nbformat_minor": 2
}
