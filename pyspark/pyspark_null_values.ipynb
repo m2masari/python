{
 "cells": [
  {
   "cell_type": "markdown",
   "metadata": {},
   "source": [
    "# PYSPARK'DA NULL DEĞERLERİN YÖNETİLMESİ\n",
    "Bu yazımızda Pyspark'da veri setlerinde karşımıza çıkabilen null değerler nasıl yönetilir ile aşağıda ki sorulara cevap arayacağız ;<br><br>\n",
    "\n",
    "-Satır satır veriyi inceleyip hiç null değeri olmayan satırlar nasıl gösterilir?<br><br>\n",
    "-Satır satır veriyi inceleyip n ve n'den fazla null değeri olmayan satırlar nasıl gösterilir?<br><br>\n",
    "-İstenilen bir kolon için null değerler/null olmayan değerler nasıl filtrelenir?<br><br>\n",
    "-Null değerleri herhangi bir numerik değerle (eğer kolon numerik ise) veya string bir değer ile (eğer ki kolon string ise)  değer ile nasıl değiştirilir?<br><br>\n",
    "-Null değerler ortalama ve medyan değerleri ile nasıl değiştirilir?<br><br>\n",
    "-Null değerler, avg ve count hesaplamalarını nasıl etkiler? Averaj hesabında null değerleri hesaba katılır mı?\n"
   ]
  },
  {
   "cell_type": "code",
   "execution_count": 1,
   "metadata": {},
   "outputs": [],
   "source": [
    "##Spark session oluşturulur\n",
    "from pyspark.context import SparkContext\n",
    "from pyspark.sql.session import SparkSession\n",
    "sc = SparkContext('local')\n",
    "spark = SparkSession(sc)"
   ]
  },
  {
   "cell_type": "markdown",
   "metadata": {},
   "source": [
    "Data setimizi manual oluşturalım. İki şekilde oluşturabiliriz. Birincisi StructType kullanarak ikincisi klasik şekilde.\n"

   ]
  },
  {
   "cell_type": "code",
   "execution_count": 2,
   "metadata": {},
   "outputs": [],
   "source": [
    "##true for nullable, and false for not nullable\n",
    "from pyspark.sql.types import *\n",
    "schema = StructType([StructField('Id',IntegerType(), True),\n",
    "                     StructField('Name',StringType(), True),\n",
    "                     StructField('Height', DoubleType(),True),\n",
    "                     StructField('Age', IntegerType(),True),\n",
    "                     StructField('Gender', StringType(),True),\n",
    "                     StructField('Profession', StringType(),True)])\n",
    " "
   ]
  },
  {
   "cell_type": "code",
   "execution_count": 3,
   "metadata": {},
   "outputs": [],
   "source": [
    "df = spark.createDataFrame([(1, 'John', 1.79, 28,'M', 'Doctor'),\n",
    "                            (2, 'Steve', 1.78, 45,'M', None),\n",
    "                            (3, 'Emma', 1.75, None, None, None),\n",
    "                            (4, 'Ashley',1.6, 33,'F', 'Analyst'),\n",
    "                            (5, 'Olivia', 1.8, 54,'F', 'Teacher'),\n",
    "                            (6, 'Hannah', 1.82, None, 'F', None),\n",
    "                            (7, 'William', 1.7, 42,'M', 'Engineer'),\n",
    "                            (None,None,None,None,None,None),\n",
    "                            (8,'Ethan',1.55,38,'M','Doctor'),\n",
    "                            (9,'Hannah',1.65,None,'F','Doctor'),\n",
    "                            (10,'Xavier',1.64,43,None,'Doctor'),\n",
    "                            (11,None,None,None,None,None)],schema)"
   ]
  },
  {
   "cell_type": "markdown",
   "metadata": {},
   "source": [
    "Aşağıda klasik şekilde oluşturulan yol mevcut.\n"
   ]
  },
  {
   "cell_type": "code",
   "execution_count": 34,
   "metadata": {},
   "outputs": [],
   "source": [
    "##\n",
    "df = spark.createDataFrame([(1, 'John', 1.79, 28,'M', 'Doctor'),\n",
    "                            (2, 'Steve', 1.78, 45,'M', None),\n",
    "                            (3, 'Emma', 1.75, None, None, None),\n",
    "                            (4, 'Ashley',1.6, 33,'F', 'Analyst'),\n",
    "                            (5, 'Olivia', 1.8, 54,'F', 'Teacher'),\n",
    "                            (6, 'Hannah', 1.82, None, 'F', None),\n",
    "                            (7, 'William', 1.7, 42,'M', 'Engineer'),\n",
    "                            (None,None,None,None,None,None),\n",
    "                            (8,'Ethan',1.55,38,'M','Doctor'),\n",
    "                            (9,'Hannah',1.65,None,'F','Doctor'),\n",
    "                            (10,'Xavier',1.64,43,None,'Doctor'),\n",
    "                            (11,None,None,None,None,None)]\n",
    "                           , ['Id', 'Name', 'Height', 'Age', 'Gender', 'Profession'])"
   ]
  },
  {
   "cell_type": "markdown",
   "metadata": {},
   "source": [
    "data type'ı ve kolonları görelim\n"
   ]
  },
  {
   "cell_type": "code",
   "execution_count": 5,
   "metadata": {},
   "outputs": [
    {
     "name": "stdout",
     "output_type": "stream",
     "text": [
      "DataFrame[Id: bigint, Name: string, Height: double, Age: bigint, Gender: string, Profession: string]\n"
     ]
    }
   ],
   "source": [
    "print(df)"
   ]
  },
  {
   "cell_type": "markdown",
   "metadata": {},
   "source": [
    "Kolonları ve tiplerini görelim\n"
   ]
  },
  {
   "cell_type": "code",
   "execution_count": 6,
   "metadata": {},
   "outputs": [
    {
     "name": "stdout",
     "output_type": "stream",
     "text": [
      "root\n",
      " |-- Id: long (nullable = true)\n",
      " |-- Name: string (nullable = true)\n",
      " |-- Height: double (nullable = true)\n",
      " |-- Age: long (nullable = true)\n",
      " |-- Gender: string (nullable = true)\n",
      " |-- Profession: string (nullable = true)\n",
      "\n"
     ]
    }
   ],
   "source": [
    "df.printSchema()"
   ]
  },
  {
   "cell_type": "markdown",
   "metadata": {},
   "source": [

    "dataframe'i görelim\n"
   ]
  },
  {
   "cell_type": "code",
   "execution_count": 7,
   "metadata": {},
   "outputs": [
    {
     "name": "stdout",
     "output_type": "stream",
     "text": [
      "+----+-------+------+----+------+----------+\n",
      "|  Id|   Name|Height| Age|Gender|Profession|\n",
      "+----+-------+------+----+------+----------+\n",
      "|   1|   John|  1.79|  28|     M|    Doctor|\n",
      "|   2|  Steve|  1.78|  45|     M|      null|\n",
      "|   3|   Emma|  1.75|null|  null|      null|\n",
      "|   4| Ashley|   1.6|  33|     F|   Analyst|\n",
      "|   5| Olivia|   1.8|  54|     F|   Teacher|\n",
      "|   6| Hannah|  1.82|null|     F|      null|\n",
      "|   7|William|   1.7|  42|     M|  Engineer|\n",
      "|null|   null|  null|null|  null|      null|\n",
      "|   8|  Ethan|  1.55|  38|     M|    Doctor|\n",
      "|   9| Hannah|  1.65|null|     F|    Doctor|\n",
      "|  10| Xavier|  1.64|  43|  null|    Doctor|\n",
      "|  11|   null|  null|null|  null|      null|\n",
      "+----+-------+------+----+------+----------+\n",
      "\n"
     ]
    }
   ],
   "source": [
    "df.show()"
   ]
  },
  {
   "cell_type": "markdown",
   "metadata": {},
   "source": [
 
    "Bütün kolonlarda dolu olan(hiç null değeri olmayan) satır sayısı kaç?\n"
   ]
  },
  {
   "cell_type": "code",
   "execution_count": 30,
   "metadata": {},
   "outputs": [
    {
     "data": {
      "text/plain": [
       "12"
      ]
     },
     "execution_count": 30,
     "metadata": {},
     "output_type": "execute_result"
    }
   ],
   "source": [
    "df.dropna().count()"
   ]
  },
  {
   "cell_type": "markdown",
   "metadata": {},
   "source": [
   "Bu satırları göster\n"

   ]
  },
  {
   "cell_type": "code",
   "execution_count": 35,
   "metadata": {},
   "outputs": [
    {
     "name": "stdout",
     "output_type": "stream",
     "text": [
      "+---+-------+------+---+------+----------+\n",
      "| Id|   Name|Height|Age|Gender|Profession|\n",
      "+---+-------+------+---+------+----------+\n",
      "|  1|   John|  1.79| 28|     M|    Doctor|\n",
      "|  4| Ashley|   1.6| 33|     F|   Analyst|\n",
      "|  5| Olivia|   1.8| 54|     F|   Teacher|\n",
      "|  7|William|   1.7| 42|     M|  Engineer|\n",
      "|  8|  Ethan|  1.55| 38|     M|    Doctor|\n",
      "+---+-------+------+---+------+----------+\n",
      "\n"
     ]
    }
   ],
   "source": [
    "df.dropna(how = \"any\").show()"
   ]
  },
  {
   "cell_type": "markdown",
   "metadata": {},
   "source": [

    "Eğer satırda bütün değerler null ise o satırı getirme demektir.\n"

   ]
  },
  {
   "cell_type": "code",
   "execution_count": 36,
   "metadata": {},
   "outputs": [
    {
     "name": "stdout",
     "output_type": "stream",
     "text": [
      "+----+-------+------+----+------+----------+\n",
      "|  Id|   Name|Height| Age|Gender|Profession|\n",
      "+----+-------+------+----+------+----------+\n",
      "|   1|   John|  1.79|  28|     M|    Doctor|\n",
      "|   2|  Steve|  1.78|  45|     M|      null|\n",
      "|   3|   Emma|  1.75|null|  null|      null|\n",
      "|   4| Ashley|   1.6|  33|     F|   Analyst|\n",
      "|   5| Olivia|   1.8|  54|     F|   Teacher|\n",
      "|   6| Hannah|  1.82|null|     F|      null|\n",
      "|   7|William|   1.7|  42|     M|  Engineer|\n",
      "|null|   null|  null|null|  null|      null|\n",
      "|   8|  Ethan|  1.55|  38|     M|    Doctor|\n",
      "|   9| Hannah|  1.65|null|     F|    Doctor|\n",
      "|  10| Xavier|  1.64|  43|  null|    Doctor|\n",
      "|  11|   null|  null|null|  null|      null|\n",
      "+----+-------+------+----+------+----------+\n",
      "\n",
      "+---+-------+------+----+------+----------+\n",
      "| Id|   Name|Height| Age|Gender|Profession|\n",
      "+---+-------+------+----+------+----------+\n",
      "|  1|   John|  1.79|  28|     M|    Doctor|\n",
      "|  2|  Steve|  1.78|  45|     M|      null|\n",
      "|  3|   Emma|  1.75|null|  null|      null|\n",
      "|  4| Ashley|   1.6|  33|     F|   Analyst|\n",
      "|  5| Olivia|   1.8|  54|     F|   Teacher|\n",
      "|  6| Hannah|  1.82|null|     F|      null|\n",
      "|  7|William|   1.7|  42|     M|  Engineer|\n",
      "|  8|  Ethan|  1.55|  38|     M|    Doctor|\n",
      "|  9| Hannah|  1.65|null|     F|    Doctor|\n",
      "| 10| Xavier|  1.64|  43|  null|    Doctor|\n",
      "| 11|   null|  null|null|  null|      null|\n",
      "+---+-------+------+----+------+----------+\n",
      "\n"
     ]
    }
   ],
   "source": [
    "df.show()\n",
    "df.dropna(how = \"all\").show()"
   ]
  },
  {
   "cell_type": "markdown",
   "metadata": {},
   "source": [

    "Null değerleri 0 la doldur ama bunu sadece numerik kolonlar için yapar string kolonlar doldurulmaz.\n"

   ]
  },
  {
   "cell_type": "code",
   "execution_count": 11,
   "metadata": {},
   "outputs": [
    {
     "name": "stdout",
     "output_type": "stream",
     "text": [
      "+---+-------+------+---+------+----------+\n",
      "| Id|   Name|Height|Age|Gender|Profession|\n",
      "+---+-------+------+---+------+----------+\n",
      "|  1|   John|  1.79| 28|     M|    Doctor|\n",
      "|  2|  Steve|  1.78| 45|     M|      null|\n",
      "|  3|   Emma|  1.75|  0|  null|      null|\n",
      "|  4| Ashley|   1.6| 33|     F|   Analyst|\n",
      "|  5| Olivia|   1.8| 54|     F|   Teacher|\n",
      "|  6| Hannah|  1.82|  0|     F|      null|\n",
      "|  7|William|   1.7| 42|     M|  Engineer|\n",
      "|  0|   null|   0.0|  0|  null|      null|\n",
      "|  8|  Ethan|  1.55| 38|     M|    Doctor|\n",
      "|  9| Hannah|  1.65|  0|     F|    Doctor|\n",
      "| 10| Xavier|  1.64| 43|  null|    Doctor|\n",
      "| 11|   null|   0.0|  0|  null|      null|\n",
      "+---+-------+------+---+------+----------+\n",
      "\n"
     ]
    }
   ],
   "source": [
    "df.fillna(0).show()"
   ]
  },
  {
   "cell_type": "markdown",
   "metadata": {},
   "source": [

    "string kolonlardaki null değerleri Profession ile doldurur\n"

   ]
  },
  {
   "cell_type": "code",
   "execution_count": 12,
   "metadata": {},
   "outputs": [
    {
     "name": "stdout",
     "output_type": "stream",
     "text": [
      "+----+----------+------+----+----------+----------+\n",
      "|  Id|      Name|Height| Age|    Gender|Profession|\n",
      "+----+----------+------+----+----------+----------+\n",
      "|   1|      John|  1.79|  28|         M|    Doctor|\n",
      "|   2|     Steve|  1.78|  45|         M|Profession|\n",
      "|   3|      Emma|  1.75|null|Profession|Profession|\n",
      "|   4|    Ashley|   1.6|  33|         F|   Analyst|\n",
      "|   5|    Olivia|   1.8|  54|         F|   Teacher|\n",
      "|   6|    Hannah|  1.82|null|         F|Profession|\n",
      "|   7|   William|   1.7|  42|         M|  Engineer|\n",
      "|null|Profession|  null|null|Profession|Profession|\n",
      "|   8|     Ethan|  1.55|  38|         M|    Doctor|\n",
      "|   9|    Hannah|  1.65|null|         F|    Doctor|\n",
      "|  10|    Xavier|  1.64|  43|Profession|    Doctor|\n",
      "|  11|Profession|  null|null|Profession|Profession|\n",
      "+----+----------+------+----+----------+----------+\n",
      "\n"
     ]
    }
   ],
   "source": [
    "df.fillna('Profession').show()"
   ]
  },
  {
   "cell_type": "markdown",
   "metadata": {},
   "source": [

    "Burada sadece Profession kolonunda ki Null değerleri Free ile doldurur\n"

   ]
  },
  {
   "cell_type": "code",
   "execution_count": 13,
   "metadata": {},
   "outputs": [
    {
     "name": "stdout",
     "output_type": "stream",
     "text": [
      "+----+-------+------+----+------+----------+\n",
      "|  Id|   Name|Height| Age|Gender|Profession|\n",
      "+----+-------+------+----+------+----------+\n",
      "|   1|   John|  1.79|  28|     M|    Doctor|\n",
      "|   2|  Steve|  1.78|  45|     M|      Free|\n",
      "|   3|   Emma|  1.75|null|  null|      Free|\n",
      "|   4| Ashley|   1.6|  33|     F|   Analyst|\n",
      "|   5| Olivia|   1.8|  54|     F|   Teacher|\n",
      "|   6| Hannah|  1.82|null|     F|      Free|\n",
      "|   7|William|   1.7|  42|     M|  Engineer|\n",
      "|null|   null|  null|null|  null|      Free|\n",
      "|   8|  Ethan|  1.55|  38|     M|    Doctor|\n",
      "|   9| Hannah|  1.65|null|     F|    Doctor|\n",
      "|  10| Xavier|  1.64|  43|  null|    Doctor|\n",
      "|  11|   null|  null|null|  null|      Free|\n",
      "+----+-------+------+----+------+----------+\n",
      "\n"
     ]
    }
   ],
   "source": [
    "df.fillna('Free', subset=['Profession']).show()"
   ]
  },
  {
   "cell_type": "markdown",
   "metadata": {},
   "source": [

    "Bütün satırlarda 2 ve 2'den fazla null olmayan değer varsa o satırı göster \n"

   ]
  },
  {
   "cell_type": "code",
   "execution_count": 16,
   "metadata": {},
   "outputs": [
    {
     "name": "stdout",
     "output_type": "stream",
     "text": [
      "+---+-------+------+----+------+----------+\n",
      "| Id|   Name|Height| Age|Gender|Profession|\n",
      "+---+-------+------+----+------+----------+\n",
      "|  1|   John|  1.79|  28|     M|    Doctor|\n",
      "|  2|  Steve|  1.78|  45|     M|      null|\n",
      "|  3|   Emma|  1.75|null|  null|      null|\n",
      "|  4| Ashley|   1.6|  33|     F|   Analyst|\n",
      "|  5| Olivia|   1.8|  54|     F|   Teacher|\n",
      "|  6| Hannah|  1.82|null|     F|      null|\n",
      "|  7|William|   1.7|  42|     M|  Engineer|\n",
      "|  8|  Ethan|  1.55|  38|     M|    Doctor|\n",
      "|  9| Hannah|  1.65|null|     F|    Doctor|\n",
      "| 10| Xavier|  1.64|  43|  null|    Doctor|\n",
      "+---+-------+------+----+------+----------+\n",
      "\n"
     ]
    }
   ],
   "source": [
    "ff1=df.dropna(thresh=2)\n",
    "ff1.show()"
   ]
  },
  {
   "cell_type": "markdown",
   "metadata": {},
   "source": [
    "Height, Age, Gender, Profession kolonlarında toplamda 2 ve 2'den az Null değeri olan satırları al\n"

   ]
  },
  {
   "cell_type": "code",
   "execution_count": 17,
   "metadata": {},
   "outputs": [
    {
     "name": "stdout",
     "output_type": "stream",
     "text": [
      "+---+-------+------+----+------+----------+\n",
      "| Id|   Name|Height| Age|Gender|Profession|\n",
      "+---+-------+------+----+------+----------+\n",
      "|  1|   John|  1.79|  28|     M|    Doctor|\n",
      "|  2|  Steve|  1.78|  45|     M|      null|\n",
      "|  4| Ashley|   1.6|  33|     F|   Analyst|\n",
      "|  5| Olivia|   1.8|  54|     F|   Teacher|\n",
      "|  6| Hannah|  1.82|null|     F|      null|\n",
      "|  7|William|   1.7|  42|     M|  Engineer|\n",
      "|  8|  Ethan|  1.55|  38|     M|    Doctor|\n",
      "|  9| Hannah|  1.65|null|     F|    Doctor|\n",
      "| 10| Xavier|  1.64|  43|  null|    Doctor|\n",
      "+---+-------+------+----+------+----------+\n",
      "\n"
     ]
    }
   ],
   "source": [
    "ff2=df.dropna(thresh=2,subset=('Height','Age','Gender','Profession'))\n",
    "ff2.show()"
   ]
  },
  {
   "cell_type": "markdown",
   "metadata": {},
   "source": [

    "Profession'da null olmayan değerleri Occupied null ise Unknown yaz\n"

   ]
  },
  {
   "cell_type": "code",
   "execution_count": 18,
   "metadata": {},
   "outputs": [
    {
     "name": "stdout",
     "output_type": "stream",
     "text": [
      "+----+-------+------+----+------+----------+\n",
      "|  Id|   Name|Height| Age|Gender|Profession|\n",
      "+----+-------+------+----+------+----------+\n",
      "|   1|   John|  1.79|  28|     M|  Occupied|\n",
      "|   2|  Steve|  1.78|  45|     M|   Unknown|\n",
      "|   3|   Emma|  1.75|null|  null|   Unknown|\n",
      "|   4| Ashley|   1.6|  33|     F|  Occupied|\n",
      "|   5| Olivia|   1.8|  54|     F|  Occupied|\n",
      "|   6| Hannah|  1.82|null|     F|   Unknown|\n",
      "|   7|William|   1.7|  42|     M|  Occupied|\n",
      "|null|   null|  null|null|  null|   Unknown|\n",
      "|   8|  Ethan|  1.55|  38|     M|  Occupied|\n",
      "|   9| Hannah|  1.65|null|     F|  Occupied|\n",
      "|  10| Xavier|  1.64|  43|  null|  Occupied|\n",
      "|  11|   null|  null|null|  null|   Unknown|\n",
      "+----+-------+------+----+------+----------+\n",
      "\n"
     ]
    }
   ],
   "source": [
    "from pyspark.sql.functions import when   \n",
    "yeni=df.withColumn('Profession', when(df.Profession.isNotNull(), 'Occupied').otherwise('Unknown'))\n",
    "yeni.show()"
   ]
  },
  {
   "cell_type": "markdown",
   "metadata": {},
   "source": [
    "\"Gender\", \"Profession\", \"Id\", \"Name\" kolonlarını hariç tutarak , numerik kolonlar için Null değerleri ortalama ile değiştir \n"

   ]
  },
  {
   "cell_type": "code",
   "execution_count": 19,
   "metadata": {},
   "outputs": [
    {
     "name": "stdout",
     "output_type": "stream",
     "text": [
      "+----+-------+------------------+---+------+----------+\n",
      "|  Id|   Name|            Height|Age|Gender|Profession|\n",
      "+----+-------+------------------+---+------+----------+\n",
      "|   1|   John|              1.79| 28|     M|    Doctor|\n",
      "|   2|  Steve|              1.78| 45|     M|      null|\n",
      "|   3|   Emma|              1.75| 40|  null|      null|\n",
      "|   4| Ashley|               1.6| 33|     F|   Analyst|\n",
      "|   5| Olivia|               1.8| 54|     F|   Teacher|\n",
      "|   6| Hannah|              1.82| 40|     F|      null|\n",
      "|   7|William|               1.7| 42|     M|  Engineer|\n",
      "|null|   null|1.7080000000000002| 40|  null|      null|\n",
      "|   8|  Ethan|              1.55| 38|     M|    Doctor|\n",
      "|   9| Hannah|              1.65| 40|     F|    Doctor|\n",
      "|  10| Xavier|              1.64| 43|  null|    Doctor|\n",
      "|  11|   null|1.7080000000000002| 40|  null|      null|\n",
      "+----+-------+------------------+---+------+----------+\n",
      "\n"
     ]
    }
   ],
   "source": [
    "from pyspark.sql.functions import *\n",
    "def fill_with_mean(this_df, exclude=set()):\n",
    "\n",
    "    stats = this_df.agg(*(avg(c).alias(c) for c in this_df.columns if c not in exclude))\n",
    "    return this_df.na.fill(stats.first().asDict())\n",
    "\n",
    "fill_with_mean(df, [\"Gender\", \"Profession\", \"Id\", \"Name\"]).show()"
   ]
  },
  {
   "cell_type": "markdown",
   "metadata": {},
   "source": [

    "Kolon tipi bigint,double,int olan kolonlardaki null değerleri medyan ile değiştir \n"

   ]
  },
  {
   "cell_type": "code",
   "execution_count": 20,
   "metadata": {},
   "outputs": [
    {
     "name": "stdout",
     "output_type": "stream",
     "text": [
      "+---+-------+------+---+------+----------+\n",
      "| Id|   Name|Height|Age|Gender|Profession|\n",
      "+---+-------+------+---+------+----------+\n",
      "|  1|   John|  1.79| 28|     M|    Doctor|\n",
      "|  2|  Steve|  1.78| 45|     M|      null|\n",
      "|  3|   Emma|  1.75| 42|  null|      null|\n",
      "|  4| Ashley|   1.6| 33|     F|   Analyst|\n",
      "|  5| Olivia|   1.8| 54|     F|   Teacher|\n",
      "|  6| Hannah|  1.82| 42|     F|      null|\n",
      "|  7|William|   1.7| 42|     M|  Engineer|\n",
      "|  6|   null|   1.7| 42|  null|      null|\n",
      "|  8|  Ethan|  1.55| 38|     M|    Doctor|\n",
      "|  9| Hannah|  1.65| 42|     F|    Doctor|\n",
      "| 10| Xavier|  1.64| 43|  null|    Doctor|\n",
      "| 11|   null|   1.7| 42|  null|      null|\n",
      "+---+-------+------+---+------+----------+\n",
      "\n"
     ]
    }
   ],
   "source": [
    "num_cols = [col_type[0] for col_type in filter(lambda dtype: dtype[1] in {\"bigint\", \"double\", \"int\"}, df.dtypes)]\n",
    "### Compute a dict with <col_name, median_value>\n",
    "median_dict = dict()\n",
    "for c in num_cols:\n",
    "   median_dict[c] = df.stat.approxQuantile(c, [0.5], 0.001)[0]\n",
    "df_imputed=df.na.fill(median_dict)\n",
    "df_imputed.show()"
   ]
  },
  {
   "cell_type": "markdown",
   "metadata": {},
   "source": [
    "Null değerler, ortalama hesabında hiçbir şekilde hesaba katılmaz\n"
 
   ]
  },
  {
   "cell_type": "code",
   "execution_count": 21,
   "metadata": {},
   "outputs": [
    {
     "name": "stdout",
     "output_type": "stream",
     "text": [
      "+------------------+\n",
      "|       avg(Height)|\n",
      "+------------------+\n",
      "|1.7080000000000002|\n",
      "+------------------+\n",
      "\n"
     ]
    }
   ],
   "source": [
    "df.agg(mean(\"Height\")).show()"
   ]
  },
  {
   "cell_type": "markdown",
   "metadata": {},
   "source": [

    "Height'ı null gelen satırlar hangileridir. Bunun için sql functions'ı yüklememiz gerekiyo\n"

   ]
  },
  {
   "cell_type": "code",
   "execution_count": 22,
   "metadata": {},
   "outputs": [
    {
     "name": "stdout",
     "output_type": "stream",
     "text": [
      "+----+----+------+----+------+----------+\n",
      "|  Id|Name|Height| Age|Gender|Profession|\n",
      "+----+----+------+----+------+----------+\n",
      "|null|null|  null|null|  null|      null|\n",
      "|  11|null|  null|null|  null|      null|\n",
      "+----+----+------+----+------+----------+\n",
      "\n"
     ]
    }
   ],
   "source": [
    "from pyspark.sql import functions as F\n",
    "df.filter(F.isnull(\"Height\")).show()"
   ]
  },
  {
   "cell_type": "markdown",
   "metadata": {},
   "source": [

    "Height'ı null olmayan veya boş olmayan satırlar hangileridir(bizim dataframe'inde boş değilde null değerleri var. Bazı durumlarda boş değerler ilede karşılaşılabilir. \n"

   ]
  },
  {
   "cell_type": "code",
   "execution_count": 23,
   "metadata": {},
   "outputs": [
    {
     "name": "stdout",
     "output_type": "stream",
     "text": [
      "+---+-------+------+----+------+----------+\n",
      "| Id|   Name|Height| Age|Gender|Profession|\n",
      "+---+-------+------+----+------+----------+\n",
      "|  1|   John|  1.79|  28|     M|    Doctor|\n",
      "|  2|  Steve|  1.78|  45|     M|      null|\n",
      "|  3|   Emma|  1.75|null|  null|      null|\n",
      "|  4| Ashley|   1.6|  33|     F|   Analyst|\n",
      "|  5| Olivia|   1.8|  54|     F|   Teacher|\n",
      "|  6| Hannah|  1.82|null|     F|      null|\n",
      "|  7|William|   1.7|  42|     M|  Engineer|\n",
      "|  8|  Ethan|  1.55|  38|     M|    Doctor|\n",
      "|  9| Hannah|  1.65|null|     F|    Doctor|\n",
      "| 10| Xavier|  1.64|  43|  null|    Doctor|\n",
      "+---+-------+------+----+------+----------+\n",
      "\n"
     ]
    }
   ],
   "source": [
    "df.filter((df.Height.isNotNull()) | (df.Height != \"\")).show()"
   ]
  },
  {
   "cell_type": "markdown",
   "metadata": {},
   "source": [

    "boş olmayan değerlerin ortalaması default oralama ile aynı olması gerekir\n"

   ]
  },
  {
   "cell_type": "code",
   "execution_count": 24,
   "metadata": {},
   "outputs": [
    {
     "name": "stdout",
     "output_type": "stream",
     "text": [
      "+------------------+\n",
      "|       avg(Height)|\n",
      "+------------------+\n",
      "|1.7080000000000002|\n",
      "+------------------+\n",
      "\n"
     ]
    }
   ],
   "source": [
    "df.agg(mean(\"Height\")).show()"
   ]
  },
  {
   "cell_type": "code",
   "execution_count": 25,
   "metadata": {},
   "outputs": [
    {
     "name": "stdout",
     "output_type": "stream",
     "text": [
      "+------------------+\n",
      "|       avg(Height)|\n",
      "+------------------+\n",
      "|1.7080000000000002|\n",
      "+------------------+\n",
      "\n"
     ]
    }
   ],
   "source": [
    "df.filter((df.Height.isNotNull()) | (df.Height != \"\")).agg(mean(\"Height\")).show()"
   ]
  },
  {
   "cell_type": "markdown",
   "metadata": {},
   "source": [

    "Age 30'den büyük kolonların ortalamasını al\n"

   ]
  },
  {
   "cell_type": "code",
   "execution_count": 26,
   "metadata": {},
   "outputs": [
    {
     "name": "stdout",
     "output_type": "stream",
     "text": [
      "+--------+\n",
      "|avg(Age)|\n",
      "+--------+\n",
      "|    42.5|\n",
      "+--------+\n",
      "\n"
     ]
    }
   ],
   "source": [
    "df.filter(df['Age'] > 30).agg({\"Age\": \"avg\"}).show()"
   ]
  },
  {
   "cell_type": "markdown",
   "metadata": {},
   "source": [

    "Profession'a göre yaş ortalamasını ve sayısını,toplamını al(null değerler ayrı değerlenidirilir\n"

   ]
  },
  {
   "cell_type": "code",
   "execution_count": 27,
   "metadata": {},
   "outputs": [
    {
     "name": "stdout",
     "output_type": "stream",
     "text": [
      "+----------+------------------+-----+---+\n",
      "|Profession|              Mean|Count|Sum|\n",
      "+----------+------------------+-----+---+\n",
      "|   Teacher|              54.0|    1| 54|\n",
      "|      null|              45.0|    1| 45|\n",
      "|   Analyst|              33.0|    1| 33|\n",
      "|    Doctor|36.333333333333336|    3|109|\n",
      "|  Engineer|              42.0|    1| 42|\n",
      "+----------+------------------+-----+---+\n",
      "\n"
     ]
    }
   ],
   "source": [
    "import pyspark.sql.functions as f\n",
    "df.groupBy(\"Profession\").agg(f.mean(\"Age\").alias(\"Mean\"),f.count(\"Age\").alias(\"Count\")\n",
    "                            ,f.sum(\"Age\").alias(\"Sum\")).show()"
   ]
  },
  {
   "cell_type": "markdown",
   "metadata": {},
   "source": [
 
    "Gendera göre age ortalamasını ve null olmayan professionı say\n"

   ]
  },
  {
   "cell_type": "code",
   "execution_count": 28,
   "metadata": {},
   "outputs": [
    {
     "name": "stdout",
     "output_type": "stream",
     "text": [
      "+----+-------+------+----+------+----------+\n",
      "|  Id|   Name|Height| Age|Gender|Profession|\n",
      "+----+-------+------+----+------+----------+\n",
      "|   1|   John|  1.79|  28|     M|    Doctor|\n",
      "|   2|  Steve|  1.78|  45|     M|      null|\n",
      "|   3|   Emma|  1.75|null|  null|      null|\n",
      "|   4| Ashley|   1.6|  33|     F|   Analyst|\n",
      "|   5| Olivia|   1.8|  54|     F|   Teacher|\n",
      "|   6| Hannah|  1.82|null|     F|      null|\n",
      "|   7|William|   1.7|  42|     M|  Engineer|\n",
      "|null|   null|  null|null|  null|      null|\n",
      "|   8|  Ethan|  1.55|  38|     M|    Doctor|\n",
      "|   9| Hannah|  1.65|null|     F|    Doctor|\n",
      "|  10| Xavier|  1.64|  43|  null|    Doctor|\n",
      "|  11|   null|  null|null|  null|      null|\n",
      "+----+-------+------+----+------+----------+\n",
      "\n",
      "+------+-----------------+--------+\n",
      "|Gender|count(Profession)|avg(Age)|\n",
      "+------+-----------------+--------+\n",
      "|     F|                3|    43.5|\n",
      "|  null|                1|    43.0|\n",
      "|     M|                3|   38.25|\n",
      "+------+-----------------+--------+\n",
      "\n"
     ]
    }
   ],
   "source": [
    "df.show()\n",
    "df.groupBy(\"Gender\").agg({'Age':'avg', 'Profession':'count'}).show()"
   ]
  },
  {
   "cell_type": "markdown",
   "metadata": {},
   "source": [

    "40'dan büyük kolonları 1 ile değiştir yoksa 0 ile değiştirelim\n"
   ]
  },
  {
   "cell_type": "code",
   "execution_count": 29,
   "metadata": {},
   "outputs": [
    {
     "name": "stdout",
     "output_type": "stream",
     "text": [
      "+---+----+------+---+------+----------+\n",
      "| Id|Name|Height|Age|Gender|Profession|\n",
      "+---+----+------+---+------+----------+\n",
      "|  0|   0|     0|  0|     0|         0|\n",
      "|  0|   0|     0|  1|     0|         0|\n",
      "|  0|   0|     0|  0|     0|         0|\n",
      "|  0|   0|     0|  0|     0|         0|\n",
      "|  0|   0|     0|  1|     0|         0|\n",
      "|  0|   0|     0|  0|     0|         0|\n",
      "|  0|   0|     0|  1|     0|         0|\n",
      "|  0|   0|     0|  0|     0|         0|\n",
      "|  0|   0|     0|  0|     0|         0|\n",
      "|  0|   0|     0|  0|     0|         0|\n",
      "|  0|   0|     0|  1|     0|         0|\n",
      "|  0|   0|     0|  0|     0|         0|\n",
      "+---+----+------+---+------+----------+\n",
      "\n"
     ]
    }
   ],
   "source": [
    "from pyspark.sql.functions import when   \n",
    "cols = df.columns # list of all columns\n",
    "for col in cols:df= df.withColumn(col, when(df[col]>40,1).otherwise(0))\n",
    "df.show()"
   ]
  },
  {
   "cell_type": "code",
   "execution_count": null,
   "metadata": {},
   "outputs": [],
   "source": []
  }
 ],
 "metadata": {
  "kernelspec": {
   "display_name": "Python 3",
   "language": "python",
   "name": "python3"
  },
  "language_info": {
   "codemirror_mode": {
    "name": "ipython",
    "version": 3
   },
   "file_extension": ".py",
   "mimetype": "text/x-python",
   "name": "python",
   "nbconvert_exporter": "python",
   "pygments_lexer": "ipython3",
   "version": "3.7.0"
  }
 },
 "nbformat": 4,
 "nbformat_minor": 2
}
