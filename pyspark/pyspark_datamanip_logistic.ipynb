{
 "cells": [
  {
   "cell_type": "markdown",
   "metadata": {},
   "source": [
    "# PYSPARK VERİ MANİPULASYONU VE MAKİNA ÖĞRENMESİ METHODU \n",
    "<font size=4,font style=arial>\n",
    "<br><br>\n",
    "Merhaba,<br>\n",
    "Pyspark kodları ile önce veri manipulasyonu yapacağız. İki tane veri setini rastgele sayılarla oluşturup join yapıp ,aşağıdaki fonksiyonları ve metodları uygulayacağız:  <br>\n",
    "1-Case when <br>\n",
    "2-Distinct <br>\n",
    "3-Kolon adları değiştirme <br>\n",
    "4-Kolonların min,max,avg,sum,count,standard deviation ı bulma<br>\n",
    "5-Group by sum,count,mean <br>\n",
    "6-Filter <br>\n",
    "7-Rank <br>\n",
    "8-Makine Öğrenmesi methodu olan Lojistik Regresyon Analizi <br>\n",
    "</font>"
   ]
  },
  {
   "cell_type": "markdown",
   "metadata": {},
   "source": [
    "<font size=4,font style=arial>\n",
    "Öncelikle gerekli fonksiyonları yükleyelim ve spark contexti oluşuralım\n",
    "</font>"
   ]
  },
  {
   "cell_type": "code",
   "execution_count": 1,
   "metadata": {},
   "outputs": [],
   "source": [
    "#round fonksiyonu  için\n",
    "import pyspark.sql.functions as func\n",
    "##Spark session oluşturulur\n",
    "from pyspark import SparkContext\n",
    "from pyspark.sql import SQLContext\n",
    "from pyspark.sql.functions import rand, randn,when,mean, min, max,sum,stddev,count,desc,col\n",
    "from pyspark.sql.window import Window\n",
    "sc =SparkContext()\n",
    "sqlContext = SQLContext(sc)"
   ]
  },
  {
   "cell_type": "markdown",
   "metadata": {},
   "source": [
    "<font size=4,font style=arial>\n",
    "<br>\n",
    "İlk veri setimizi(data frame) oluşturalım ve adı df1 olsun. 1 milyon satırlı 5 kolonlu oluşturalım. Kolonlar;2 'si uniform dağılım, 2'si normal dağılım ve bir kolonda 0,1 sayıları içerecek şekilde olsun.<br>\n",
    "id:id kolonu<br>\n",
    "uniform: uniform dağılımlı kolon<br>\n",
    "uniform1: uniform dağılımlı kolon<br>\n",
    "normal: normal dağılımlı kolon<br>\n",
    "normal1: normal dağılımlı kolon<br>\n",
    "Y:0,1 içeren kolon<br>\n",
    "NOT:func.round oluşturduğumzu rastgele sayıları yuvarlamak içindir <br>\n",
    "NOT: Sparksjobs ları http://localhost:4040/jobs/ 'den takip edebilirsiniz    \n",
    "</font>"
   ]
  },
  {
   "cell_type": "code",
   "execution_count": 33,
   "metadata": {
    "scrolled": true
   },
   "outputs": [],
   "source": [
    "df1 = sqlContext.range(0, 1000000)\\\n",
    "     .withColumn('uniform', func.round(rand(seed=10),2))\\\n",
    "     .withColumn('uniform1',func.round(rand(seed=9),2))\\\n",
    "     .withColumn('normal',func.round(randn(seed=22),2))\\\n",
    "     .withColumn('normal1',func.round(randn(seed=23),2))\\\n",
    "     .withColumn('Y', when(rand() > 0.5, 1).otherwise(0))"
   ]
  },
  {
   "cell_type": "markdown",
   "metadata": {},
   "source": [
    "<font size=4,font style=arial>\n",
    "df1 satır sayısı\n",
    "    </font>"
   ]
  },
  {
   "cell_type": "code",
   "execution_count": 34,
   "metadata": {},
   "outputs": [
    {
     "data": {
      "text/plain": [
       "1000000"
      ]
     },
     "execution_count": 34,
     "metadata": {},
     "output_type": "execute_result"
    }
   ],
   "source": [
    "#df1 satır sayısı\n",
    "df1.count()"
   ]
  },
  {
   "cell_type": "markdown",
   "metadata": {},
   "source": [
    "<font size=4,font style=arial>\n",
    "İkinci veri setimiz df2 olsun.\n",
    "<br>    \n",
    "id=id kolunu\n",
    "    <br>\n",
    "uniform2: uniform dağılımlı kolon\n",
    "<br>\n",
    "normal2: normal dağılımlı kolon\n",
    "<br>\n",
    "normal3: normal dağılımlı kolon\n",
    "</font>"
   ]
  },
  {
   "cell_type": "code",
   "execution_count": 35,
   "metadata": {},
   "outputs": [],
   "source": [
    "df2 = sqlContext.range(0, 1000000)\\\n",
    "     .withColumn('uniform2', func.round(rand(seed=9),2))\\\n",
    "     .withColumn('normal2', func.round(randn(seed=3),2))\\\n",
    "     .withColumn('normal3', func.round(randn(seed=5),2))"
   ]
  },
  {
   "cell_type": "markdown",
   "metadata": {},
   "source": [
    "<font size=4,font style=arial>\n",
    "df2 satır sayısı\n",
    "</font>"
   ]
  },
  {
   "cell_type": "code",
   "execution_count": 36,
   "metadata": {},
   "outputs": [
    {
     "data": {
      "text/plain": [
       "1000000"
      ]
     },
     "execution_count": 36,
     "metadata": {},
     "output_type": "execute_result"
    }
   ],
   "source": [
    "df2.count()"
   ]
  },
  {
   "cell_type": "markdown",
   "metadata": {},
   "source": [
    "<font size=4,font style=arial>\n",
    "df1 verisi için en tepedeki 5 satırı görelim\n",
    "</font>"
   ]
  },
  {
   "cell_type": "code",
   "execution_count": 37,
   "metadata": {},
   "outputs": [
    {
     "name": "stdout",
     "output_type": "stream",
     "text": [
      "+---+-------+--------+------+-------+---+\n",
      "| id|uniform|uniform1|normal|normal1|  Y|\n",
      "+---+-------+--------+------+-------+---+\n",
      "|  0|   0.41|    0.71|  1.02|    0.1|  1|\n",
      "|  1|   0.73|    0.64| -0.39|  -0.36|  0|\n",
      "|  2|    0.9|    0.29|  2.14|   0.28|  1|\n",
      "|  3|   0.09|    0.05| -0.14|  -1.11|  0|\n",
      "|  4|   0.38|     0.5|  0.44|   0.63|  1|\n",
      "+---+-------+--------+------+-------+---+\n",
      "only showing top 5 rows\n",
      "\n"
     ]
    }
   ],
   "source": [
    "df1.show(5)"
   ]
  },
  {
   "cell_type": "markdown",
   "metadata": {},
   "source": [
    "<font size=4,font style=arial>\n",
    "df2'den de bir örnek alalım. 5'tanesini görelim. (Set seed sürekli aynı örneklemin gelmesini sağlar.)\n",
    "</font>"
   ]
  },
  {
   "cell_type": "code",
   "execution_count": 38,
   "metadata": {},
   "outputs": [
    {
     "name": "stdout",
     "output_type": "stream",
     "text": [
      "+---+--------+-------+-------+\n",
      "| id|uniform2|normal2|normal3|\n",
      "+---+--------+-------+-------+\n",
      "| 20|    0.38|  -0.42|  -0.14|\n",
      "| 33|    0.89|   -0.1|   0.33|\n",
      "| 39|     0.7|   0.39|  -1.17|\n",
      "| 44|    0.62|    0.2|  -1.17|\n",
      "| 48|    0.73|   1.73|   1.43|\n",
      "+---+--------+-------+-------+\n",
      "\n"
     ]
    }
   ],
   "source": [
    "df2.sample(False, 0.1, seed=0).limit(5).show()"
   ]
  },
  {
   "cell_type": "markdown",
   "metadata": {},
   "source": [
    "# CASE WHEN \n",
    "<br>\n",
    "<br>\n",
    "<font size=4,font style=arial>\n",
    "df1'e C1 adında bir kolon ekleyelim.Case when 'li kurallarımız;\n",
    "<br>\n",
    "df1.normal <= 0.1 ise A <br>\n",
    "df1.normal > 0.1 ve df1.normal =< 0.7 ise 'B' <br> \n",
    "df1.normal > 0.7 ve df1.normal =< 1  ise 'C'  \n",
    "df1.normal > 1 ve df1.normal<1.3 ise 'D'  <br> \n",
    "df1.normal >= 1.3 ise 'E'   \n",
    "</font>"
   ]
  },
  {
   "cell_type": "code",
   "execution_count": 39,
   "metadata": {},
   "outputs": [],
   "source": [
    "#parantezler önemli yoksa error mesajı alınır\n",
    "df1=df1.withColumn('C1', when(df1.normal<=0.1, 'A')\\\n",
    "                    .when((df1.normal>0.1) & (df1.normal<=0.7), 'B')\\\n",
    "                    .when((df1.normal>0.7) & (df1.normal<=1), 'C')\\\n",
    "                    .when((df1.normal>1) & (df1.normal<1.3), 'D')\\\n",
    "                    .otherwise('E')) "
   ]
  },
  {
   "cell_type": "markdown",
   "metadata": {},
   "source": [
    "# DISTINCT\n",
    "<br> \n",
    "<br> \n",
    "<font size=4,font style=arial>\n",
    "Oluşturdumuz C1 kolonuna distinct ile bir göz atalım   \n",
    "</font>"
   ]
  },
  {
   "cell_type": "code",
   "execution_count": 40,
   "metadata": {},
   "outputs": [
    {
     "name": "stdout",
     "output_type": "stream",
     "text": [
      "+---+\n",
      "| C1|\n",
      "+---+\n",
      "|  E|\n",
      "|  B|\n",
      "|  D|\n",
      "|  C|\n",
      "|  A|\n",
      "+---+\n",
      "\n"
     ]
    }
   ],
   "source": [
    "df1.select('C1').distinct().show()"
   ]
  },
  {
   "cell_type": "markdown",
   "metadata": {},
   "source": [
    "<font size=4,font style=arial>\n",
    "df1 veri setimize bir göz atalım\n",
    "</font>    "
   ]
  },
  {
   "cell_type": "code",
   "execution_count": 41,
   "metadata": {},
   "outputs": [
    {
     "name": "stdout",
     "output_type": "stream",
     "text": [
      "+---+-------+--------+------+-------+---+---+\n",
      "| id|uniform|uniform1|normal|normal1|  Y| C1|\n",
      "+---+-------+--------+------+-------+---+---+\n",
      "|  0|   0.41|    0.71|  1.02|    0.1|  1|  D|\n",
      "|  1|   0.73|    0.64| -0.39|  -0.36|  0|  A|\n",
      "|  2|    0.9|    0.29|  2.14|   0.28|  1|  E|\n",
      "|  3|   0.09|    0.05| -0.14|  -1.11|  0|  A|\n",
      "|  4|   0.38|     0.5|  0.44|   0.63|  1|  B|\n",
      "|  5|   0.56|    0.13| -0.66|  -0.89|  0|  A|\n",
      "|  6|    0.5|     0.8|  2.61|   0.06|  1|  E|\n",
      "|  7|   0.21|     0.0|  2.47|  -0.55|  0|  E|\n",
      "|  8|   0.96|    0.92|  0.01|   0.83|  1|  A|\n",
      "|  9|   0.74|    0.85|  0.59|   1.74|  1|  B|\n",
      "+---+-------+--------+------+-------+---+---+\n",
      "only showing top 10 rows\n",
      "\n"
     ]
    }
   ],
   "source": [
    "df1.show(10)"
   ]
  },
  {
   "cell_type": "markdown",
   "metadata": {},
   "source": [
    "<font size=4,font style=arial>\n",
    "Benzer bir çalışmayı df2 içinde yapalım.Kolon adı C2 olsun. \n",
    "<br>\n",
    "df2.normal2 <= 0.3 ise 'W'\n",
    "<br>\n",
    "df2.normal2 > 0.3 ise 'Z' \n",
    "</font>"
   ]
  },
  {
   "cell_type": "code",
   "execution_count": 42,
   "metadata": {},
   "outputs": [],
   "source": [
    "df2=df2.withColumn('C2', when(df2.normal2<=0.3, 'W')\\\n",
    "                     .otherwise('Z')) "
   ]
  },
  {
   "cell_type": "markdown",
   "metadata": {},
   "source": [
    "<font size=4,font style=arial>\n",
    "df2'e göz atalım\n",
    "</font>"
   ]
  },
  {
   "cell_type": "code",
   "execution_count": 43,
   "metadata": {},
   "outputs": [
    {
     "name": "stdout",
     "output_type": "stream",
     "text": [
      "+---+--------+-------+-------+---+\n",
      "| id|uniform2|normal2|normal3| C2|\n",
      "+---+--------+-------+-------+---+\n",
      "|  0|    0.71|  -0.92|  -0.82|  W|\n",
      "|  1|    0.64|   0.25|   0.16|  W|\n",
      "|  2|    0.29|   0.71|    1.8|  Z|\n",
      "|  3|    0.05|   -0.8|  -0.56|  W|\n",
      "|  4|     0.5|   0.31|  -0.16|  Z|\n",
      "|  5|    0.13|   0.03|   2.58|  W|\n",
      "|  6|     0.8|  -0.16|   0.01|  W|\n",
      "|  7|     0.0|   0.08|  -0.09|  W|\n",
      "|  8|    0.92|  -0.46|   0.04|  W|\n",
      "|  9|    0.85|  -1.59|   0.46|  W|\n",
      "+---+--------+-------+-------+---+\n",
      "only showing top 10 rows\n",
      "\n"
     ]
    }
   ],
   "source": [
    "df2.show(10)"
   ]
  },
  {
   "cell_type": "markdown",
   "metadata": {},
   "source": [
    "# JOIN\n",
    "<br>\n",
    "<br>\n",
    "<font size=4,font style=arial>\n",
    "df1 ile df2 join yapalım ekstradan gelen id kolonunu drop edelim\n",
    "</font>"
   ]
  },
  {
   "cell_type": "code",
   "execution_count": 44,
   "metadata": {},
   "outputs": [],
   "source": [
    "df = df1.join(df2, df1.id == df2.id).drop(df2.id)"
   ]
  },
  {
   "cell_type": "markdown",
   "metadata": {},
   "source": [
    "<font size=4,font style=arial>\n",
    "df kontrol edelim\n",
    "</font>"
   ]
  },
  {
   "cell_type": "code",
   "execution_count": 45,
   "metadata": {},
   "outputs": [
    {
     "name": "stdout",
     "output_type": "stream",
     "text": [
      "root\n",
      " |-- id: long (nullable = false)\n",
      " |-- uniform: double (nullable = true)\n",
      " |-- uniform1: double (nullable = true)\n",
      " |-- normal: double (nullable = true)\n",
      " |-- normal1: double (nullable = true)\n",
      " |-- Y: integer (nullable = false)\n",
      " |-- C1: string (nullable = false)\n",
      " |-- uniform2: double (nullable = true)\n",
      " |-- normal2: double (nullable = true)\n",
      " |-- normal3: double (nullable = true)\n",
      " |-- C2: string (nullable = false)\n",
      "\n"
     ]
    }
   ],
   "source": [
    "df.printSchema()"
   ]
  },
  {
   "cell_type": "markdown",
   "metadata": {},
   "source": [
    "<br>\n",
    "<br>\n",
    "<font size=4,font style=arial>\n",
    "df'in top 10 kontrolü\n",
    "</font>"
   ]
  },
  {
   "cell_type": "code",
   "execution_count": 46,
   "metadata": {},
   "outputs": [
    {
     "name": "stdout",
     "output_type": "stream",
     "text": [
      "+----+-------+--------+------+-------+---+---+--------+-------+-------+---+\n",
      "|  id|uniform|uniform1|normal|normal1|  Y| C1|uniform2|normal2|normal3| C2|\n",
      "+----+-------+--------+------+-------+---+---+--------+-------+-------+---+\n",
      "|  26|   0.82|     0.5| -0.57|  -0.11|  1|  A|     0.5|    0.4|   0.15|  Z|\n",
      "|  29|   0.21|    0.49|  0.82|   -1.3|  1|  C|    0.49|  -1.23|   0.24|  W|\n",
      "| 474|   0.43|    0.49| -1.02|   0.21|  1|  A|    0.49|   0.33|   1.73|  Z|\n",
      "| 964|   0.19|    0.88|  0.96|  -0.19|  0|  C|    0.88|  -1.85|   0.79|  W|\n",
      "|1677|   0.95|    0.22|  1.17|  -2.95|  1|  D|    0.22|   2.51|   1.46|  Z|\n",
      "|1697|   0.17|    0.71| -1.27|   0.06|  0|  A|    0.71|   1.47|  -0.86|  Z|\n",
      "|1806|    0.7|    0.69|  1.17|    0.1|  0|  D|    0.69|   0.11|   0.74|  W|\n",
      "|1950|   0.21|    0.45| -1.62|  -0.84|  1|  A|    0.45|  -0.12|   1.34|  W|\n",
      "|2040|   0.33|    0.61|   1.3|    1.2|  1|  E|    0.61|  -0.57|   0.81|  W|\n",
      "|2214|   0.88|    0.73|  0.47|  -0.73|  0|  B|    0.73|   0.88|  -0.57|  Z|\n",
      "+----+-------+--------+------+-------+---+---+--------+-------+-------+---+\n",
      "only showing top 10 rows\n",
      "\n"
     ]
    }
   ],
   "source": [
    "df.show(10)"
   ]
  },
  {
   "cell_type": "markdown",
   "metadata": {},
   "source": [
    "# YENI KOLON EKLEME\n",
    "<br>\n",
    "<br>\n",
    "<font size=4,font style=arial>\n",
    "df'de bulunan uniform1 ve normal kolonlarını kullanarak yeni bir kolon oluşuralım şu an bu kolunu dataframe'e yazmayacağız\n",
    "</font>"
   ]
  },
  {
   "cell_type": "code",
   "execution_count": 47,
   "metadata": {},
   "outputs": [
    {
     "name": "stdout",
     "output_type": "stream",
     "text": [
      "+----+-------+--------+------+-------+---+---+--------+-------+-------+---+--------------------+\n",
      "|  id|uniform|uniform1|normal|normal1|  Y| C1|uniform2|normal2|normal3| C2|          yeni_kolon|\n",
      "+----+-------+--------+------+-------+---+---+--------+-------+-------+---+--------------------+\n",
      "|  26|   0.82|     0.5| -0.57|  -0.11|  1|  A|     0.5|    0.4|   0.15|  Z|                3.21|\n",
      "|  29|   0.21|    0.49|  0.82|   -1.3|  1|  C|    0.49|  -1.23|   0.24|  W|               -0.99|\n",
      "| 474|   0.43|    0.49| -1.02|   0.21|  1|  A|    0.49|   0.33|   1.73|  Z|                4.53|\n",
      "| 964|   0.19|    0.88|  0.96|  -0.19|  0|  C|    0.88|  -1.85|   0.79|  W|-0.23999999999999977|\n",
      "|1677|   0.95|    0.22|  1.17|  -2.95|  1|  D|    0.22|   2.51|   1.46|  Z| -2.8499999999999996|\n",
      "+----+-------+--------+------+-------+---+---+--------+-------+-------+---+--------------------+\n",
      "only showing top 5 rows\n",
      "\n"
     ]
    }
   ],
   "source": [
    "df.withColumn('yeni_kolon',3*df.uniform1-3*df.normal ).show(5)"
   ]
  },
  {
   "cell_type": "markdown",
   "metadata": {},
   "source": [
    "# KOLON ADLARINI DEĞİŞTİRME\n",
    "<br>\n",
    "<br>\n",
    "<font size=4,font style=arial>\n",
    "Yeni kolon adlarımız U1,U2,U3,N1,N2,N3,N4'e çevirelim.  \n",
    "</font>"
   ]
  },
  {
   "cell_type": "code",
   "execution_count": 48,
   "metadata": {},
   "outputs": [
    {
     "name": "stdout",
     "output_type": "stream",
     "text": [
      "root\n",
      " |-- id: long (nullable = false)\n",
      " |-- U1: double (nullable = true)\n",
      " |-- U2: double (nullable = true)\n",
      " |-- N1: double (nullable = true)\n",
      " |-- N2: double (nullable = true)\n",
      " |-- Y: integer (nullable = false)\n",
      " |-- C1: string (nullable = false)\n",
      " |-- U3: double (nullable = true)\n",
      " |-- N3: double (nullable = true)\n",
      " |-- N4: double (nullable = true)\n",
      " |-- C2: string (nullable = false)\n",
      "\n"
     ]
    }
   ],
   "source": [
    "df = df.withColumnRenamed(\"uniform\", \"U1\")\\\n",
    "       .withColumnRenamed(\"uniform1\", \"U2\")\\\n",
    "       .withColumnRenamed(\"uniform2\", \"U3\")\\\n",
    "       .withColumnRenamed(\"normal\", \"N1\")\\\n",
    "       .withColumnRenamed(\"normal1\", \"N2\")\\\n",
    "       .withColumnRenamed(\"normal2\", \"N3\")\\\n",
    "       .withColumnRenamed(\"normal3\", \"N4\")\n",
    "df.printSchema()"
   ]
  },
  {
   "cell_type": "markdown",
   "metadata": {},
   "source": [
    "# KOLONUN MİN,MAX,AVG,SUM,COUNT,STANDARD DEVIATION'NI BULMA\n",
    "<br>\n",
    "<font size=4,font style=arial>\n",
    "N1 kolonu için bulalım.Method 1 aggregate fonksiyonunu, Method 2 select'i kullanıyor. İsterseniz de withColumnRenamed fonksiyonu kullanarak kolona yeni ad verilebilir. func.round ilede round yapabilirsiniz.\n",
    "</font>"
   ]
  },
  {
   "cell_type": "code",
   "execution_count": 49,
   "metadata": {},
   "outputs": [
    {
     "name": "stdout",
     "output_type": "stream",
     "text": [
      "+-----+-------+--------------------+-----------------+------------------+---------+\n",
      "|  min|max(N1)|             avg(N1)|round(sum(N1), 2)|   stddev_samp(N1)|count(N1)|\n",
      "+-----+-------+--------------------+-----------------+------------------+---------+\n",
      "|-4.59|   4.79|0.001570150000000...|          1570.15|0.9998111433422301|  1000000|\n",
      "+-----+-------+--------------------+-----------------+------------------+---------+\n",
      "\n"
     ]
    }
   ],
   "source": [
    "#1.method\n",
    "df.agg(min(\"N1\"),max(\"N1\"),mean(\"N1\"),func.round(sum(\"N1\"),2),stddev(\"N1\"),count(\"N1\"))\\\n",
    ".withColumnRenamed(\"min(N1)\", \"min\").show()"
   ]
  },
  {
   "cell_type": "code",
   "execution_count": 50,
   "metadata": {},
   "outputs": [
    {
     "name": "stdout",
     "output_type": "stream",
     "text": [
      "+-------+-------+--------------------+------------------+------------------+---------+\n",
      "|min(N1)|max(N1)|             avg(N1)|           sum(N1)|   stddev_samp(N1)|count(N1)|\n",
      "+-------+-------+--------------------+------------------+------------------+---------+\n",
      "|  -4.59|   4.79|0.001570150000000...|1570.1500000000003|0.9998111433422301|  1000000|\n",
      "+-------+-------+--------------------+------------------+------------------+---------+\n",
      "\n"
     ]
    }
   ],
   "source": [
    "#2.method\n",
    "df.select([min('N1'), max('N1'),mean('N1'),sum('N1'),stddev('N1'),count('N1')]).show()"
   ]
  },
  {
   "cell_type": "markdown",
   "metadata": {},
   "source": [
    "# GROUP BY \n",
    "<br>\n",
    "<font size=4,font style=arial>\n",
    "Yukarıda buldugumuz değerleri C1 ve C2 için group by şeklinde bulalım\n",
    "</font>"
   ]
  },
  {
   "cell_type": "code",
   "execution_count": 51,
   "metadata": {},
   "outputs": [
    {
     "name": "stdout",
     "output_type": "stream",
     "text": [
      "+---+---+-----+-------+-------------------+-----------------+-------------------+---------+\n",
      "| C1| C2|  min|max(N1)|            avg(N1)|round(sum(N1), 2)|    stddev_samp(N1)|count(N1)|\n",
      "+---+---+-----+-------+-------------------+-----------------+-------------------+---------+\n",
      "|  C|  W| 0.71|    1.0| 0.8484908037288995|         43779.58|0.08629206806569498|    51597|\n",
      "|  B|  Z| 0.11|    0.7| 0.3936189467603737|         32708.16|0.17211378663207755|    83096|\n",
      "|  A|  W|-4.43|    0.1|-0.7324595520390188|       -245689.64| 0.6228749728531819|   335431|\n",
      "|  D|  Z| 1.01|   1.29|   1.14267522855899|         26247.25|0.08344406026535031|    22970|\n",
      "|  E|  W|  1.3|   4.63|  1.766692768309535|        107393.72| 0.4095826616247165|    60788|\n",
      "|  A|  Z|-4.59|    0.1|-0.7303695132149598|       -150219.48| 0.6207203777615165|   205676|\n",
      "|  C|  Z| 0.71|    1.0|  0.847848909212156|         26699.61|0.08624057518841813|    31491|\n",
      "|  B|  W| 0.11|    0.7| 0.3923364721958172|         52830.46|0.17179409633061266|   134656|\n",
      "|  D|  W| 1.01|   1.29|  1.142517192475449|         42697.01|0.08305675213710327|    37371|\n",
      "|  E|  Z|  1.3|   4.79| 1.7637168237460732|         65123.48|  0.408021361833161|    36924|\n",
      "+---+---+-----+-------+-------------------+-----------------+-------------------+---------+\n",
      "\n"
     ]
    }
   ],
   "source": [
    "df.groupby('C1','C2').agg(min(\"N1\"),max(\"N1\"),mean(\"N1\"),func.round(sum(\"N1\"),2),stddev(\"N1\"),count(\"N1\"))\\\n",
    ".withColumnRenamed(\"min(N1)\", \"min\").show() "
   ]
  },
  {
   "cell_type": "markdown",
   "metadata": {},
   "source": [
    "# FILTER\n",
    "<br>\n",
    "<br>\n",
    "<font size=4,font style=arial>\n",
    "FILTER fonksiyonu aşağıda ki şekilde hesaplanır. \n",
    "(C1=A) ve (U1 0.9'a eşit olmasın) ve (Y 0'a eşit olsun) ve (N1 0'dan büyük olsun) \n",
    "</font>"
   ]
  },
  {
   "cell_type": "code",
   "execution_count": 52,
   "metadata": {},
   "outputs": [
    {
     "name": "stdout",
     "output_type": "stream",
     "text": [
      "+-----+----+----+----+-----+---+---+----+-----+-----+---+\n",
      "|   id|  U1|  U2|  N1|   N2|  Y| C1|  U3|   N3|   N4| C2|\n",
      "+-----+----+----+----+-----+---+---+----+-----+-----+---+\n",
      "| 3091|0.42|0.18|0.03|-0.22|  0|  A|0.18| -0.5|-0.23|  W|\n",
      "|11567|0.26|0.39|0.09| 0.64|  0|  A|0.39|-0.49|  2.0|  W|\n",
      "|15237|0.07|0.84|0.05|-1.13|  0|  A|0.84|-0.39|-1.68|  W|\n",
      "|31762|0.92|0.48|0.07| -1.0|  0|  A|0.48|-1.31|-0.39|  W|\n",
      "|32912|0.12|0.95|0.05| 0.64|  0|  A|0.95|-0.12| 0.34|  W|\n",
      "|38287|0.21|0.53| 0.1|-0.61|  0|  A|0.53| 0.79|-0.26|  Z|\n",
      "|38996|0.64|0.83|0.06| 1.26|  0|  A|0.83| 0.95|-0.13|  Z|\n",
      "|40436|0.81|0.42|0.02|  2.5|  0|  A|0.42| 0.26| 1.96|  W|\n",
      "|49586|0.74|0.08|0.02| 1.27|  0|  A|0.08|-0.87| -1.5|  W|\n",
      "|81293|0.42|0.63|0.09| 0.07|  0|  A|0.63| 0.08|-1.58|  W|\n",
      "+-----+----+----+----+-----+---+---+----+-----+-----+---+\n",
      "only showing top 10 rows\n",
      "\n"
     ]
    }
   ],
   "source": [
    "df.filter('C1=\"A\" and U1 != 0.9 and Y=0 and N1>0').show(10)"
   ]
  },
  {
   "cell_type": "markdown",
   "metadata": {},
   "source": [
    "<font size=4,font style=arial>\n",
    "FİLTER 'dan sonra min,max,mean,sum,stddev'ını bulalım\n",
    "</font>"
   ]
  },
  {
   "cell_type": "code",
   "execution_count": 53,
   "metadata": {},
   "outputs": [
    {
     "name": "stdout",
     "output_type": "stream",
     "text": [
      "+-------+-------+-------------------+-----------------+--------------------+---------+\n",
      "|min(N1)|max(N1)|            avg(N1)|round(sum(N1), 2)|     stddev_samp(N1)|count(N1)|\n",
      "+-------+-------+-------------------+-----------------+--------------------+---------+\n",
      "|   0.01|    0.1|0.05488298898421269|          1081.14|0.028713581417572524|    19699|\n",
      "+-------+-------+-------------------+-----------------+--------------------+---------+\n",
      "\n"
     ]
    }
   ],
   "source": [
    "df.filter('C1=\"A\" and U1 != 0.9 and Y=0 and N1>0')\\\n",
    "         .agg(min(\"N1\"),max(\"N1\"),mean(\"N1\"),func.round(sum(\"N1\"),2),stddev(\"N1\"),count(\"N1\")).show()"
   ]
  },
  {
   "cell_type": "markdown",
   "metadata": {},
   "source": [
    "<font size=4,font style=arial>\n",
    "Çapraz tablolama\n",
    "</font>"
   ]
  },
  {
   "cell_type": "code",
   "execution_count": 54,
   "metadata": {},
   "outputs": [
    {
     "name": "stdout",
     "output_type": "stream",
     "text": [
      "+-----+------+------+\n",
      "|C1_C2|     W|     Z|\n",
      "+-----+------+------+\n",
      "|    E| 60788| 36924|\n",
      "|    A|335431|205676|\n",
      "|    B|134656| 83096|\n",
      "|    C| 51597| 31491|\n",
      "|    D| 37371| 22970|\n",
      "+-----+------+------+\n",
      "\n"
     ]
    }
   ],
   "source": [
    "df.crosstab('C1', 'C2').show()"
   ]
  },
  {
   "cell_type": "markdown",
   "metadata": {},
   "source": [
    "<font size=4,font style=arial>\n",
    "distinct değerleri görme\n",
    "</font>"
   ]
  },
  {
   "cell_type": "code",
   "execution_count": 55,
   "metadata": {},
   "outputs": [
    {
     "name": "stdout",
     "output_type": "stream",
     "text": [
      "+---+---+\n",
      "| C1| C2|\n",
      "+---+---+\n",
      "|  C|  W|\n",
      "|  B|  Z|\n",
      "|  A|  W|\n",
      "|  D|  Z|\n",
      "|  E|  W|\n",
      "|  A|  Z|\n",
      "|  C|  Z|\n",
      "|  B|  W|\n",
      "|  D|  W|\n",
      "|  E|  Z|\n",
      "+---+---+\n",
      "\n"
     ]
    }
   ],
   "source": [
    "df.select('C1','C2').dropDuplicates().show()"
   ]
  },
  {
   "cell_type": "markdown",
   "metadata": {},
   "source": [
    "# ORDER BY-SORT DESCENDING\n",
    "<br>\n",
    "<br>\n",
    "<font size=4,font style=arial>\n",
    "C1 ve C2 değişkenine göre count alıp büyükten küçüğe doğru sıralayım\n",
    "</font>"
   ]
  },
  {
   "cell_type": "code",
   "execution_count": 56,
   "metadata": {},
   "outputs": [
    {
     "name": "stdout",
     "output_type": "stream",
     "text": [
      "+---+---+------+\n",
      "| C1| C2| count|\n",
      "+---+---+------+\n",
      "|  A|  W|335431|\n",
      "|  A|  Z|205676|\n",
      "|  B|  W|134656|\n",
      "|  B|  Z| 83096|\n",
      "|  E|  W| 60788|\n",
      "|  C|  W| 51597|\n",
      "|  D|  W| 37371|\n",
      "|  E|  Z| 36924|\n",
      "|  C|  Z| 31491|\n",
      "|  D|  Z| 22970|\n",
      "+---+---+------+\n",
      "\n"
     ]
    }
   ],
   "source": [
    "df.groupBy('C1','C2').count().orderBy('count',ascending=False).show()"
   ]
  },
  {
   "cell_type": "markdown",
   "metadata": {},
   "source": [
    "# RANK\n",
    "<br>\n",
    "<br>\n",
    "<font size=4,font style=arial>\n",
    "C1 ve C2 değişkenine göre N1 büyükten küçüğe sıralanacak şekilde rank numarası ata. Herbir grupdan top 2'yi seç\n",
    "</font>"
   ]
  },
  {
   "cell_type": "code",
   "execution_count": 57,
   "metadata": {},
   "outputs": [
    {
     "name": "stdout",
     "output_type": "stream",
     "text": [
      "+------+----+----+----+-----+---+---+----+-----+-----+---+----------+\n",
      "|    id|  U1|  U2|  N1|   N2|  Y| C1|  U3|   N3|   N4| C2|row_number|\n",
      "+------+----+----+----+-----+---+---+----+-----+-----+---+----------+\n",
      "| 30421|0.18|0.74| 1.0| 0.52|  0|  C|0.74|-0.88| 0.68|  W|         1|\n",
      "| 33209| 0.7| 0.4| 1.0|-0.74|  0|  C| 0.4| 0.24| 1.42|  W|         2|\n",
      "| 10422|0.29|0.64| 0.7| 1.04|  0|  B|0.64| 0.89| 0.28|  Z|         1|\n",
      "|770069|0.49|0.27| 0.7| 0.98|  1|  B|0.27| 1.04|-1.09|  Z|         2|\n",
      "|123425|0.11|0.65| 0.1| 0.95|  0|  A|0.65|-0.61| 0.52|  W|         1|\n",
      "|161554|0.11|0.36| 0.1|-0.29|  1|  A|0.36|-0.37| 0.83|  W|         2|\n",
      "|324942|0.82|0.48|1.29|-0.75|  1|  D|0.48| 2.71| -0.9|  Z|         1|\n",
      "|547847| 0.4|0.09|1.29|-0.65|  0|  D|0.09| 0.58| 0.71|  Z|         2|\n",
      "|145352|0.15|0.49|4.63| 0.14|  0|  E|0.49|-0.89|-0.02|  W|         1|\n",
      "|988632|0.02|0.96|4.54| 0.27|  0|  E|0.96|-1.17|-0.14|  W|         2|\n",
      "| 38287|0.21|0.53| 0.1|-0.61|  0|  A|0.53| 0.79|-0.26|  Z|         1|\n",
      "| 98559|0.54|0.98| 0.1|-0.45|  0|  A|0.98| 0.83| 0.73|  Z|         2|\n",
      "|319970|0.31|0.52| 1.0| 0.67|  1|  C|0.52| 1.35| 0.31|  Z|         1|\n",
      "|586758|0.61| 0.8| 1.0|-0.32|  1|  C| 0.8| 1.01|-0.68|  Z|         2|\n",
      "| 71577|0.77|0.01| 0.7| 0.15|  0|  B|0.01| 0.05| 1.15|  W|         1|\n",
      "|341515|0.08|0.13| 0.7|-1.55|  1|  B|0.13|-0.25|-0.75|  W|         2|\n",
      "| 39627|0.01|0.49|1.29|-0.31|  0|  D|0.49|-0.81| 0.75|  W|         1|\n",
      "|126916|0.45|0.84|1.29| 0.32|  1|  D|0.84|-0.29|-0.62|  W|         2|\n",
      "|418497| 0.8|0.12|4.79| 0.06|  0|  E|0.12| 2.34| 0.74|  Z|         1|\n",
      "|867059|0.43|0.25|4.41| 2.07|  0|  E|0.25| 0.75|-0.09|  Z|         2|\n",
      "+------+----+----+----+-----+---+---+----+-----+-----+---+----------+\n",
      "\n"
     ]
    }
   ],
   "source": [
    "df.withColumn(\"row_number\", func.row_number().over(Window.partitionBy(\"C1\",\"C2\").orderBy(desc(\"N1\"))))\\\n",
    "  .filter(col('row_number') <= 2).show()      "
   ]
  },
  {
   "cell_type": "markdown",
   "metadata": {},
   "source": [
    "# MACHINE LEARNING\n",
    "<br>\n",
    "<br>\n",
    "<font size=4,font style=arial>\n",
    "Lojistik regresyon uygulamadan önce gerekli paketleri yükleyelim. \n",
    "</font>"
   ]
  },
  {
   "cell_type": "code",
   "execution_count": 58,
   "metadata": {},
   "outputs": [],
   "source": [
    "import numpy\n",
    "from pyspark.ml.feature import RFormula\n",
    "from pyspark.ml.classification import BinaryLogisticRegressionSummary,LogisticRegression\n",
    "from pyspark.ml.evaluation import (BinaryClassificationEvaluator,MulticlassClassificationEvaluator) "
   ]
  },
  {
   "cell_type": "markdown",
   "metadata": {},
   "source": [
    "<br>\n",
    "<font size=4,font style=arial>\n",
    "Bağımlı değişkenimiz Y ve bağımsız değişkenlerimiz U1,U2,U3,N1,N2,N3,N4,C1,C2 olmak üzere Lojistik regresyon analizi yapalım. Spark model için bir features (bağımsız değişkenlerin oluşturduğu sparse matris) ve label(bağımlı değişken) vektörlerinin oluşturulması gerekiyor. R formula bunu oluşturmaktadır.\n",
    "</font>"
   ]
  },
  {
   "cell_type": "code",
   "execution_count": 59,
   "metadata": {},
   "outputs": [],
   "source": [
    "formula = RFormula(formula=\"Y ~ U1+U2+U3+N1+N2+N3+N4+C1+C2\")\n",
    "output = formula.fit(df).transform(df)"
   ]
  },
  {
   "cell_type": "markdown",
   "metadata": {},
   "source": [
    "<font size=4,font style=arial>\n",
    "Modelimiz için gerekli olan features(yer kaplamaması ve işlem kolaylığı açısından oluşturulan sparse matris)  ve label kolonu oluştu. Aşağıda da çıktısı var.\n",
    "</font>    "
   ]
  },
  {
   "cell_type": "code",
   "execution_count": 60,
   "metadata": {},
   "outputs": [
    {
     "name": "stdout",
     "output_type": "stream",
     "text": [
      "+----+----+----+-----+-----+---+---+----+-----+----+---+----------------------------------------------------------+-----+\n",
      "|id  |U1  |U2  |N1   |N2   |Y  |C1 |U3  |N3   |N4  |C2 |features                                                  |label|\n",
      "+----+----+----+-----+-----+---+---+----+-----+----+---+----------------------------------------------------------+-----+\n",
      "|26  |0.82|0.5 |-0.57|-0.11|1  |A  |0.5 |0.4  |0.15|Z  |[0.82,0.5,0.5,-0.57,-0.11,0.4,0.15,1.0,0.0,0.0,0.0,0.0]   |1.0  |\n",
      "|29  |0.21|0.49|0.82 |-1.3 |1  |C  |0.49|-1.23|0.24|W  |[0.21,0.49,0.49,0.82,-1.3,-1.23,0.24,0.0,0.0,0.0,1.0,1.0] |1.0  |\n",
      "|474 |0.43|0.49|-1.02|0.21 |1  |A  |0.49|0.33 |1.73|Z  |[0.43,0.49,0.49,-1.02,0.21,0.33,1.73,1.0,0.0,0.0,0.0,0.0] |1.0  |\n",
      "|964 |0.19|0.88|0.96 |-0.19|0  |C  |0.88|-1.85|0.79|W  |[0.19,0.88,0.88,0.96,-0.19,-1.85,0.79,0.0,0.0,0.0,1.0,1.0]|0.0  |\n",
      "|1677|0.95|0.22|1.17 |-2.95|1  |D  |0.22|2.51 |1.46|Z  |[0.95,0.22,0.22,1.17,-2.95,2.51,1.46,0.0,0.0,0.0,0.0,0.0] |1.0  |\n",
      "+----+----+----+-----+-----+---+---+----+-----+----+---+----------------------------------------------------------+-----+\n",
      "only showing top 5 rows\n",
      "\n"
     ]
    }
   ],
   "source": [
    "output.show(5,truncate=False) "
   ]
  },
  {
   "cell_type": "markdown",
   "metadata": {},
   "source": [
    "<font size=4,font style=arial>\n",
    "Model için sadece features ve label kolonunu alacağız.\n",
    "</font>"
   ]
  },
  {
   "cell_type": "code",
   "execution_count": 61,
   "metadata": {},
   "outputs": [],
   "source": [
    "df_log=output.select([c for c in output.columns if c not in {'id','U1','U2','N1','N2','Y','C1','U3','N3','N4','C2'}])"
   ]
  },
  {
   "cell_type": "code",
   "execution_count": 62,
   "metadata": {},
   "outputs": [
    {
     "data": {
      "text/plain": [
       "DataFrame[features: vector, label: double]"
      ]
     },
     "execution_count": 62,
     "metadata": {},
     "output_type": "execute_result"
    }
   ],
   "source": [
    "df_log"
   ]
  },
  {
   "cell_type": "code",
   "execution_count": 63,
   "metadata": {},
   "outputs": [
    {
     "name": "stdout",
     "output_type": "stream",
     "text": [
      "+--------------------+-----+\n",
      "|            features|label|\n",
      "+--------------------+-----+\n",
      "|[0.82,0.5,0.5,-0....|  1.0|\n",
      "|[0.21,0.49,0.49,0...|  1.0|\n",
      "|[0.43,0.49,0.49,-...|  1.0|\n",
      "|[0.19,0.88,0.88,0...|  0.0|\n",
      "|[0.95,0.22,0.22,1...|  1.0|\n",
      "+--------------------+-----+\n",
      "only showing top 5 rows\n",
      "\n"
     ]
    }
   ],
   "source": [
    "df_log.show(5)"
   ]
  },
  {
   "cell_type": "markdown",
   "metadata": {},
   "source": [
    "<font size=4,font style=arial>\n",
    "Veri setimizi %70 ve %30 şeklinde ikiye bölüp %70'de modeli kurup %30'da test edelim.\n",
    "</font>"
   ]
  },
  {
   "cell_type": "code",
   "execution_count": 64,
   "metadata": {},
   "outputs": [],
   "source": [
    "lr_train,lr_test=df_log.randomSplit([0.7,0.3])"
   ]
  },
  {
   "cell_type": "markdown",
   "metadata": {},
   "source": [
    "<font size=4,font style=arial>\n",
    "Modelimizi uygulayalım\n",
    "</font>"
   ]
  },
  {
   "cell_type": "code",
   "execution_count": 65,
   "metadata": {},
   "outputs": [],
   "source": [
    "final_model=LogisticRegression()\n",
    "fit_final_model=final_model.fit(lr_train)"
   ]
  },
  {
   "cell_type": "markdown",
   "metadata": {},
   "source": [
    "<font size=4,font style=arial>\n",
    "train setine uyguladığımız modeli test edelim\n",
    "</font>"
   ]
  },
  {
   "cell_type": "code",
   "execution_count": 66,
   "metadata": {},
   "outputs": [],
   "source": [
    "predictions_and_labels=fit_final_model.evaluate(lr_test)"
   ]
  },
  {
   "cell_type": "markdown",
   "metadata": {},
   "source": [
    "<font size=4,font style=arial>\n",
    "label gerçekleşen ve prediction da tahmin olmak üzere aşağıda ki şekildedir\n",
    "</font>"
   ]
  },
  {
   "cell_type": "code",
   "execution_count": 67,
   "metadata": {},
   "outputs": [
    {
     "name": "stdout",
     "output_type": "stream",
     "text": [
      "+------------------------------------------------------------+-----+----------------------------------------------+----------------------------------------+----------+\n",
      "|features                                                    |label|rawPrediction                                 |probability                             |prediction|\n",
      "+------------------------------------------------------------+-----+----------------------------------------------+----------------------------------------+----------+\n",
      "|(12,[0,3,4,5,6,7],[0.18,-0.31,-0.66,0.5,-0.59,1.0])         |1.0  |[0.003917210558980503,-0.003917210558980503]  |[0.5009793013875015,0.4990206986124985] |0.0       |\n",
      "|(12,[0,3,4,5,6,8],[0.05,0.26,-1.34,1.07,-0.32,1.0])         |0.0  |[0.0014529494943975717,-0.0014529494943975717]|[0.500363237309698,0.49963676269030194] |0.0       |\n",
      "|[0.0,0.06,0.06,0.95,-0.52,0.41,0.28,0.0,0.0,0.0,1.0,0.0]    |0.0  |[0.007572348874965967,-0.007572348874965967]  |[0.5018930781729178,0.4981069218270821] |0.0       |\n",
      "|[0.0,0.19,0.19,-1.86,-1.1,-0.2,0.46,1.0,0.0,0.0,0.0,1.0]    |1.0  |[0.006273943207779098,-0.006273943207779098]  |[0.5015684806570226,0.49843151934297725]|0.0       |\n",
      "|[0.0,0.23,0.23,-0.98,-0.22,0.51,0.93,1.0,0.0,0.0,0.0,0.0]   |1.0  |[1.3850180865825458E-4,-1.3850180865825458E-4]|[0.5000346254521092,0.49996537454789086]|0.0       |\n",
      "|[0.0,0.41,0.41,0.17,0.9,0.61,1.93,0.0,1.0,0.0,0.0,0.0]      |0.0  |[-0.005536798186973491,0.005536798186973491]  |[0.4986158039894297,0.5013841960105703] |1.0       |\n",
      "|[0.0,0.58,0.58,-0.35,0.47,0.77,0.33,1.0,0.0,0.0,0.0,0.0]    |1.0  |[1.5079070081222773E-4,-1.5079070081222773E-4]|[0.5000376976751316,0.4999623023248684] |0.0       |\n",
      "|[0.0,0.68,0.68,-0.34,1.21,2.34,-0.67,1.0,0.0,0.0,0.0,0.0]   |0.0  |[0.012161728679862345,-0.012161728679862345]  |[0.5030403946952565,0.4969596053047436] |0.0       |\n",
      "|[0.0,0.69,0.69,2.27,-0.91,0.64,-0.58,0.0,0.0,1.0,0.0,0.0]   |0.0  |[-0.005027943679103946,0.005027943679103946]  |[0.49874301672829047,0.5012569832717095]|1.0       |\n",
      "|[0.0,0.85,0.85,-1.53,0.28,0.86,0.25,1.0,0.0,0.0,0.0,0.0]    |0.0  |[-0.0012538414973207843,0.0012538414973207843]|[0.49968653966673615,0.5003134603332637]|1.0       |\n",
      "|[0.0,0.88,0.88,-0.06,-1.7,-0.7,2.49,1.0,0.0,0.0,0.0,1.0]    |1.0  |[-0.012149961978781711,0.012149961978781711]  |[0.4969625468713475,0.5030374531286526] |1.0       |\n",
      "|[0.0,0.89,0.89,0.49,-1.01,0.55,-0.16,0.0,1.0,0.0,0.0,0.0]   |1.0  |[-0.010950518951596365,0.010950518951596365]  |[0.49726239761841984,0.5027376023815802]|1.0       |\n",
      "|[0.0,0.94,0.94,1.9,0.59,-1.61,-0.51,0.0,0.0,1.0,0.0,1.0]    |1.0  |[-0.007283634733264691,0.007283634733264691]  |[0.49817909936677757,0.5018209006332225]|1.0       |\n",
      "|[0.01,0.16,0.16,-0.22,-0.1,1.07,-0.3,1.0,0.0,0.0,0.0,0.0]   |0.0  |[0.006444407691449654,-0.006444407691449654]  |[0.5016110963470779,0.4983889036529221] |0.0       |\n",
      "|[0.01,0.2,0.2,-0.65,1.14,0.5,-0.93,1.0,0.0,0.0,0.0,0.0]     |0.0  |[0.007491817381355025,-0.007491817381355025]  |[0.501872945585061,0.4981270544149389]  |0.0       |\n",
      "|[0.01,0.22,0.22,-0.4,-0.74,1.05,-0.1,1.0,0.0,0.0,0.0,0.0]   |1.0  |[0.003932197250231315,-0.003932197250231315]  |[0.5009830480458864,0.4990169519541136] |0.0       |\n",
      "|[0.01,0.29,0.29,1.18,0.01,1.25,-0.5,0.0,0.0,0.0,0.0,0.0]    |1.0  |[0.006520828930288832,-0.006520828930288832]  |[0.5016302014560647,0.49836979854393515]|0.0       |\n",
      "|[0.01,0.44,0.44,0.02,0.37,-0.56,1.3,1.0,0.0,0.0,0.0,1.0]    |1.0  |[8.596491561273078E-4,-8.596491561273078E-4]  |[0.5002149122757968,0.4997850877242031] |0.0       |\n",
      "|[0.01,0.47,0.47,-0.64,-0.76,-0.05,0.68,1.0,0.0,0.0,0.0,1.0] |0.0  |[0.0030372834309131316,-0.0030372834309131316]|[0.5007593202739952,0.4992406797260048] |0.0       |\n",
      "|[0.01,0.62,0.62,-1.12,0.28,0.23,-0.01,1.0,0.0,0.0,0.0,1.0]  |0.0  |[0.007536620070941729,-0.007536620070941729]  |[0.5018841460993515,0.4981158539006485] |0.0       |\n",
      "|[0.01,0.65,0.65,0.78,3.39,0.07,-0.66,0.0,0.0,0.0,1.0,1.0]   |1.0  |[0.020314083547198374,-0.020314083547198374]  |[0.5050783462512947,0.4949216537487052] |0.0       |\n",
      "|[0.01,0.77,0.77,0.56,-1.11,1.07,-0.05,0.0,1.0,0.0,0.0,0.0]  |0.0  |[-0.007228712062328788,0.007228712062328788]  |[0.4981928298537752,0.5018071701462248] |1.0       |\n",
      "|[0.01,0.88,0.88,-1.58,-1.27,0.12,-1.06,1.0,0.0,0.0,0.0,1.0] |0.0  |[0.0034565626610047508,-0.0034565626610047508]|[0.5008641398048688,0.49913586019513123]|0.0       |\n",
      "|[0.01,0.97,0.97,1.34,-1.69,-0.09,1.36,0.0,0.0,1.0,0.0,1.0]  |0.0  |[-0.007853474211565918,0.007853474211565918]  |[0.4980366415382792,0.5019633584617208] |1.0       |\n",
      "|[0.01,0.97,0.97,2.23,-0.34,-0.16,1.64,0.0,0.0,1.0,0.0,1.0]  |1.0  |[-0.006760437794888033,0.006760437794888033]  |[0.49830989698824446,0.5016901030117557]|1.0       |\n",
      "|[0.01,0.99,0.99,0.16,1.82,0.04,0.32,0.0,1.0,0.0,0.0,1.0]    |1.0  |[5.097967686309105E-4,-5.097967686309105E-4]  |[0.5001274491893974,0.4998725508106025] |0.0       |\n",
      "|[0.02,0.07,0.07,0.66,0.01,0.07,-0.73,0.0,1.0,0.0,0.0,1.0]   |1.0  |[0.008413622356375505,-0.008413622356375505]  |[0.5021033931810097,0.49789660681899034]|0.0       |\n",
      "|[0.02,0.13,0.13,-0.42,-1.18,0.74,0.83,1.0,0.0,0.0,0.0,0.0]  |0.0  |[-6.810707273582082E-5,6.810707273582082E-5]  |[0.4999829732318226,0.5000170267681774] |1.0       |\n",
      "|[0.02,0.25,0.25,-0.67,-0.05,0.38,0.97,1.0,0.0,0.0,0.0,0.0]  |1.0  |[-9.17750331198701E-4,9.17750331198701E-4]    |[0.4997705624333043,0.5002294375666957] |1.0       |\n",
      "|[0.02,0.3,0.3,-1.64,-0.86,-0.82,-0.59,1.0,0.0,0.0,0.0,1.0]  |1.0  |[0.004207772706151547,-0.004207772706151547]  |[0.5010519416244553,0.4989480583755447] |0.0       |\n",
      "|[0.02,0.34,0.34,0.87,-0.25,-0.91,1.66,0.0,0.0,0.0,1.0,1.0]  |0.0  |[0.004121082445519867,-0.004121082445519867]  |[0.5010302691532644,0.49896973084673557]|0.0       |\n",
      "|[0.02,0.39,0.39,-0.56,-0.62,0.31,1.55,1.0,0.0,0.0,0.0,0.0]  |0.0  |[-0.005623719858593201,0.005623719858593201]  |[0.4985940737406948,0.5014059262593052] |1.0       |\n",
      "|[0.02,0.5,0.5,-1.67,0.0,-0.07,1.08,1.0,0.0,0.0,0.0,1.0]     |1.0  |[0.004479643144016656,-0.004479643144016656]  |[0.5011199089132182,0.49888009108678183]|0.0       |\n",
      "|[0.02,0.68,0.68,1.62,1.85,-0.51,1.34,0.0,0.0,1.0,0.0,1.0]   |0.0  |[7.215853573930425E-4,-7.215853573930425E-4]  |[0.5001803963315208,0.49981960366847916]|0.0       |\n",
      "|[0.02,0.73,0.73,0.68,0.38,0.66,-0.35,0.0,1.0,0.0,0.0,0.0]   |0.0  |[-0.005196714476466216,0.005196714476466216]  |[0.49870082430465984,0.5012991756953402]|1.0       |\n",
      "|[0.02,0.79,0.79,-0.89,-1.17,-0.33,-0.06,1.0,0.0,0.0,0.0,1.0]|1.0  |[-0.0010335710782024918,0.0010335710782024918]|[0.4997416072534521,0.5002583927465479] |1.0       |\n",
      "|[0.02,0.86,0.86,-0.51,-0.8,0.9,0.8,1.0,0.0,0.0,0.0,0.0]     |0.0  |[-0.006037278988842045,0.006037278988842045]  |[0.49849068483717274,0.5015093151628273]|1.0       |\n",
      "|[0.02,0.9,0.9,0.72,0.28,0.76,-1.44,0.0,0.0,0.0,1.0,0.0]     |0.0  |[0.006510056019646004,-0.006510056019646004]  |[0.5016275082569864,0.49837249174301357]|0.0       |\n",
      "|[0.02,0.91,0.91,0.45,-1.6,-0.19,-0.47,0.0,1.0,0.0,0.0,1.0]  |0.0  |[-0.006297829416916973,0.006297829416916973]  |[0.4984255478496801,0.5015744521503199] |1.0       |\n",
      "|[0.03,0.04,0.04,-0.68,0.18,0.95,-1.23,1.0,0.0,0.0,0.0,0.0]  |1.0  |[0.010305051368586709,-0.010305051368586709]  |[0.5025762400437328,0.49742375995626725]|0.0       |\n",
      "|[0.03,0.07,0.07,-1.14,-0.79,-1.47,1.19,1.0,0.0,0.0,0.0,1.0] |0.0  |[-0.0016035021064324823,0.0016035021064324823]|[0.4995991245592868,0.5004008754407132] |1.0       |\n",
      "|[0.03,0.14,0.14,1.95,0.52,1.43,0.39,0.0,0.0,1.0,0.0,0.0]    |0.0  |[0.006796556193729182,-0.006796556193729182]  |[0.5016991325077435,0.4983008674922566] |0.0       |\n",
      "|[0.03,0.17,0.17,1.28,-0.2,0.01,0.65,0.0,0.0,0.0,0.0,1.0]    |1.0  |[0.007121007358013088,-0.007121007358013088]  |[0.5017802443166799,0.49821975568332005]|0.0       |\n",
      "|[0.03,0.26,0.26,0.39,0.2,0.61,0.32,0.0,1.0,0.0,0.0,0.0]     |1.0  |[-0.0020727979283695405,0.0020727979283695405]|[0.4994818007034441,0.5005181992965558] |1.0       |\n",
      "|[0.03,0.39,0.39,0.66,-0.01,0.95,0.41,0.0,1.0,0.0,0.0,0.0]   |1.0  |[-0.002500567659947454,0.002500567659947454]  |[0.49937485841075563,0.5006251415892444]|1.0       |\n",
      "|[0.03,0.5,0.5,0.73,-0.26,-0.12,-1.08,0.0,0.0,0.0,1.0,1.0]   |1.0  |[0.013442460291733056,-0.013442460291733056]  |[0.503360564468659,0.49663943553134116] |0.0       |\n",
      "|[0.03,0.55,0.55,-0.01,0.72,1.47,-0.06,1.0,0.0,0.0,0.0,0.0]  |1.0  |[0.005563808055770112,-0.005563808055770112]  |[0.5013909484257657,0.49860905157423435]|0.0       |\n",
      "|[0.03,0.74,0.74,-1.44,-0.31,1.47,0.26,1.0,0.0,0.0,0.0,0.0]  |0.0  |[0.0019123109388528244,-0.0019123109388528244]|[0.5004780775890217,0.4995219224109783] |0.0       |\n",
      "|[0.03,0.75,0.75,-1.73,-0.8,-0.22,-1.37,1.0,0.0,0.0,0.0,1.0] |0.0  |[0.004813007169157694,-0.004813007169157694]  |[0.5012032494695137,0.4987967505304864] |0.0       |\n",
      "|[0.03,0.75,0.75,0.34,-0.54,-0.31,-0.02,0.0,1.0,0.0,0.0,1.0] |1.0  |[-0.0037779616431623756,0.0037779616431623756]|[0.4990555107126,0.5009444892874]       |1.0       |\n",
      "|[0.03,0.87,0.87,0.35,0.84,-0.02,-0.38,0.0,1.0,0.0,0.0,1.0]  |0.0  |[5.932141299966037E-4,-5.932141299966037E-4]  |[0.5001483035281501,0.4998516964718499] |0.0       |\n",
      "|[0.03,0.91,0.91,-0.13,0.13,-0.78,-0.31,1.0,0.0,0.0,0.0,1.0] |0.0  |[-0.0022073179240115013,0.0022073179240115013]|[0.4994481707430513,0.5005518292569486] |1.0       |\n",
      "|[0.03,0.99,0.99,0.74,0.45,-0.19,0.17,0.0,0.0,0.0,1.0,1.0]   |0.0  |[0.006416037874609203,-0.006416037874609203]  |[0.5016040039661817,0.4983959960338183] |0.0       |\n",
      "|[0.04,0.01,0.01,-0.41,0.69,1.18,-1.14,1.0,0.0,0.0,0.0,0.0]  |0.0  |[0.012606853009559946,-0.012606853009559946]  |[0.5031516715105174,0.49684832848948257]|0.0       |\n",
      "|[0.04,0.02,0.02,-2.23,0.91,-1.84,0.18,1.0,0.0,0.0,0.0,1.0]  |0.0  |[0.004198447089839867,-0.004198447089839867]  |[0.5010496102306741,0.4989503897693259] |0.0       |\n",
      "|[0.04,0.08,0.08,1.12,-1.47,-0.38,1.28,0.0,0.0,0.0,0.0,1.0]  |1.0  |[0.0016014533873083877,-0.0016014533873083877]|[0.500400363261261,0.499599636738739]   |0.0       |\n",
      "|[0.04,0.09,0.09,0.18,-1.03,-0.28,1.12,0.0,1.0,0.0,0.0,1.0]  |1.0  |[-7.439972172234091E-5,7.439972172234091E-5]  |[0.499981400069578,0.500018599930422]   |1.0       |\n",
      "|[0.04,0.12,0.12,1.69,1.3,-0.67,-0.57,0.0,0.0,1.0,0.0,1.0]   |0.0  |[0.00894769279784774,-0.00894769279784774]    |[0.5022369082753506,0.4977630917246494] |0.0       |\n",
      "|[0.04,0.16,0.16,0.53,0.15,1.64,-0.33,0.0,1.0,0.0,0.0,0.0]   |0.0  |[0.006193350120664428,-0.006193350120664428]  |[0.5015483325809776,0.49845166741902236]|0.0       |\n",
      "|[0.04,0.24,0.24,1.64,0.22,0.64,0.45,0.0,0.0,1.0,0.0,0.0]    |1.0  |[6.181904283332643E-4,-6.181904283332643E-4]  |[0.5001545476021615,0.49984545239783845]|0.0       |\n",
      "|[0.04,0.25,0.25,0.51,0.13,0.96,1.43,0.0,1.0,0.0,0.0,0.0]    |0.0  |[-0.002847073642604824,0.002847073642604824]  |[0.4992882320701378,0.5007117679298623] |1.0       |\n",
      "|[0.04,0.42,0.42,-1.63,-0.08,-0.8,1.45,1.0,0.0,0.0,0.0,1.0]  |1.0  |[-1.4341315400885277E-5,1.4341315400885277E-5]|[0.49999641467114986,0.5000035853288501]|1.0       |\n",
      "|[0.04,0.57,0.57,-0.72,-0.79,0.0,-0.21,1.0,0.0,0.0,0.0,1.0]  |1.0  |[0.004252221207943312,-0.004252221207943312]  |[0.501063053700196,0.49893694629980395] |0.0       |\n",
      "|[0.04,0.58,0.58,-1.03,-0.71,0.6,-0.88,1.0,0.0,0.0,0.0,0.0]  |0.0  |[-1.0053369693626812E-4,1.0053369693626812E-4]|[0.4999748665757871,0.500025133424213]  |1.0       |\n",
      "|[0.04,0.63,0.63,-0.72,-1.95,-0.48,-0.36,1.0,0.0,0.0,0.0,1.0]|1.0  |[-0.0014884822930007011,0.0014884822930007011]|[0.4996278794954551,0.5003721205045449] |1.0       |\n",
      "|[0.04,0.72,0.72,0.92,-0.38,-0.53,1.33,0.0,0.0,0.0,1.0,1.0]  |1.0  |[0.002552532981637141,-0.002552532981637141]  |[0.5006381328989338,0.49936186710106634]|0.0       |\n",
      "|[0.04,0.75,0.75,1.49,0.18,0.55,1.26,0.0,0.0,1.0,0.0,0.0]    |0.0  |[-0.007266216878156231,0.007266216878156231]  |[0.4981834537729406,0.5018165462270594] |1.0       |\n",
      "|[0.04,0.76,0.76,-1.96,0.96,-0.56,-0.63,1.0,0.0,0.0,0.0,1.0] |0.0  |[0.005272810184782231,-0.005272810184782231]  |[0.5013181994920906,0.49868180050790956]|0.0       |\n",
      "|[0.04,0.8,0.8,-1.26,0.24,-2.51,-0.21,1.0,0.0,0.0,0.0,1.0]   |1.0  |[-0.00981401833061985,0.00981401833061985]    |[0.49754651510958753,0.5024534848904125]|1.0       |\n",
      "|[0.04,0.8,0.8,0.78,-0.01,1.1,0.93,0.0,0.0,0.0,1.0,0.0]      |0.0  |[0.0032474198290772215,-0.0032474198290772215]|[0.5008118542438027,0.4991881457561973] |0.0       |\n",
      "|[0.04,0.89,0.89,0.13,-1.22,0.1,0.83,0.0,1.0,0.0,0.0,1.0]    |0.0  |[-0.006277638821745682,0.006277638821745682]  |[0.49843059544858276,0.5015694045514173]|1.0       |\n",
      "|[0.05,0.01,0.01,0.99,-1.48,-0.86,1.18,0.0,0.0,0.0,1.0,1.0]  |1.0  |[0.006082546708380367,-0.006082546708380367]  |[0.5015206319888154,0.49847936801118464]|0.0       |\n",
      "|[0.05,0.05,0.05,-1.26,-0.04,0.94,-0.25,1.0,0.0,0.0,0.0,0.0] |1.0  |[0.00791125715771522,-0.00791125715771522]    |[0.5019778039738749,0.4980221960261249] |0.0       |\n",
      "|[0.05,0.08,0.08,-1.27,0.86,-0.23,-1.05,1.0,0.0,0.0,0.0,1.0] |1.0  |[0.014557177619660308,-0.014557177619660308]  |[0.5036392301389397,0.4963607698610602] |0.0       |\n",
      "|[0.05,0.16,0.16,0.01,-1.04,1.14,-0.76,1.0,0.0,0.0,0.0,0.0]  |0.0  |[0.005410515757357146,-0.005410515757357146]  |[0.5013526256396467,0.49864737436035333]|0.0       |\n",
      "|[0.05,0.17,0.17,0.42,-0.93,-1.16,0.16,0.0,1.0,0.0,0.0,1.0]  |0.0  |[-0.0038434244037346844,0.0038434244037346844]|[0.4990391450818713,0.5009608549181287] |1.0       |\n",
      "|[0.05,0.36,0.36,3.33,-0.96,2.07,-0.38,0.0,0.0,1.0,0.0,0.0]  |0.0  |[0.004976917083394112,-0.004976917083394112]  |[0.5012442267025891,0.49875577329741105]|0.0       |\n",
      "|[0.05,0.41,0.41,0.42,-0.06,1.37,-0.76,0.0,1.0,0.0,0.0,0.0]  |1.0  |[0.0025275359019426777,-0.0025275359019426777]|[0.50063188363909,0.4993681163609101]   |0.0       |\n",
      "|[0.05,0.42,0.42,-0.35,0.43,0.53,-1.4,1.0,0.0,0.0,0.0,0.0]   |1.0  |[0.004312908743955209,-0.004312908743955209]  |[0.5010782255146335,0.49892177448536645]|0.0       |\n",
      "|[0.05,0.54,0.54,-0.54,0.35,1.36,-0.27,1.0,0.0,0.0,0.0,0.0]  |0.0  |[0.005188497609399213,-0.005188497609399213]  |[0.5012971214924203,0.4987028785075796] |0.0       |\n",
      "|[0.05,0.71,0.71,-0.25,2.01,-0.86,-0.77,1.0,0.0,0.0,0.0,1.0] |0.0  |[0.004969094949330801,-0.004969094949330801]  |[0.5012422711811636,0.49875772881883634]|0.0       |\n",
      "|[0.05,0.81,0.81,0.35,1.18,-0.54,0.23,0.0,1.0,0.0,0.0,1.0]   |1.0  |[-0.0024570209330631986,0.0024570209330631986]|[0.4993857450757531,0.5006142549242468] |1.0       |\n",
      "|[0.05,0.84,0.84,-1.26,-0.63,1.08,-1.68,1.0,0.0,0.0,0.0,0.0] |1.0  |[0.002117729433301104,-0.002117729433301104]  |[0.5005294321604599,0.4994705678395402] |0.0       |\n",
      "|[0.05,0.92,0.92,-1.09,0.56,-0.23,-1.0,1.0,0.0,0.0,0.0,1.0]  |0.0  |[0.0044312984725118545,-0.0044312984725118545]|[0.5011078228053236,0.4988921771946764] |0.0       |\n",
      "|[0.06,0.09,0.09,0.26,-0.65,-0.24,-0.73,0.0,1.0,0.0,0.0,1.0] |1.0  |[0.005207594034176718,-0.005207594034176718]  |[0.5013018955663662,0.4986981044336338] |0.0       |\n",
      "|[0.06,0.11,0.11,-0.16,-0.32,-0.67,0.15,1.0,0.0,0.0,0.0,1.0] |0.0  |[0.004966228946932604,-0.004966228946932604]  |[0.5012415546849844,0.4987584453150156] |0.0       |\n",
      "|[0.06,0.29,0.29,0.5,0.44,-0.01,0.57,0.0,1.0,0.0,0.0,1.0]    |0.0  |[0.0035773462471706246,-0.0035773462471706246]|[0.5008943356080282,0.4991056643919718] |0.0       |\n",
      "|[0.06,0.36,0.36,-2.94,0.57,-0.34,0.25,1.0,0.0,0.0,0.0,1.0]  |1.0  |[0.008933553065351603,-0.008933553065351603]  |[0.5022333734128667,0.4977666265871334] |0.0       |\n",
      "|[0.06,0.4,0.4,0.45,1.0,0.87,0.79,0.0,1.0,0.0,0.0,0.0]       |1.0  |[-0.001495498599905768,0.001495498599905768]  |[0.49962612541970497,0.500373874580295] |1.0       |\n",
      "|[0.06,0.44,0.44,0.47,-0.53,0.71,1.64,0.0,1.0,0.0,0.0,0.0]   |0.0  |[-0.00837392395168888,0.00837392395168888]    |[0.4979065312453532,0.5020934687546468] |1.0       |\n",
      "|[0.06,0.5,0.5,-0.8,-1.27,-0.78,0.36,1.0,0.0,0.0,0.0,1.0]    |0.0  |[-0.0018968394949755354,0.0018968394949755354]|[0.49952579026844,0.50047420973156]     |1.0       |\n",
      "|[0.06,0.63,0.63,0.0,0.3,-2.78,-1.6,1.0,0.0,0.0,0.0,1.0]     |0.0  |[-0.007543851636896642,0.007543851636896642]  |[0.49811404603485654,0.5018859539651435]|1.0       |\n",
      "|[0.06,0.67,0.67,1.52,-0.39,-1.03,-1.51,0.0,0.0,1.0,0.0,1.0] |0.0  |[-6.703018883860018E-4,6.703018883860018E-4]  |[0.49983242453417787,0.5001675754658221]|1.0       |\n",
      "|[0.06,0.7,0.7,-0.84,0.13,-2.31,-1.32,1.0,0.0,0.0,0.0,1.0]   |1.0  |[-0.005735498018494085,0.005735498018494085]  |[0.498566129426084,0.501433870573916]   |1.0       |\n",
      "|[0.06,0.83,0.83,-2.01,-1.08,0.35,-0.57,1.0,0.0,0.0,0.0,0.0] |1.0  |[-0.004843879520275482,0.004843879520275482]  |[0.49878903248769146,0.5012109675123085]|1.0       |\n",
      "|[0.06,0.93,0.93,-0.75,0.13,0.11,1.25,1.0,0.0,0.0,0.0,1.0]   |0.0  |[-3.3998533470708074E-4,3.3998533470708074E-4]|[0.4999150036671419,0.500084996332858]  |1.0       |\n",
      "|[0.06,0.96,0.96,1.03,-0.47,0.48,1.41,0.0,0.0,0.0,0.0,0.0]   |1.0  |[-0.010745064042651988,0.010745064042651988]  |[0.49731375983458914,0.5026862401654109]|1.0       |\n",
      "|[0.06,0.98,0.98,0.15,0.27,0.43,-0.81,0.0,1.0,0.0,0.0,0.0]   |0.0  |[-0.007964337259233638,0.007964337259233638]  |[0.4980089262097755,0.5019910737902245] |1.0       |\n",
      "|[0.07,0.05,0.05,1.12,-0.36,-1.95,-0.73,0.0,0.0,0.0,0.0,1.0] |0.0  |[1.1560894852012671E-5,-1.1560894852012671E-5]|[0.5000028902237129,0.499997109776287]  |0.0       |\n",
      "|[0.07,0.08,0.08,-2.35,0.32,-0.96,0.53,1.0,0.0,0.0,0.0,1.0]  |0.0  |[0.006508519584143371,-0.006508519584143371]  |[0.5016271241521795,0.49837287584782053]|0.0       |\n",
      "+------------------------------------------------------------+-----+----------------------------------------------+----------------------------------------+----------+\n",
      "only showing top 100 rows\n",
      "\n"
     ]
    }
   ],
   "source": [
    "predictions_and_labels.predictions.show(100,truncate=False)"
   ]
  },
  {
   "cell_type": "markdown",
   "metadata": {},
   "source": [
    "<font size=4,font style=arial>\n",
    "Roc eğrisinin altında ki alanı rakam olarak görelim. 1'e yakın bir değer iyi bir değerdir. Veri seti manual oluşturulduğundan aşağıda ki şekilde bir değer çıkmıştır.\n",
    "</font>"
   ]
  },
  {
   "cell_type": "code",
   "execution_count": 68,
   "metadata": {},
   "outputs": [
    {
     "data": {
      "text/plain": [
       "0.49920422881298465"
      ]
     },
     "execution_count": 68,
     "metadata": {},
     "output_type": "execute_result"
    }
   ],
   "source": [
    "my_eval=BinaryClassificationEvaluator()\n",
    "my_final_roc=my_eval.evaluate(predictions_and_labels.predictions)\n",
    "my_final_roc"
   ]
  }
 ],
 "metadata": {
  "kernelspec": {
   "display_name": "Python 3",
   "language": "python",
   "name": "python3"
  },
  "language_info": {
   "codemirror_mode": {
    "name": "ipython",
    "version": 3
   },
   "file_extension": ".py",
   "mimetype": "text/x-python",
   "name": "python",
   "nbconvert_exporter": "python",
   "pygments_lexer": "ipython3",
   "version": "3.7.0"
  }
 },
 "nbformat": 4,
 "nbformat_minor": 2
}
