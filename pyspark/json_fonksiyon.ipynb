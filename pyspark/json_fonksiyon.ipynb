{
 "cells": [
  {
   "attachments": {},
   "cell_type": "markdown",
   "metadata": {},
   "source": [
    "Farz edelim ki bir sparkdatafaremimiz var ve data kolonumuz tamamen jason formatında ve bu kolonda priceın içindeki amountu süzeceğiz.\n",
    "data kolonu aşağıdaki şekilde olsun örnek olarak\n",
    "\"\"price\"\": {\"\"amount\"\": 900, \"\"currency\"\": \"\"TRY\"\"},\"\"status\"\": {\"\"id\"\": 1, \"\"label\"\": \"\"Active\"\"}\n",
    "Sparkdataframe'ine yeniden kolon olarak ekleyeceğiz."
   ]
  },
  {
   "cell_type": "code",
   "execution_count": null,
   "metadata": {},
   "outputs": [],
   "source": [
    "import json\n",
    "from pyspark.sql import types as t \n",
    "def newCols (x):\n",
    "    x=json.loads(x)\n",
    "    if 'price' in x:\n",
    "        return x['price']['amount']\n",
    "    else:\n",
    "        return ''\n",
    "callnewudf=f.udf(newCols,t.StringType())\n",
    "df=df.withColumn(\"amount\",callnewudf(f.col('data')))  "
   ]
  },
  {
   "cell_type": "markdown",
   "metadata": {},
   "source": [
    "Yukarıdaki fonksiyon amount adında bir kolon getirecek ve altınada 900 TL yazdırackatır."
   ]
  }
 ],
 "metadata": {
  "kernelspec": {
   "display_name": "Python 3",
   "language": "python",
   "name": "python3"
  },
  "language_info": {
   "codemirror_mode": {
    "name": "ipython",
    "version": 3
   },
   "file_extension": ".py",
   "mimetype": "text/x-python",
   "name": "python",
   "nbconvert_exporter": "python",
   "pygments_lexer": "ipython3",
   "version": "3.6.8"
  }
 },
 "nbformat": 4,
 "nbformat_minor": 2
}
