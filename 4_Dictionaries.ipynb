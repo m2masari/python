{
 "cells": [
  {
   "cell_type": "markdown",
   "metadata": {},
   "source": [
    "### Key-value pairs unordered mutable\n",
    "\n",
    "In Python, a dictionary is a mutable, unordered collection of key-value pairs, where each key must be unique. Dictionaries are defined using curly braces {}, and the key-value pairs are separated by colons. Here's a breakdown of the dictionary format in Python:"
   ]
  },
  {
   "cell_type": "code",
   "execution_count": 1,
   "metadata": {
    "id": "K1L4t3pYNHrS"
   },
   "outputs": [],
   "source": [
    "student={\"name\":\"Alex\",\"age\":27,\"city\":\"New York\",\"courses\":'Phyics'}"
   ]
  },
  {
   "cell_type": "code",
   "execution_count": 2,
   "metadata": {
    "colab": {
     "base_uri": "https://localhost:8080/"
    },
    "id": "Xi_ePFMGNspD",
    "outputId": "a78b5c56-288b-4acf-d2d1-b9a09f9d1cb5"
   },
   "outputs": [
    {
     "name": "stdout",
     "output_type": "stream",
     "text": [
      "{'name': 'Alex', 'age': 27, 'city': 'New York', 'courses': 'Phyics'}\n"
     ]
    }
   ],
   "source": [
    "print(student)"
   ]
  },
  {
   "cell_type": "code",
   "execution_count": 3,
   "metadata": {},
   "outputs": [
    {
     "name": "stdout",
     "output_type": "stream",
     "text": [
      "name Alex\n",
      "age 27\n",
      "city New York\n",
      "courses Phyics\n"
     ]
    }
   ],
   "source": [
    "# Iterating through key-value pairs\n",
    "for key, value in student.items():\n",
    "    print(key, value)"
   ]
  },
  {
   "cell_type": "markdown",
   "metadata": {},
   "source": [
    "Another way to construct dictionary"
   ]
  },
  {
   "cell_type": "code",
   "execution_count": 4,
   "metadata": {
    "id": "jPkXzbExNwSK"
   },
   "outputs": [
    {
     "name": "stdout",
     "output_type": "stream",
     "text": [
      "{'name': 'John', 'age': 35, 'city': 'New York', 'courses': 'Math'}\n"
     ]
    }
   ],
   "source": [
    "student2=dict(name=\"John\",age=35,city=\"New York\",courses='Math')\n",
    "print(student2)"
   ]
  },
  {
   "cell_type": "code",
   "execution_count": 5,
   "metadata": {
    "id": "K1L4t3pYNHrS"
   },
   "outputs": [],
   "source": [
    "student={\"name\":\"Alex\",\"age\":27,\"city\":\"New York\",\"courses\":['Math','Phyics']}"
   ]
  },
  {
   "cell_type": "code",
   "execution_count": 6,
   "metadata": {
    "colab": {
     "base_uri": "https://localhost:8080/"
    },
    "id": "pxFHxCiZOLgP",
    "outputId": "2b84aa71-e930-4e5d-ec80-a8657fc8d767"
   },
   "outputs": [
    {
     "name": "stdout",
     "output_type": "stream",
     "text": [
      "{'name': 'Alex', 'age': 27, 'city': 'New York', 'courses': ['Math', 'Phyics']}\n"
     ]
    }
   ],
   "source": [
    "print(student)"
   ]
  },
  {
   "cell_type": "code",
   "execution_count": 7,
   "metadata": {},
   "outputs": [
    {
     "name": "stdout",
     "output_type": "stream",
     "text": [
      "4\n"
     ]
    }
   ],
   "source": [
    "print(len(student))"
   ]
  },
  {
   "cell_type": "code",
   "execution_count": 8,
   "metadata": {
    "colab": {
     "base_uri": "https://localhost:8080/"
    },
    "id": "cIdAdNSbOPG4",
    "outputId": "2c53bf4e-4553-4a90-cbf6-0998b43c523f"
   },
   "outputs": [
    {
     "name": "stdout",
     "output_type": "stream",
     "text": [
      "27\n"
     ]
    }
   ],
   "source": [
    "value=student[\"age\"]\n",
    "print(value)"
   ]
  },
  {
   "cell_type": "markdown",
   "metadata": {},
   "source": [
    "#### How do you access the value associated with a specific key in a dictionary?"
   ]
  },
  {
   "cell_type": "code",
   "execution_count": 33,
   "metadata": {},
   "outputs": [
    {
     "name": "stdout",
     "output_type": "stream",
     "text": [
      "Max\n"
     ]
    }
   ],
   "source": [
    "print(student['name'])"
   ]
  },
  {
   "cell_type": "markdown",
   "metadata": {},
   "source": [
    "### Dictonaries are mutable"
   ]
  },
  {
   "cell_type": "markdown",
   "metadata": {},
   "source": [
    "you can add new items and then you can change it"
   ]
  },
  {
   "cell_type": "code",
   "execution_count": 9,
   "metadata": {
    "colab": {
     "base_uri": "https://localhost:8080/"
    },
    "id": "FVEYXD1yPEMq",
    "outputId": "caad96ba-341e-4da0-a1ef-4c1505dd0974"
   },
   "outputs": [
    {
     "name": "stdout",
     "output_type": "stream",
     "text": [
      "{'name': 'Alex', 'age': 27, 'city': 'New York', 'courses': ['Math', 'Phyics'], 'email': 'max@xyz.com'}\n"
     ]
    }
   ],
   "source": [
    "student[\"email\"]=\"max@xyz.com\"\n",
    "print(student)"
   ]
  },
  {
   "cell_type": "code",
   "execution_count": 10,
   "metadata": {
    "colab": {
     "base_uri": "https://localhost:8080/"
    },
    "id": "I6xzM6FKPbsH",
    "outputId": "c1b97660-6273-46f6-f987-b65e00f017b0"
   },
   "outputs": [
    {
     "name": "stdout",
     "output_type": "stream",
     "text": [
      "{'name': 'Alex', 'age': 27, 'city': 'New York', 'courses': ['Math', 'Phyics'], 'email': 'cool@xyz.com'}\n"
     ]
    }
   ],
   "source": [
    "student[\"email\"]=\"cool@xyz.com\"\n",
    "print(student)"
   ]
  },
  {
   "cell_type": "code",
   "execution_count": 34,
   "metadata": {
    "colab": {
     "base_uri": "https://localhost:8080/"
    },
    "id": "Z6DeQ3_zPqwW",
    "outputId": "f093d279-4e03-43f3-8442-b2dd5ed41919"
   },
   "outputs": [
    {
     "name": "stdout",
     "output_type": "stream",
     "text": [
      "{'age': 27, 'city': 'New York'}\n"
     ]
    }
   ],
   "source": [
    "del student[\"name\"]\n",
    "print(student)"
   ]
  },
  {
   "cell_type": "markdown",
   "metadata": {},
   "source": [
    "### Pop function"
   ]
  },
  {
   "cell_type": "markdown",
   "metadata": {},
   "source": [
    "In Python, the pop() method is a dictionary method that is used to remove and return the value associated with a specified key. It also allows you to provide a default value that will be returned if the key is not found in the dictionary."
   ]
  },
  {
   "cell_type": "code",
   "execution_count": 35,
   "metadata": {},
   "outputs": [
    {
     "name": "stdout",
     "output_type": "stream",
     "text": [
      "{'name': 'Alex', 'age': 27, 'city': 'New York', 'courses': ['Math', 'Phyics']}\n"
     ]
    }
   ],
   "source": [
    "student={\"name\":\"Alex\",\"age\":27,\"city\":\"New York\",\"courses\":['Math','Phyics']}\n",
    "print(student)"
   ]
  },
  {
   "cell_type": "code",
   "execution_count": 36,
   "metadata": {
    "colab": {
     "base_uri": "https://localhost:8080/"
    },
    "id": "BDCbV_dIP2iZ",
    "outputId": "45bba1c7-c07c-4786-c15a-7d37d9f1cdc6"
   },
   "outputs": [
    {
     "data": {
      "text/plain": [
       "27"
      ]
     },
     "execution_count": 36,
     "metadata": {},
     "output_type": "execute_result"
    }
   ],
   "source": [
    "student.pop(\"age\")"
   ]
  },
  {
   "cell_type": "code",
   "execution_count": 37,
   "metadata": {},
   "outputs": [
    {
     "name": "stdout",
     "output_type": "stream",
     "text": [
      "{'name': 'Alex', 'city': 'New York', 'courses': ['Math', 'Phyics']}\n"
     ]
    }
   ],
   "source": [
    "print(student)"
   ]
  },
  {
   "cell_type": "markdown",
   "metadata": {},
   "source": [
    "### popitem()"
   ]
  },
  {
   "cell_type": "markdown",
   "metadata": {},
   "source": [
    "The popitem() method in Python is a dictionary method that removes and returns the last key-value pair from the dictionary as a tuple. Note that starting from Python 3.7, the order of key-value pairs in a dictionary is guaranteed to be insertion order, so the \"last\" pair refers to the most recently added one.\n",
    "\n",
    "Here is the basic syntax of the popitem() metho"
   ]
  },
  {
   "cell_type": "code",
   "execution_count": 38,
   "metadata": {},
   "outputs": [
    {
     "name": "stdout",
     "output_type": "stream",
     "text": [
      "{'name': 'Alex', 'age': 27, 'city': 'New York', 'courses': ['Math', 'Phyics']}\n"
     ]
    }
   ],
   "source": [
    "student={\"name\":\"Alex\",\"age\":27,\"city\":\"New York\",\"courses\":['Math','Phyics']}\n",
    "print(student)"
   ]
  },
  {
   "cell_type": "code",
   "execution_count": 39,
   "metadata": {
    "colab": {
     "base_uri": "https://localhost:8080/"
    },
    "id": "nfa8QtgwQDtA",
    "outputId": "c62918b4-4cff-476d-f81e-417e135a1d6a"
   },
   "outputs": [
    {
     "data": {
      "text/plain": [
       "('courses', ['Math', 'Phyics'])"
      ]
     },
     "execution_count": 39,
     "metadata": {},
     "output_type": "execute_result"
    }
   ],
   "source": [
    "student.popitem()"
   ]
  },
  {
   "cell_type": "code",
   "execution_count": 40,
   "metadata": {},
   "outputs": [
    {
     "name": "stdout",
     "output_type": "stream",
     "text": [
      "{'name': 'Alex', 'age': 27, 'city': 'New York'}\n"
     ]
    }
   ],
   "source": [
    "print(student)"
   ]
  },
  {
   "cell_type": "code",
   "execution_count": 41,
   "metadata": {
    "id": "i8ma3o6cRQlx"
   },
   "outputs": [],
   "source": [
    "student={\"name\":\"Max\",\"age\":27,\"city\":\"New York\"}"
   ]
  },
  {
   "cell_type": "code",
   "execution_count": 42,
   "metadata": {
    "colab": {
     "base_uri": "https://localhost:8080/"
    },
    "id": "2CK9-ranQ1Ir",
    "outputId": "ca3658da-99db-412a-83c5-d15e3d2248d7"
   },
   "outputs": [
    {
     "name": "stdout",
     "output_type": "stream",
     "text": [
      "Max\n"
     ]
    }
   ],
   "source": [
    "if \"name\" in student:\n",
    "    print(student[\"name\"])"
   ]
  },
  {
   "cell_type": "code",
   "execution_count": 43,
   "metadata": {
    "colab": {
     "base_uri": "https://localhost:8080/"
    },
    "id": "NXAx5ajCRLBk",
    "outputId": "51a897ae-1b53-4430-f0d0-5b20edf15956"
   },
   "outputs": [
    {
     "name": "stdout",
     "output_type": "stream",
     "text": [
      "Max\n"
     ]
    }
   ],
   "source": [
    "try:\n",
    "    print(student[\"name\"])\n",
    "except:\n",
    "    print(\"error\") "
   ]
  },
  {
   "cell_type": "code",
   "execution_count": 44,
   "metadata": {
    "colab": {
     "base_uri": "https://localhost:8080/"
    },
    "id": "B0f_poUHSQQn",
    "outputId": "efd20b03-42cd-4503-de80-4be4ba85f092"
   },
   "outputs": [
    {
     "name": "stdout",
     "output_type": "stream",
     "text": [
      "error\n"
     ]
    }
   ],
   "source": [
    "try:\n",
    "    print(student[\"lastname\"])\n",
    "except:\n",
    "    print(\"error\") "
   ]
  },
  {
   "cell_type": "code",
   "execution_count": 45,
   "metadata": {
    "colab": {
     "base_uri": "https://localhost:8080/"
    },
    "id": "8J_oTlbrSTpN",
    "outputId": "6af3f4e1-abd7-46ca-fa65-bb25838acc83"
   },
   "outputs": [
    {
     "name": "stdout",
     "output_type": "stream",
     "text": [
      "name\n",
      "age\n",
      "city\n"
     ]
    }
   ],
   "source": [
    "for x in student:\n",
    "    print(x)"
   ]
  },
  {
   "cell_type": "markdown",
   "metadata": {},
   "source": [
    "### How do you declare an empty dictionary in Python?"
   ]
  },
  {
   "cell_type": "code",
   "execution_count": 46,
   "metadata": {},
   "outputs": [
    {
     "name": "stdout",
     "output_type": "stream",
     "text": [
      "{}\n",
      "Length: 0\n",
      "<class 'dict'>\n"
     ]
    }
   ],
   "source": [
    "# {} symbol to initialize dictionary\n",
    "emptyDict = {}\n",
    " \n",
    "# print dictionary\n",
    "print(emptyDict)\n",
    " \n",
    "# print length of dictionary\n",
    "print(\"Length:\", len(emptyDict))\n",
    " \n",
    "# print type\n",
    "print(type(emptyDict))"
   ]
  },
  {
   "cell_type": "code",
   "execution_count": 47,
   "metadata": {},
   "outputs": [
    {
     "name": "stdout",
     "output_type": "stream",
     "text": [
      "{}\n"
     ]
    }
   ],
   "source": [
    "# initialize dictionary with dict argument\n",
    "emptyDict = dict()\n",
    "print(emptyDict)"
   ]
  },
  {
   "cell_type": "markdown",
   "metadata": {},
   "source": [
    "### values()"
   ]
  },
  {
   "cell_type": "markdown",
   "metadata": {},
   "source": [
    "The values() method in Python is a dictionary method that returns a view of all values in the dictionary. \n",
    "The returned view is a dynamic view object, meaning it reflects any changes made to the dictionary in real-time."
   ]
  },
  {
   "cell_type": "code",
   "execution_count": 48,
   "metadata": {
    "colab": {
     "base_uri": "https://localhost:8080/"
    },
    "id": "ZCTS2_VhTseK",
    "outputId": "ee8d2f5c-3ff3-4653-b4fe-901174ac5e91"
   },
   "outputs": [
    {
     "name": "stdout",
     "output_type": "stream",
     "text": [
      "Max\n",
      "27\n",
      "New York\n"
     ]
    }
   ],
   "source": [
    "for y in student.values():\n",
    "    print(y)"
   ]
  },
  {
   "cell_type": "markdown",
   "metadata": {},
   "source": [
    "### items()"
   ]
  },
  {
   "cell_type": "markdown",
   "metadata": {},
   "source": [
    "The items() method in Python is a dictionary method that returns a view of all key-value pairs (items) in the dictionary. Like values(), the returned view is dynamic and reflects any changes made to the dictionary."
   ]
  },
  {
   "cell_type": "code",
   "execution_count": 49,
   "metadata": {
    "colab": {
     "base_uri": "https://localhost:8080/"
    },
    "id": "lgtst4m-T-wD",
    "outputId": "66904b77-f1ba-45d3-dc35-2061fc9a962d"
   },
   "outputs": [
    {
     "name": "stdout",
     "output_type": "stream",
     "text": [
      "name Max\n",
      "age 27\n",
      "city New York\n"
     ]
    }
   ],
   "source": [
    "for key,value in student.items():\n",
    "    print(key,value)"
   ]
  },
  {
   "cell_type": "code",
   "execution_count": 50,
   "metadata": {},
   "outputs": [
    {
     "name": "stdout",
     "output_type": "stream",
     "text": [
      "{'name': 'Max', 'age': 27, 'city': 'New York'}\n"
     ]
    }
   ],
   "source": [
    "print(student)"
   ]
  },
  {
   "cell_type": "code",
   "execution_count": 51,
   "metadata": {
    "id": "CI9EIj7pU6fw"
   },
   "outputs": [],
   "source": [
    "student_copy=student"
   ]
  },
  {
   "cell_type": "code",
   "execution_count": 52,
   "metadata": {
    "colab": {
     "base_uri": "https://localhost:8080/"
    },
    "id": "IBKT0pjQV5nO",
    "outputId": "fefdc336-2a61-4e0f-9649-cb8ed9c565d7"
   },
   "outputs": [
    {
     "name": "stdout",
     "output_type": "stream",
     "text": [
      "{'name': 'Max', 'age': 27, 'city': 'New York'}\n"
     ]
    }
   ],
   "source": [
    "print(student_copy)"
   ]
  },
  {
   "cell_type": "code",
   "execution_count": 53,
   "metadata": {
    "id": "xpWbyICKV9yK"
   },
   "outputs": [],
   "source": [
    "student_copy[\"email\"]=\"max1@xyc.xom\""
   ]
  },
  {
   "cell_type": "code",
   "execution_count": 54,
   "metadata": {
    "colab": {
     "base_uri": "https://localhost:8080/"
    },
    "id": "TKRMxjeVWSMW",
    "outputId": "67589114-5eb3-4811-9666-0edb590b15f4"
   },
   "outputs": [
    {
     "name": "stdout",
     "output_type": "stream",
     "text": [
      "{'name': 'Max', 'age': 27, 'city': 'New York', 'email': 'max1@xyc.xom'}\n",
      "{'name': 'Max', 'age': 27, 'city': 'New York', 'email': 'max1@xyc.xom'}\n"
     ]
    }
   ],
   "source": [
    "print(student_copy)\n",
    "print(student)"
   ]
  },
  {
   "cell_type": "code",
   "execution_count": 55,
   "metadata": {},
   "outputs": [],
   "source": [
    "student={\"name\":\"Max\",\"age\":27,\"city\":\"New York\"}"
   ]
  },
  {
   "cell_type": "markdown",
   "metadata": {},
   "source": [
    "\n",
    "If you want to create a shallow copy of a dictionary in Python, you can use the copy() method or the dict() constructor. A shallow copy creates a new dictionary, but it does not create new objects for the elements within the dictionary. Instead, it copies references to the original objects."
   ]
  },
  {
   "cell_type": "code",
   "execution_count": 56,
   "metadata": {
    "colab": {
     "base_uri": "https://localhost:8080/"
    },
    "id": "Dqm5vDZxWVxc",
    "outputId": "47ee0ba7-3244-4fd7-bd46-450d5660de10"
   },
   "outputs": [
    {
     "name": "stdout",
     "output_type": "stream",
     "text": [
      "{'name': 'Max', 'age': 27, 'city': 'New York', 'email': 'max1@xyc.xom'}\n",
      "{'name': 'Max', 'age': 27, 'city': 'New York'}\n"
     ]
    }
   ],
   "source": [
    "student_copy=student.copy()\n",
    "student_copy[\"email\"]=\"max1@xyc.xom\"\n",
    "print(student_copy)\n",
    "print(student)"
   ]
  },
  {
   "cell_type": "code",
   "execution_count": 57,
   "metadata": {
    "id": "6hRpedB_Wqx6"
   },
   "outputs": [],
   "source": [
    "mydict={\"name\":\"max\",\"age\":27,\"email\":\"mm@xyz.com\"}\n",
    "mydict_2={\"name\":\"max\",\"age\":30,\"city\":\"Boston\"}"
   ]
  },
  {
   "cell_type": "code",
   "execution_count": 58,
   "metadata": {
    "id": "hO1Li0n5YE1Y"
   },
   "outputs": [],
   "source": [
    "mydict.update(mydict_2)"
   ]
  },
  {
   "cell_type": "code",
   "execution_count": 59,
   "metadata": {
    "colab": {
     "base_uri": "https://localhost:8080/"
    },
    "id": "K7M4lAZjYH8_",
    "outputId": "417889af-01f0-4023-c192-fd864fdcca42"
   },
   "outputs": [
    {
     "name": "stdout",
     "output_type": "stream",
     "text": [
      "{'name': 'max', 'age': 30, 'email': 'mm@xyz.com', 'city': 'Boston'}\n"
     ]
    }
   ],
   "source": [
    "print(mydict)"
   ]
  },
  {
   "cell_type": "code",
   "execution_count": 60,
   "metadata": {
    "colab": {
     "base_uri": "https://localhost:8080/"
    },
    "id": "Q-HbSClwYKGc",
    "outputId": "0564cffa-6e59-45d4-a479-37cc6966812d"
   },
   "outputs": [
    {
     "name": "stdout",
     "output_type": "stream",
     "text": [
      "{3: 9, 6: 36, 9: 81}\n"
     ]
    }
   ],
   "source": [
    "my_dict={3:9,6:36,9:81}\n",
    "print(my_dict)"
   ]
  },
  {
   "cell_type": "code",
   "execution_count": 61,
   "metadata": {},
   "outputs": [
    {
     "name": "stdout",
     "output_type": "stream",
     "text": [
      "3 9\n",
      "6 36\n",
      "9 81\n"
     ]
    }
   ],
   "source": [
    "# Iterating through key-value pairs\n",
    "for key, value in my_dict.items():\n",
    "    print(key, value)"
   ]
  },
  {
   "cell_type": "code",
   "execution_count": 62,
   "metadata": {
    "colab": {
     "base_uri": "https://localhost:8080/"
    },
    "id": "AEW85bMNYqNp",
    "outputId": "8ee8761d-e442-4dcd-efb2-8827f262301d"
   },
   "outputs": [
    {
     "name": "stdout",
     "output_type": "stream",
     "text": [
      "9\n"
     ]
    }
   ],
   "source": [
    "value=my_dict[3]\n",
    "print(value)"
   ]
  },
  {
   "cell_type": "code",
   "execution_count": 63,
   "metadata": {
    "colab": {
     "base_uri": "https://localhost:8080/"
    },
    "id": "OtZA--BiY58k",
    "outputId": "8fa93868-89b2-4822-cf6c-054511fabb51"
   },
   "outputs": [
    {
     "name": "stdout",
     "output_type": "stream",
     "text": [
      "{(8, 5): 13}\n"
     ]
    }
   ],
   "source": [
    "mytuples=(8,5)\n",
    "mydict={mytuples:13}\n",
    "print(mydict)"
   ]
  },
  {
   "cell_type": "markdown",
   "metadata": {},
   "source": [
    "You will receive an error if you use \"[]\" to create tuples"
   ]
  },
  {
   "cell_type": "code",
   "execution_count": 64,
   "metadata": {
    "colab": {
     "base_uri": "https://localhost:8080/",
     "height": 204
    },
    "id": "1rYvvl3NZYk5",
    "outputId": "744b5f12-0038-4378-eda4-308f365b1f11"
   },
   "outputs": [
    {
     "ename": "TypeError",
     "evalue": "unhashable type: 'list'",
     "output_type": "error",
     "traceback": [
      "\u001b[1;31m---------------------------------------------------------------------------\u001b[0m",
      "\u001b[1;31mTypeError\u001b[0m                                 Traceback (most recent call last)",
      "\u001b[1;32mC:\\Users\\MELIK~1.MAS\\AppData\\Local\\Temp/ipykernel_29264/2173159736.py\u001b[0m in \u001b[0;36m<module>\u001b[1;34m\u001b[0m\n\u001b[0;32m      1\u001b[0m \u001b[0mmytuples\u001b[0m\u001b[1;33m=\u001b[0m\u001b[1;33m[\u001b[0m\u001b[1;36m8\u001b[0m\u001b[1;33m,\u001b[0m\u001b[1;36m5\u001b[0m\u001b[1;33m]\u001b[0m\u001b[1;33m\u001b[0m\u001b[1;33m\u001b[0m\u001b[0m\n\u001b[1;32m----> 2\u001b[1;33m \u001b[0mmydict\u001b[0m\u001b[1;33m=\u001b[0m\u001b[1;33m{\u001b[0m\u001b[0mmytuples\u001b[0m\u001b[1;33m:\u001b[0m\u001b[1;36m13\u001b[0m\u001b[1;33m}\u001b[0m\u001b[1;33m\u001b[0m\u001b[1;33m\u001b[0m\u001b[0m\n\u001b[0m\u001b[0;32m      3\u001b[0m \u001b[0mprint\u001b[0m\u001b[1;33m(\u001b[0m\u001b[0mmydict\u001b[0m\u001b[1;33m)\u001b[0m\u001b[1;33m\u001b[0m\u001b[1;33m\u001b[0m\u001b[0m\n",
      "\u001b[1;31mTypeError\u001b[0m: unhashable type: 'list'"
     ]
    }
   ],
   "source": [
    "mytuples=[8,5]\n",
    "mydict={mytuples:13}\n",
    "print(mydict)"
   ]
  },
  {
   "cell_type": "code",
   "execution_count": null,
   "metadata": {},
   "outputs": [],
   "source": []
  }
 ],
 "metadata": {
  "colab": {
   "collapsed_sections": [],
   "name": "Dictionaries.ipynb",
   "provenance": []
  },
  "kernelspec": {
   "display_name": "Python 3 (ipykernel)",
   "language": "python",
   "name": "python3"
  },
  "language_info": {
   "codemirror_mode": {
    "name": "ipython",
    "version": 3
   },
   "file_extension": ".py",
   "mimetype": "text/x-python",
   "name": "python",
   "nbconvert_exporter": "python",
   "pygments_lexer": "ipython3",
   "version": "3.11.5"
  }
 },
 "nbformat": 4,
 "nbformat_minor": 4
}
