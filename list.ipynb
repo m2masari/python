{
  "nbformat": 4,
  "nbformat_minor": 0,
  "metadata": {
    "colab": {
      "name": "list.ipynb",
      "provenance": [],
      "collapsed_sections": [],
      "authorship_tag": "ABX9TyMWQrjPAERbje23RPjdL1ff",
      "include_colab_link": true
    },
    "kernelspec": {
      "name": "python3",
      "display_name": "Python 3"
    }
  },
  "cells": [
    {
      "cell_type": "markdown",
      "metadata": {
        "id": "view-in-github",
        "colab_type": "text"
      },
      "source": [
        "<a href=\"https://colab.research.google.com/github/m2masari/python/blob/master/list.ipynb\" target=\"_parent\"><img src=\"https://colab.research.google.com/assets/colab-badge.svg\" alt=\"Open In Colab\"/></a>"
      ]
    },
    {
      "cell_type": "markdown",
      "metadata": {
        "id": "B7X-jzMLzdP3"
      },
      "source": [
        "\r\n",
        "\r\n",
        "STRİNG\r\n",
        "\r\n"
      ]
    },
    {
      "cell_type": "code",
      "metadata": {
        "id": "43-b_aUczYef"
      },
      "source": [
        "#https://www.youtube.com/watch?v=HGOBQPFzWKo&ab_channel=freeCodeCamp.org\r\n",
        "mylist=['banana','apple','cherry']"
      ],
      "execution_count": null,
      "outputs": []
    },
    {
      "cell_type": "code",
      "metadata": {
        "colab": {
          "base_uri": "https://localhost:8080/"
        },
        "id": "0DWfapVgzpfI",
        "outputId": "a977291e-3d9e-495c-f382-b9a7103a78af"
      },
      "source": [
        "print(mylist)"
      ],
      "execution_count": null,
      "outputs": [
        {
          "output_type": "stream",
          "text": [
            "['banana', 'apple', 'cherry']\n"
          ],
          "name": "stdout"
        }
      ]
    },
    {
      "cell_type": "code",
      "metadata": {
        "colab": {
          "base_uri": "https://localhost:8080/"
        },
        "id": "qelxtrxDzwO2",
        "outputId": "b864e0bb-502a-4a7f-eda4-83d1a925f6c4"
      },
      "source": [
        "mylist2=()\r\n",
        "print(mylist2)"
      ],
      "execution_count": null,
      "outputs": [
        {
          "output_type": "stream",
          "text": [
            "()\n"
          ],
          "name": "stdout"
        }
      ]
    },
    {
      "cell_type": "code",
      "metadata": {
        "colab": {
          "base_uri": "https://localhost:8080/"
        },
        "id": "TdXE03eEz3nX",
        "outputId": "b04dc31b-383b-4093-ce2f-494279d8935c"
      },
      "source": [
        "mylist3=[3,True,'APPLE','APPLE']\r\n",
        "print(mylist3)"
      ],
      "execution_count": null,
      "outputs": [
        {
          "output_type": "stream",
          "text": [
            "[3, True, 'APPLE', 'APPLE']\n"
          ],
          "name": "stdout"
        }
      ]
    },
    {
      "cell_type": "code",
      "metadata": {
        "colab": {
          "base_uri": "https://localhost:8080/"
        },
        "id": "TwtHnI050KZH",
        "outputId": "92734d59-3bfa-4fb7-f63f-75217b2f1195"
      },
      "source": [
        "element=mylist[0]\r\n",
        "print(element)"
      ],
      "execution_count": null,
      "outputs": [
        {
          "output_type": "stream",
          "text": [
            "banana\n"
          ],
          "name": "stdout"
        }
      ]
    },
    {
      "cell_type": "code",
      "metadata": {
        "colab": {
          "base_uri": "https://localhost:8080/"
        },
        "id": "DaLQcmTK03ZW",
        "outputId": "10d163b1-343e-40f9-c130-de58111863a7"
      },
      "source": [
        "element=mylist[-3]\r\n",
        "print(element)"
      ],
      "execution_count": null,
      "outputs": [
        {
          "output_type": "stream",
          "text": [
            "banana\n"
          ],
          "name": "stdout"
        }
      ]
    },
    {
      "cell_type": "code",
      "metadata": {
        "colab": {
          "base_uri": "https://localhost:8080/"
        },
        "id": "QaIG-RR81Xru",
        "outputId": "35bf4e68-ef7a-4aba-a77d-ed986bd43c4f"
      },
      "source": [
        "for i in mylist:\r\n",
        "  print(i)"
      ],
      "execution_count": null,
      "outputs": [
        {
          "output_type": "stream",
          "text": [
            "banana\n",
            "apple\n",
            "cherry\n"
          ],
          "name": "stdout"
        }
      ]
    },
    {
      "cell_type": "code",
      "metadata": {
        "colab": {
          "base_uri": "https://localhost:8080/"
        },
        "id": "8OaKFySv1wnf",
        "outputId": "2eba2412-ae6b-40bf-c02d-de2422e8c68c"
      },
      "source": [
        "if \"banana\" in mylist:\r\n",
        "   print(\"yes\")\r\n",
        "else:\r\n",
        "  print(\"no\")"
      ],
      "execution_count": null,
      "outputs": [
        {
          "output_type": "stream",
          "text": [
            "yes\n"
          ],
          "name": "stdout"
        }
      ]
    },
    {
      "cell_type": "code",
      "metadata": {
        "colab": {
          "base_uri": "https://localhost:8080/"
        },
        "id": "emcjmSTW2KTv",
        "outputId": "e64f2f58-0408-4b9e-f9f5-f8b91a6278e9"
      },
      "source": [
        "if \"lemon\" in mylist:\r\n",
        "   print(\"yes\")\r\n",
        "else:\r\n",
        "  print(\"no\")"
      ],
      "execution_count": null,
      "outputs": [
        {
          "output_type": "stream",
          "text": [
            "no\n"
          ],
          "name": "stdout"
        }
      ]
    },
    {
      "cell_type": "code",
      "metadata": {
        "colab": {
          "base_uri": "https://localhost:8080/"
        },
        "id": "3yqgGbdg2SPp",
        "outputId": "496d7c84-359e-484f-b9d7-5b72a96b6f9f"
      },
      "source": [
        "len(mylist)"
      ],
      "execution_count": null,
      "outputs": [
        {
          "output_type": "execute_result",
          "data": {
            "text/plain": [
              "3"
            ]
          },
          "metadata": {
            "tags": []
          },
          "execution_count": 19
        }
      ]
    },
    {
      "cell_type": "code",
      "metadata": {
        "id": "2vG9rT1s3WJg"
      },
      "source": [
        "mylist=['banana','apple','cherry']"
      ],
      "execution_count": null,
      "outputs": []
    },
    {
      "cell_type": "code",
      "metadata": {
        "colab": {
          "base_uri": "https://localhost:8080/"
        },
        "id": "ijSIsSKX2fO_",
        "outputId": "71079541-d06a-4fc0-a77c-29be80d298a5"
      },
      "source": [
        "mylist.append(\"lemon\")\r\n",
        "print(mylist)"
      ],
      "execution_count": null,
      "outputs": [
        {
          "output_type": "stream",
          "text": [
            "['banana', 'apple', 'cherry', 'lemon']\n"
          ],
          "name": "stdout"
        }
      ]
    },
    {
      "cell_type": "code",
      "metadata": {
        "colab": {
          "base_uri": "https://localhost:8080/"
        },
        "id": "PHHG6pJC3DuH",
        "outputId": "14241053-71e4-4f61-f643-9261e9fbad82"
      },
      "source": [
        "mylist.insert(1,\"blueberry\")\r\n",
        "print(mylist)"
      ],
      "execution_count": null,
      "outputs": [
        {
          "output_type": "stream",
          "text": [
            "['banana', 'blueberry', 'apple', 'cherry', 'lemon']\n"
          ],
          "name": "stdout"
        }
      ]
    },
    {
      "cell_type": "code",
      "metadata": {
        "colab": {
          "base_uri": "https://localhost:8080/"
        },
        "id": "cEv91qug3dB8",
        "outputId": "12618994-cbe3-45f7-d479-925014ad12fc"
      },
      "source": [
        "item=mylist.pop()\r\n",
        "print(item)\r\n",
        "print(mylist)"
      ],
      "execution_count": null,
      "outputs": [
        {
          "output_type": "stream",
          "text": [
            "cherry\n",
            "['banana', 'blueberry', 'apple']\n"
          ],
          "name": "stdout"
        }
      ]
    },
    {
      "cell_type": "code",
      "metadata": {
        "id": "VMOXPo6N7SY4"
      },
      "source": [
        "mylist=['banana','apple','cherry']"
      ],
      "execution_count": null,
      "outputs": []
    },
    {
      "cell_type": "code",
      "metadata": {
        "colab": {
          "base_uri": "https://localhost:8080/"
        },
        "id": "QAKa9u3j72VS",
        "outputId": "c22ed3d6-fc24-4d92-bcb5-25a2ccb37ed5"
      },
      "source": [
        "mylist.remove(\"banana\")\r\n",
        "print(mylist)"
      ],
      "execution_count": null,
      "outputs": [
        {
          "output_type": "stream",
          "text": [
            "['apple', 'cherry']\n"
          ],
          "name": "stdout"
        }
      ]
    },
    {
      "cell_type": "code",
      "metadata": {
        "colab": {
          "base_uri": "https://localhost:8080/",
          "height": 178
        },
        "id": "H49zh2BC75cv",
        "outputId": "9038d780-623a-4f7f-b187-edd2bcab1d3c"
      },
      "source": [
        "mylist.remove(\"cherly1\")\r\n",
        "print(mylist)"
      ],
      "execution_count": null,
      "outputs": [
        {
          "output_type": "error",
          "ename": "ValueError",
          "evalue": "ignored",
          "traceback": [
            "\u001b[0;31m---------------------------------------------------------------------------\u001b[0m",
            "\u001b[0;31mValueError\u001b[0m                                Traceback (most recent call last)",
            "\u001b[0;32m<ipython-input-40-577f34c22215>\u001b[0m in \u001b[0;36m<module>\u001b[0;34m()\u001b[0m\n\u001b[0;32m----> 1\u001b[0;31m \u001b[0mmylist\u001b[0m\u001b[0;34m.\u001b[0m\u001b[0mremove\u001b[0m\u001b[0;34m(\u001b[0m\u001b[0;34m\"cherly1\"\u001b[0m\u001b[0;34m)\u001b[0m\u001b[0;34m\u001b[0m\u001b[0;34m\u001b[0m\u001b[0m\n\u001b[0m\u001b[1;32m      2\u001b[0m \u001b[0mprint\u001b[0m\u001b[0;34m(\u001b[0m\u001b[0mmylist\u001b[0m\u001b[0;34m)\u001b[0m\u001b[0;34m\u001b[0m\u001b[0;34m\u001b[0m\u001b[0m\n",
            "\u001b[0;31mValueError\u001b[0m: list.remove(x): x not in list"
          ]
        }
      ]
    },
    {
      "cell_type": "code",
      "metadata": {
        "colab": {
          "base_uri": "https://localhost:8080/"
        },
        "id": "4BMTMh318IwR",
        "outputId": "dac70916-dc50-4dc5-f9a3-da0009551a4b"
      },
      "source": [
        "mylist.clear()\r\n",
        "print(mylist)"
      ],
      "execution_count": null,
      "outputs": [
        {
          "output_type": "stream",
          "text": [
            "[]\n"
          ],
          "name": "stdout"
        }
      ]
    },
    {
      "cell_type": "code",
      "metadata": {
        "colab": {
          "base_uri": "https://localhost:8080/"
        },
        "id": "YTRxsLqg8Roa",
        "outputId": "6e6ae33f-d586-4254-fa2a-c08e5e1a8aab"
      },
      "source": [
        "mylist.reverse()\r\n",
        "print(mylist)"
      ],
      "execution_count": null,
      "outputs": [
        {
          "output_type": "stream",
          "text": [
            "['cherry', 'apple', 'banana']\n"
          ],
          "name": "stdout"
        }
      ]
    },
    {
      "cell_type": "code",
      "metadata": {
        "colab": {
          "base_uri": "https://localhost:8080/"
        },
        "id": "Hu3fJ53dCuiS",
        "outputId": "3b889bae-2970-465b-9362-439c857bdd8b"
      },
      "source": [
        "mylist.sort()\r\n",
        "print(mylist)"
      ],
      "execution_count": null,
      "outputs": [
        {
          "output_type": "stream",
          "text": [
            "['apple', 'banana', 'cherry']\n"
          ],
          "name": "stdout"
        }
      ]
    },
    {
      "cell_type": "code",
      "metadata": {
        "id": "4HPO9tbsC4lr"
      },
      "source": [
        "mylist=[6,4,-4,10,3,2,3,-6,4]"
      ],
      "execution_count": null,
      "outputs": []
    },
    {
      "cell_type": "code",
      "metadata": {
        "colab": {
          "base_uri": "https://localhost:8080/"
        },
        "id": "o_Cdj9gvDKC5",
        "outputId": "937c2e60-b1c8-471e-8268-4b0162b536a6"
      },
      "source": [
        "mylist.sort()\r\n",
        "print(mylist)"
      ],
      "execution_count": null,
      "outputs": [
        {
          "output_type": "stream",
          "text": [
            "[-6, -4, 2, 3, 3, 4, 4, 6, 10]\n"
          ],
          "name": "stdout"
        }
      ]
    },
    {
      "cell_type": "code",
      "metadata": {
        "id": "aKCX-J-kDr7w"
      },
      "source": [
        "mylist=[6,4,-4,10,3,2,3,-6,4]"
      ],
      "execution_count": null,
      "outputs": []
    },
    {
      "cell_type": "code",
      "metadata": {
        "colab": {
          "base_uri": "https://localhost:8080/"
        },
        "id": "UH5VKoWwDMj4",
        "outputId": "5281535a-f626-4855-f1da-24297d14fdfc"
      },
      "source": [
        "mylist1=sorted(mylist)\r\n",
        "print(mylist)\r\n",
        "print(mylist1)"
      ],
      "execution_count": null,
      "outputs": [
        {
          "output_type": "stream",
          "text": [
            "[6, 4, -4, 10, 3, 2, 3, -6, 4]\n",
            "[-6, -4, 2, 3, 3, 4, 4, 6, 10]\n"
          ],
          "name": "stdout"
        }
      ]
    },
    {
      "cell_type": "code",
      "metadata": {
        "colab": {
          "base_uri": "https://localhost:8080/"
        },
        "id": "m3KOcKdLDhZP",
        "outputId": "d976b55d-caeb-4233-8e6c-915186ef5695"
      },
      "source": [
        "mylist1=[0]*5\r\n",
        "print(mylist1)"
      ],
      "execution_count": null,
      "outputs": [
        {
          "output_type": "stream",
          "text": [
            "[0, 0, 0, 0, 0]\n"
          ],
          "name": "stdout"
        }
      ]
    },
    {
      "cell_type": "code",
      "metadata": {
        "colab": {
          "base_uri": "https://localhost:8080/"
        },
        "id": "bS-1ILaIFG-g",
        "outputId": "0c3d1cc1-ea99-41c1-88a9-c2c0f5acf8e6"
      },
      "source": [
        "mylist2=[1,2,3,4,5]\r\n",
        "print(mylist2)"
      ],
      "execution_count": null,
      "outputs": [
        {
          "output_type": "stream",
          "text": [
            "[1, 2, 3, 4, 5]\n"
          ],
          "name": "stdout"
        }
      ]
    },
    {
      "cell_type": "code",
      "metadata": {
        "colab": {
          "base_uri": "https://localhost:8080/"
        },
        "id": "RJgzfnOrFYkZ",
        "outputId": "305681fe-2194-4272-981b-e21144e5b250"
      },
      "source": [
        "new_list=mylist1+mylist2\r\n",
        "print(new_list)"
      ],
      "execution_count": null,
      "outputs": [
        {
          "output_type": "stream",
          "text": [
            "[0, 0, 0, 0, 0, 1, 2, 3, 4, 5]\n"
          ],
          "name": "stdout"
        }
      ]
    },
    {
      "cell_type": "code",
      "metadata": {
        "id": "RRyns_WjFiIx"
      },
      "source": [
        "mylist1=[1,2,3,4,5,6,7,8,9]\r\n",
        "a=mylist1[1:5]"
      ],
      "execution_count": null,
      "outputs": []
    },
    {
      "cell_type": "code",
      "metadata": {
        "colab": {
          "base_uri": "https://localhost:8080/"
        },
        "id": "JId41c2KGqba",
        "outputId": "7253d6b9-56ed-452e-901a-10934573992d"
      },
      "source": [
        "print(a)"
      ],
      "execution_count": null,
      "outputs": [
        {
          "output_type": "stream",
          "text": [
            "[2, 3, 4, 5]\n"
          ],
          "name": "stdout"
        }
      ]
    },
    {
      "cell_type": "code",
      "metadata": {
        "colab": {
          "base_uri": "https://localhost:8080/"
        },
        "id": "vHVWIt1pGvsn",
        "outputId": "fc673766-3ffb-4852-cb3f-57a945e8bba7"
      },
      "source": [
        "a=mylist1[:5]\r\n",
        "print(a)"
      ],
      "execution_count": null,
      "outputs": [
        {
          "output_type": "stream",
          "text": [
            "[1, 2, 3, 4, 5]\n"
          ],
          "name": "stdout"
        }
      ]
    },
    {
      "cell_type": "code",
      "metadata": {
        "colab": {
          "base_uri": "https://localhost:8080/"
        },
        "id": "IXdOy5IVHZ9v",
        "outputId": "01f66c2c-e13a-455a-b1c9-d41c73db5047"
      },
      "source": [
        "a=mylist1[1:]\r\n",
        "print(a)"
      ],
      "execution_count": null,
      "outputs": [
        {
          "output_type": "stream",
          "text": [
            "[2, 3, 4, 5, 6, 7, 8, 9]\n"
          ],
          "name": "stdout"
        }
      ]
    },
    {
      "cell_type": "code",
      "metadata": {
        "colab": {
          "base_uri": "https://localhost:8080/"
        },
        "id": "AKWvMIgKHc73",
        "outputId": "7d394663-2fb9-4aa8-f682-b28a3c46cdf8"
      },
      "source": [
        "a=mylist1[::1]\r\n",
        "print(a)"
      ],
      "execution_count": null,
      "outputs": [
        {
          "output_type": "stream",
          "text": [
            "[1, 2, 3, 4, 5, 6, 7, 8, 9]\n"
          ],
          "name": "stdout"
        }
      ]
    },
    {
      "cell_type": "code",
      "metadata": {
        "colab": {
          "base_uri": "https://localhost:8080/"
        },
        "id": "Cmk1fDQ9HqTJ",
        "outputId": "85f1fdb1-097c-4c69-bb68-a99e181977c3"
      },
      "source": [
        "a=mylist1[::2]\r\n",
        "print(a)"
      ],
      "execution_count": null,
      "outputs": [
        {
          "output_type": "stream",
          "text": [
            "[1, 3, 5, 7, 9]\n"
          ],
          "name": "stdout"
        }
      ]
    },
    {
      "cell_type": "code",
      "metadata": {
        "colab": {
          "base_uri": "https://localhost:8080/"
        },
        "id": "q9Ns7I0NH43p",
        "outputId": "eb4878f3-afc9-431e-fa39-c33c0caec84a"
      },
      "source": [
        "a=mylist1[::-1]\r\n",
        "print(a)"
      ],
      "execution_count": null,
      "outputs": [
        {
          "output_type": "stream",
          "text": [
            "[9, 8, 7, 6, 5, 4, 3, 2, 1]\n"
          ],
          "name": "stdout"
        }
      ]
    },
    {
      "cell_type": "code",
      "metadata": {
        "colab": {
          "base_uri": "https://localhost:8080/"
        },
        "id": "aEmMgRiiIDP6",
        "outputId": "8e7bca70-78c0-4e13-97f9-7942bcc8cfec"
      },
      "source": [
        "list_org=[\"banana\",\"cherry\",\"apple\"]\r\n",
        "print(list_org)"
      ],
      "execution_count": null,
      "outputs": [
        {
          "output_type": "stream",
          "text": [
            "['banana', 'cherry', 'apple']\n"
          ],
          "name": "stdout"
        }
      ]
    },
    {
      "cell_type": "code",
      "metadata": {
        "id": "OFMFPpZNKL3g"
      },
      "source": [
        "list_copy=list_org"
      ],
      "execution_count": null,
      "outputs": []
    },
    {
      "cell_type": "code",
      "metadata": {
        "id": "WSfI4MPkKRxg"
      },
      "source": [
        "list_copy.append(\"lemon\")"
      ],
      "execution_count": null,
      "outputs": []
    },
    {
      "cell_type": "code",
      "metadata": {
        "colab": {
          "base_uri": "https://localhost:8080/"
        },
        "id": "w-K9GfbBKWnw",
        "outputId": "6b38628c-07c5-453c-b962-8ec93f30ff5f"
      },
      "source": [
        "print(list_copy)\r\n",
        "print(list_org)"
      ],
      "execution_count": null,
      "outputs": [
        {
          "output_type": "stream",
          "text": [
            "['banana', 'cherry', 'apple', 'lemon']\n",
            "['banana', 'cherry', 'apple', 'lemon']\n"
          ],
          "name": "stdout"
        }
      ]
    },
    {
      "cell_type": "code",
      "metadata": {
        "colab": {
          "base_uri": "https://localhost:8080/"
        },
        "id": "Qz3an3l8KwIo",
        "outputId": "6ab3752b-ead3-4d72-9164-b67b4b4555b8"
      },
      "source": [
        "list_org=[\"banana\",\"cherry\",\"apple\"]\r\n",
        "print(list_org)"
      ],
      "execution_count": null,
      "outputs": [
        {
          "output_type": "stream",
          "text": [
            "['banana', 'cherry', 'apple']\n"
          ],
          "name": "stdout"
        }
      ]
    },
    {
      "cell_type": "code",
      "metadata": {
        "id": "GBoXbaq7KcHQ"
      },
      "source": [
        "list_copy=list_org.copy()"
      ],
      "execution_count": null,
      "outputs": []
    },
    {
      "cell_type": "code",
      "metadata": {
        "id": "jIcmo8pdKo5Z"
      },
      "source": [
        "list_copy.append(\"lemon\")"
      ],
      "execution_count": null,
      "outputs": []
    },
    {
      "cell_type": "code",
      "metadata": {
        "colab": {
          "base_uri": "https://localhost:8080/"
        },
        "id": "du64S3EtKrRA",
        "outputId": "9f08d6ca-2145-48ac-c670-9cc11eabf383"
      },
      "source": [
        "print(list_copy)\r\n",
        "print(list_org)"
      ],
      "execution_count": null,
      "outputs": [
        {
          "output_type": "stream",
          "text": [
            "['banana', 'cherry', 'apple', 'lemon']\n",
            "['banana', 'cherry', 'apple']\n"
          ],
          "name": "stdout"
        }
      ]
    },
    {
      "cell_type": "code",
      "metadata": {
        "id": "5LwPf5E2KtAf"
      },
      "source": [
        "list_org=[\"banana\",\"cherry\",\"apple\"]\r\n",
        "list_copy=list(list_org)"
      ],
      "execution_count": null,
      "outputs": []
    },
    {
      "cell_type": "code",
      "metadata": {
        "id": "yLoNtYO9LU9h"
      },
      "source": [
        "list_copy.append(\"lemon\")"
      ],
      "execution_count": null,
      "outputs": []
    },
    {
      "cell_type": "code",
      "metadata": {
        "colab": {
          "base_uri": "https://localhost:8080/"
        },
        "id": "ENue4k32LdcI",
        "outputId": "9c99c30d-2f42-4538-b517-7ac66297b48d"
      },
      "source": [
        "print(list_copy)\r\n",
        "print(list_org)"
      ],
      "execution_count": null,
      "outputs": [
        {
          "output_type": "stream",
          "text": [
            "['banana', 'cherry', 'apple', 'lemon']\n",
            "['banana', 'cherry', 'apple']\n"
          ],
          "name": "stdout"
        }
      ]
    },
    {
      "cell_type": "code",
      "metadata": {
        "id": "cdNit6OnLd7o"
      },
      "source": [
        "mylist=[1,2,3,4,5,6]"
      ],
      "execution_count": null,
      "outputs": []
    },
    {
      "cell_type": "code",
      "metadata": {
        "colab": {
          "base_uri": "https://localhost:8080/"
        },
        "id": "NTOYdaJCOAeK",
        "outputId": "9221857a-ab85-45e9-a060-4434c65187d8"
      },
      "source": [
        "b=[i*i for i in mylist]\r\n",
        "print(b)"
      ],
      "execution_count": null,
      "outputs": [
        {
          "output_type": "stream",
          "text": [
            "[1, 4, 9, 16, 25, 36]\n"
          ],
          "name": "stdout"
        }
      ]
    },
    {
      "cell_type": "code",
      "metadata": {
        "colab": {
          "base_uri": "https://localhost:8080/"
        },
        "id": "74OJ6wyBOHma",
        "outputId": "5d40d3aa-b579-420e-80b9-4cba3509553a"
      },
      "source": [
        "mylist=[1,2,3,4,5,6,7,8,9,10]\r\n",
        "new_list=list(filter(lambda x:x%2==0,mylist))\r\n",
        "print(mylist)\r\n",
        "print(new_list)"
      ],
      "execution_count": null,
      "outputs": [
        {
          "output_type": "stream",
          "text": [
            "[1, 2, 3, 4, 5, 6, 7, 8, 9, 10]\n",
            "[2, 4, 6, 8, 10]\n"
          ],
          "name": "stdout"
        }
      ]
    },
    {
      "cell_type": "code",
      "metadata": {
        "colab": {
          "base_uri": "https://localhost:8080/"
        },
        "id": "LZoj3POFUNuI",
        "outputId": "5463e00a-6642-4df9-ac2f-4bc178b3189e"
      },
      "source": [
        "even_squares = [x*x  for x in mylist if x % 2 == 0]\r\n",
        "print(even_squares)"
      ],
      "execution_count": null,
      "outputs": [
        {
          "output_type": "stream",
          "text": [
            "[4, 16, 36, 64, 100]\n"
          ],
          "name": "stdout"
        }
      ]
    },
    {
      "cell_type": "code",
      "metadata": {
        "id": "tWP5lhDBUneA",
        "colab": {
          "base_uri": "https://localhost:8080/"
        },
        "outputId": "3664ce4e-b7da-402a-80a3-d37190c5b1a4"
      },
      "source": [
        "lst = ['a', 'ab', 'abc', 'bac','2cab','23  4ab']\r\n",
        "[k for k in lst if 'ab' in k]"
      ],
      "execution_count": 113,
      "outputs": [
        {
          "output_type": "execute_result",
          "data": {
            "text/plain": [
              "['ab', 'abc', '2cab', '23  4ab']"
            ]
          },
          "metadata": {
            "tags": []
          },
          "execution_count": 113
        }
      ]
    },
    {
      "cell_type": "code",
      "metadata": {
        "id": "zc4dRV8iXFFC"
      },
      "source": [
        "#filtering elements from list of lists in Python?\r\n",
        "a = [[1,2,3],[4,5,6]]"
      ],
      "execution_count": null,
      "outputs": []
    },
    {
      "cell_type": "code",
      "metadata": {
        "colab": {
          "base_uri": "https://localhost:8080/"
        },
        "id": "pF4TDTZiXlSb",
        "outputId": "ecc73495-f88c-4d5a-be37-d96ef456a8f0"
      },
      "source": [
        "a = [[1, 2, 3], [4, 5, 6]]\r\n",
        "[item for item in a if sum(item) > 10]"
      ],
      "execution_count": 114,
      "outputs": [
        {
          "output_type": "execute_result",
          "data": {
            "text/plain": [
              "[[4, 5, 6]]"
            ]
          },
          "metadata": {
            "tags": []
          },
          "execution_count": 114
        }
      ]
    },
    {
      "cell_type": "code",
      "metadata": {
        "id": "0tO5kryFXncB"
      },
      "source": [
        ""
      ],
      "execution_count": null,
      "outputs": []
    }
  ]
}