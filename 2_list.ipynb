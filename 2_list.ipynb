{
 "cells": [
  {
   "cell_type": "markdown",
   "metadata": {},
   "source": [
    "# Lists:ordered , mutable allows duplicate elements\n",
    "\n",
    "- Python lists are dynamic data structures, allowing for modifications to their elements. You can alter individual elements, replace them, and rearrange the order of elements even after the list has been initialized"
   ]
  },
  {
   "cell_type": "code",
   "execution_count": 4,
   "metadata": {
    "id": "43-b_aUczYef"
   },
   "outputs": [],
   "source": [
    "my_list=[\"banana\",\"apple\",\"cherry\"]"
   ]
  },
  {
   "cell_type": "code",
   "execution_count": 5,
   "metadata": {
    "colab": {
     "base_uri": "https://localhost:8080/"
    },
    "id": "zLv69NZaqjG6",
    "outputId": "18d52685-690a-44e7-8347-7ff248ff3d1f"
   },
   "outputs": [
    {
     "data": {
      "text/plain": [
       "list"
      ]
     },
     "execution_count": 5,
     "metadata": {},
     "output_type": "execute_result"
    }
   ],
   "source": [
    "type(my_list)"
   ]
  },
  {
   "cell_type": "code",
   "execution_count": 6,
   "metadata": {
    "colab": {
     "base_uri": "https://localhost:8080/"
    },
    "id": "0DWfapVgzpfI",
    "outputId": "c6b1225e-9437-497e-d07d-ef653f63a5c5"
   },
   "outputs": [
    {
     "name": "stdout",
     "output_type": "stream",
     "text": [
      "['banana', 'apple', 'cherry']\n"
     ]
    }
   ],
   "source": [
    "print(my_list)"
   ]
  },
  {
   "cell_type": "code",
   "execution_count": 7,
   "metadata": {
    "colab": {
     "base_uri": "https://localhost:8080/"
    },
    "id": "qelxtrxDzwO2",
    "outputId": "b10e13a3-51b5-460a-a551-065326607260"
   },
   "outputs": [
    {
     "data": {
      "text/plain": [
       "list"
      ]
     },
     "execution_count": 7,
     "metadata": {},
     "output_type": "execute_result"
    }
   ],
   "source": [
    "#creating empty list \n",
    "list2=[]\n",
    "type(list2)"
   ]
  },
  {
   "cell_type": "code",
   "execution_count": 8,
   "metadata": {
    "colab": {
     "base_uri": "https://localhost:8080/"
    },
    "id": "TdXE03eEz3nX",
    "outputId": "3697d76a-3089-4348-d630-fdb4c07eb917"
   },
   "outputs": [
    {
     "name": "stdout",
     "output_type": "stream",
     "text": [
      "[3, True, 'APPLE', 'APPLE']\n"
     ]
    }
   ],
   "source": [
    "#Duplicates allowwed\n",
    "list3=[3,True,'APPLE','APPLE'] \n",
    "print(list3)"
   ]
  },
  {
   "cell_type": "markdown",
   "metadata": {},
   "source": [
    "### Index and slicing in list"
   ]
  },
  {
   "cell_type": "markdown",
   "metadata": {},
   "source": [
    "#### You can use slicing to extract a portion of a list. The basic syntax for list slicing is as follows:"
   ]
  },
  {
   "cell_type": "markdown",
   "metadata": {},
   "source": [
    "new_list = old_list[start:stop:step]"
   ]
  },
  {
   "cell_type": "code",
   "execution_count": 13,
   "metadata": {
    "colab": {
     "base_uri": "https://localhost:8080/"
    },
    "id": "TwtHnI050KZH",
    "outputId": "aea082a8-1026-4367-f29a-9379ee1cc403"
   },
   "outputs": [
    {
     "name": "stdout",
     "output_type": "stream",
     "text": [
      "['a', 'bc', 15, '%%mm', 'John', 'apple', 'xx1', 3425.675]\n",
      "a\n"
     ]
    }
   ],
   "source": [
    "my_list=[\"a\",'bc',15,'%%mm','John','apple','xx1',3425.675]\n",
    "print(my_list)\n",
    "## Extract elements from index 0 to 5 (exclusive)\n",
    "element=my_list[0]\n",
    "print(element)"
   ]
  },
  {
   "cell_type": "code",
   "execution_count": 16,
   "metadata": {},
   "outputs": [
    {
     "name": "stdout",
     "output_type": "stream",
     "text": [
      "bc\n"
     ]
    }
   ],
   "source": [
    "# Extract element from index 1  \n",
    "element=my_list[1]\n",
    "print(element)"
   ]
  },
  {
   "cell_type": "code",
   "execution_count": 17,
   "metadata": {},
   "outputs": [
    {
     "name": "stdout",
     "output_type": "stream",
     "text": [
      "15\n"
     ]
    }
   ],
   "source": [
    "# Extract element from index 2  \n",
    "element=my_list[2]\n",
    "print(element)"
   ]
  },
  {
   "cell_type": "markdown",
   "metadata": {},
   "source": [
    "### Negative indexing in a list allows you to access elements from the end of the list by using negative numbers as indices."
   ]
  },
  {
   "cell_type": "code",
   "execution_count": 23,
   "metadata": {
    "colab": {
     "base_uri": "https://localhost:8080/"
    },
    "id": "DaLQcmTK03ZW",
    "outputId": "02c60488-093c-41e2-a4d0-310396485d2f"
   },
   "outputs": [
    {
     "name": "stdout",
     "output_type": "stream",
     "text": [
      "3425.675\n"
     ]
    }
   ],
   "source": [
    "#the index -1 refers to the last element in the list,\n",
    "element=my_list[-1]\n",
    "print(element)"
   ]
  },
  {
   "cell_type": "code",
   "execution_count": 24,
   "metadata": {},
   "outputs": [
    {
     "name": "stdout",
     "output_type": "stream",
     "text": [
      "xx1\n"
     ]
    }
   ],
   "source": [
    "# refers to the second-to-last element\n",
    "element=my_list[-2]\n",
    "print(element)"
   ]
  },
  {
   "cell_type": "code",
   "execution_count": 25,
   "metadata": {},
   "outputs": [
    {
     "name": "stdout",
     "output_type": "stream",
     "text": [
      "apple\n"
     ]
    }
   ],
   "source": [
    "# refers to the third-to-last element\n",
    "element=my_list[-3]\n",
    "print(element)"
   ]
  },
  {
   "cell_type": "code",
   "execution_count": 26,
   "metadata": {},
   "outputs": [
    {
     "name": "stdout",
     "output_type": "stream",
     "text": [
      "[15, '%%mm', 'John']\n"
     ]
    }
   ],
   "source": [
    "# Extract elements from index 2 to 5 (exclusive)\n",
    "print(my_list[2:5])"
   ]
  },
  {
   "cell_type": "code",
   "execution_count": 27,
   "metadata": {},
   "outputs": [
    {
     "name": "stdout",
     "output_type": "stream",
     "text": [
      "['apple', 'xx1', 3425.675]\n"
     ]
    }
   ],
   "source": [
    "# Extract elements from index 5 to end\n",
    "print(my_list[5:])"
   ]
  },
  {
   "cell_type": "code",
   "execution_count": 28,
   "metadata": {},
   "outputs": [
    {
     "name": "stdout",
     "output_type": "stream",
     "text": [
      "['a', 'bc', 15]\n"
     ]
    }
   ],
   "source": [
    "# slice that includes all elements from the beginning of the list (index 0) up to, but not including, the element at index 3.\n",
    "print(my_list[:3])"
   ]
  },
  {
   "cell_type": "code",
   "execution_count": 29,
   "metadata": {},
   "outputs": [
    {
     "name": "stdout",
     "output_type": "stream",
     "text": [
      "['a', 'bc', 15, '%%mm', 'John', 'apple', 'xx1', 3425.675]\n"
     ]
    }
   ],
   "source": [
    "# Extract every  element\n",
    "a=my_list[::1]\n",
    "print(a)"
   ]
  },
  {
   "cell_type": "code",
   "execution_count": 30,
   "metadata": {},
   "outputs": [
    {
     "name": "stdout",
     "output_type": "stream",
     "text": [
      "['a', 15, 'John', 'xx1']\n"
     ]
    }
   ],
   "source": [
    "# Extract every second element\n",
    "a=my_list[::2]\n",
    "print(a)"
   ]
  },
  {
   "cell_type": "markdown",
   "metadata": {},
   "source": [
    "####  In Python, you can use a for loop to iterate over the elements of a list. Here's a basic syntax for a for loop:"
   ]
  },
  {
   "cell_type": "code",
   "execution_count": 31,
   "metadata": {},
   "outputs": [],
   "source": [
    "my_list=[\"a\",'bc',15,'%%mm','John','apple','xx1',3425.675]"
   ]
  },
  {
   "cell_type": "markdown",
   "metadata": {},
   "source": [
    "Here's a basic syntax for a for loop:"
   ]
  },
  {
   "cell_type": "code",
   "execution_count": 32,
   "metadata": {
    "colab": {
     "base_uri": "https://localhost:8080/"
    },
    "id": "QaIG-RR81Xru",
    "outputId": "0a235b0f-83eb-4c46-e751-c934ce547c95"
   },
   "outputs": [
    {
     "name": "stdout",
     "output_type": "stream",
     "text": [
      "a\n",
      "bc\n",
      "15\n",
      "%%mm\n",
      "John\n",
      "apple\n",
      "xx1\n",
      "3425.675\n"
     ]
    }
   ],
   "source": [
    "for i in my_list:\n",
    "  print(i)"
   ]
  },
  {
   "cell_type": "code",
   "execution_count": 33,
   "metadata": {
    "colab": {
     "base_uri": "https://localhost:8080/"
    },
    "id": "8OaKFySv1wnf",
    "outputId": "63218a81-60de-449e-9a21-ba8bfc8e6a37"
   },
   "outputs": [
    {
     "name": "stdout",
     "output_type": "stream",
     "text": [
      "yes\n"
     ]
    }
   ],
   "source": [
    "if \"apple\" in my_list:\n",
    "   print(\"yes\")\n",
    "else:\n",
    "  print(\"no\")"
   ]
  },
  {
   "cell_type": "code",
   "execution_count": 34,
   "metadata": {
    "colab": {
     "base_uri": "https://localhost:8080/"
    },
    "id": "emcjmSTW2KTv",
    "outputId": "ea3cdef5-c794-4095-b763-fc77240866fe"
   },
   "outputs": [
    {
     "name": "stdout",
     "output_type": "stream",
     "text": [
      "no\n"
     ]
    }
   ],
   "source": [
    "if \"lemon\" in my_list:\n",
    "   print(\"yes\")\n",
    "else:\n",
    "  print(\"no\")"
   ]
  },
  {
   "cell_type": "code",
   "execution_count": 35,
   "metadata": {
    "colab": {
     "base_uri": "https://localhost:8080/"
    },
    "id": "3yqgGbdg2SPp",
    "outputId": "51bfe497-90f8-4fda-d9cb-bdbda805d6f0"
   },
   "outputs": [
    {
     "data": {
      "text/plain": [
       "8"
      ]
     },
     "execution_count": 35,
     "metadata": {},
     "output_type": "execute_result"
    }
   ],
   "source": [
    "len(my_list)"
   ]
  },
  {
   "cell_type": "markdown",
   "metadata": {},
   "source": [
    "### Add Elements to a List"
   ]
  },
  {
   "cell_type": "code",
   "execution_count": 36,
   "metadata": {
    "colab": {
     "base_uri": "https://localhost:8080/"
    },
    "id": "ijSIsSKX2fO_",
    "outputId": "ee019330-3aca-4408-a586-48ece3a38497"
   },
   "outputs": [
    {
     "name": "stdout",
     "output_type": "stream",
     "text": [
      "['a', 'bc', 15, '%%mm', 'lemon']\n"
     ]
    }
   ],
   "source": [
    "#using append\n",
    "list=[\"a\",'bc',15,'%%mm']\n",
    "list.append(\"lemon\")\n",
    "print(list)"
   ]
  },
  {
   "cell_type": "code",
   "execution_count": 37,
   "metadata": {},
   "outputs": [
    {
     "name": "stdout",
     "output_type": "stream",
     "text": [
      "['a', 'bc', 15, '%%mm']\n",
      "['12', 'mz']\n",
      "new list1: ['a', 'bc', 15, '%%mm', '12', 'mz']\n"
     ]
    }
   ],
   "source": [
    "#using extend\n",
    "list1=[\"a\",'bc',15,'%%mm']\n",
    "print(list1)\n",
    "list2=[\"12\",'mz']\n",
    "print(list2)\n",
    "list1.extend(list2)\n",
    "print(\"new list1:\",list1)"
   ]
  },
  {
   "cell_type": "code",
   "execution_count": 39,
   "metadata": {
    "colab": {
     "base_uri": "https://localhost:8080/"
    },
    "id": "PHHG6pJC3DuH",
    "outputId": "2afe25aa-fbe6-4eb9-b7b0-5d43245b8487"
   },
   "outputs": [
    {
     "name": "stdout",
     "output_type": "stream",
     "text": [
      "['a', 'bc', 15, '%%mm']\n",
      "['a', 'John', 'John', 'bc', 15, '%%mm']\n"
     ]
    }
   ],
   "source": [
    "#insert specific location\n",
    "list1=[\"a\",'bc',15,'%%mm']\n",
    "print(list1)\n",
    "list.insert(1,\"John\")\n",
    "print(list)"
   ]
  },
  {
   "cell_type": "markdown",
   "metadata": {},
   "source": [
    "### pop return last elemen"
   ]
  },
  {
   "cell_type": "code",
   "execution_count": 40,
   "metadata": {
    "colab": {
     "base_uri": "https://localhost:8080/"
    },
    "id": "cEv91qug3dB8",
    "outputId": "5bcadf04-1319-406b-90cf-2e0efc8f6535"
   },
   "outputs": [
    {
     "name": "stdout",
     "output_type": "stream",
     "text": [
      "%%mm\n",
      "['a', 'bc', 15]\n"
     ]
    }
   ],
   "source": [
    "list1=[\"a\",'bc',15,'%%mm']\n",
    "item=list1.pop()\n",
    "print(item)\n",
    "print(list1)"
   ]
  },
  {
   "cell_type": "code",
   "execution_count": 41,
   "metadata": {
    "colab": {
     "base_uri": "https://localhost:8080/"
    },
    "id": "QAKa9u3j72VS",
    "outputId": "38305188-4fdd-45dc-cace-e668819c147f"
   },
   "outputs": [
    {
     "name": "stdout",
     "output_type": "stream",
     "text": [
      "['a', 15, '%%mm']\n"
     ]
    }
   ],
   "source": [
    "list1=[\"a\",'bc',15,'%%mm']\n",
    "list1.remove(\"bc\")\n",
    "print(list1)"
   ]
  },
  {
   "cell_type": "markdown",
   "metadata": {},
   "source": [
    "remove first elemen"
   ]
  },
  {
   "cell_type": "code",
   "execution_count": 43,
   "metadata": {
    "colab": {
     "base_uri": "https://localhost:8080/",
     "height": 186
    },
    "id": "H49zh2BC75cv",
    "outputId": "8862834f-c922-443c-e573-a1b9562f7a66"
   },
   "outputs": [
    {
     "name": "stdout",
     "output_type": "stream",
     "text": [
      "['a', 'bc', 15, '%%mm']\n",
      "['bc', 15, '%%mm']\n"
     ]
    }
   ],
   "source": [
    "list1=[\"a\",'bc',15,'%%mm']\n",
    "print(list1)\n",
    "list1.remove(\"a\")\n",
    "print(list1)"
   ]
  },
  {
   "cell_type": "code",
   "execution_count": 44,
   "metadata": {
    "colab": {
     "base_uri": "https://localhost:8080/"
    },
    "id": "4BMTMh318IwR",
    "outputId": "1e93c1ba-189d-442e-a137-a063ad3cb56f"
   },
   "outputs": [
    {
     "name": "stdout",
     "output_type": "stream",
     "text": [
      "[]\n"
     ]
    }
   ],
   "source": [
    "list1.clear()\n",
    "print(list1)"
   ]
  },
  {
   "cell_type": "markdown",
   "metadata": {},
   "source": [
    "### In Python, you can reverse a list using the reverse() method or by using slicing. Here are both methods:"
   ]
  },
  {
   "cell_type": "code",
   "execution_count": 46,
   "metadata": {
    "colab": {
     "base_uri": "https://localhost:8080/"
    },
    "id": "YTRxsLqg8Roa",
    "outputId": "1a3b4c8d-8038-4480-d3e9-a433a9502336"
   },
   "outputs": [
    {
     "name": "stdout",
     "output_type": "stream",
     "text": [
      "['a', 'bc', 15, '%%mm']\n",
      "reversed list: ['%%mm', 15, 'bc', 'a']\n"
     ]
    }
   ],
   "source": [
    "list1=[\"a\",'bc',15,'%%mm']\n",
    "print(list1)\n",
    "list1.reverse()\n",
    "print(\"reversed list:\",list1)"
   ]
  },
  {
   "cell_type": "markdown",
   "metadata": {},
   "source": [
    "If you want to sort the original list in-place (modify the original list), you can use the sort() method of a list:"
   ]
  },
  {
   "cell_type": "code",
   "execution_count": 47,
   "metadata": {
    "colab": {
     "base_uri": "https://localhost:8080/"
    },
    "id": "Hu3fJ53dCuiS",
    "outputId": "9aff9301-f82d-4c2e-b6da-4d530b0dc4c4"
   },
   "outputs": [
    {
     "name": "stdout",
     "output_type": "stream",
     "text": [
      "['z', 'cherry', 'a1', 'gx33']\n",
      "sorted list: ['a1', 'cherry', 'gx33', 'z']\n"
     ]
    }
   ],
   "source": [
    "list1=['z','cherry','a1','gx33']\n",
    "print(list1)\n",
    "list1.sort()\n",
    "print(\"sorted list:\",list1)"
   ]
  },
  {
   "cell_type": "code",
   "execution_count": 48,
   "metadata": {
    "colab": {
     "base_uri": "https://localhost:8080/"
    },
    "id": "o_Cdj9gvDKC5",
    "outputId": "8caeea96-b228-4ddb-93fa-82e3e580d3aa"
   },
   "outputs": [
    {
     "name": "stdout",
     "output_type": "stream",
     "text": [
      "[4, 10, -7, 12, 7, -3, 3, 4, -5, 4]\n",
      "sorted list: [-7, -5, -3, 3, 4, 4, 4, 7, 10, 12]\n"
     ]
    }
   ],
   "source": [
    "list1=[4,10,-7,12,7,-3,3,4,-5,4]\n",
    "print(list1)\n",
    "list1.sort()\n",
    "print(\"sorted list:\",list1)"
   ]
  },
  {
   "cell_type": "markdown",
   "metadata": {},
   "source": [
    "In this example, sorted(original_list) returns a new list that is a sorted version of originallist. The original list remains unchanged."
   ]
  },
  {
   "cell_type": "code",
   "execution_count": 49,
   "metadata": {
    "colab": {
     "base_uri": "https://localhost:8080/"
    },
    "id": "UH5VKoWwDMj4",
    "outputId": "5281535a-f626-4855-f1da-24297d14fdfc"
   },
   "outputs": [
    {
     "name": "stdout",
     "output_type": "stream",
     "text": [
      "[4, 10, -7, 12, 7, -3, 3, 4, -5, 4]\n",
      "[-7, -5, -3, 3, 4, 4, 4, 7, 10, 12]\n"
     ]
    }
   ],
   "source": [
    "list1=[4,10,-7,12,7,-3,3,4,-5,4]\n",
    "list2=sorted(list1)\n",
    "print(list1)\n",
    "print(list2)"
   ]
  },
  {
   "cell_type": "markdown",
   "metadata": {},
   "source": [
    "in Python, when you use the \"*\" operator with a list, it repeats the elements of the list a specified number of times."
   ]
  },
  {
   "cell_type": "code",
   "execution_count": 50,
   "metadata": {
    "colab": {
     "base_uri": "https://localhost:8080/"
    },
    "id": "m3KOcKdLDhZP",
    "outputId": "d976b55d-caeb-4233-8e6c-915186ef5695"
   },
   "outputs": [
    {
     "name": "stdout",
     "output_type": "stream",
     "text": [
      "[0, 0, 0, 0, 0]\n"
     ]
    }
   ],
   "source": [
    "list1=[0]*5\n",
    "print(list1)"
   ]
  },
  {
   "cell_type": "code",
   "execution_count": 51,
   "metadata": {
    "colab": {
     "base_uri": "https://localhost:8080/"
    },
    "id": "bS-1ILaIFG-g",
    "outputId": "0c3d1cc1-ea99-41c1-88a9-c2c0f5acf8e6"
   },
   "outputs": [
    {
     "name": "stdout",
     "output_type": "stream",
     "text": [
      "[1, 2, 3, 4, 5, 1, 2, 3, 4, 5, 1, 2, 3, 4, 5]\n"
     ]
    }
   ],
   "source": [
    "list1=[1,2,3,4,5]*3\n",
    "print(list1)"
   ]
  },
  {
   "cell_type": "code",
   "execution_count": 52,
   "metadata": {
    "colab": {
     "base_uri": "https://localhost:8080/"
    },
    "id": "RJgzfnOrFYkZ",
    "outputId": "305681fe-2194-4272-981b-e21144e5b250"
   },
   "outputs": [
    {
     "name": "stdout",
     "output_type": "stream",
     "text": [
      "[1, 2, 3, 4, 5]\n",
      "[0, 0, 0, 0, 0]\n",
      "[1, 2, 3, 4, 5, 0, 0, 0, 0, 0]\n"
     ]
    }
   ],
   "source": [
    "list1=[1,2,3,4,5]\n",
    "print(list1)\n",
    "list2=[0]*5\n",
    "print(list2)\n",
    "new_list=list1+list2\n",
    "print(new_list)"
   ]
  },
  {
   "cell_type": "code",
   "execution_count": 53,
   "metadata": {
    "colab": {
     "base_uri": "https://localhost:8080/"
    },
    "id": "AKWvMIgKHc73",
    "outputId": "e7065d31-2bca-4e5d-e071-442fc4f8c305"
   },
   "outputs": [
    {
     "name": "stdout",
     "output_type": "stream",
     "text": [
      "[1, 2, 3, 4, 5]\n"
     ]
    }
   ],
   "source": [
    "a=list1[::1]\n",
    "print(a)"
   ]
  },
  {
   "cell_type": "markdown",
   "metadata": {},
   "source": [
    "### COPY() LIST"
   ]
  },
  {
   "cell_type": "code",
   "execution_count": 54,
   "metadata": {
    "colab": {
     "base_uri": "https://localhost:8080/"
    },
    "id": "aEmMgRiiIDP6",
    "outputId": "709e5ddd-0396-4a25-f587-05fd664b7109"
   },
   "outputs": [
    {
     "name": "stdout",
     "output_type": "stream",
     "text": [
      "['banana', 'cherry', 'apple']\n"
     ]
    }
   ],
   "source": [
    "list_org=[\"banana\",\"cherry\",\"apple\"]\n",
    "print(list_org)"
   ]
  },
  {
   "cell_type": "code",
   "execution_count": 55,
   "metadata": {
    "id": "OFMFPpZNKL3g"
   },
   "outputs": [],
   "source": [
    "list_copy=list_org"
   ]
  },
  {
   "cell_type": "markdown",
   "metadata": {},
   "source": [
    "As you can see, when we modify the original list, the shallow copy is  affected and changed"
   ]
  },
  {
   "cell_type": "code",
   "execution_count": 56,
   "metadata": {
    "id": "WSfI4MPkKRxg"
   },
   "outputs": [],
   "source": [
    "list_copy.append(\"lemon\")"
   ]
  },
  {
   "cell_type": "code",
   "execution_count": 57,
   "metadata": {
    "colab": {
     "base_uri": "https://localhost:8080/"
    },
    "id": "w-K9GfbBKWnw",
    "outputId": "fb1ef210-d4b7-4aed-ca9e-a06246ce387c"
   },
   "outputs": [
    {
     "name": "stdout",
     "output_type": "stream",
     "text": [
      "['banana', 'cherry', 'apple', 'lemon']\n",
      "['banana', 'cherry', 'apple', 'lemon']\n"
     ]
    }
   ],
   "source": [
    "print(list_copy)\n",
    "print(list_org)"
   ]
  },
  {
   "cell_type": "code",
   "execution_count": 58,
   "metadata": {
    "colab": {
     "base_uri": "https://localhost:8080/"
    },
    "id": "Qz3an3l8KwIo",
    "outputId": "0d56db4b-5df4-40c2-cb88-b0bc2c55ea40"
   },
   "outputs": [
    {
     "name": "stdout",
     "output_type": "stream",
     "text": [
      "['banana', 'cherry', 'apple']\n"
     ]
    }
   ],
   "source": [
    "list_org=[\"banana\",\"cherry\",\"apple\"]\n",
    "print(list_org)"
   ]
  },
  {
   "cell_type": "markdown",
   "metadata": {},
   "source": [
    "\n",
    "In Python, the copy() method for lists is used to create a shallow copy of a list. This means that a new list is created, and the elements of the original list are copied to the new list."
   ]
  },
  {
   "cell_type": "code",
   "execution_count": 59,
   "metadata": {
    "id": "GBoXbaq7KcHQ"
   },
   "outputs": [],
   "source": [
    "list_copy=list_org.copy()"
   ]
  },
  {
   "cell_type": "code",
   "execution_count": 60,
   "metadata": {
    "id": "jIcmo8pdKo5Z"
   },
   "outputs": [],
   "source": [
    "list_copy.append(\"lemon\")"
   ]
  },
  {
   "cell_type": "markdown",
   "metadata": {},
   "source": [
    "As you can see, when we modify the original list, the shallow copy is not affected. "
   ]
  },
  {
   "cell_type": "code",
   "execution_count": 61,
   "metadata": {
    "colab": {
     "base_uri": "https://localhost:8080/"
    },
    "id": "du64S3EtKrRA",
    "outputId": "ad90fdce-48c5-4b3e-9757-11f2d635dbe7"
   },
   "outputs": [
    {
     "name": "stdout",
     "output_type": "stream",
     "text": [
      "['banana', 'cherry', 'apple', 'lemon']\n",
      "['banana', 'cherry', 'apple']\n"
     ]
    }
   ],
   "source": [
    "print(list_copy)\n",
    "print(list_org)"
   ]
  },
  {
   "cell_type": "markdown",
   "metadata": {},
   "source": [
    "Another way of copying the list"
   ]
  },
  {
   "cell_type": "code",
   "execution_count": 62,
   "metadata": {
    "id": "5LwPf5E2KtAf"
   },
   "outputs": [
    {
     "ename": "TypeError",
     "evalue": "'list' object is not callable",
     "output_type": "error",
     "traceback": [
      "\u001b[1;31m---------------------------------------------------------------------------\u001b[0m",
      "\u001b[1;31mTypeError\u001b[0m                                 Traceback (most recent call last)",
      "\u001b[1;32mC:\\Users\\MELIK~1.MAS\\AppData\\Local\\Temp/ipykernel_4204/3920883386.py\u001b[0m in \u001b[0;36m<module>\u001b[1;34m\u001b[0m\n\u001b[0;32m      1\u001b[0m \u001b[0mlist_org\u001b[0m\u001b[1;33m=\u001b[0m\u001b[1;33m[\u001b[0m\u001b[1;34m\"banana\"\u001b[0m\u001b[1;33m,\u001b[0m\u001b[1;34m\"cherry\"\u001b[0m\u001b[1;33m,\u001b[0m\u001b[1;34m\"apple\"\u001b[0m\u001b[1;33m]\u001b[0m\u001b[1;33m\u001b[0m\u001b[1;33m\u001b[0m\u001b[0m\n\u001b[1;32m----> 2\u001b[1;33m \u001b[0mlist_copy\u001b[0m\u001b[1;33m=\u001b[0m\u001b[0mlist\u001b[0m\u001b[1;33m(\u001b[0m\u001b[0mlist_org\u001b[0m\u001b[1;33m)\u001b[0m\u001b[1;33m\u001b[0m\u001b[1;33m\u001b[0m\u001b[0m\n\u001b[0m",
      "\u001b[1;31mTypeError\u001b[0m: 'list' object is not callable"
     ]
    }
   ],
   "source": [
    "list_org=[\"banana\",\"cherry\",\"apple\"]\n",
    "list_copy=list(list_org)"
   ]
  },
  {
   "cell_type": "code",
   "execution_count": 63,
   "metadata": {
    "colab": {
     "base_uri": "https://localhost:8080/"
    },
    "id": "oT9Iolf8rVTS",
    "outputId": "31499340-b3bd-4afb-8647-8e46a83ad8e4"
   },
   "outputs": [
    {
     "data": {
      "text/plain": [
       "['banana', 'cherry', 'apple', 'lemon']"
      ]
     },
     "execution_count": 63,
     "metadata": {},
     "output_type": "execute_result"
    }
   ],
   "source": [
    "list_copy"
   ]
  },
  {
   "cell_type": "code",
   "execution_count": 64,
   "metadata": {},
   "outputs": [],
   "source": [
    "list_cpy=list_org[:]"
   ]
  },
  {
   "cell_type": "code",
   "execution_count": 65,
   "metadata": {},
   "outputs": [
    {
     "name": "stdout",
     "output_type": "stream",
     "text": [
      "['banana', 'cherry', 'apple']\n"
     ]
    }
   ],
   "source": [
    "print(list_cpy)"
   ]
  },
  {
   "cell_type": "code",
   "execution_count": 66,
   "metadata": {
    "id": "yLoNtYO9LU9h"
   },
   "outputs": [],
   "source": [
    "list_copy.append(\"lemon\")"
   ]
  },
  {
   "cell_type": "code",
   "execution_count": 67,
   "metadata": {
    "colab": {
     "base_uri": "https://localhost:8080/"
    },
    "id": "ENue4k32LdcI",
    "outputId": "2d10a1f8-7a89-45ad-cdcc-b027368d0487"
   },
   "outputs": [
    {
     "name": "stdout",
     "output_type": "stream",
     "text": [
      "['banana', 'cherry', 'apple', 'lemon', 'lemon']\n",
      "['banana', 'cherry', 'apple']\n"
     ]
    }
   ],
   "source": [
    "print(list_copy)\n",
    "print(list_org)"
   ]
  },
  {
   "cell_type": "code",
   "execution_count": 68,
   "metadata": {
    "id": "cdNit6OnLd7o"
   },
   "outputs": [],
   "source": [
    "mylist=[1,2,3,4,5,6]"
   ]
  },
  {
   "cell_type": "code",
   "execution_count": 69,
   "metadata": {
    "colab": {
     "base_uri": "https://localhost:8080/"
    },
    "id": "NTOYdaJCOAeK",
    "outputId": "5d767937-a349-4321-c688-1d7fdec3ebb4"
   },
   "outputs": [
    {
     "name": "stdout",
     "output_type": "stream",
     "text": [
      "[1, 4, 9, 16, 25, 36]\n"
     ]
    }
   ],
   "source": [
    "b=[i*i for i in mylist]\n",
    "print(b)"
   ]
  },
  {
   "cell_type": "code",
   "execution_count": 70,
   "metadata": {
    "colab": {
     "base_uri": "https://localhost:8080/"
    },
    "id": "LZoj3POFUNuI",
    "outputId": "52abb87f-ff42-4b45-ae81-4751277caf7b"
   },
   "outputs": [
    {
     "name": "stdout",
     "output_type": "stream",
     "text": [
      "[4, 16, 36]\n"
     ]
    }
   ],
   "source": [
    "even_squares = [x*x  for x in mylist if x % 2 == 0]\n",
    "print(even_squares)"
   ]
  },
  {
   "cell_type": "code",
   "execution_count": 71,
   "metadata": {
    "colab": {
     "base_uri": "https://localhost:8080/"
    },
    "id": "tWP5lhDBUneA",
    "outputId": "4f06cf22-36b0-418c-97ca-21afe7fda396"
   },
   "outputs": [
    {
     "data": {
      "text/plain": [
       "['ab', 'abc', '2cab', '23  4ab']"
      ]
     },
     "execution_count": 71,
     "metadata": {},
     "output_type": "execute_result"
    }
   ],
   "source": [
    "lst = ['a', 'ab', 'abc', 'bac','2cab','23  4ab']\n",
    "[k for k in lst if 'ab' in k]"
   ]
  },
  {
   "cell_type": "code",
   "execution_count": 72,
   "metadata": {
    "id": "GdE9ZHtLr_ON"
   },
   "outputs": [
    {
     "name": "stdout",
     "output_type": "stream",
     "text": [
      "[16, 25, 36, 49]\n"
     ]
    }
   ],
   "source": [
    "c=[4,5,6,7]\n",
    "b=[c*c for c in c]\n",
    "print(b)"
   ]
  },
  {
   "cell_type": "markdown",
   "metadata": {},
   "source": [
    "### Nested List (2-D List ) "
   ]
  },
  {
   "cell_type": "markdown",
   "metadata": {},
   "source": [
    "\n",
    "In Python, a nested list is a list that appears as an element in another list."
   ]
  },
  {
   "cell_type": "code",
   "execution_count": 73,
   "metadata": {
    "id": "zc4dRV8iXFFC"
   },
   "outputs": [
    {
     "name": "stdout",
     "output_type": "stream",
     "text": [
      "[[1, 2, 3], [4, 5, 6]]\n"
     ]
    }
   ],
   "source": [
    "#filtering elements from list of lists in Python?\n",
    "a = [[1,2,3],[4,5,6]]\n",
    "print(a)"
   ]
  },
  {
   "cell_type": "code",
   "execution_count": 74,
   "metadata": {},
   "outputs": [
    {
     "name": "stdout",
     "output_type": "stream",
     "text": [
      "[1, 2, 3]\n"
     ]
    }
   ],
   "source": [
    "print(a[0])"
   ]
  },
  {
   "cell_type": "code",
   "execution_count": 45,
   "metadata": {
    "colab": {
     "base_uri": "https://localhost:8080/"
    },
    "id": "0tO5kryFXncB",
    "outputId": "25ac33e0-0895-4120-a505-c1665529a468"
   },
   "outputs": [
    {
     "data": {
      "text/plain": [
       "[[4, 5, 6]]"
      ]
     },
     "execution_count": 45,
     "metadata": {},
     "output_type": "execute_result"
    }
   ],
   "source": [
    "[item for item in a if sum(item) > 10]"
   ]
  },
  {
   "cell_type": "markdown",
   "metadata": {},
   "source": [
    "### ZIP function "
   ]
  },
  {
   "cell_type": "markdown",
   "metadata": {},
   "source": [
    "\n",
    "The zip function in Python is used to combine multiple iterables (such as lists) element-wise."
   ]
  },
  {
   "cell_type": "code",
   "execution_count": 2,
   "metadata": {},
   "outputs": [
    {
     "name": "stdout",
     "output_type": "stream",
     "text": [
      "[('John', 24, 'Dentist'), ('Alex', 45, 'Teacher'), ('Marry', 32, 'Nurse')]\n"
     ]
    }
   ],
   "source": [
    "Names=[\"John\",\"Alex\",\"Marry\"]\n",
    "Ages=[24,45,32]\n",
    "Jobs=[\"Dentist\",\"Teacher\",\"Nurse\"]\n",
    "combined=zip(Names,Ages,Jobs)\n",
    "print(list(combined))"
   ]
  },
  {
   "cell_type": "code",
   "execution_count": 47,
   "metadata": {},
   "outputs": [
    {
     "name": "stdout",
     "output_type": "stream",
     "text": [
      "Customer name is:John age is :24 job is:Dentist\n",
      "Customer name is:Alex age is :45 job is:Teacher\n",
      "Customer name is:Marry age is :32 job is:Nurse\n"
     ]
    }
   ],
   "source": [
    "for names,ages,jobs in combined:\n",
    "    print(\"Customer name is:{} age is :{} job is:{}\".format(names,ages,jobs))"
   ]
  },
  {
   "cell_type": "markdown",
   "metadata": {},
   "source": [
    "### the unpacking operator \"*\""
   ]
  },
  {
   "cell_type": "markdown",
   "metadata": {},
   "source": [
    "The asterisk (*) operator, when used singly, unpacks all iterable variables that have not been assigned to any specific variable."
   ]
  },
  {
   "cell_type": "code",
   "execution_count": 48,
   "metadata": {},
   "outputs": [],
   "source": [
    "Names=[\"John\",\"Alex\",\"Marry\",\"Marry\"]\n",
    "Ages=[24,45,32,21]"
   ]
  },
  {
   "cell_type": "code",
   "execution_count": 49,
   "metadata": {},
   "outputs": [
    {
     "name": "stdout",
     "output_type": "stream",
     "text": [
      "[('John', 24), ('Alex', 45), ('Marry', 32), ('Marry', 21)]\n"
     ]
    }
   ],
   "source": [
    "print(list(zip(Names,Ages)))"
   ]
  },
  {
   "cell_type": "code",
   "execution_count": 50,
   "metadata": {},
   "outputs": [],
   "source": [
    "start, *middle, end = zip(Names,Ages)"
   ]
  },
  {
   "cell_type": "code",
   "execution_count": 51,
   "metadata": {},
   "outputs": [
    {
     "name": "stdout",
     "output_type": "stream",
     "text": [
      "('John', 24)\n",
      "[('Alex', 45), ('Marry', 32)]\n",
      "('Marry', 21)\n"
     ]
    }
   ],
   "source": [
    "print(start)\n",
    "print(middle)\n",
    "print(end)"
   ]
  },
  {
   "cell_type": "markdown",
   "metadata": {},
   "source": [
    "### Unzipping Zip Object"
   ]
  },
  {
   "cell_type": "code",
   "execution_count": 52,
   "metadata": {},
   "outputs": [
    {
     "name": "stdout",
     "output_type": "stream",
     "text": [
      "[(1, 'one'), (2, 'two'), (3, 'three'), (4, 'four'), (5, 'five')]\n",
      "(1, 2, 3, 4, 5)\n",
      "('one', 'two', 'three', 'four', 'five')\n"
     ]
    }
   ],
   "source": [
    "digits = [1,2,3,4,5]\n",
    "words = ['one', 'two', 'three', 'four','five']\n",
    "zipobj = list(zip(digits, words))\n",
    "print(zipobj)\n",
    "## to unzip\n",
    "x,y = zip(*zipobj)\n",
    "print(x)\n",
    "print(y)"
   ]
  },
  {
   "cell_type": "markdown",
   "metadata": {},
   "source": [
    "### Enumerate"
   ]
  },
  {
   "cell_type": "markdown",
   "metadata": {},
   "source": [
    "In Python, the enumerate() function is used to iterate over a list (or any iterable) while keeping track of both the index and the value of each element. It returns pairs of index and element as tuples. Here's an example:"
   ]
  },
  {
   "cell_type": "code",
   "execution_count": 53,
   "metadata": {},
   "outputs": [
    {
     "name": "stdout",
     "output_type": "stream",
     "text": [
      "<enumerate object at 0x0000024A1C2B4C00>\n"
     ]
    }
   ],
   "source": [
    "Names=[\"John\",\"Alex\",\"Marry\",\"Marry\"]\n",
    "print(enumerate(Names))"
   ]
  },
  {
   "cell_type": "code",
   "execution_count": 54,
   "metadata": {},
   "outputs": [
    {
     "name": "stdout",
     "output_type": "stream",
     "text": [
      "[(0, 'John'), (1, 'Alex'), (2, 'Marry'), (3, 'Marry')]\n"
     ]
    }
   ],
   "source": [
    "print(list(enumerate(Names)))"
   ]
  },
  {
   "cell_type": "code",
   "execution_count": 55,
   "metadata": {},
   "outputs": [
    {
     "name": "stdout",
     "output_type": "stream",
     "text": [
      "0 John\n",
      "1 Alex\n",
      "2 Marry\n",
      "3 Marry\n"
     ]
    }
   ],
   "source": [
    "for index,x in enumerate(Names):\n",
    "  print(index,x)"
   ]
  },
  {
   "cell_type": "code",
   "execution_count": 56,
   "metadata": {},
   "outputs": [
    {
     "name": "stdout",
     "output_type": "stream",
     "text": [
      "1 John\n",
      "2 Alex\n",
      "3 Marry\n",
      "4 Marry\n"
     ]
    }
   ],
   "source": [
    "for index,x in enumerate(Names,start=1):\n",
    "  print(index,x)"
   ]
  }
 ],
 "metadata": {
  "colab": {
   "collapsed_sections": [],
   "name": "list.ipynb",
   "provenance": []
  },
  "kernelspec": {
   "display_name": "Python 3 (ipykernel)",
   "language": "python",
   "name": "python3"
  },
  "language_info": {
   "codemirror_mode": {
    "name": "ipython",
    "version": 3
   },
   "file_extension": ".py",
   "mimetype": "text/x-python",
   "name": "python",
   "nbconvert_exporter": "python",
   "pygments_lexer": "ipython3",
   "version": "3.9.7"
  }
 },
 "nbformat": 4,
 "nbformat_minor": 4
}
