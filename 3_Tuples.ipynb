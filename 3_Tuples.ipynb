{
 "cells": [
  {
   "cell_type": "markdown",
   "metadata": {
    "id": "M8exG2C_swna"
   },
   "source": [
    "# Tuples "
   ]
  },
  {
   "cell_type": "markdown",
   "metadata": {},
   "source": [
    "- Tuples can contain different data types\n",
    "- Immutable (no adding or removing elements form the tuples)\n",
    "- ordered "
   ]
  },
  {
   "cell_type": "code",
   "execution_count": 1,
   "metadata": {
    "id": "j8ZNcRaZslFD"
   },
   "outputs": [],
   "source": [
    "tuple1=(\"John\",28,\"boston\")"
   ]
  },
  {
   "cell_type": "code",
   "execution_count": 2,
   "metadata": {
    "colab": {
     "base_uri": "https://localhost:8080/"
    },
    "id": "N1YnLtpStPeY",
    "outputId": "57fe6296-487f-4df2-c925-c8a82de9a5c9"
   },
   "outputs": [
    {
     "name": "stdout",
     "output_type": "stream",
     "text": [
      "('John', 28, 'boston')\n"
     ]
    }
   ],
   "source": [
    "print(tuple1)"
   ]
  },
  {
   "cell_type": "markdown",
   "metadata": {},
   "source": [
    "### One item tuple, remember the comma:"
   ]
  },
  {
   "cell_type": "code",
   "execution_count": 2,
   "metadata": {
    "colab": {
     "base_uri": "https://localhost:8080/"
    },
    "id": "oK-w9WeatRxt",
    "outputId": "ac006fa6-05da-4c55-fe15-54c3b447e4e5"
   },
   "outputs": [
    {
     "name": "stdout",
     "output_type": "stream",
     "text": [
      "<class 'type'>\n"
     ]
    }
   ],
   "source": [
    "tuple1=(\"John\")\n",
    "print(type(tuple))"
   ]
  },
  {
   "cell_type": "code",
   "execution_count": 3,
   "metadata": {
    "colab": {
     "base_uri": "https://localhost:8080/"
    },
    "id": "uDPX-YG5tkkr",
    "outputId": "a8920bc1-26ff-4d42-f070-8036e50b8b86"
   },
   "outputs": [
    {
     "name": "stdout",
     "output_type": "stream",
     "text": [
      "<class 'type'>\n"
     ]
    }
   ],
   "source": [
    "tuple1=(\"John\",)\n",
    "print(type(tuple))"
   ]
  },
  {
   "cell_type": "code",
   "execution_count": 4,
   "metadata": {},
   "outputs": [],
   "source": [
    "tuple1=(\"Alex\",28,\"Clevelend\")"
   ]
  },
  {
   "cell_type": "code",
   "execution_count": 5,
   "metadata": {
    "colab": {
     "base_uri": "https://localhost:8080/"
    },
    "id": "85Ow2W99t6X5",
    "outputId": "9c2e2526-41a0-4cd0-b98c-17efa7f8c685"
   },
   "outputs": [
    {
     "name": "stdout",
     "output_type": "stream",
     "text": [
      "('Alex', 28, 'Clevelend')\n"
     ]
    }
   ],
   "source": [
    "print(tuple1)"
   ]
  },
  {
   "cell_type": "code",
   "execution_count": 6,
   "metadata": {
    "id": "cYoAKRSSt_HF"
   },
   "outputs": [],
   "source": [
    "element=tuple1[0]"
   ]
  },
  {
   "cell_type": "code",
   "execution_count": 7,
   "metadata": {
    "colab": {
     "base_uri": "https://localhost:8080/"
    },
    "id": "KSYC3oetuKjB",
    "outputId": "1c425cc2-3c92-4c53-f0b8-9d695fcffff4"
   },
   "outputs": [
    {
     "name": "stdout",
     "output_type": "stream",
     "text": [
      "Alex\n"
     ]
    }
   ],
   "source": [
    "print(element)"
   ]
  },
  {
   "cell_type": "code",
   "execution_count": 8,
   "metadata": {
    "colab": {
     "base_uri": "https://localhost:8080/"
    },
    "id": "F0muIaQ9uTzG",
    "outputId": "65c11953-5c0f-4f2b-8797-539c970ff048"
   },
   "outputs": [
    {
     "name": "stdout",
     "output_type": "stream",
     "text": [
      "28\n"
     ]
    }
   ],
   "source": [
    "element=tuple1[1]\n",
    "print(element)"
   ]
  },
  {
   "cell_type": "code",
   "execution_count": 9,
   "metadata": {
    "colab": {
     "base_uri": "https://localhost:8080/",
     "height": 36
    },
    "id": "vE3TMpS5uhNF",
    "outputId": "eab17860-25ea-4677-df3b-efb42699e186"
   },
   "outputs": [
    {
     "data": {
      "text/plain": [
       "'Clevelend'"
      ]
     },
     "execution_count": 9,
     "metadata": {},
     "output_type": "execute_result"
    }
   ],
   "source": [
    "tuple1[-1]"
   ]
  },
  {
   "cell_type": "code",
   "execution_count": 10,
   "metadata": {
    "colab": {
     "base_uri": "https://localhost:8080/"
    },
    "id": "wCw6ASv_u0QC",
    "outputId": "63f1adc1-1180-41c4-b559-4c345ba6886e"
   },
   "outputs": [
    {
     "name": "stdout",
     "output_type": "stream",
     "text": [
      "Alex\n",
      "28\n",
      "Clevelend\n"
     ]
    }
   ],
   "source": [
    "for i in tuple1:\n",
    "    print(i)"
   ]
  },
  {
   "cell_type": "code",
   "execution_count": 11,
   "metadata": {
    "colab": {
     "base_uri": "https://localhost:8080/"
    },
    "id": "Nd8eZny5vEGE",
    "outputId": "88209fa5-9292-4769-deeb-5aed3c25fcf7"
   },
   "outputs": [
    {
     "name": "stdout",
     "output_type": "stream",
     "text": [
      "yes\n"
     ]
    }
   ],
   "source": [
    "if \"Alex\" in tuple1:\n",
    "    print(\"yes\")\n",
    "else: \n",
    "    print(\"no\")"
   ]
  },
  {
   "cell_type": "code",
   "execution_count": 12,
   "metadata": {},
   "outputs": [
    {
     "name": "stdout",
     "output_type": "stream",
     "text": [
      "yes\n"
     ]
    }
   ],
   "source": [
    "if 28 in tuple1:\n",
    "    print(\"yes\")\n",
    "else: \n",
    "    print(\"no\")"
   ]
  },
  {
   "cell_type": "code",
   "execution_count": 13,
   "metadata": {
    "id": "Q35ZacF2vWfD"
   },
   "outputs": [
    {
     "name": "stdout",
     "output_type": "stream",
     "text": [
      "('a', 'x', 'bc', 'm', 'e', 's')\n"
     ]
    }
   ],
   "source": [
    "newtuple=('a','x','bc','m','e','s')\n",
    "print(newtuple)"
   ]
  },
  {
   "cell_type": "code",
   "execution_count": 14,
   "metadata": {
    "colab": {
     "base_uri": "https://localhost:8080/"
    },
    "id": "CFPY_CsTv2IJ",
    "outputId": "c68f0b61-44d3-4741-cdfb-fdd008368cf0"
   },
   "outputs": [
    {
     "name": "stdout",
     "output_type": "stream",
     "text": [
      "6\n"
     ]
    }
   ],
   "source": [
    "print(len(newtuple))"
   ]
  },
  {
   "cell_type": "code",
   "execution_count": 15,
   "metadata": {
    "colab": {
     "base_uri": "https://localhost:8080/"
    },
    "id": "Jq9h8M8Yv-wJ",
    "outputId": "9eb0bf6b-0061-458b-c980-f0afc8f9d0ad"
   },
   "outputs": [
    {
     "name": "stdout",
     "output_type": "stream",
     "text": [
      "1\n"
     ]
    }
   ],
   "source": [
    "print(newtuple.count('a'))"
   ]
  },
  {
   "cell_type": "code",
   "execution_count": 16,
   "metadata": {
    "colab": {
     "base_uri": "https://localhost:8080/"
    },
    "id": "GoehoQ_RwIQm",
    "outputId": "5e72d182-19fa-4353-e12e-0d15b0061e57"
   },
   "outputs": [
    {
     "name": "stdout",
     "output_type": "stream",
     "text": [
      "4\n"
     ]
    }
   ],
   "source": [
    "print(newtuple.index('e'))"
   ]
  },
  {
   "cell_type": "markdown",
   "metadata": {},
   "source": [
    "### Convert list to tuples tuples to list"
   ]
  },
  {
   "cell_type": "code",
   "execution_count": 17,
   "metadata": {
    "colab": {
     "base_uri": "https://localhost:8080/"
    },
    "id": "PAtsrMoowdzy",
    "outputId": "0dea97ee-994d-4c5a-a8a8-757dd0865438"
   },
   "outputs": [
    {
     "name": "stdout",
     "output_type": "stream",
     "text": [
      "['a', 'x', 'bc', 'm', 'e', 's']\n"
     ]
    }
   ],
   "source": [
    "newtuple=('a','x','bc','m','e','s')\n",
    "list1=list(newtuple)\n",
    "print(list1)"
   ]
  },
  {
   "cell_type": "code",
   "execution_count": 18,
   "metadata": {
    "id": "JPu1TSvrxNAD"
   },
   "outputs": [],
   "source": [
    "mytuple2=tuple(list1)"
   ]
  },
  {
   "cell_type": "code",
   "execution_count": 19,
   "metadata": {
    "colab": {
     "base_uri": "https://localhost:8080/"
    },
    "id": "vMyMMm52xT3N",
    "outputId": "13940940-9238-41c2-fddc-8995aa907987"
   },
   "outputs": [
    {
     "name": "stdout",
     "output_type": "stream",
     "text": [
      "('a', 'x', 'bc', 'm', 'e', 's')\n"
     ]
    }
   ],
   "source": [
    "print(mytuple2)"
   ]
  },
  {
   "cell_type": "markdown",
   "metadata": {},
   "source": [
    "Another way of converting tuples to list"
   ]
  },
  {
   "cell_type": "code",
   "execution_count": 20,
   "metadata": {},
   "outputs": [
    {
     "name": "stdout",
     "output_type": "stream",
     "text": [
      "['a', 'x', 'bc', 'm', 'e', 's']\n"
     ]
    }
   ],
   "source": [
    "newtuple=('a','x','bc','m','e','s')\n",
    "list1=[*newtuple,]\n",
    "print(list1)"
   ]
  },
  {
   "cell_type": "markdown",
   "metadata": {},
   "source": [
    "### SLICING"
   ]
  },
  {
   "cell_type": "markdown",
   "metadata": {},
   "source": [
    "In Python, slicing is a way to extract a portion of a sequence, such as a tuple, list, or string. Slicing is done using the colon (:) operator within square brackets []. For tuples specifically, slicing works similarly to lists"
   ]
  },
  {
   "cell_type": "markdown",
   "metadata": {},
   "source": [
    "tuple_name[start_index:stop_index]"
   ]
  },
  {
   "cell_type": "code",
   "execution_count": 22,
   "metadata": {
    "colab": {
     "base_uri": "https://localhost:8080/"
    },
    "id": "-ndVHSIbxYQb",
    "outputId": "b70c5f05-e4d8-4810-eccd-82ace08ff8fe"
   },
   "outputs": [
    {
     "name": "stdout",
     "output_type": "stream",
     "text": [
      "(1, 2, 3, 4, 5, 6, 7, 8, 9)\n"
     ]
    }
   ],
   "source": [
    "A=(1,2,3,4,5,6,7,8,9)\n",
    "print(A)"
   ]
  },
  {
   "cell_type": "code",
   "execution_count": 23,
   "metadata": {
    "colab": {
     "base_uri": "https://localhost:8080/"
    },
    "id": "-ndVHSIbxYQb",
    "outputId": "b70c5f05-e4d8-4810-eccd-82ace08ff8fe"
   },
   "outputs": [
    {
     "name": "stdout",
     "output_type": "stream",
     "text": [
      "(4, 5, 6)\n"
     ]
    }
   ],
   "source": [
    "#Slicing from index 3 to 6 (excluding 6)\n",
    "B=A[3:6]\n",
    "print(B)"
   ]
  },
  {
   "cell_type": "code",
   "execution_count": 24,
   "metadata": {
    "colab": {
     "base_uri": "https://localhost:8080/"
    },
    "id": "tnPv6u6Qxsla",
    "outputId": "5f1070e9-079b-4e84-dd7e-559a5d3dba2c"
   },
   "outputs": [
    {
     "data": {
      "text/plain": [
       "(4, 5, 6, 7, 8, 9)"
      ]
     },
     "execution_count": 24,
     "metadata": {},
     "output_type": "execute_result"
    }
   ],
   "source": [
    "## Omitting stop_index, slicing from index 3 to the end\n",
    "A[3:]"
   ]
  },
  {
   "cell_type": "code",
   "execution_count": 27,
   "metadata": {},
   "outputs": [
    {
     "data": {
      "text/plain": [
       "(1, 2, 3, 4, 5)"
      ]
     },
     "execution_count": 27,
     "metadata": {},
     "output_type": "execute_result"
    }
   ],
   "source": [
    "# Omitting start_index, slicing from the beginning to index 5 (excluding 5)\n",
    "A[:5]"
   ]
  },
  {
   "cell_type": "code",
   "execution_count": 28,
   "metadata": {
    "colab": {
     "base_uri": "https://localhost:8080/"
    },
    "id": "myzK6VieyATd",
    "outputId": "bbe5eeb7-d2f4-4ec5-f9e1-87c59fcabe9a"
   },
   "outputs": [
    {
     "data": {
      "text/plain": [
       "(1, 2, 3, 4, 5, 6, 7, 8, 9)"
      ]
     },
     "execution_count": 28,
     "metadata": {},
     "output_type": "execute_result"
    }
   ],
   "source": [
    "#start:stop:step  step by 1\n",
    "A[::1]"
   ]
  },
  {
   "cell_type": "code",
   "execution_count": 32,
   "metadata": {},
   "outputs": [
    {
     "data": {
      "text/plain": [
       "(3, 4, 5)"
      ]
     },
     "execution_count": 32,
     "metadata": {},
     "output_type": "execute_result"
    }
   ],
   "source": [
    "A[2:5:1]"
   ]
  },
  {
   "cell_type": "code",
   "execution_count": 34,
   "metadata": {},
   "outputs": [
    {
     "data": {
      "text/plain": [
       "(3, 5)"
      ]
     },
     "execution_count": 34,
     "metadata": {},
     "output_type": "execute_result"
    }
   ],
   "source": [
    "A[2:5:2]"
   ]
  },
  {
   "cell_type": "code",
   "execution_count": 37,
   "metadata": {
    "colab": {
     "base_uri": "https://localhost:8080/"
    },
    "id": "atGkSzNZyIcz",
    "outputId": "c4ed8e19-449e-4c2e-ad40-7f4137b49fda"
   },
   "outputs": [
    {
     "data": {
      "text/plain": [
       "(1, 3, 5, 7, 9)"
      ]
     },
     "execution_count": 37,
     "metadata": {},
     "output_type": "execute_result"
    }
   ],
   "source": [
    "#step by 2\n",
    "A[::2]"
   ]
  },
  {
   "cell_type": "code",
   "execution_count": 38,
   "metadata": {
    "colab": {
     "base_uri": "https://localhost:8080/"
    },
    "id": "wCt9p5fUyJjh",
    "outputId": "acdc96df-e1f7-456e-e3d3-455450367393"
   },
   "outputs": [
    {
     "data": {
      "text/plain": [
       "(9, 8, 7, 6, 5, 4, 3, 2, 1)"
      ]
     },
     "execution_count": 38,
     "metadata": {},
     "output_type": "execute_result"
    }
   ],
   "source": [
    "A[::-1]"
   ]
  },
  {
   "cell_type": "code",
   "execution_count": 39,
   "metadata": {},
   "outputs": [
    {
     "data": {
      "text/plain": [
       "(9, 7, 5, 3, 1)"
      ]
     },
     "execution_count": 39,
     "metadata": {},
     "output_type": "execute_result"
    }
   ],
   "source": [
    "A[::-2]"
   ]
  },
  {
   "cell_type": "markdown",
   "metadata": {},
   "source": [
    "#### Assigning name to each element in TUPLES"
   ]
  },
  {
   "cell_type": "code",
   "execution_count": 40,
   "metadata": {
    "colab": {
     "base_uri": "https://localhost:8080/"
    },
    "id": "cyYa_2pQyNfX",
    "outputId": "cdfad5d0-4c16-4a1e-caa2-6912aa7c941d"
   },
   "outputs": [
    {
     "name": "stdout",
     "output_type": "stream",
     "text": [
      "<class 'tuple'>\n",
      "mel\n",
      "28\n",
      "boston\n"
     ]
    }
   ],
   "source": [
    "mytuple=(\"mel\",28,\"boston\")\n",
    "name,age,city=mytuple\n",
    "print(type(mytuple))\n",
    "print(name)\n",
    "print(age)\n",
    "print(city)"
   ]
  },
  {
   "cell_type": "code",
   "execution_count": 41,
   "metadata": {
    "id": "EXO7WyQjKLon"
   },
   "outputs": [],
   "source": [
    "import sys\n",
    "my_list=[0,1,2,\"hello\",True]\n",
    "my_tuples=(0,1,2,\"hello\",True)"
   ]
  },
  {
   "cell_type": "code",
   "execution_count": 42,
   "metadata": {
    "colab": {
     "base_uri": "https://localhost:8080/"
    },
    "id": "AROKa2QzLS_y",
    "outputId": "7083c93d-fa05-425d-f6c8-9d638bec083e"
   },
   "outputs": [
    {
     "name": "stdout",
     "output_type": "stream",
     "text": [
      "104 bytes\n",
      "88 bytes\n"
     ]
    }
   ],
   "source": [
    "#you can get the size of tuples \n",
    "print(sys.getsizeof(my_list),\"bytes\")\n",
    "print(sys.getsizeof(my_tuples),\"bytes\")"
   ]
  },
  {
   "cell_type": "code",
   "execution_count": 43,
   "metadata": {
    "colab": {
     "base_uri": "https://localhost:8080/"
    },
    "id": "Vaq7XlMNL-uH",
    "outputId": "a5c4962f-7dfc-4102-e79d-521a5c5eb710"
   },
   "outputs": [
    {
     "name": "stdout",
     "output_type": "stream",
     "text": [
      "0.004878799999914918\n",
      "0.0005432000002656423\n"
     ]
    }
   ],
   "source": [
    "import timeit\n",
    "print(timeit.timeit(stmt=\"[0,1,2,3,4,5]\",number=100000))\n",
    "print(timeit.timeit(stmt=\"(0,1,2,3,4,5)\",number=100000))"
   ]
  },
  {
   "cell_type": "markdown",
   "metadata": {},
   "source": [
    "### Unpacking the tuples"
   ]
  },
  {
   "cell_type": "markdown",
   "metadata": {},
   "source": [
    "The asterisk (*) operator, when used singly, unpacks all iterable variables that have not been assigned to any specific variable."
   ]
  },
  {
   "cell_type": "code",
   "execution_count": 44,
   "metadata": {
    "colab": {
     "base_uri": "https://localhost:8080/"
    },
    "id": "3_9mFl5xJrzz",
    "outputId": "38d3e029-913a-4e2d-91c6-e1101b42acd4"
   },
   "outputs": [
    {
     "name": "stdout",
     "output_type": "stream",
     "text": [
      "1\n",
      "[2, 3, 4, 5]\n",
      "6\n"
     ]
    }
   ],
   "source": [
    "my_tuple=(1,2,3,4,5,6)\n",
    "first,*middle,last=my_tuple\n",
    "print(middle)"
   ]
  },
  {
   "cell_type": "code",
   "execution_count": 17,
   "metadata": {},
   "outputs": [
    {
     "name": "stdout",
     "output_type": "stream",
     "text": [
      "First: 1\n",
      "Second: 2\n",
      "Rest: [3, 4, 5]\n"
     ]
    }
   ],
   "source": [
    "# Unpacking values from a tuple\n",
    "tuple_example = (1, 2, 3, 4, 5)\n",
    "\n",
    "# Unpack the first two values, and pack the rest into another tuple\n",
    "first, second, *rest = tuple_example\n",
    "\n",
    "print(\"First:\", first)\n",
    "print(\"Second:\", second)\n",
    "print(\"Rest:\", rest)"
   ]
  },
  {
   "cell_type": "markdown",
   "metadata": {},
   "source": [
    "### packing the tuples"
   ]
  },
  {
   "cell_type": "code",
   "execution_count": 18,
   "metadata": {},
   "outputs": [
    {
     "name": "stdout",
     "output_type": "stream",
     "text": [
      "(1, 2, 3, 4, 5, 6)\n"
     ]
    }
   ],
   "source": [
    "# Packing values into a tuple\n",
    "tuple_packing = (1, 2, 3)\n",
    "\n",
    "# Create a new tuple with additional values using the asterisk\n",
    "new_tuple = (*tuple_packing, 4, 5, 6)\n",
    "\n",
    "print(new_tuple)"
   ]
  },
  {
   "cell_type": "markdown",
   "metadata": {},
   "source": [
    "These are the basic uses of the asterisk operator in tuples. Depending on whether you are packing or unpacking, and the specific context, the asterisk can be a powerful tool for handling tuples with varying numbers of elements."
   ]
  },
  {
   "cell_type": "markdown",
   "metadata": {
    "id": "1cKPJTaaMgTr"
   },
   "source": [
    "### ZIP function (join the tuples)"
   ]
  },
  {
   "cell_type": "markdown",
   "metadata": {},
   "source": [
    "\n",
    "The zip() function in Python is used to combine two or more iterables into tuples. It takes multiple iterable objects as arguments and returns an iterator of tuples where the i-th tuple contains the i-th element from each of the input iterables. Here's an example using tuples:"
   ]
  },
  {
   "cell_type": "code",
   "execution_count": 1,
   "metadata": {},
   "outputs": [
    {
     "name": "stdout",
     "output_type": "stream",
     "text": [
      "{('Alex', 23), ('Steve', 67), ('John', 45)}\n"
     ]
    }
   ],
   "source": [
    "#in set format\n",
    "names=(\"Alex\",\"John\",\"Steve\",\"Alex\")\n",
    "ages=(23,45,67,23)\n",
    "# Using zip to combine the tuples\n",
    "# Converting the result to a list (since zip returns an iterator)\n",
    "print(set(zip(names,ages)))"
   ]
  },
  {
   "cell_type": "code",
   "execution_count": 2,
   "metadata": {},
   "outputs": [
    {
     "name": "stdout",
     "output_type": "stream",
     "text": [
      "[('Alex', 23), ('John', 45), ('Steve', 67), ('Alex', 23)]\n"
     ]
    }
   ],
   "source": [
    "#in list format\n",
    "names=(\"Alex\",\"John\",\"Steve\",\"Alex\")\n",
    "ages=(23,45,67,23)\n",
    "print(list(zip(names,ages)))"
   ]
  },
  {
   "cell_type": "code",
   "execution_count": 3,
   "metadata": {},
   "outputs": [
    {
     "name": "stdout",
     "output_type": "stream",
     "text": [
      "{'Alex': 23, 'John': 45, 'Steve': 67}\n"
     ]
    }
   ],
   "source": [
    "#dictionary format\n",
    "names=(\"Alex\",\"John\",\"Steve\",\"Alex\")\n",
    "ages=(23,45,67,23)\n",
    "print(dict(zip(names,ages)))"
   ]
  },
  {
   "cell_type": "markdown",
   "metadata": {},
   "source": [
    "You can also use the zip() function with more than two iterables:"
   ]
  },
  {
   "cell_type": "code",
   "execution_count": 48,
   "metadata": {},
   "outputs": [
    {
     "name": "stdout",
     "output_type": "stream",
     "text": [
      "tuple1= (1, 2, 3)\n",
      "tuple2= (4, 5, 6)\n",
      "tuple3= (7, 8, 9)\n"
     ]
    }
   ],
   "source": [
    "tuple1=(1,2,3)\n",
    "print(\"tuple1=\",tuple1)\n",
    "tuple2=(4,5,6)\n",
    "print(\"tuple2=\",tuple2)\n",
    "tuple3=(7,8,9)\n",
    "print(\"tuple3=\",tuple3)"
   ]
  },
  {
   "cell_type": "code",
   "execution_count": 49,
   "metadata": {},
   "outputs": [
    {
     "name": "stdout",
     "output_type": "stream",
     "text": [
      "[(1, 4, 7), (2, 5, 8), (3, 6, 9)]\n"
     ]
    }
   ],
   "source": [
    "newlist=list(zip(tuple1,tuple2,tuple3))\n",
    "print(newlist)"
   ]
  },
  {
   "cell_type": "markdown",
   "metadata": {},
   "source": [
    "In python asterisk * operator can be used for both unpacking and packing. When used in the context of creating a list of tuples, it is typically used for packing values into tuples. Here's an example:on"
   ]
  },
  {
   "cell_type": "code",
   "execution_count": 7,
   "metadata": {},
   "outputs": [
    {
     "name": "stdout",
     "output_type": "stream",
     "text": [
      "[(1, 2, 3, 4), (6, 7, 8, 9), (11, 12, 13, 14)]\n"
     ]
    }
   ],
   "source": [
    "# Creating a list of tuples using the * operator\n",
    "list_of_tuples = [(1, *range(2, 5)), (6, *range(7, 10)), (11, *range(12, 15))]\n",
    "\n",
    "print(list_of_tuples)"
   ]
  },
  {
   "cell_type": "code",
   "execution_count": 8,
   "metadata": {},
   "outputs": [
    {
     "name": "stdout",
     "output_type": "stream",
     "text": [
      "['Spark', 'Python', 'pandas', 'Java']\n"
     ]
    }
   ],
   "source": [
    "tuples = ('Spark', 'Python', 'pandas', 'Java')\n",
    "# convert tuple into list\n",
    "list1 = [*tuples,]\n",
    "print(list1)"
   ]
  },
  {
   "cell_type": "code",
   "execution_count": 9,
   "metadata": {},
   "outputs": [
    {
     "name": "stdout",
     "output_type": "stream",
     "text": [
      "[0, 2, 4, 6, 8]\n"
     ]
    }
   ],
   "source": [
    "# Example 1: Convert the tuple to a list another way\n",
    "tuples = (0, 2, 4, 6, 8)\n",
    "mylist = list(tuples)\n",
    "print(mylist)"
   ]
  },
  {
   "cell_type": "code",
   "execution_count": 10,
   "metadata": {},
   "outputs": [
    {
     "name": "stdout",
     "output_type": "stream",
     "text": [
      "('Alex', 23)\n",
      "('John', 45)\n",
      "('Steve', 67)\n",
      "('Alex', 23)\n"
     ]
    }
   ],
   "source": [
    "#Print with for loop \n",
    "for i in zip(names,ages):\n",
    "    print(i)"
   ]
  },
  {
   "cell_type": "code",
   "execution_count": 11,
   "metadata": {},
   "outputs": [
    {
     "name": "stdout",
     "output_type": "stream",
     "text": [
      "Alex 23\n",
      "John 45\n",
      "Steve 67\n",
      "Alex 23\n"
     ]
    }
   ],
   "source": [
    "#Print with for loop \n",
    "for (a,b) in zip(names,ages):\n",
    "    print(a,b)"
   ]
  },
  {
   "cell_type": "markdown",
   "metadata": {},
   "source": [
    "### enumarate "
   ]
  },
  {
   "cell_type": "markdown",
   "metadata": {},
   "source": [
    "The enumerate function is used to iterate over a sequence (such as a list, tuple, or string) along with an index, keeping track of both the index and the corresponding element. It returns pairs of the form (index, element)"
   ]
  },
  {
   "cell_type": "code",
   "execution_count": 12,
   "metadata": {},
   "outputs": [
    {
     "name": "stdout",
     "output_type": "stream",
     "text": [
      "('Alex', 'John', 'Steve', 'Alex')\n"
     ]
    }
   ],
   "source": [
    "names=(\"Alex\",\"John\",\"Steve\",\"Alex\")\n",
    "print(names)"
   ]
  },
  {
   "cell_type": "code",
   "execution_count": 13,
   "metadata": {},
   "outputs": [
    {
     "name": "stdout",
     "output_type": "stream",
     "text": [
      "<enumerate object at 0x000001F67AFFBBF0>\n"
     ]
    }
   ],
   "source": [
    "y=enumerate(names)\n",
    "print(y)"
   ]
  },
  {
   "cell_type": "code",
   "execution_count": 14,
   "metadata": {},
   "outputs": [
    {
     "name": "stdout",
     "output_type": "stream",
     "text": [
      "[(0, 'Alex'), (1, 'John'), (2, 'Steve'), (3, 'Alex')]\n"
     ]
    }
   ],
   "source": [
    "y=enumerate(names)\n",
    "print(list(y))"
   ]
  },
  {
   "cell_type": "markdown",
   "metadata": {},
   "source": [
    "use enumerate in a for loop to get an item and its index"
   ]
  },
  {
   "cell_type": "code",
   "execution_count": 15,
   "metadata": {},
   "outputs": [
    {
     "name": "stdout",
     "output_type": "stream",
     "text": [
      "0 Alex\n",
      "1 John\n",
      "2 Steve\n",
      "3 Alex\n"
     ]
    }
   ],
   "source": [
    "m=list(enumerate(names))\n",
    "for index,x in m:\n",
    "  print(index,x)"
   ]
  },
  {
   "cell_type": "code",
   "execution_count": 16,
   "metadata": {},
   "outputs": [
    {
     "name": "stdout",
     "output_type": "stream",
     "text": [
      "1 Alex\n",
      "2 John\n",
      "3 Steve\n",
      "4 Alex\n"
     ]
    }
   ],
   "source": [
    "m=list(enumerate(names,start=1))\n",
    "for index,x in m:\n",
    "  print(index,x)"
   ]
  }
 ],
 "metadata": {
  "colab": {
   "collapsed_sections": [],
   "name": "Tuples.ipynb",
   "provenance": []
  },
  "kernelspec": {
   "display_name": "Python 3 (ipykernel)",
   "language": "python",
   "name": "python3"
  },
  "language_info": {
   "codemirror_mode": {
    "name": "ipython",
    "version": 3
   },
   "file_extension": ".py",
   "mimetype": "text/x-python",
   "name": "python",
   "nbconvert_exporter": "python",
   "pygments_lexer": "ipython3",
   "version": "3.9.7"
  }
 },
 "nbformat": 4,
 "nbformat_minor": 4
}
