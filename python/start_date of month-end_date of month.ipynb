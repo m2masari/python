{
 "cells": [
  {
   "cell_type": "code",
   "execution_count": 5,
   "id": "0698488f",
   "metadata": {},
   "outputs": [],
   "source": [
    "import datetime\n",
    "start_date = datetime.date(2023, 1, 1)\n",
    "end_date = datetime.date.today()"
   ]
  },
  {
   "cell_type": "code",
   "execution_count": 6,
   "id": "f727565d",
   "metadata": {},
   "outputs": [
    {
     "name": "stdout",
     "output_type": "stream",
     "text": [
      "2023-01-01 2023-05-29\n"
     ]
    }
   ],
   "source": [
    "print(start_date,end_date)"
   ]
  },
  {
   "cell_type": "code",
   "execution_count": 7,
   "id": "d5d031c2",
   "metadata": {},
   "outputs": [
    {
     "name": "stdout",
     "output_type": "stream",
     "text": [
      "2023-01-01 2023-01-31\n",
      "2023-02-01 2023-02-28\n",
      "2023-03-01 2023-03-31\n",
      "2023-04-01 2023-04-30\n",
      "2023-05-01 2023-05-31\n"
     ]
    }
   ],
   "source": [
    "while start_date <= end_date:\n",
    "    last_day_of_month = datetime.date(start_date.year, start_date.month, 1) + datetime.timedelta(days=32)\n",
    "    end_date_of_month = last_day_of_month - datetime.timedelta(days=last_day_of_month.day)\n",
    "    print(start_date, end_date_of_month)\n",
    "    start_date = end_date_of_month + datetime.timedelta(days=1)"
   ]
  },
  {
   "cell_type": "code",
   "execution_count": null,
   "id": "8e938ae8",
   "metadata": {},
   "outputs": [],
   "source": []
  }
 ],
 "metadata": {
  "kernelspec": {
   "display_name": "Python 3 (ipykernel)",
   "language": "python",
   "name": "python3"
  },
  "language_info": {
   "codemirror_mode": {
    "name": "ipython",
    "version": 3
   },
   "file_extension": ".py",
   "mimetype": "text/x-python",
   "name": "python",
   "nbconvert_exporter": "python",
   "pygments_lexer": "ipython3",
   "version": "3.9.7"
  }
 },
 "nbformat": 4,
 "nbformat_minor": 5
}
