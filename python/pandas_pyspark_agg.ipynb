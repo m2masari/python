{
 "cells": [
  {
   "cell_type": "code",
   "execution_count": 18,
   "metadata": {},
   "outputs": [],
   "source": [
    "import pandas as pd"
   ]
  },
  {
   "cell_type": "markdown",
   "metadata": {},
   "source": [
    "Group'a göre max,mean,min alalım. Aggregate fonksiyonu ile group by yapıp kolonları rename yapacağız.\n",
    "Oncelikle panda dataframinde nasıl yapılacağını gösterelim."
   ]
  },
  {
   "cell_type": "code",
   "execution_count": 19,
   "metadata": {},
   "outputs": [],
   "source": [
    "df=  [['A',100,10000]\n",
    "     ,['A',120,15000]\n",
    "     ,['A',300,50000]\n",
    "     ,['B',100,180000]\n",
    "     ,['B',80,200000]]\n",
    "\n",
    "# panda dataframe'i oluşturalım\n",
    "df = pd.DataFrame(df, columns = ['group','size','amount']) "
   ]
  },
  {
   "cell_type": "code",
   "execution_count": 20,
   "metadata": {},
   "outputs": [
    {
     "data": {
      "text/html": [
       "<div>\n",
       "<style scoped>\n",
       "    .dataframe tbody tr th:only-of-type {\n",
       "        vertical-align: middle;\n",
       "    }\n",
       "\n",
       "    .dataframe tbody tr th {\n",
       "        vertical-align: top;\n",
       "    }\n",
       "\n",
       "    .dataframe thead th {\n",
       "        text-align: right;\n",
       "    }\n",
       "</style>\n",
       "<table border=\"1\" class=\"dataframe\">\n",
       "  <thead>\n",
       "    <tr style=\"text-align: right;\">\n",
       "      <th></th>\n",
       "      <th>group</th>\n",
       "      <th>size</th>\n",
       "      <th>amount</th>\n",
       "    </tr>\n",
       "  </thead>\n",
       "  <tbody>\n",
       "    <tr>\n",
       "      <th>0</th>\n",
       "      <td>A</td>\n",
       "      <td>100</td>\n",
       "      <td>10000</td>\n",
       "    </tr>\n",
       "    <tr>\n",
       "      <th>1</th>\n",
       "      <td>A</td>\n",
       "      <td>120</td>\n",
       "      <td>15000</td>\n",
       "    </tr>\n",
       "    <tr>\n",
       "      <th>2</th>\n",
       "      <td>A</td>\n",
       "      <td>300</td>\n",
       "      <td>50000</td>\n",
       "    </tr>\n",
       "    <tr>\n",
       "      <th>3</th>\n",
       "      <td>B</td>\n",
       "      <td>100</td>\n",
       "      <td>180000</td>\n",
       "    </tr>\n",
       "    <tr>\n",
       "      <th>4</th>\n",
       "      <td>B</td>\n",
       "      <td>80</td>\n",
       "      <td>200000</td>\n",
       "    </tr>\n",
       "  </tbody>\n",
       "</table>\n",
       "</div>"
      ],
      "text/plain": [
       "  group  size  amount\n",
       "0     A   100   10000\n",
       "1     A   120   15000\n",
       "2     A   300   50000\n",
       "3     B   100  180000\n",
       "4     B    80  200000"
      ]
     },
     "execution_count": 20,
     "metadata": {},
     "output_type": "execute_result"
    }
   ],
   "source": [
    "df"
   ]
  },
  {
   "cell_type": "code",
   "execution_count": 21,
   "metadata": {},
   "outputs": [
    {
     "data": {
      "text/html": [
       "<div>\n",
       "<style scoped>\n",
       "    .dataframe tbody tr th:only-of-type {\n",
       "        vertical-align: middle;\n",
       "    }\n",
       "\n",
       "    .dataframe tbody tr th {\n",
       "        vertical-align: top;\n",
       "    }\n",
       "\n",
       "    .dataframe thead th {\n",
       "        text-align: right;\n",
       "    }\n",
       "</style>\n",
       "<table border=\"1\" class=\"dataframe\">\n",
       "  <thead>\n",
       "    <tr style=\"text-align: right;\">\n",
       "      <th></th>\n",
       "      <th></th>\n",
       "      <th>amount_max</th>\n",
       "      <th>amount_mean</th>\n",
       "      <th>amount_min</th>\n",
       "      <th>size_max</th>\n",
       "      <th>size_mean</th>\n",
       "      <th>size_min</th>\n",
       "    </tr>\n",
       "  </thead>\n",
       "  <tbody>\n",
       "    <tr>\n",
       "      <th>0</th>\n",
       "      <td>A</td>\n",
       "      <td>50000</td>\n",
       "      <td>25000</td>\n",
       "      <td>10000</td>\n",
       "      <td>300</td>\n",
       "      <td>173.333333</td>\n",
       "      <td>100</td>\n",
       "    </tr>\n",
       "    <tr>\n",
       "      <th>1</th>\n",
       "      <td>B</td>\n",
       "      <td>200000</td>\n",
       "      <td>190000</td>\n",
       "      <td>180000</td>\n",
       "      <td>100</td>\n",
       "      <td>90.000000</td>\n",
       "      <td>80</td>\n",
       "    </tr>\n",
       "  </tbody>\n",
       "</table>\n",
       "</div>"
      ],
      "text/plain": [
       "      amount_max  amount_mean  amount_min  size_max   size_mean  size_min\n",
       "0  A       50000        25000       10000       300  173.333333       100\n",
       "1  B      200000       190000      180000       100   90.000000        80"
      ]
     },
     "execution_count": 21,
     "metadata": {},
     "output_type": "execute_result"
    }
   ],
   "source": [
    "df1=df.groupby(['group']) \\\n",
    "      .agg({'amount':{'amount_max': 'max','amount_mean': 'mean','amount_min': 'min'} \\\n",
    "      ,'size':{'size_max': 'max','size_mean': 'mean', 'size_min': 'min'}})  \\\n",
    "      .reset_index() \n",
    "df1.columns = df1.columns.droplevel(0)\n",
    "df1"
   ]
  },
  {
   "cell_type": "markdown",
   "metadata": {},
   "source": [
    "Aşağıdada Spark data frameinde nasıl yapılacağına bakalım. "
   ]
  },
  {
   "cell_type": "code",
   "execution_count": 34,
   "metadata": {},
   "outputs": [],
   "source": [
    "import numpy as np\n",
    "import os\n",
    "import findspark\n",
    "import pyspark\n",
    "from pyspark import SparkContext\n",
    "from pyspark.sql import SparkSession\n",
    "from pyspark.sql.functions import count,min, max,mean\n",
    "import pyspark.sql.functions as func"
   ]
  },
  {
   "cell_type": "code",
   "execution_count": 9,
   "metadata": {},
   "outputs": [],
   "source": [
    "os.environ[\"PYSPARK_PYTHON\"]=\"\"\n",
    "os.environ['PYSPARK_SUBMIT_ARGS'] = ''\n",
    "sc = SparkContext(appName='sparkframe')"
   ]
  },
  {
   "cell_type": "code",
   "execution_count": 10,
   "metadata": {},
   "outputs": [],
   "source": [
    "spark = SparkSession(sc)"
   ]
  },
  {
   "cell_type": "code",
   "execution_count": 63,
   "metadata": {},
   "outputs": [],
   "source": [
    "df = spark.createDataFrame([('A',100,10000),\n",
    "                            ('A',120,15000),\n",
    "                            ('A',300,50000),\n",
    "                            ('B',100,180000),\n",
    "                            ('B',80,200000)]\n",
    "                           , ['group', 'size', 'amount'])"
   ]
  },
  {
   "cell_type": "code",
   "execution_count": 64,
   "metadata": {},
   "outputs": [
    {
     "name": "stdout",
     "output_type": "stream",
     "text": [
      "+-----+----+------+\n",
      "|group|size|amount|\n",
      "+-----+----+------+\n",
      "|    A| 100| 10000|\n",
      "|    A| 120| 15000|\n",
      "|    A| 300| 50000|\n",
      "|    B| 100|180000|\n",
      "|    B|  80|200000|\n",
      "+-----+----+------+\n",
      "\n"
     ]
    }
   ],
   "source": [
    "df.show()"
   ]
  },
  {
   "cell_type": "code",
   "execution_count": 65,
   "metadata": {},
   "outputs": [],
   "source": [
    "df=df.groupby('group').agg(max(\"amount\"),mean(\"amount\"),min(\"amount\") \\\n",
    "                            ,max(\"size\"),mean(\"size\"),min(\"size\")) \\\n",
    "        .withColumnRenamed(\"max(amount)\", \"amount_max\") \\\n",
    "        .withColumnRenamed(\"mean(amount)\", \"amount_mean\") \\\n",
    "        .withColumnRenamed(\"min(amount)\", \"amount_min\") \\\n",
    "        .withColumnRenamed(\"max(size)\", \"size_max\") \\\n",
    "        .withColumnRenamed(\"mean(size)\", \"size_mean\") \\\n",
    "        .withColumnRenamed(\"min(size)\", \"size_min\") \\"
   ]
  },
  {
   "cell_type": "code",
   "execution_count": 66,
   "metadata": {},
   "outputs": [
    {
     "name": "stdout",
     "output_type": "stream",
     "text": [
      "+-----+----------+-----------+----------+--------+------------------+--------+\n",
      "|group|amount_max|avg(amount)|amount_min|size_max|         avg(size)|size_min|\n",
      "+-----+----------+-----------+----------+--------+------------------+--------+\n",
      "|    B|    200000|   190000.0|    180000|     100|              90.0|      80|\n",
      "|    A|     50000|    25000.0|     10000|     300|173.33333333333334|     100|\n",
      "+-----+----------+-----------+----------+--------+------------------+--------+\n",
      "\n"
     ]
    }
   ],
   "source": [
    "df.show()"
   ]
  }
 ],
 "metadata": {
  "kernelspec": {
   "display_name": "Python 3",
   "language": "python",
   "name": "python3"
  },
  "language_info": {
   "codemirror_mode": {
    "name": "ipython",
    "version": 3
   },
   "file_extension": ".py",
   "mimetype": "text/x-python",
   "name": "python",
   "nbconvert_exporter": "python",
   "pygments_lexer": "ipython3",
   "version": "3.6.8"
  }
 },
 "nbformat": 4,
 "nbformat_minor": 2
}
