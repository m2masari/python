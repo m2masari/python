{
 "cells": [
  {
   "cell_type": "code",
   "execution_count": 1,
   "id": "ae67f06e",
   "metadata": {},
   "outputs": [],
   "source": [
    "import datetime"
   ]
  },
  {
   "cell_type": "code",
   "execution_count": 7,
   "id": "5cfceb02",
   "metadata": {},
   "outputs": [],
   "source": [
    "start_date = datetime.date(2023, 1, 1)\n",
    "end_date = datetime.date.today()"
   ]
  },
  {
   "cell_type": "code",
   "execution_count": 8,
   "id": "1c45492b",
   "metadata": {},
   "outputs": [],
   "source": [
    "def get_weekly_calendar(year, calendar_week):\n",
    "    monday = datetime.datetime.strptime(f'{year}-{calendar_week}-1', \"%Y-%W-%w\").date()\n",
    "    return [{\"startDate\": monday.strftime(\"%Y-%m-%d\"),\n",
    "             \"endDate\": (monday + datetime.timedelta(days=6.9)).strftime(\"%Y-%m-%d\")}]"
   ]
  },
  {
   "cell_type": "code",
   "execution_count": 9,
   "id": "bdfd68d0",
   "metadata": {},
   "outputs": [],
   "source": [
    "date_list = []\n",
    "\n",
    "for y in range(start_date.year, end_date.year + 1):\n",
    "    for w in range(0, abs(datetime.date(y, 1, 1) - datetime.date(y + 1, 1, 1)).days // 7):\n",
    "        if y < end_date.year:\n",
    "            date_list.append([str(y) + \"-\" + str((w % 52) + 1).zfill(2), get_weekly_calendar(y, w % 52)])\n",
    "        elif y == end_date.year:\n",
    "            if w < int(datetime.datetime.today().strftime(\"%U\")):\n",
    "                date_list.append([str(y) + \"-\" + str((w % 52) + 1).zfill(2), get_weekly_calendar(y, w % 52)])"
   ]
  },
  {
   "cell_type": "code",
   "execution_count": 13,
   "id": "010e03a2",
   "metadata": {},
   "outputs": [
    {
     "name": "stdout",
     "output_type": "stream",
     "text": [
      "2023-02\n"
     ]
    }
   ],
   "source": [
    "print(date_list[1][0])"
   ]
  },
  {
   "cell_type": "code",
   "execution_count": 31,
   "id": "638dd93c",
   "metadata": {},
   "outputs": [
    {
     "data": {
      "text/plain": [
       "list"
      ]
     },
     "execution_count": 31,
     "metadata": {},
     "output_type": "execute_result"
    }
   ],
   "source": [
    "type(date_list[1][1])"
   ]
  },
  {
   "cell_type": "code",
   "execution_count": 28,
   "id": "55aa7db5",
   "metadata": {},
   "outputs": [
    {
     "name": "stdout",
     "output_type": "stream",
     "text": [
      "2022-12-26 2023-01-01\n",
      "2023-01-02 2023-01-08\n",
      "2023-01-09 2023-01-15\n",
      "2023-01-16 2023-01-22\n",
      "2023-01-23 2023-01-29\n",
      "2023-01-30 2023-02-05\n",
      "2023-02-06 2023-02-12\n",
      "2023-02-13 2023-02-19\n",
      "2023-02-20 2023-02-26\n",
      "2023-02-27 2023-03-05\n",
      "2023-03-06 2023-03-12\n",
      "2023-03-13 2023-03-19\n",
      "2023-03-20 2023-03-26\n",
      "2023-03-27 2023-04-02\n",
      "2023-04-03 2023-04-09\n",
      "2023-04-10 2023-04-16\n",
      "2023-04-17 2023-04-23\n",
      "2023-04-24 2023-04-30\n",
      "2023-05-01 2023-05-07\n",
      "2023-05-08 2023-05-14\n",
      "2023-05-15 2023-05-21\n",
      "2023-05-22 2023-05-28\n"
     ]
    }
   ],
   "source": [
    "for date_item in date_list:\n",
    "    date_range = date_item[1][0]\n",
    "    startDate = date_range['startDate']\n",
    "    endDate = date_range['endDate']\n",
    "    print(startDate,endDate)"
   ]
  }
 ],
 "metadata": {
  "kernelspec": {
   "display_name": "Python 3 (ipykernel)",
   "language": "python",
   "name": "python3"
  },
  "language_info": {
   "codemirror_mode": {
    "name": "ipython",
    "version": 3
   },
   "file_extension": ".py",
   "mimetype": "text/x-python",
   "name": "python",
   "nbconvert_exporter": "python",
   "pygments_lexer": "ipython3",
   "version": "3.9.7"
  }
 },
 "nbformat": 4,
 "nbformat_minor": 5
}
