{
 "cells": [
  {
   "cell_type": "code",
   "execution_count": null,
   "id": "db6537d7",
   "metadata": {},
   "outputs": [],
   "source": [
    "import requests\n",
    "import ssl\n",
    "import pymysql"
   ]
  },
  {
   "cell_type": "code",
   "execution_count": null,
   "id": "c1f4ae19",
   "metadata": {},
   "outputs": [],
   "source": [
    "ssl_context = ssl.SSLContext(ssl.PROTOCOL_TLSv1_2)"
   ]
  },
  {
   "cell_type": "code",
   "execution_count": null,
   "id": "b91cc353",
   "metadata": {},
   "outputs": [],
   "source": [
    "config={ \n",
    "'host':'your_database_host',\n",
    "'database':'your_database_name',\n",
    "'user':'your_username',\n",
    "'password':'your_password',\n",
    "'ssl':ssl_context\n",
    "} "
   ]
  },
  {
   "cell_type": "code",
   "execution_count": null,
   "id": "ec534318",
   "metadata": {},
   "outputs": [],
   "source": [
    "def select_table():\n",
    "     conn = pymysql.connect(**config)\n",
    "     cursor = conn.cursor()\n",
    "     cursor.execute(\"SELECT * FROM your_table_name\")\n",
    "     result = cursor.fetchall()\n",
    "     df = pd.DataFrame(result, columns=[i[0] for i in cursor.description])\n",
    "     return df"
   ]
  },
  {
   "cell_type": "raw",
   "id": "29163d19",
   "metadata": {},
   "source": [
    "data=select_table()\n",
    "print(data)"
   ]
  }
 ],
 "metadata": {
  "kernelspec": {
   "display_name": "Python 3 (ipykernel)",
   "language": "python",
   "name": "python3"
  },
  "language_info": {
   "codemirror_mode": {
    "name": "ipython",
    "version": 3
   },
   "file_extension": ".py",
   "mimetype": "text/x-python",
   "name": "python",
   "nbconvert_exporter": "python",
   "pygments_lexer": "ipython3",
   "version": "3.9.7"
  }
 },
 "nbformat": 4,
 "nbformat_minor": 5
}
