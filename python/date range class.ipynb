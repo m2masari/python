{
 "cells": [
  {
   "cell_type": "code",
   "execution_count": 1,
   "id": "bc7e83be",
   "metadata": {},
   "outputs": [],
   "source": [
    "import datetime\n",
    "\n",
    "class daterange:\n",
    " def __init__(self):\n",
    "        self.start_date = datetime.date(2023, 1, 1)\n",
    "        self.end_date = datetime.date.today()\n",
    " \n",
    " def date_range(self,start_date):\n",
    "    last_day_of_month = datetime.date(self.start_date.year, self.start_date.month, 1) + datetime.timedelta(days=32)  \n",
    "    return [{\"startDate\": self.start_date.strftime(\"%Y-%m-%d\"),\n",
    "             \"endDate\": (last_day_of_month - datetime.timedelta(days=last_day_of_month.day)).strftime(\"%Y-%m-%d\")}]\n",
    " def datelist(self):    \n",
    "  date_list = []\n",
    "  while self.start_date<self.end_date:\n",
    "     date_list.append(self.date_range(self.start_date))\n",
    "     last_day_of_month = datetime.date(self.start_date.year, self.start_date.month, 1) + datetime.timedelta(days=32)\n",
    "     end_date_of_month = last_day_of_month - datetime.timedelta(days=last_day_of_month.day)\n",
    "     self.start_date = end_date_of_month + datetime.timedelta(days=1)\n",
    "  return date_list "
   ]
  },
  {
   "cell_type": "code",
   "execution_count": 2,
   "id": "a9b4fd64",
   "metadata": {},
   "outputs": [],
   "source": [
    "date=daterange()\n",
    "date_list=date.datelist()"
   ]
  },
  {
   "cell_type": "code",
   "execution_count": 3,
   "id": "9ac78958",
   "metadata": {},
   "outputs": [
    {
     "name": "stdout",
     "output_type": "stream",
     "text": [
      "[[{'startDate': '2023-01-01', 'endDate': '2023-01-31'}], [{'startDate': '2023-02-01', 'endDate': '2023-02-28'}], [{'startDate': '2023-03-01', 'endDate': '2023-03-31'}], [{'startDate': '2023-04-01', 'endDate': '2023-04-30'}], [{'startDate': '2023-05-01', 'endDate': '2023-05-31'}], [{'startDate': '2023-06-01', 'endDate': '2023-06-30'}], [{'startDate': '2023-07-01', 'endDate': '2023-07-31'}], [{'startDate': '2023-08-01', 'endDate': '2023-08-31'}]]\n"
     ]
    }
   ],
   "source": [
    "print(date_list)"
   ]
  },
  {
   "cell_type": "code",
   "execution_count": 4,
   "id": "5776c6df",
   "metadata": {},
   "outputs": [
    {
     "name": "stdout",
     "output_type": "stream",
     "text": [
      "2023-01-01 2023-01-31\n",
      "2023-02-01 2023-02-28\n",
      "2023-03-01 2023-03-31\n",
      "2023-04-01 2023-04-30\n",
      "2023-05-01 2023-05-31\n",
      "2023-06-01 2023-06-30\n",
      "2023-07-01 2023-07-31\n",
      "2023-08-01 2023-08-31\n"
     ]
    }
   ],
   "source": [
    "for date_item in date_list:\n",
    "    date_range = date_item[0]\n",
    "    startDate = date_range['startDate']\n",
    "    endDate = date_range['endDate']\n",
    "    print(startDate,endDate)"
   ]
  },
  {
   "cell_type": "code",
   "execution_count": null,
   "id": "b0beaf73",
   "metadata": {},
   "outputs": [],
   "source": []
  }
 ],
 "metadata": {
  "kernelspec": {
   "display_name": "Python 3 (ipykernel)",
   "language": "python",
   "name": "python3"
  },
  "language_info": {
   "codemirror_mode": {
    "name": "ipython",
    "version": 3
   },
   "file_extension": ".py",
   "mimetype": "text/x-python",
   "name": "python",
   "nbconvert_exporter": "python",
   "pygments_lexer": "ipython3",
   "version": "3.9.7"
  }
 },
 "nbformat": 4,
 "nbformat_minor": 5
}
