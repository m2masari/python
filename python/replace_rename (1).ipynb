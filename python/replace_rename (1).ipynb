{
 "cells": [
  {
   "cell_type": "markdown",
   "metadata": {},
   "source": [
    "Asagıda tanımladığımız dictionary'yi panda dataframe'ine cevirip daha sonra drop column,null değerleri drop etme, kolon adlarını değiştirme, kolon ekleme gibi işlemler yapacağız. En sonda bütün işlemleri tek bir code'da yapacağız."
   ]
  },
  {
   "cell_type": "code",
   "execution_count": 45,
   "metadata": {},
   "outputs": [],
   "source": [
    "# Kütüphanemizi yükleyelim\n",
    "import numpy as np\n",
    "import pandas as pd\n",
    "\n",
    "# Dictionary formatında datamızı girelim\n",
    "Houses = {\n",
    "    'Houses': ['House1', 'House2', 'House3', 'House4'],\n",
    "    'Size': [100,80,50,np.nan],\n",
    "    'Price': [18000, 250000, 300000, 500000],\n",
    "    'RoomCount': ['3+1',np.nan,'1+1','3+1']\n",
    "}"
   ]
  },
  {
   "cell_type": "code",
   "execution_count": 46,
   "metadata": {},
   "outputs": [
    {
     "data": {
      "text/plain": [
       "{'Houses': ['House1', 'House2', 'House3', 'House4'],\n",
       " 'Size': [100, 80, 50, nan],\n",
       " 'Price': [18000, 250000, 300000, 500000],\n",
       " 'RoomCount': ['3+1', nan, '1+1', '3+1']}"
      ]
     },
     "execution_count": 46,
     "metadata": {},
     "output_type": "execute_result"
    }
   ],
   "source": [
    "Houses"
   ]
  },
  {
   "cell_type": "code",
   "execution_count": 47,
   "metadata": {},
   "outputs": [
    {
     "data": {
      "text/html": [
       "<div>\n",
       "<style scoped>\n",
       "    .dataframe tbody tr th:only-of-type {\n",
       "        vertical-align: middle;\n",
       "    }\n",
       "\n",
       "    .dataframe tbody tr th {\n",
       "        vertical-align: top;\n",
       "    }\n",
       "\n",
       "    .dataframe thead th {\n",
       "        text-align: right;\n",
       "    }\n",
       "</style>\n",
       "<table border=\"1\" class=\"dataframe\">\n",
       "  <thead>\n",
       "    <tr style=\"text-align: right;\">\n",
       "      <th></th>\n",
       "      <th>Houses</th>\n",
       "      <th>Size</th>\n",
       "      <th>Price</th>\n",
       "      <th>RoomCount</th>\n",
       "    </tr>\n",
       "  </thead>\n",
       "  <tbody>\n",
       "    <tr>\n",
       "      <th>0</th>\n",
       "      <td>House1</td>\n",
       "      <td>100.0</td>\n",
       "      <td>18000</td>\n",
       "      <td>3+1</td>\n",
       "    </tr>\n",
       "    <tr>\n",
       "      <th>1</th>\n",
       "      <td>House2</td>\n",
       "      <td>80.0</td>\n",
       "      <td>250000</td>\n",
       "      <td>NaN</td>\n",
       "    </tr>\n",
       "    <tr>\n",
       "      <th>2</th>\n",
       "      <td>House3</td>\n",
       "      <td>50.0</td>\n",
       "      <td>300000</td>\n",
       "      <td>1+1</td>\n",
       "    </tr>\n",
       "    <tr>\n",
       "      <th>3</th>\n",
       "      <td>House4</td>\n",
       "      <td>NaN</td>\n",
       "      <td>500000</td>\n",
       "      <td>3+1</td>\n",
       "    </tr>\n",
       "  </tbody>\n",
       "</table>\n",
       "</div>"
      ],
      "text/plain": [
       "   Houses   Size   Price RoomCount\n",
       "0  House1  100.0   18000       3+1\n",
       "1  House2   80.0  250000       NaN\n",
       "2  House3   50.0  300000       1+1\n",
       "3  House4    NaN  500000       3+1"
      ]
     },
     "execution_count": 47,
     "metadata": {},
     "output_type": "execute_result"
    }
   ],
   "source": [
    "#Dictionary formatını panda dataframe'e çevirelim\n",
    "df = pd.DataFrame.from_dict(Houses)\n",
    "df"
   ]
  },
  {
   "cell_type": "code",
   "execution_count": 48,
   "metadata": {},
   "outputs": [
    {
     "data": {
      "text/html": [
       "<div>\n",
       "<style scoped>\n",
       "    .dataframe tbody tr th:only-of-type {\n",
       "        vertical-align: middle;\n",
       "    }\n",
       "\n",
       "    .dataframe tbody tr th {\n",
       "        vertical-align: top;\n",
       "    }\n",
       "\n",
       "    .dataframe thead th {\n",
       "        text-align: right;\n",
       "    }\n",
       "</style>\n",
       "<table border=\"1\" class=\"dataframe\">\n",
       "  <thead>\n",
       "    <tr style=\"text-align: right;\">\n",
       "      <th></th>\n",
       "      <th>Houses</th>\n",
       "      <th>Size</th>\n",
       "      <th>RoomCount</th>\n",
       "    </tr>\n",
       "  </thead>\n",
       "  <tbody>\n",
       "    <tr>\n",
       "      <th>0</th>\n",
       "      <td>House1</td>\n",
       "      <td>100.0</td>\n",
       "      <td>3+1</td>\n",
       "    </tr>\n",
       "    <tr>\n",
       "      <th>1</th>\n",
       "      <td>House2</td>\n",
       "      <td>80.0</td>\n",
       "      <td>NaN</td>\n",
       "    </tr>\n",
       "    <tr>\n",
       "      <th>2</th>\n",
       "      <td>House3</td>\n",
       "      <td>50.0</td>\n",
       "      <td>1+1</td>\n",
       "    </tr>\n",
       "    <tr>\n",
       "      <th>3</th>\n",
       "      <td>House4</td>\n",
       "      <td>NaN</td>\n",
       "      <td>3+1</td>\n",
       "    </tr>\n",
       "  </tbody>\n",
       "</table>\n",
       "</div>"
      ],
      "text/plain": [
       "   Houses   Size RoomCount\n",
       "0  House1  100.0       3+1\n",
       "1  House2   80.0       NaN\n",
       "2  House3   50.0       1+1\n",
       "3  House4    NaN       3+1"
      ]
     },
     "execution_count": 48,
     "metadata": {},
     "output_type": "execute_result"
    }
   ],
   "source": [
    "# Price Kolonunu  silelim\n",
    "del df['Price']\n",
    "df"
   ]
  },
  {
   "cell_type": "code",
   "execution_count": 49,
   "metadata": {},
   "outputs": [
    {
     "data": {
      "text/html": [
       "<div>\n",
       "<style scoped>\n",
       "    .dataframe tbody tr th:only-of-type {\n",
       "        vertical-align: middle;\n",
       "    }\n",
       "\n",
       "    .dataframe tbody tr th {\n",
       "        vertical-align: top;\n",
       "    }\n",
       "\n",
       "    .dataframe thead th {\n",
       "        text-align: right;\n",
       "    }\n",
       "</style>\n",
       "<table border=\"1\" class=\"dataframe\">\n",
       "  <thead>\n",
       "    <tr style=\"text-align: right;\">\n",
       "      <th></th>\n",
       "      <th>Houses</th>\n",
       "      <th>Size</th>\n",
       "      <th>RoomCount</th>\n",
       "    </tr>\n",
       "  </thead>\n",
       "  <tbody>\n",
       "    <tr>\n",
       "      <th>0</th>\n",
       "      <td>House1</td>\n",
       "      <td>100.0</td>\n",
       "      <td>3+1</td>\n",
       "    </tr>\n",
       "    <tr>\n",
       "      <th>2</th>\n",
       "      <td>House3</td>\n",
       "      <td>50.0</td>\n",
       "      <td>1+1</td>\n",
       "    </tr>\n",
       "  </tbody>\n",
       "</table>\n",
       "</div>"
      ],
      "text/plain": [
       "   Houses   Size RoomCount\n",
       "0  House1  100.0       3+1\n",
       "2  House3   50.0       1+1"
      ]
     },
     "execution_count": 49,
     "metadata": {},
     "output_type": "execute_result"
    }
   ],
   "source": [
    "# Null değerleri olan satırları drop edelim. Öncelikle boş hücreyi nan ile değiştirmemiz gerekir.\n",
    "df = df.dropna(subset=['Size', 'RoomCount'])\n",
    "df"
   ]
  },
  {
   "cell_type": "code",
   "execution_count": 50,
   "metadata": {},
   "outputs": [
    {
     "data": {
      "text/html": [
       "<div>\n",
       "<style scoped>\n",
       "    .dataframe tbody tr th:only-of-type {\n",
       "        vertical-align: middle;\n",
       "    }\n",
       "\n",
       "    .dataframe tbody tr th {\n",
       "        vertical-align: top;\n",
       "    }\n",
       "\n",
       "    .dataframe thead th {\n",
       "        text-align: right;\n",
       "    }\n",
       "</style>\n",
       "<table border=\"1\" class=\"dataframe\">\n",
       "  <thead>\n",
       "    <tr style=\"text-align: right;\">\n",
       "      <th></th>\n",
       "      <th>Houses</th>\n",
       "      <th>m2</th>\n",
       "      <th>OdaSayısı</th>\n",
       "    </tr>\n",
       "  </thead>\n",
       "  <tbody>\n",
       "    <tr>\n",
       "      <th>0</th>\n",
       "      <td>House1</td>\n",
       "      <td>100.0</td>\n",
       "      <td>3+1</td>\n",
       "    </tr>\n",
       "    <tr>\n",
       "      <th>2</th>\n",
       "      <td>House3</td>\n",
       "      <td>50.0</td>\n",
       "      <td>1+1</td>\n",
       "    </tr>\n",
       "  </tbody>\n",
       "</table>\n",
       "</div>"
      ],
      "text/plain": [
       "   Houses     m2 OdaSayısı\n",
       "0  House1  100.0       3+1\n",
       "2  House3   50.0       1+1"
      ]
     },
     "execution_count": 50,
     "metadata": {},
     "output_type": "execute_result"
    }
   ],
   "source": [
    "#Size kolonunu m2 ile RoomCount kolonunu oda sayısı ile değiştirelim\n",
    "df = df.rename(\n",
    "    {\n",
    "        'Size': 'm2',\n",
    "        'RoomCount': 'OdaSayısı',\n",
    "    },\n",
    "    axis=1,\n",
    ")\n",
    "df"
   ]
  },
  {
   "cell_type": "code",
   "execution_count": 51,
   "metadata": {},
   "outputs": [
    {
     "data": {
      "text/html": [
       "<div>\n",
       "<style scoped>\n",
       "    .dataframe tbody tr th:only-of-type {\n",
       "        vertical-align: middle;\n",
       "    }\n",
       "\n",
       "    .dataframe tbody tr th {\n",
       "        vertical-align: top;\n",
       "    }\n",
       "\n",
       "    .dataframe thead th {\n",
       "        text-align: right;\n",
       "    }\n",
       "</style>\n",
       "<table border=\"1\" class=\"dataframe\">\n",
       "  <thead>\n",
       "    <tr style=\"text-align: right;\">\n",
       "      <th></th>\n",
       "      <th>Houses</th>\n",
       "      <th>m2</th>\n",
       "      <th>OdaSayısı</th>\n",
       "      <th>BulunduguKat</th>\n",
       "    </tr>\n",
       "  </thead>\n",
       "  <tbody>\n",
       "    <tr>\n",
       "      <th>0</th>\n",
       "      <td>House1</td>\n",
       "      <td>100.0</td>\n",
       "      <td>3+1</td>\n",
       "      <td>1</td>\n",
       "    </tr>\n",
       "    <tr>\n",
       "      <th>2</th>\n",
       "      <td>House3</td>\n",
       "      <td>50.0</td>\n",
       "      <td>1+1</td>\n",
       "      <td>5</td>\n",
       "    </tr>\n",
       "  </tbody>\n",
       "</table>\n",
       "</div>"
      ],
      "text/plain": [
       "   Houses     m2 OdaSayısı  BulunduguKat\n",
       "0  House1  100.0       3+1             1\n",
       "2  House3   50.0       1+1             5"
      ]
     },
     "execution_count": 51,
     "metadata": {},
     "output_type": "execute_result"
    }
   ],
   "source": [
    "# Baska bir kolon ekleyelim\n",
    "df['BulunduguKat'] = [1,5]\n",
    "df"
   ]
  },
  {
   "cell_type": "markdown",
   "metadata": {},
   "source": [
    "Asagıda tek bir code'da bütün işlemleri birleştireceğiz."
   ]
  },
  {
   "cell_type": "code",
   "execution_count": 52,
   "metadata": {},
   "outputs": [
    {
     "data": {
      "text/html": [
       "<div>\n",
       "<style scoped>\n",
       "    .dataframe tbody tr th:only-of-type {\n",
       "        vertical-align: middle;\n",
       "    }\n",
       "\n",
       "    .dataframe tbody tr th {\n",
       "        vertical-align: top;\n",
       "    }\n",
       "\n",
       "    .dataframe thead th {\n",
       "        text-align: right;\n",
       "    }\n",
       "</style>\n",
       "<table border=\"1\" class=\"dataframe\">\n",
       "  <thead>\n",
       "    <tr style=\"text-align: right;\">\n",
       "      <th></th>\n",
       "      <th>Houses</th>\n",
       "      <th>m2</th>\n",
       "      <th>OdaSayısı</th>\n",
       "      <th>BulunduguKat</th>\n",
       "    </tr>\n",
       "  </thead>\n",
       "  <tbody>\n",
       "    <tr>\n",
       "      <th>0</th>\n",
       "      <td>House1</td>\n",
       "      <td>100.0</td>\n",
       "      <td>3+1</td>\n",
       "      <td>1</td>\n",
       "    </tr>\n",
       "    <tr>\n",
       "      <th>2</th>\n",
       "      <td>House3</td>\n",
       "      <td>50.0</td>\n",
       "      <td>1+1</td>\n",
       "      <td>5</td>\n",
       "    </tr>\n",
       "  </tbody>\n",
       "</table>\n",
       "</div>"
      ],
      "text/plain": [
       "   Houses     m2 OdaSayısı  BulunduguKat\n",
       "0  House1  100.0       3+1             1\n",
       "2  House3   50.0       1+1             5"
      ]
     },
     "execution_count": 52,
     "metadata": {},
     "output_type": "execute_result"
    }
   ],
   "source": [
    "df = (\n",
    "    pd.DataFrame(Houses)\n",
    "    .drop(columns=\"Price\")\n",
    "    .dropna(subset=['Size', 'RoomCount'])\n",
    "    .rename(columns={\"Size\": \"m2\", \"RoomCount\": \"OdaSayısı\"})\n",
    "    .assign(BulunduguKat=[1,5])\n",
    "    )\n",
    "df"
   ]
  }
 ],
 "metadata": {
  "kernelspec": {
   "display_name": "Python 3",
   "language": "python",
   "name": "python3"
  },
  "language_info": {
   "codemirror_mode": {
    "name": "ipython",
    "version": 3
   },
   "file_extension": ".py",
   "mimetype": "text/x-python",
   "name": "python",
   "nbconvert_exporter": "python",
   "pygments_lexer": "ipython3",
   "version": "3.6.8"
  }
 },
 "nbformat": 4,
 "nbformat_minor": 2
}
