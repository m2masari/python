{
 "cells": [
  {
   "cell_type": "markdown",
   "id": "a32ecd08-97ff-4373-b2bf-35f099ba26a2",
   "metadata": {},
   "source": [
    "https://www.youtube.com/watch?v=9JUAPgtkKpI"
   ]
  },
  {
   "cell_type": "markdown",
   "id": "f33a45be-7674-45f7-956e-7cbbc3fb29da",
   "metadata": {},
   "source": [
    "https://github.com/patrickloeber/python-engineer-notebooks/blob/master/advanced-python/11-JSON.ipynb"
   ]
  },
  {
   "cell_type": "code",
   "execution_count": 9,
   "id": "55c3c7ba-c067-4403-9aa7-a9361ee5f46b",
   "metadata": {},
   "outputs": [],
   "source": [
    "import numpy as np"
   ]
  },
  {
   "cell_type": "code",
   "execution_count": 5,
   "id": "fe5fa463-d290-4073-96f1-8d6f069f176f",
   "metadata": {},
   "outputs": [
    {
     "name": "stdout",
     "output_type": "stream",
     "text": [
      "[1 2 3]\n",
      "(3,)\n",
      "int32\n",
      "1\n",
      "3\n"
     ]
    }
   ],
   "source": [
    "a=np.array([1,2,3])\n",
    "print(a)\n",
    "print(a.shape)\n",
    "print(a.dtype)\n",
    "print(a.ndim)\n",
    "print(a.size)"
   ]
  },
  {
   "cell_type": "code",
   "execution_count": 6,
   "id": "4331f136-4cab-4e7c-9f84-45608a1e46b6",
   "metadata": {},
   "outputs": [
    {
     "name": "stdout",
     "output_type": "stream",
     "text": [
      "1\n"
     ]
    }
   ],
   "source": [
    "print(a[0])"
   ]
  },
  {
   "cell_type": "code",
   "execution_count": 10,
   "id": "f0a14b48-9753-4d15-bbaa-47d4bcce7fdc",
   "metadata": {},
   "outputs": [],
   "source": [
    "a[0]=10"
   ]
  },
  {
   "cell_type": "code",
   "execution_count": 11,
   "id": "e19adeac-5ecd-4bf3-bec9-58305a34d405",
   "metadata": {},
   "outputs": [
    {
     "name": "stdout",
     "output_type": "stream",
     "text": [
      "[10  2  3]\n"
     ]
    }
   ],
   "source": [
    "print(a)"
   ]
  },
  {
   "cell_type": "code",
   "execution_count": 12,
   "id": "71a9ce3c-0b79-4ae1-bc69-b3933129e9cb",
   "metadata": {},
   "outputs": [],
   "source": [
    "b=a*np.array([2,0,2])"
   ]
  },
  {
   "cell_type": "code",
   "execution_count": 14,
   "id": "87c0c012-1d6a-4456-bcf3-d4847e398c23",
   "metadata": {},
   "outputs": [
    {
     "name": "stdout",
     "output_type": "stream",
     "text": [
      "[20  0  6]\n"
     ]
    }
   ],
   "source": [
    "print(b)"
   ]
  },
  {
   "cell_type": "code",
   "execution_count": 33,
   "id": "0b725b45-133f-4ac3-8047-1b50f1a75da1",
   "metadata": {},
   "outputs": [
    {
     "name": "stdout",
     "output_type": "stream",
     "text": [
      "[1, 2, 3]\n",
      "[1 2 3]\n"
     ]
    }
   ],
   "source": [
    "l=[1,2,3]\n",
    "a=np.array([1,2,3])\n",
    "print(l)\n",
    "print(a)"
   ]
  },
  {
   "cell_type": "code",
   "execution_count": 21,
   "id": "4b294491-806b-4508-8141-b4054c01cca6",
   "metadata": {},
   "outputs": [
    {
     "name": "stdout",
     "output_type": "stream",
     "text": [
      "[1, 2, 3, 4]\n"
     ]
    }
   ],
   "source": [
    "l.append(4)\n",
    "print(l)"
   ]
  },
  {
   "cell_type": "code",
   "execution_count": 22,
   "id": "661c9400-5947-4273-b888-fc6fdc7f5660",
   "metadata": {},
   "outputs": [
    {
     "ename": "AttributeError",
     "evalue": "'numpy.ndarray' object has no attribute 'append'",
     "output_type": "error",
     "traceback": [
      "\u001b[1;31m---------------------------------------------------------------------------\u001b[0m",
      "\u001b[1;31mAttributeError\u001b[0m                            Traceback (most recent call last)",
      "Cell \u001b[1;32mIn[22], line 1\u001b[0m\n\u001b[1;32m----> 1\u001b[0m a\u001b[38;5;241m.\u001b[39mappend(\u001b[38;5;241m4\u001b[39m)\n",
      "\u001b[1;31mAttributeError\u001b[0m: 'numpy.ndarray' object has no attribute 'append'"
     ]
    }
   ],
   "source": [
    "a.append(4)"
   ]
  },
  {
   "cell_type": "code",
   "execution_count": 26,
   "id": "790c397a-096a-49b8-9256-cb3401c73050",
   "metadata": {},
   "outputs": [
    {
     "name": "stdout",
     "output_type": "stream",
     "text": [
      "[1, 2, 3, 4]\n"
     ]
    }
   ],
   "source": [
    "l=l+[4]\n",
    "print(l)"
   ]
  },
  {
   "cell_type": "code",
   "execution_count": 31,
   "id": "b2822464-d64f-43f2-b9fb-26225634c027",
   "metadata": {},
   "outputs": [
    {
     "name": "stdout",
     "output_type": "stream",
     "text": [
      "[5 6 7]\n"
     ]
    }
   ],
   "source": [
    "a=a+np.array([4])\n",
    "print(a)"
   ]
  },
  {
   "cell_type": "code",
   "execution_count": 34,
   "id": "7ce096ff-c2a6-4065-bb77-a18b88f5acf3",
   "metadata": {},
   "outputs": [
    {
     "name": "stdout",
     "output_type": "stream",
     "text": [
      "[5 6 7]\n"
     ]
    }
   ],
   "source": [
    "a=a+np.array([4,4,4])\n",
    "print(a)"
   ]
  },
  {
   "cell_type": "code",
   "execution_count": 17,
   "id": "eb2e626f-aa56-471d-bb4c-dd018ee21e8f",
   "metadata": {},
   "outputs": [],
   "source": [
    "l=[1,2,3]\n",
    "a=np.array([1,2,3])"
   ]
  },
  {
   "cell_type": "code",
   "execution_count": 38,
   "id": "48856fed-2227-466b-9bfe-f2e3426c1934",
   "metadata": {},
   "outputs": [
    {
     "name": "stdout",
     "output_type": "stream",
     "text": [
      "[1, 2, 3, 1, 2, 3]\n"
     ]
    }
   ],
   "source": [
    "l=l*2\n",
    "print(l)"
   ]
  },
  {
   "cell_type": "code",
   "execution_count": 18,
   "id": "2a7fe590-0398-45a7-b5f8-6596900f04d4",
   "metadata": {},
   "outputs": [
    {
     "name": "stdout",
     "output_type": "stream",
     "text": [
      "[2 4 6]\n"
     ]
    }
   ],
   "source": [
    "a=a*2\n",
    "print(a)"
   ]
  },
  {
   "cell_type": "code",
   "execution_count": 43,
   "id": "335f7db3-c5d2-4488-8a2a-bd55a65bb4ee",
   "metadata": {},
   "outputs": [
    {
     "name": "stdout",
     "output_type": "stream",
     "text": [
      "[1.         1.41421356 1.73205081]\n"
     ]
    }
   ],
   "source": [
    "a=np.sqrt(a)\n",
    "print(a)"
   ]
  },
  {
   "cell_type": "code",
   "execution_count": 46,
   "id": "5d4a18c4-39c5-4277-af57-b10ccce9b104",
   "metadata": {},
   "outputs": [
    {
     "name": "stdout",
     "output_type": "stream",
     "text": [
      "[0.         0.69314718 1.09861229]\n"
     ]
    }
   ],
   "source": [
    "a=np.log(a)\n",
    "print(a)"
   ]
  },
  {
   "cell_type": "code",
   "execution_count": null,
   "id": "7ec8116f-72a0-4494-b27d-ac210c6456fa",
   "metadata": {},
   "outputs": [],
   "source": [
    "l1=[1,2,3]\n",
    "l2=[4,5,6]\n",
    "a=np.array([1,2,3])"
   ]
  },
  {
   "cell_type": "markdown",
   "id": "5d04d25b-8760-46f3-a474-236160905a0e",
   "metadata": {},
   "source": [
    "#dot product"
   ]
  },
  {
   "cell_type": "code",
   "execution_count": 13,
   "id": "befbb9f2-ef15-4f04-871a-b2df8abb1b0b",
   "metadata": {},
   "outputs": [],
   "source": [
    "l1=[1,2,3]\n",
    "l2=[4,5,6]"
   ]
  },
  {
   "cell_type": "code",
   "execution_count": 14,
   "id": "3ae0ef34-b657-4853-a80c-816c5d685a4a",
   "metadata": {},
   "outputs": [
    {
     "name": "stdout",
     "output_type": "stream",
     "text": [
      "18\n"
     ]
    }
   ],
   "source": [
    "#dot product \n",
    "dot=0\n",
    "for i in range(len(l1)):\n",
    "       dot=l1[i]*l2[i]\n",
    "print(dot)    "
   ]
  },
  {
   "cell_type": "code",
   "execution_count": 20,
   "id": "595a0935-e8a7-410c-9b68-6d6f19771ae8",
   "metadata": {},
   "outputs": [
    {
     "name": "stdout",
     "output_type": "stream",
     "text": [
      "[1 2 3]\n",
      "[4 5 6]\n"
     ]
    }
   ],
   "source": [
    "a1=np.array(l1)\n",
    "a2=np.array(l2)\n",
    "print(a1)\n",
    "print(a2)"
   ]
  },
  {
   "cell_type": "code",
   "execution_count": 21,
   "id": "3f3a570f-3c47-456d-92c8-0c85c8781630",
   "metadata": {},
   "outputs": [
    {
     "name": "stdout",
     "output_type": "stream",
     "text": [
      "32\n"
     ]
    }
   ],
   "source": [
    "dot=np.dot(a1,a2)\n",
    "print(dot)"
   ]
  },
  {
   "cell_type": "code",
   "execution_count": 26,
   "id": "13a21fa4-a9c4-44e1-8605-e1e875069257",
   "metadata": {},
   "outputs": [
    {
     "name": "stdout",
     "output_type": "stream",
     "text": [
      "[ 4 10 18]\n"
     ]
    }
   ],
   "source": [
    "sum1=a1*a2\n",
    "print(sum1)"
   ]
  },
  {
   "cell_type": "code",
   "execution_count": 27,
   "id": "ae807187-10d3-4c9f-96c5-dde7c67298ff",
   "metadata": {},
   "outputs": [
    {
     "name": "stdout",
     "output_type": "stream",
     "text": [
      "32\n"
     ]
    }
   ],
   "source": [
    "dot=np.sum(sum1)\n",
    "print(dot)"
   ]
  },
  {
   "cell_type": "code",
   "execution_count": 29,
   "id": "0230815f-c000-488c-9834-508e804a6074",
   "metadata": {},
   "outputs": [
    {
     "name": "stdout",
     "output_type": "stream",
     "text": [
      "32\n"
     ]
    }
   ],
   "source": [
    "dot=(a1*a2).sum()\n",
    "print(dot)"
   ]
  },
  {
   "cell_type": "code",
   "execution_count": 31,
   "id": "84a18bbf-2e90-440e-b003-7af0391ee2d0",
   "metadata": {},
   "outputs": [
    {
     "name": "stdout",
     "output_type": "stream",
     "text": [
      "32\n"
     ]
    }
   ],
   "source": [
    "dot=a1@a2\n",
    "print(dot)"
   ]
  },
  {
   "cell_type": "code",
   "execution_count": 32,
   "id": "2fe86a29-7569-4751-a924-6bf741d8d636",
   "metadata": {},
   "outputs": [
    {
     "name": "stdout",
     "output_type": "stream",
     "text": [
      "32\n"
     ]
    }
   ],
   "source": [
    "dot=a1@a2\n",
    "print(dot)"
   ]
  },
  {
   "cell_type": "markdown",
   "id": "06cb5633-2f6d-4a2a-a5db-405733802bd6",
   "metadata": {},
   "source": [
    "speed test "
   ]
  },
  {
   "cell_type": "code",
   "execution_count": 33,
   "id": "617953a2-8701-4908-9e6c-a40838021766",
   "metadata": {},
   "outputs": [],
   "source": [
    "from timeit import default_timer as timer"
   ]
  },
  {
   "cell_type": "code",
   "execution_count": 42,
   "id": "87a486e4-b13b-4e5e-8254-bb6a6715eae0",
   "metadata": {},
   "outputs": [
    {
     "name": "stdout",
     "output_type": "stream",
     "text": [
      "Time with lists: 0.001239399891346693\n",
      "Time with array: 6.200000643730164e-05\n",
      "Ratio 19.99031875262873\n"
     ]
    }
   ],
   "source": [
    "# speed test lists vs array\n",
    "from timeit import default_timer as timer\n",
    "\n",
    "a = np.random.randn(1000)\n",
    "b = np.random.randn(1000)\n",
    "\n",
    "A = list(a)\n",
    "B = list(b)\n",
    "\n",
    "T = 10\n",
    "\n",
    "def dot1():\n",
    "    dot = 0\n",
    "    for i in range(len(A)):\n",
    "        dot += A[i]*B[i]\n",
    "    return dot\n",
    "\n",
    "def dot2():\n",
    "    return np.dot(a,b)\n",
    "\n",
    "start = timer()\n",
    "for t in range(T):\n",
    "    dot1()\n",
    "end = timer()\n",
    "t1 = end-start\n",
    "\n",
    "start = timer()\n",
    "for t in range(T):\n",
    "      dot2()\n",
    "end = timer()\n",
    "t2 = end-start\n",
    "\n",
    "print('Time with lists:', t1)\n",
    "print('Time with array:', t2)\n",
    "print('Ratio', t1/t2)"
   ]
  },
  {
   "cell_type": "code",
   "execution_count": 43,
   "id": "15026abb-505e-4645-8870-525d5b3e1976",
   "metadata": {},
   "outputs": [],
   "source": [
    "a=np.random.randn(10)"
   ]
  },
  {
   "cell_type": "code",
   "execution_count": 46,
   "id": "73be18d7-1b65-4d4e-a8c6-fa6f034d31ed",
   "metadata": {},
   "outputs": [
    {
     "name": "stdout",
     "output_type": "stream",
     "text": [
      "<class 'numpy.ndarray'>\n",
      "[-0.52892827  0.865775    1.54876884  0.06422344 -0.24594952  2.31592357\n",
      "  0.68228856  1.66556213 -0.50783077 -0.27842283]\n"
     ]
    }
   ],
   "source": [
    "print(type(a))\n",
    "print(a)"
   ]
  },
  {
   "cell_type": "code",
   "execution_count": 47,
   "id": "aa076c9c-7665-45ec-9dfb-bfcf7a1c364b",
   "metadata": {},
   "outputs": [],
   "source": [
    "a=np.array([1,2])"
   ]
  },
  {
   "cell_type": "code",
   "execution_count": 48,
   "id": "c7fa939b-9171-4026-8a82-9ecfd2666704",
   "metadata": {},
   "outputs": [
    {
     "name": "stdout",
     "output_type": "stream",
     "text": [
      "(2,)\n"
     ]
    }
   ],
   "source": [
    "print(a.shape)"
   ]
  },
  {
   "cell_type": "markdown",
   "id": "4aaf02be-1396-4576-8c06-78a250995e0c",
   "metadata": {},
   "source": [
    "Multidimensional"
   ]
  },
  {
   "cell_type": "code",
   "execution_count": 51,
   "id": "4140b340-a665-4af4-a7ed-82bf7b9becc4",
   "metadata": {},
   "outputs": [],
   "source": [
    "a=np.array([[1,2],[3,4]])"
   ]
  },
  {
   "cell_type": "code",
   "execution_count": 52,
   "id": "601e4b5b-c366-422f-ace1-5bd21f2d59b1",
   "metadata": {},
   "outputs": [
    {
     "name": "stdout",
     "output_type": "stream",
     "text": [
      "[[1 2]\n",
      " [3 4]]\n",
      "(2, 2)\n"
     ]
    }
   ],
   "source": [
    "print(a)\n",
    "print(a.shape)"
   ]
  },
  {
   "cell_type": "code",
   "execution_count": 53,
   "id": "160296b6-4bdd-432c-b9ac-105fe8e0f582",
   "metadata": {},
   "outputs": [
    {
     "name": "stdout",
     "output_type": "stream",
     "text": [
      "[1 2]\n",
      "1\n",
      "1\n"
     ]
    }
   ],
   "source": [
    "# row first, then columns\n",
    "print(a[0])#first row\n",
    "print(a[0][0])#\n",
    "print(a[0,0])"
   ]
  },
  {
   "cell_type": "code",
   "execution_count": 65,
   "id": "2626d4ac-9fd3-499a-9f18-a1fc777797df",
   "metadata": {},
   "outputs": [],
   "source": [
    "a=np.array([[1,2,5],[3,4,10]])"
   ]
  },
  {
   "cell_type": "code",
   "execution_count": 66,
   "id": "a4b3f130-9a09-47fa-81b8-1a03a0c53235",
   "metadata": {},
   "outputs": [
    {
     "name": "stdout",
     "output_type": "stream",
     "text": [
      "[[ 1  2  5]\n",
      " [ 3  4 10]]\n",
      "<class 'numpy.ndarray'>\n",
      "(2, 3)\n"
     ]
    }
   ],
   "source": [
    "print(a)\n",
    "print(type(a))\n",
    "print(a.shape)"
   ]
  },
  {
   "cell_type": "code",
   "execution_count": 67,
   "id": "cc780a06-7e26-46c1-a855-d0a5492a706e",
   "metadata": {},
   "outputs": [
    {
     "name": "stdout",
     "output_type": "stream",
     "text": [
      "[1 2 5]\n",
      "1\n",
      "1\n"
     ]
    }
   ],
   "source": [
    "# row first, then columns\n",
    "print(a[0])#first row\n",
    "print(a[0][0])#row 1 col 1 \n",
    "print(a[0,0])"
   ]
  },
  {
   "cell_type": "code",
   "execution_count": 68,
   "id": "915e9743-61b9-4a64-8af3-044595d51d09",
   "metadata": {},
   "outputs": [
    {
     "name": "stdout",
     "output_type": "stream",
     "text": [
      "[1 3]\n",
      "[1 2 5]\n"
     ]
    }
   ],
   "source": [
    "# slicing\n",
    "print(a[:,0]) # all rows in col 0\n",
    "print(a[0,:]) # all columns in row 0"
   ]
  },
  {
   "cell_type": "code",
   "execution_count": 69,
   "id": "aca19bd6-9e30-496e-b7af-73300bd1a00c",
   "metadata": {},
   "outputs": [
    {
     "name": "stdout",
     "output_type": "stream",
     "text": [
      "[[ 1  3]\n",
      " [ 2  4]\n",
      " [ 5 10]]\n"
     ]
    }
   ],
   "source": [
    "# transpose\n",
    "print(a.T)"
   ]
  },
  {
   "cell_type": "code",
   "execution_count": 73,
   "id": "5db6a658-0217-4057-b979-bb60fa84fc97",
   "metadata": {},
   "outputs": [
    {
     "name": "stdout",
     "output_type": "stream",
     "text": [
      "[[ 1  2  3  4]\n",
      " [ 5  6  7  8]\n",
      " [ 9 10 11 12]]\n",
      "2\n",
      "[1 2 3 4]\n",
      "[1 5 9]\n",
      "[[2 3]\n",
      " [6 7]]\n",
      "12\n"
     ]
    }
   ],
   "source": [
    "# Array indexing\n",
    "# Slicing: Similar to Python lists, numpy arrays can be sliced.\n",
    "# Since arrays may be multidimensional, you must specify a slice for each \n",
    "# dimension of the array:\n",
    "a = np.array([[1,2,3,4], [5,6,7,8], [9,10,11,12]])\n",
    "print(a)\n",
    "\n",
    "# Integer array indexing\n",
    "b = a[0,1]\n",
    "print(b)\n",
    "\n",
    "# Slicing\n",
    "row0 = a[0,:]\n",
    "print(row0)\n",
    "\n",
    "col0 = a[:, 0]\n",
    "print(col0)\n",
    "\n",
    "slice_a = a[0:2,1:3]\n",
    "print(slice_a)\n",
    "\n",
    "# indexing starting from the end: -1, -2 etc...\n",
    "last = a[-1,-1]\n",
    "print(last)"
   ]
  },
  {
   "cell_type": "code",
   "execution_count": 77,
   "id": "56f5e573-53f8-473d-9a4b-79abfa83b272",
   "metadata": {},
   "outputs": [
    {
     "name": "stdout",
     "output_type": "stream",
     "text": [
      "[ 9 10 11 12]\n"
     ]
    }
   ],
   "source": [
    "b=a[-1]\n",
    "print(b)"
   ]
  },
  {
   "cell_type": "code",
   "execution_count": 78,
   "id": "9fd8968e-dde0-48f1-9842-380f5be56b08",
   "metadata": {},
   "outputs": [
    {
     "name": "stdout",
     "output_type": "stream",
     "text": [
      "12\n"
     ]
    }
   ],
   "source": [
    "b=a[-1,-1]\n",
    "print(b)"
   ]
  },
  {
   "cell_type": "code",
   "execution_count": 89,
   "id": "3d0fb1e8-82d9-4be9-beeb-3aa9daa81396",
   "metadata": {},
   "outputs": [
    {
     "name": "stdout",
     "output_type": "stream",
     "text": [
      "[[ 1  2 10]\n",
      " [ 3  4 12]\n",
      " [ 5  6 -1]]\n"
     ]
    }
   ],
   "source": [
    "# Boolean indexing:\n",
    "a = np.array([[1,2,10], [3, 4,12], [5, 6,-1]])\n",
    "print(a)"
   ]
  },
  {
   "cell_type": "code",
   "execution_count": 90,
   "id": "1f50a29b-6012-41db-8c13-a55619b9d575",
   "metadata": {},
   "outputs": [
    {
     "name": "stdout",
     "output_type": "stream",
     "text": [
      "[[False False  True]\n",
      " [ True  True  True]\n",
      " [ True  True False]]\n"
     ]
    }
   ],
   "source": [
    "# same shape with True or False for the condition\n",
    "bool_idx = a > 2\n",
    "print(bool_idx)"
   ]
  },
  {
   "cell_type": "code",
   "execution_count": 91,
   "id": "de15ec4f-1a26-4615-ad9e-f3bd7d5af88f",
   "metadata": {},
   "outputs": [
    {
     "name": "stdout",
     "output_type": "stream",
     "text": [
      "[10  3  4 12  5  6]\n"
     ]
    }
   ],
   "source": [
    "# note: this will be a rank 1 array!\n",
    "print(a[bool_idx])"
   ]
  },
  {
   "cell_type": "code",
   "execution_count": 92,
   "id": "d3467045-40be-4d12-8502-610abec79e3a",
   "metadata": {},
   "outputs": [
    {
     "name": "stdout",
     "output_type": "stream",
     "text": [
      "[10  3  4 12  5  6]\n"
     ]
    }
   ],
   "source": [
    "# We can do all of the above in a single concise statement:\n",
    "print(a[a > 2])"
   ]
  },
  {
   "cell_type": "code",
   "execution_count": 93,
   "id": "0f780884-bf95-4611-affd-eed5ff720795",
   "metadata": {},
   "outputs": [
    {
     "name": "stdout",
     "output_type": "stream",
     "text": [
      "[[-1 -1 10]\n",
      " [ 3  4 12]\n",
      " [ 5  6 -1]]\n"
     ]
    }
   ],
   "source": [
    "# np.where(): same size with modified values\n",
    "b = np.where(a>2, a, -1)\n",
    "print(b)"
   ]
  },
  {
   "cell_type": "code",
   "execution_count": 98,
   "id": "b67918a9-08d4-4a08-bee9-584344f5ba17",
   "metadata": {},
   "outputs": [
    {
     "name": "stdout",
     "output_type": "stream",
     "text": [
      "[10 19 30 41 50 61]\n",
      "[19 41 61]\n"
     ]
    }
   ],
   "source": [
    "# fancy indexing: access multiple indices at once\n",
    "a = np.array([10,19,30,41,50,61])\n",
    "print(a)\n",
    "b = a[[1,3,5]]\n",
    "print(b)"
   ]
  },
  {
   "cell_type": "code",
   "execution_count": 99,
   "id": "e5a3c84b-caf8-48a0-938a-ad62de5c919a",
   "metadata": {},
   "outputs": [
    {
     "name": "stdout",
     "output_type": "stream",
     "text": [
      "[19 41 61]\n"
     ]
    }
   ],
   "source": [
    "b=[1,3,5]\n",
    "print(a[b])"
   ]
  },
  {
   "cell_type": "code",
   "execution_count": 100,
   "id": "c90882be-e39d-4b37-aba0-d28f713d14fd",
   "metadata": {},
   "outputs": [],
   "source": [
    "even=np.argwhere(a%2==0).flatten()"
   ]
  },
  {
   "cell_type": "code",
   "execution_count": 101,
   "id": "bfbbb166-281d-4199-a778-e4d5f638ed19",
   "metadata": {},
   "outputs": [
    {
     "name": "stdout",
     "output_type": "stream",
     "text": [
      "[10 30 50]\n"
     ]
    }
   ],
   "source": [
    "print(a[even])"
   ]
  },
  {
   "cell_type": "code",
   "execution_count": 102,
   "id": "7bac87d2-e7c8-44e9-9ebd-108c5b08815f",
   "metadata": {},
   "outputs": [
    {
     "name": "stdout",
     "output_type": "stream",
     "text": [
      "[10 30 50]\n"
     ]
    }
   ],
   "source": [
    "a_even = a[even]\n",
    "print(a_even)"
   ]
  },
  {
   "cell_type": "code",
   "execution_count": 105,
   "id": "03f8a7ac-1ca2-44b5-9ec1-efa84e3294b9",
   "metadata": {},
   "outputs": [
    {
     "name": "stdout",
     "output_type": "stream",
     "text": [
      "[1 2 3 4 5 6]\n",
      "(6,)\n"
     ]
    }
   ],
   "source": [
    "# reshape\n",
    "a = np.arange(1, 7)\n",
    "print(a)\n",
    "print(a.shape)"
   ]
  },
  {
   "cell_type": "code",
   "execution_count": 104,
   "id": "46fb4d75-547e-4d87-8d3c-0232ba91bfa2",
   "metadata": {},
   "outputs": [
    {
     "name": "stdout",
     "output_type": "stream",
     "text": [
      "[[1 2 3]\n",
      " [4 5 6]]\n"
     ]
    }
   ],
   "source": [
    "b = a.reshape((2, 3)) # error if shape cannot be used\n",
    "print(b)"
   ]
  },
  {
   "cell_type": "code",
   "execution_count": 107,
   "id": "2f621b1b-231a-45aa-83a0-93305635b1e0",
   "metadata": {},
   "outputs": [
    {
     "name": "stdout",
     "output_type": "stream",
     "text": [
      "[[1 2]\n",
      " [3 4]\n",
      " [5 6]]\n"
     ]
    }
   ],
   "source": [
    "b=a.reshape((3,2))\n",
    "print(b)"
   ]
  },
  {
   "cell_type": "code",
   "execution_count": 108,
   "id": "2a68d774-86d1-4514-9c37-c228e8272f12",
   "metadata": {},
   "outputs": [
    {
     "name": "stdout",
     "output_type": "stream",
     "text": [
      "(6,)\n",
      "[[1 2 3 4 5 6]]\n",
      "<class 'numpy.ndarray'>\n",
      "(1, 6)\n"
     ]
    }
   ],
   "source": [
    "print(a.shape)\n",
    "d = a[np.newaxis, :]\n",
    "print(d)\n",
    "print(type(d))\n",
    "print(d.shape)"
   ]
  },
  {
   "cell_type": "code",
   "execution_count": 110,
   "id": "a7b92173-c7e6-42ed-b7ab-76dcba839c17",
   "metadata": {},
   "outputs": [
    {
     "name": "stdout",
     "output_type": "stream",
     "text": [
      "[[1]\n",
      " [2]\n",
      " [3]\n",
      " [4]\n",
      " [5]\n",
      " [6]]\n"
     ]
    }
   ],
   "source": [
    "b=a[:,np.newaxis]\n",
    "print(b)"
   ]
  },
  {
   "cell_type": "code",
   "execution_count": 111,
   "id": "b296f175-3ed6-47c6-999f-fd376ee23bf0",
   "metadata": {},
   "outputs": [
    {
     "name": "stdout",
     "output_type": "stream",
     "text": [
      "[[1 2]\n",
      " [3 4]]\n",
      "[[5 6]]\n",
      "[1 2 3 4 5 6]\n"
     ]
    }
   ],
   "source": [
    "# concatenation\n",
    "a = np.array([[1, 2], [3, 4]])\n",
    "print(a)\n",
    "b = np.array([[5, 6]])\n",
    "print(b)\n"
   ]
  },
  {
   "cell_type": "code",
   "execution_count": 112,
   "id": "88ed1775-45c2-48dd-8b5e-1aeb401dbe58",
   "metadata": {},
   "outputs": [
    {
     "name": "stdout",
     "output_type": "stream",
     "text": [
      "[[1 2]\n",
      " [3 4]\n",
      " [5 6]]\n"
     ]
    }
   ],
   "source": [
    "c = np.concatenate((a, b))\n",
    "print(c)"
   ]
  },
  {
   "cell_type": "code",
   "execution_count": 113,
   "id": "de06cc32-3fff-4539-8339-ed97c7bf2631",
   "metadata": {},
   "outputs": [
    {
     "name": "stdout",
     "output_type": "stream",
     "text": [
      "[[1 2]\n",
      " [3 4]\n",
      " [5 6]]\n"
     ]
    }
   ],
   "source": [
    "c = np.concatenate((a, b),axis=0)\n",
    "print(c)"
   ]
  },
  {
   "cell_type": "code",
   "execution_count": 114,
   "id": "c6bc0162-01d0-41d0-9aaa-37a8774130fe",
   "metadata": {},
   "outputs": [
    {
     "name": "stdout",
     "output_type": "stream",
     "text": [
      "[1 2 3 4 5 6]\n"
     ]
    }
   ],
   "source": [
    "c = np.concatenate((a, b),axis=None)\n",
    "print(c)"
   ]
  },
  {
   "cell_type": "code",
   "execution_count": 115,
   "id": "dd3d016b-5e78-456c-806e-6e2241a36160",
   "metadata": {},
   "outputs": [
    {
     "ename": "ValueError",
     "evalue": "all the input array dimensions except for the concatenation axis must match exactly, but along dimension 0, the array at index 0 has size 2 and the array at index 1 has size 1",
     "output_type": "error",
     "traceback": [
      "\u001b[1;31m---------------------------------------------------------------------------\u001b[0m",
      "\u001b[1;31mValueError\u001b[0m                                Traceback (most recent call last)",
      "Cell \u001b[1;32mIn[115], line 1\u001b[0m\n\u001b[1;32m----> 1\u001b[0m c \u001b[38;5;241m=\u001b[39m np\u001b[38;5;241m.\u001b[39mconcatenate((a, b),axis\u001b[38;5;241m=\u001b[39m\u001b[38;5;241m1\u001b[39m)\n\u001b[0;32m      2\u001b[0m \u001b[38;5;28mprint\u001b[39m(c)\n",
      "\u001b[1;31mValueError\u001b[0m: all the input array dimensions except for the concatenation axis must match exactly, but along dimension 0, the array at index 0 has size 2 and the array at index 1 has size 1"
     ]
    }
   ],
   "source": [
    "c = np.concatenate((a, b),axis=1)\n",
    "print(c)"
   ]
  },
  {
   "cell_type": "code",
   "execution_count": 116,
   "id": "64bad7db-5d6e-4582-98b6-3f23f1d6db7a",
   "metadata": {},
   "outputs": [
    {
     "name": "stdout",
     "output_type": "stream",
     "text": [
      "[[1 2 5]\n",
      " [3 4 6]]\n"
     ]
    }
   ],
   "source": [
    "e = np.concatenate((a, b.T), axis=1)\n",
    "print(e)"
   ]
  },
  {
   "cell_type": "code",
   "execution_count": 118,
   "id": "1fbcf51d-8c43-4b58-a0dc-f51faf42648d",
   "metadata": {},
   "outputs": [
    {
     "name": "stdout",
     "output_type": "stream",
     "text": [
      "<class 'numpy.ndarray'>\n",
      "[1 2 3 4 5 6 7 8]\n"
     ]
    }
   ],
   "source": [
    "# hstack: Stack arrays in sequence horizontally (column wise). needs a tuple\n",
    "a = np.array([1,2,3,4])\n",
    "b = np.array([5,6,7,8])\n",
    "c = np.hstack((a,b))\n",
    "print(type(c))\n",
    "print(c)"
   ]
  },
  {
   "cell_type": "code",
   "execution_count": 119,
   "id": "b67cd0c6-622d-40e4-bc84-687a86f58025",
   "metadata": {},
   "outputs": [
    {
     "name": "stdout",
     "output_type": "stream",
     "text": [
      "[[1 2 3 4]\n",
      " [5 6 7 8]]\n"
     ]
    }
   ],
   "source": [
    "# vstack: Stack arrays in sequence vertically (row wise). needs a tuple\n",
    "a = np.array([1,2,3,4])\n",
    "b = np.array([5,6,7,8])\n",
    "c = np.vstack((a,b))\n",
    "print(c)"
   ]
  },
  {
   "cell_type": "code",
   "execution_count": 120,
   "id": "dd04d8cc-0ccf-4132-87cb-f9fb70c75783",
   "metadata": {},
   "outputs": [
    {
     "name": "stdout",
     "output_type": "stream",
     "text": [
      "[[1 2]\n",
      " [3 4]\n",
      " [5 6]\n",
      " [7 8]]\n"
     ]
    }
   ],
   "source": [
    "a = np.array([[1,2], [3,4]])\n",
    "b = np.array([[5,6], [7,8]])\n",
    "c = np.vstack((a,b))\n",
    "print(c)"
   ]
  },
  {
   "cell_type": "code",
   "execution_count": 121,
   "id": "2dad9cc4-cc80-4312-9ceb-cc6000035d90",
   "metadata": {},
   "outputs": [
    {
     "name": "stdout",
     "output_type": "stream",
     "text": [
      "[[ 2  2  4]\n",
      " [ 5  5  7]\n",
      " [ 8  8 10]\n",
      " [11 11 13]]\n"
     ]
    }
   ],
   "source": [
    "# broadcasting\n",
    "# Broadcasting is a powerful mechanism that allows numpy to work with arrays of \n",
    "# different shapes when performing arithmetic operations.\n",
    "x = np.array([[1,2,3], [4,5,6], [7,8,9], [10, 11, 12]])\n",
    "v = np.array([1, 0, 1])\n",
    "y = x + v  # Add v to each row of x using broadcasting\n",
    "print(y) "
   ]
  },
  {
   "cell_type": "code",
   "execution_count": 128,
   "id": "36349010-1cb1-49d5-82e6-1bfb53a6c610",
   "metadata": {},
   "outputs": [
    {
     "name": "stdout",
     "output_type": "stream",
     "text": [
      "[[ 7  8  9 10 11 12 13]\n",
      " [17 18 19 20 21 22 23]]\n"
     ]
    }
   ],
   "source": [
    "# data science functions and axes\n",
    "a = np.array([[7,8,9,10,11,12,13], [17,18,19,20,21,22,23]])\n",
    "print(a)"
   ]
  },
  {
   "cell_type": "code",
   "execution_count": 123,
   "id": "17abb535-b58e-48d9-b7ae-ce2755284b9e",
   "metadata": {},
   "outputs": [
    {
     "name": "stdout",
     "output_type": "stream",
     "text": [
      "210\n"
     ]
    }
   ],
   "source": [
    "print(a.sum(axis=None)) # overall sum"
   ]
  },
  {
   "cell_type": "code",
   "execution_count": 124,
   "id": "fc97946e-d9fc-4a24-a539-eaa30cd0cdc3",
   "metadata": {},
   "outputs": [
    {
     "name": "stdout",
     "output_type": "stream",
     "text": [
      "210\n"
     ]
    }
   ],
   "source": [
    "print(a.sum())"
   ]
  },
  {
   "cell_type": "code",
   "execution_count": 125,
   "id": "ba178f59-2b69-4560-9092-8ee2e78f5eae",
   "metadata": {},
   "outputs": [
    {
     "name": "stdout",
     "output_type": "stream",
     "text": [
      "[24 26 28 30 32 34 36]\n"
     ]
    }
   ],
   "source": [
    "print(a.sum(axis=0)) # along the rows -> 1 sum entry for each column"
   ]
  },
  {
   "cell_type": "code",
   "execution_count": 126,
   "id": "cf4886e5-4569-4d86-9d8a-3bdc82ba2874",
   "metadata": {},
   "outputs": [
    {
     "name": "stdout",
     "output_type": "stream",
     "text": [
      "[ 70 140]\n"
     ]
    }
   ],
   "source": [
    "print(a.sum(axis=1)) # along the columns -> 1 sum entry for each row"
   ]
  },
  {
   "cell_type": "code",
   "execution_count": 129,
   "id": "342ced3c-98bd-4a4a-88bd-08b4583fa483",
   "metadata": {},
   "outputs": [
    {
     "name": "stdout",
     "output_type": "stream",
     "text": [
      "[12. 13. 14. 15. 16. 17. 18.]\n"
     ]
    }
   ],
   "source": [
    "print(a.mean(axis=0))"
   ]
  },
  {
   "cell_type": "code",
   "execution_count": 130,
   "id": "20a601c7-c867-4faf-aa21-074c9d518162",
   "metadata": {},
   "outputs": [
    {
     "name": "stdout",
     "output_type": "stream",
     "text": [
      "15.0\n"
     ]
    }
   ],
   "source": [
    "print(a.mean(axis=None))"
   ]
  },
  {
   "cell_type": "code",
   "execution_count": 131,
   "id": "a31b10e9-e83a-4c71-b420-2241c50d166f",
   "metadata": {},
   "outputs": [
    {
     "name": "stdout",
     "output_type": "stream",
     "text": [
      "15.0\n",
      "15.0\n",
      "[12. 13. 14. 15. 16. 17. 18.]\n",
      "[10. 20.]\n"
     ]
    }
   ],
   "source": [
    "print(a.mean(axis=None)) # overall mean\n",
    "print(a.mean())\n",
    "print(a.mean(axis=0)) # along the rows -> 1 mean entry for each column\n",
    "print(a.mean(axis=1)) # along the columns -> 1 mean entry for each row"
   ]
  },
  {
   "cell_type": "code",
   "execution_count": 132,
   "id": "112e0b30-6464-4bb4-9433-2a301f1889dc",
   "metadata": {},
   "outputs": [
    {
     "name": "stdout",
     "output_type": "stream",
     "text": [
      "29.0\n"
     ]
    }
   ],
   "source": [
    "print(a.var())"
   ]
  },
  {
   "cell_type": "code",
   "execution_count": 133,
   "id": "111792e5-1f37-4796-a4e8-3fcd53433668",
   "metadata": {},
   "outputs": [
    {
     "name": "stdout",
     "output_type": "stream",
     "text": [
      "[2. 2.]\n"
     ]
    }
   ],
   "source": [
    "print(a.std(axis=1))"
   ]
  },
  {
   "cell_type": "code",
   "execution_count": 134,
   "id": "005310c5-04bd-4177-879e-4518978ff513",
   "metadata": {},
   "outputs": [
    {
     "name": "stdout",
     "output_type": "stream",
     "text": [
      "23\n"
     ]
    }
   ],
   "source": [
    "print(np.max(a,axis=None))"
   ]
  },
  {
   "cell_type": "code",
   "execution_count": 136,
   "id": "fdc0652c-f4ce-466b-a6da-a31ac1d771db",
   "metadata": {},
   "outputs": [
    {
     "name": "stdout",
     "output_type": "stream",
     "text": [
      "int32\n"
     ]
    }
   ],
   "source": [
    "# datatypes\n",
    "# https://numpy.org/devdocs/user/basics.types.html\n",
    "# Let numpy choose the datatype\n",
    "x = np.array([1, 2])\n",
    "print(x.dtype)#datatype"
   ]
  },
  {
   "cell_type": "code",
   "execution_count": 137,
   "id": "225a7b9f-0fad-45a9-b768-d5acdd0b0cfb",
   "metadata": {},
   "outputs": [
    {
     "name": "stdout",
     "output_type": "stream",
     "text": [
      "float64\n"
     ]
    }
   ],
   "source": [
    "x = np.array([1.0, 2.0])\n",
    "print(x.dtype)#datatype"
   ]
  },
  {
   "cell_type": "code",
   "execution_count": 138,
   "id": "413c7f8f-b6fb-4372-8355-bb1aaa769d7f",
   "metadata": {},
   "outputs": [
    {
     "name": "stdout",
     "output_type": "stream",
     "text": [
      "int64\n"
     ]
    }
   ],
   "source": [
    "# Force a particular datatype, how many bits (how precise)\n",
    "x = np.array([1, 2], dtype=np.int64) # 8 bytes\n",
    "print(x.dtype)"
   ]
  },
  {
   "cell_type": "code",
   "execution_count": 140,
   "id": "f1d9439b-d8a5-4770-8f78-a22321b1789e",
   "metadata": {},
   "outputs": [
    {
     "name": "stdout",
     "output_type": "stream",
     "text": [
      "int64\n"
     ]
    }
   ],
   "source": [
    "# Force a particular datatype, how many bits (how precise)\n",
    "x = np.array([1.0, 2.0], dtype=np.int64) # 8 bytes\n",
    "print(x.dtype)"
   ]
  },
  {
   "cell_type": "code",
   "execution_count": 139,
   "id": "c09d2df5-cac0-45c7-8029-3fd90272aa4f",
   "metadata": {},
   "outputs": [
    {
     "name": "stdout",
     "output_type": "stream",
     "text": [
      "float32\n"
     ]
    }
   ],
   "source": [
    "x = np.array([1, 2], dtype=np.float32) # 4 bytes\n",
    "print(x.dtype)"
   ]
  },
  {
   "cell_type": "code",
   "execution_count": 141,
   "id": "bc5a2f1f-f10f-440f-92ef-180a503c4f58",
   "metadata": {},
   "outputs": [
    {
     "name": "stdout",
     "output_type": "stream",
     "text": [
      "float32\n"
     ]
    }
   ],
   "source": [
    "# Force a particular datatype, how many bits (how precise)\n",
    "x = np.array([1.0, 2.0], dtype=np.float32) # 8 bytes\n",
    "print(x.dtype)"
   ]
  },
  {
   "cell_type": "code",
   "execution_count": 142,
   "id": "a7234477-97dd-4d7f-843a-ceee912e357f",
   "metadata": {},
   "outputs": [
    {
     "name": "stdout",
     "output_type": "stream",
     "text": [
      "float64\n"
     ]
    }
   ],
   "source": [
    "# Force a particular datatype, how many bits (how precise)\n",
    "x = np.array([1.0, 2.0], dtype=np.float64) # 8 bytes\n",
    "print(x.dtype)"
   ]
  },
  {
   "cell_type": "code",
   "execution_count": 143,
   "id": "8f681484-f9e5-41b3-b5b6-972c84b86ba4",
   "metadata": {},
   "outputs": [
    {
     "name": "stdout",
     "output_type": "stream",
     "text": [
      "float16\n"
     ]
    }
   ],
   "source": [
    "# Force a particular datatype, how many bits (how precise)\n",
    "x = np.array([1.0, 2.0], dtype=np.float16) # 8 bytes\n",
    "print(x.dtype)"
   ]
  },
  {
   "cell_type": "code",
   "execution_count": 146,
   "id": "ea39db18-39e7-4eee-9629-3d6c3201acbf",
   "metadata": {},
   "outputs": [
    {
     "name": "stdout",
     "output_type": "stream",
     "text": [
      "[42  2  3]\n"
     ]
    }
   ],
   "source": [
    "# copy\n",
    "a = np.array([1,2,3])\n",
    "b = a # only copies reference! modifys both arrays\n",
    "b[0] = 42\n",
    "print(a)"
   ]
  },
  {
   "cell_type": "code",
   "execution_count": 145,
   "id": "7a78ed19-2f36-467c-adb2-fd00e628b9a2",
   "metadata": {},
   "outputs": [
    {
     "name": "stdout",
     "output_type": "stream",
     "text": [
      "[1 2 3]\n"
     ]
    }
   ],
   "source": [
    "a = np.array([1,2,3])\n",
    "b = a.copy() # actual copy!\n",
    "b[0] = 42\n",
    "print(a)"
   ]
  },
  {
   "cell_type": "code",
   "execution_count": 149,
   "id": "93bc92ce-a691-4b05-a709-09f125d65e35",
   "metadata": {},
   "outputs": [
    {
     "name": "stdout",
     "output_type": "stream",
     "text": [
      "[[0. 0. 0.]\n",
      " [0. 0. 0.]]\n",
      "float64\n",
      "[[1. 1. 1.]\n",
      " [1. 1. 1.]]\n"
     ]
    }
   ],
   "source": [
    "# generating data\n",
    "a = np.zeros((2,3)) # size as tuple\n",
    "b = np.ones((2,3))\n",
    "print(a)\n",
    "print(a.dtype)\n",
    "print(b)"
   ]
  },
  {
   "cell_type": "code",
   "execution_count": 150,
   "id": "8a99ff97-4e56-430e-8be7-d39050fefc2c",
   "metadata": {},
   "outputs": [
    {
     "name": "stdout",
     "output_type": "stream",
     "text": [
      "[[5. 5. 5.]\n",
      " [5. 5. 5.]]\n"
     ]
    }
   ],
   "source": [
    "a=np.full((2,3),5.0)\n",
    "print(a)"
   ]
  },
  {
   "cell_type": "code",
   "execution_count": 155,
   "id": "78ae2e2b-4500-490e-8c06-541b33deb090",
   "metadata": {},
   "outputs": [
    {
     "name": "stdout",
     "output_type": "stream",
     "text": [
      "[[5. 5. 5.]\n",
      " [5. 5. 5.]\n",
      " [5. 5. 5.]]\n"
     ]
    }
   ],
   "source": [
    "# specific value\n",
    "c = 5 * np.ones((3,3))\n",
    "print(c)"
   ]
  },
  {
   "cell_type": "code",
   "execution_count": 154,
   "id": "25eb8103-ecf8-4234-965a-29dda09e5275",
   "metadata": {},
   "outputs": [
    {
     "name": "stdout",
     "output_type": "stream",
     "text": [
      "[[5 5 5]\n",
      " [5 5 5]\n",
      " [5 5 5]]\n"
     ]
    }
   ],
   "source": [
    "# specific value\n",
    "c = 5 * np.ones((3,3),dtype=np.int32)\n",
    "print(c)"
   ]
  },
  {
   "cell_type": "code",
   "execution_count": 156,
   "id": "ea6c4d15-9727-4538-8d2a-0b523f8ab93e",
   "metadata": {},
   "outputs": [
    {
     "name": "stdout",
     "output_type": "stream",
     "text": [
      "[[1. 0. 0.]\n",
      " [0. 1. 0.]\n",
      " [0. 0. 1.]]\n"
     ]
    }
   ],
   "source": [
    "# identity\n",
    "d = np.eye(3) #3x3\n",
    "print(d)"
   ]
  },
  {
   "cell_type": "code",
   "execution_count": 157,
   "id": "8a453603-78bd-47e4-84c4-aa3f28eb962c",
   "metadata": {},
   "outputs": [
    {
     "name": "stdout",
     "output_type": "stream",
     "text": [
      "[[1 0 0]\n",
      " [0 1 0]\n",
      " [0 0 1]]\n"
     ]
    }
   ],
   "source": [
    "# identity\n",
    "d = np.eye(3,dtype=np.int32) #3x3\n",
    "print(d)"
   ]
  },
  {
   "cell_type": "code",
   "execution_count": 158,
   "id": "83c8fa0a-1c58-4d90-859a-2784c559b367",
   "metadata": {},
   "outputs": [
    {
     "name": "stdout",
     "output_type": "stream",
     "text": [
      "[0 1 2 3 4 5 6 7 8 9]\n"
     ]
    }
   ],
   "source": [
    "# arange\n",
    "e = np.arange(10)\n",
    "print(e)"
   ]
  },
  {
   "cell_type": "code",
   "execution_count": 160,
   "id": "d4c84abb-dc5b-48c0-bd3b-545d434c79f0",
   "metadata": {},
   "outputs": [
    {
     "name": "stdout",
     "output_type": "stream",
     "text": [
      "[ 0  1  2  3  4  5  6  7  8  9 10 11 12 13 14 15 16 17 18 19]\n"
     ]
    }
   ],
   "source": [
    "a=np.arange(20)\n",
    "print(a)"
   ]
  },
  {
   "cell_type": "code",
   "execution_count": 161,
   "id": "a32dc1d9-59da-47e6-bfe4-7d4068d1c276",
   "metadata": {},
   "outputs": [
    {
     "name": "stdout",
     "output_type": "stream",
     "text": [
      "[ 0.   2.5  5.   7.5 10. ]\n"
     ]
    }
   ],
   "source": [
    "# linspace\n",
    "f = np.linspace(0, 10, 5)\n",
    "print(f)"
   ]
  },
  {
   "cell_type": "code",
   "execution_count": 162,
   "id": "e858dd5c-2727-43a8-8ad2-31982e0c42b2",
   "metadata": {},
   "outputs": [
    {
     "name": "stdout",
     "output_type": "stream",
     "text": [
      "[[0.73112943 0.5050788 ]\n",
      " [0.17484584 0.87297348]\n",
      " [0.67482736 0.64078312]]\n"
     ]
    }
   ],
   "source": [
    "# random numbers\n",
    "a = np.random.random((3,2)) # uniform 0-1 distribution\n",
    "print(a)"
   ]
  },
  {
   "cell_type": "code",
   "execution_count": 163,
   "id": "f11191b2-00f9-4fe6-9cae-86155876a63f",
   "metadata": {},
   "outputs": [
    {
     "name": "stdout",
     "output_type": "stream",
     "text": [
      "[[ 1.59952379 -1.11710324]\n",
      " [ 1.74625949 -0.25249523]\n",
      " [-0.59215714 -0.56793519]]\n"
     ]
    }
   ],
   "source": [
    "b = np.random.randn(3,2) # normal/Gaussian distribution, mean 0 and unit variance\n",
    "# no tuple as shape here! each dimension one argument\n",
    "print(b)"
   ]
  },
  {
   "cell_type": "code",
   "execution_count": 164,
   "id": "be01da79-4d92-408d-b4a4-9e64dc9a30b7",
   "metadata": {},
   "outputs": [
    {
     "name": "stdout",
     "output_type": "stream",
     "text": [
      "0.0018628940845723673 1.011694152398252 1.0058300812752876\n"
     ]
    }
   ],
   "source": [
    "R = np.random.randn(10000)\n",
    "print(R.mean(), R.var(), R.std())"
   ]
  },
  {
   "cell_type": "code",
   "execution_count": 166,
   "id": "95afe629-e7a9-4184-8dbd-6210c54f3f6e",
   "metadata": {},
   "outputs": [
    {
     "name": "stdout",
     "output_type": "stream",
     "text": [
      "[[ 2.01122693  1.41106295 -1.47118528]\n",
      " [-0.23048612 -0.39413464 -0.81004037]\n",
      " [-0.55281581 -0.45299103  1.79273543]\n",
      " [ 2.30740683 -0.90065744  0.09000857]\n",
      " [ 0.03662761  1.5063298   0.7236615 ]\n",
      " [-2.48258077 -1.48524344  1.32724104]\n",
      " [ 0.20128102  0.22117689 -0.25174974]\n",
      " [-1.68168711  0.80515697 -0.41776774]\n",
      " [-0.89588119  0.47780167  2.0186697 ]\n",
      " [-0.15958709 -1.32030654 -1.14446349]]\n",
      "0.009293636179853727\n"
     ]
    }
   ],
   "source": [
    "R = np.random.randn(10, 3)\n",
    "print(R)\n",
    "print(R.mean()) # mean of whole array"
   ]
  },
  {
   "cell_type": "code",
   "execution_count": 167,
   "id": "edc28327-3015-4965-a138-2f94cdb3cf2c",
   "metadata": {},
   "outputs": [
    {
     "name": "stdout",
     "output_type": "stream",
     "text": [
      "[[5 8 8]\n",
      " [4 6 8]\n",
      " [8 5 5]]\n"
     ]
    }
   ],
   "source": [
    "# random integer, low,high,size; high is exclusive\n",
    "R = np.random.randint(3,10,size=(3,3)) # if we only pass one parameter, then from 0-x\n",
    "print(R)"
   ]
  },
  {
   "cell_type": "code",
   "execution_count": 169,
   "id": "757559b8-bebd-4d8d-af9c-19aae35f4bf1",
   "metadata": {},
   "outputs": [
    {
     "name": "stdout",
     "output_type": "stream",
     "text": [
      "[0 1 2 3 0 0 4 2 0 0]\n"
     ]
    }
   ],
   "source": [
    "# with integer is between 0 up to integer exclusive\n",
    "c = np.random.choice(5, size=10)\n",
    "print(c)"
   ]
  },
  {
   "cell_type": "code",
   "execution_count": 170,
   "id": "9a68ce5b-69e4-4a5a-97ea-e958efa36ee1",
   "metadata": {},
   "outputs": [
    {
     "name": "stdout",
     "output_type": "stream",
     "text": [
      "[-6 -8 -6 -8 -7 -6 -8 -7 -6 -7]\n"
     ]
    }
   ],
   "source": [
    "# with integer is between 0 up to integer exclusive\n",
    "c = np.random.choice([-8,-7,-6], size=10)\n",
    "print(c)"
   ]
  },
  {
   "cell_type": "code",
   "execution_count": 171,
   "id": "d9b839ab-0292-49b0-a652-a67d45d04250",
   "metadata": {},
   "outputs": [
    {
     "name": "stdout",
     "output_type": "stream",
     "text": [
      "[3 4 3 3 2 2 2 3]\n"
     ]
    }
   ],
   "source": [
    "# with an array it draws random values from this array\n",
    "d = np.random.choice([1,2,3,4], size=8)\n",
    "print(d)"
   ]
  },
  {
   "cell_type": "code",
   "execution_count": 173,
   "id": "cf1ad233-2c48-4893-9950-2f769aeb66b8",
   "metadata": {},
   "outputs": [
    {
     "name": "stdout",
     "output_type": "stream",
     "text": [
      "[[1 2]\n",
      " [3 4]]\n",
      "[-0.37228132  5.37228132]\n",
      "[[-0.82456484 -0.41597356]\n",
      " [ 0.56576746 -0.90937671]]\n",
      "[-0.82456484  0.56576746]\n"
     ]
    }
   ],
   "source": [
    "# eigenvalues\n",
    "a = np.array([[1,2], [3,4]])\n",
    "eigenvalues, eigenvectors = np.linalg.eig(a)\n",
    "# Note: use eigh if your matrix is symmetric (faster)\n",
    "print(a)\n",
    "print(eigenvalues)\n",
    "print(eigenvectors) # column vectors\n",
    "print(eigenvectors[:,0]) # column 0 corresponding to eigenvalue[0]"
   ]
  },
  {
   "cell_type": "code",
   "execution_count": 174,
   "id": "5ef72aea-5bdf-4f14-91d2-719782d9abae",
   "metadata": {},
   "outputs": [
    {
     "name": "stdout",
     "output_type": "stream",
     "text": [
      "[ 0.30697009 -0.21062466] [ 0.30697009 -0.21062466]\n",
      "[ True False]\n",
      "True\n"
     ]
    }
   ],
   "source": [
    "# verify: e-vec * e-val = A * e-vec\n",
    "d = eigenvectors[:,0] * eigenvalues[0]\n",
    "e = a @ eigenvectors[:, 0]\n",
    "print(d, e)\n",
    "print(d == e) # numerical issues\n",
    "\n",
    "# correct way to compare matrix\n",
    "print(np.allclose(d,e))"
   ]
  },
  {
   "cell_type": "code",
   "execution_count": 175,
   "id": "da53ad3f-b537-4c6c-b4f7-f735a1587afd",
   "metadata": {},
   "outputs": [
    {
     "name": "stdout",
     "output_type": "stream",
     "text": [
      "[1500.  700.]\n",
      "[1500.  700.]\n"
     ]
    }
   ],
   "source": [
    "# solve linear system\n",
    "# x1+x2=2200\n",
    "# 1.5 x1 + 4 x2 = 5050\n",
    "# 2 equations and 2 unknowns\n",
    "A = np.array([[1, 1], [1.5, 4]])\n",
    "b = np.array([2200,5050])\n",
    "\n",
    "# Ax = b <=> x = A-1 b\n",
    "\n",
    "# But: inverse is slow and less accurate\n",
    "x = np.linalg.inv(A).dot(b) # not recommended\n",
    "print(x)\n",
    "x = np.linalg.solve(A,b) # good\n",
    "print(x)"
   ]
  },
  {
   "cell_type": "code",
   "execution_count": 176,
   "id": "a44260a1-fc73-4e80-8827-fb22b3962764",
   "metadata": {},
   "outputs": [
    {
     "ename": "NameError",
     "evalue": "name 'FILE_NAME' is not defined",
     "output_type": "error",
     "traceback": [
      "\u001b[1;31m---------------------------------------------------------------------------\u001b[0m",
      "\u001b[1;31mNameError\u001b[0m                                 Traceback (most recent call last)",
      "Cell \u001b[1;32mIn[176], line 6\u001b[0m\n\u001b[0;32m      1\u001b[0m \u001b[38;5;66;03m# loading from csv\u001b[39;00m\n\u001b[0;32m      2\u001b[0m \u001b[38;5;66;03m# https://www.python-engineer.com/videos/how-to-load-data/\u001b[39;00m\n\u001b[0;32m      3\u001b[0m \n\u001b[0;32m      4\u001b[0m \u001b[38;5;66;03m# 1) load with np.loadtxt()\u001b[39;00m\n\u001b[0;32m      5\u001b[0m \u001b[38;5;66;03m# skiprows=1\u001b[39;00m\n\u001b[1;32m----> 6\u001b[0m data \u001b[38;5;241m=\u001b[39m np\u001b[38;5;241m.\u001b[39mloadtxt(FILE_NAME, delimiter\u001b[38;5;241m=\u001b[39m\u001b[38;5;124m\"\u001b[39m\u001b[38;5;124m,\u001b[39m\u001b[38;5;124m\"\u001b[39m,dtype\u001b[38;5;241m=\u001b[39mnp\u001b[38;5;241m.\u001b[39mfloat32)\n\u001b[0;32m      7\u001b[0m \u001b[38;5;28mprint\u001b[39m(data\u001b[38;5;241m.\u001b[39mshape, data\u001b[38;5;241m.\u001b[39mdtype)\n\u001b[0;32m      9\u001b[0m \u001b[38;5;66;03m# 2) load with np.genfromtxt()\u001b[39;00m\n\u001b[0;32m     10\u001b[0m \u001b[38;5;66;03m# skip_header=0, missing_values=\"---\", filling_values=0.0\u001b[39;00m\n",
      "\u001b[1;31mNameError\u001b[0m: name 'FILE_NAME' is not defined"
     ]
    }
   ],
   "source": [
    "# loading from csv\n",
    "# https://www.python-engineer.com/videos/how-to-load-data/\n",
    "\n",
    "# 1) load with np.loadtxt()\n",
    "# skiprows=1\n",
    "data = np.loadtxt(FILE_NAME, delimiter=\",\",dtype=np.float32)\n",
    "print(data.shape, data.dtype)\n",
    "\n",
    "# 2) load with np.genfromtxt()\n",
    "# skip_header=0, missing_values=\"---\", filling_values=0.0\n",
    "data = np.genfromtxt(FILE_NAME, delimiter=\",\", dtype=np.float32)\n",
    "print(data.shape)"
   ]
  },
  {
   "cell_type": "code",
   "execution_count": null,
   "id": "f3eb77ce-5c90-4d82-8372-e7d3e1876f1c",
   "metadata": {},
   "outputs": [],
   "source": []
  }
 ],
 "metadata": {
  "kernelspec": {
   "display_name": "Python 3 (ipykernel)",
   "language": "python",
   "name": "python3"
  },
  "language_info": {
   "codemirror_mode": {
    "name": "ipython",
    "version": 3
   },
   "file_extension": ".py",
   "mimetype": "text/x-python",
   "name": "python",
   "nbconvert_exporter": "python",
   "pygments_lexer": "ipython3",
   "version": "3.11.5"
  }
 },
 "nbformat": 4,
 "nbformat_minor": 5
}
