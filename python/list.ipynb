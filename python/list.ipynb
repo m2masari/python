{
 "cells": [
  {
   "cell_type": "markdown",
   "metadata": {},
   "source": [
    "# Lists:ordered , mutable allows duplicate elements\n",
    "\n",
    "- Python lists are dynamic data structures, allowing for modifications to their elements. You can alter individual elements, replace them, and rearrange the order of elements even after the list has been initialized"
   ]
  },
  {
   "cell_type": "code",
   "execution_count": 47,
   "metadata": {
    "id": "43-b_aUczYef"
   },
   "outputs": [],
   "source": [
    "list=[\"banana\",\"apple\",\"cherry\"]"
   ]
  },
  {
   "cell_type": "code",
   "execution_count": 48,
   "metadata": {
    "colab": {
     "base_uri": "https://localhost:8080/"
    },
    "id": "zLv69NZaqjG6",
    "outputId": "18d52685-690a-44e7-8347-7ff248ff3d1f"
   },
   "outputs": [
    {
     "data": {
      "text/plain": [
       "list"
      ]
     },
     "execution_count": 48,
     "metadata": {},
     "output_type": "execute_result"
    }
   ],
   "source": [
    "type(my_list)"
   ]
  },
  {
   "cell_type": "code",
   "execution_count": 50,
   "metadata": {
    "colab": {
     "base_uri": "https://localhost:8080/"
    },
    "id": "0DWfapVgzpfI",
    "outputId": "c6b1225e-9437-497e-d07d-ef653f63a5c5"
   },
   "outputs": [
    {
     "name": "stdout",
     "output_type": "stream",
     "text": [
      "['banana', 'apple', 'cherry']\n"
     ]
    }
   ],
   "source": [
    "print(list)"
   ]
  },
  {
   "cell_type": "code",
   "execution_count": 51,
   "metadata": {
    "colab": {
     "base_uri": "https://localhost:8080/"
    },
    "id": "qelxtrxDzwO2",
    "outputId": "b10e13a3-51b5-460a-a551-065326607260"
   },
   "outputs": [
    {
     "data": {
      "text/plain": [
       "list"
      ]
     },
     "execution_count": 51,
     "metadata": {},
     "output_type": "execute_result"
    }
   ],
   "source": [
    "#creating empty list \n",
    "list2=[]\n",
    "type(list2)"
   ]
  },
  {
   "cell_type": "code",
   "execution_count": 52,
   "metadata": {
    "colab": {
     "base_uri": "https://localhost:8080/"
    },
    "id": "TdXE03eEz3nX",
    "outputId": "3697d76a-3089-4348-d630-fdb4c07eb917"
   },
   "outputs": [
    {
     "name": "stdout",
     "output_type": "stream",
     "text": [
      "[3, True, 'APPLE', 'APPLE']\n"
     ]
    }
   ],
   "source": [
    "#Duplicates allowwed\n",
    "list3=[3,True,'APPLE','APPLE'] \n",
    "print(list3)"
   ]
  },
  {
   "cell_type": "markdown",
   "metadata": {},
   "source": [
    "### Index and slicing in list"
   ]
  },
  {
   "cell_type": "code",
   "execution_count": 124,
   "metadata": {
    "colab": {
     "base_uri": "https://localhost:8080/"
    },
    "id": "TwtHnI050KZH",
    "outputId": "aea082a8-1026-4367-f29a-9379ee1cc403"
   },
   "outputs": [
    {
     "name": "stdout",
     "output_type": "stream",
     "text": [
      "['a', 'bc', 15, '%%mm', 'John', 'apple', 'xx1', 3425.675]\n",
      "a\n"
     ]
    }
   ],
   "source": [
    "list=[\"a\",'bc',15,'%%mm','John','apple','xx1',3425.675]\n",
    "print(list)\n",
    "element=list[0]\n",
    "print(element)"
   ]
  },
  {
   "cell_type": "code",
   "execution_count": 56,
   "metadata": {},
   "outputs": [
    {
     "name": "stdout",
     "output_type": "stream",
     "text": [
      "bc\n"
     ]
    }
   ],
   "source": [
    "element=list[1]\n",
    "print(element)"
   ]
  },
  {
   "cell_type": "code",
   "execution_count": 57,
   "metadata": {},
   "outputs": [
    {
     "name": "stdout",
     "output_type": "stream",
     "text": [
      "15\n"
     ]
    }
   ],
   "source": [
    "element=list[2]\n",
    "print(element)"
   ]
  },
  {
   "cell_type": "code",
   "execution_count": 58,
   "metadata": {
    "colab": {
     "base_uri": "https://localhost:8080/"
    },
    "id": "DaLQcmTK03ZW",
    "outputId": "02c60488-093c-41e2-a4d0-310396485d2f"
   },
   "outputs": [
    {
     "name": "stdout",
     "output_type": "stream",
     "text": [
      "3425.675\n"
     ]
    }
   ],
   "source": [
    "element=list[-1]\n",
    "print(element)"
   ]
  },
  {
   "cell_type": "code",
   "execution_count": 59,
   "metadata": {},
   "outputs": [
    {
     "name": "stdout",
     "output_type": "stream",
     "text": [
      "xx1\n"
     ]
    }
   ],
   "source": [
    "element=list[-2]\n",
    "print(element)"
   ]
  },
  {
   "cell_type": "code",
   "execution_count": 60,
   "metadata": {},
   "outputs": [
    {
     "name": "stdout",
     "output_type": "stream",
     "text": [
      "apple\n"
     ]
    }
   ],
   "source": [
    "element=list[-3]\n",
    "print(element)"
   ]
  },
  {
   "cell_type": "code",
   "execution_count": 61,
   "metadata": {},
   "outputs": [
    {
     "name": "stdout",
     "output_type": "stream",
     "text": [
      "[15, '%%mm', 'John']\n"
     ]
    }
   ],
   "source": [
    "#element from index 2 to index 4\n",
    "print(list[2:5])"
   ]
  },
  {
   "cell_type": "code",
   "execution_count": 62,
   "metadata": {},
   "outputs": [
    {
     "name": "stdout",
     "output_type": "stream",
     "text": [
      "['apple', 'xx1', 3425.675]\n"
     ]
    }
   ],
   "source": [
    "# items from index 5 to end\n",
    "print(list[5:])"
   ]
  },
  {
   "cell_type": "code",
   "execution_count": 125,
   "metadata": {},
   "outputs": [
    {
     "name": "stdout",
     "output_type": "stream",
     "text": [
      "['a', 'bc', 15]\n"
     ]
    }
   ],
   "source": [
    "# items upto index 3\n",
    "print(list[:3])"
   ]
  },
  {
   "cell_type": "code",
   "execution_count": 127,
   "metadata": {},
   "outputs": [
    {
     "name": "stdout",
     "output_type": "stream",
     "text": [
      "['a', 'bc', 15, '%%mm', 'John', 'apple', 'xx1', 3425.675]\n"
     ]
    }
   ],
   "source": [
    "a=list[::1]\n",
    "print(a)"
   ]
  },
  {
   "cell_type": "code",
   "execution_count": 128,
   "metadata": {},
   "outputs": [
    {
     "name": "stdout",
     "output_type": "stream",
     "text": [
      "['a', 15, 'John', 'xx1']\n"
     ]
    }
   ],
   "source": [
    "a=list[::2]\n",
    "print(a)"
   ]
  },
  {
   "cell_type": "markdown",
   "metadata": {},
   "source": [
    "### for loop"
   ]
  },
  {
   "cell_type": "code",
   "execution_count": 63,
   "metadata": {},
   "outputs": [],
   "source": [
    "list=[\"a\",'bc',15,'%%mm','John','apple','xx1',3425.675]"
   ]
  },
  {
   "cell_type": "code",
   "execution_count": 64,
   "metadata": {
    "colab": {
     "base_uri": "https://localhost:8080/"
    },
    "id": "QaIG-RR81Xru",
    "outputId": "0a235b0f-83eb-4c46-e751-c934ce547c95"
   },
   "outputs": [
    {
     "name": "stdout",
     "output_type": "stream",
     "text": [
      "a\n",
      "bc\n",
      "15\n",
      "%%mm\n",
      "John\n",
      "apple\n",
      "xx1\n",
      "3425.675\n"
     ]
    }
   ],
   "source": [
    "for i in list:\n",
    "  print(i)"
   ]
  },
  {
   "cell_type": "code",
   "execution_count": 65,
   "metadata": {
    "colab": {
     "base_uri": "https://localhost:8080/"
    },
    "id": "8OaKFySv1wnf",
    "outputId": "63218a81-60de-449e-9a21-ba8bfc8e6a37"
   },
   "outputs": [
    {
     "name": "stdout",
     "output_type": "stream",
     "text": [
      "yes\n"
     ]
    }
   ],
   "source": [
    "if \"apple\" in mylist:\n",
    "   print(\"yes\")\n",
    "else:\n",
    "  print(\"no\")"
   ]
  },
  {
   "cell_type": "code",
   "execution_count": 66,
   "metadata": {
    "colab": {
     "base_uri": "https://localhost:8080/"
    },
    "id": "emcjmSTW2KTv",
    "outputId": "ea3cdef5-c794-4095-b763-fc77240866fe"
   },
   "outputs": [
    {
     "name": "stdout",
     "output_type": "stream",
     "text": [
      "no\n"
     ]
    }
   ],
   "source": [
    "if \"lemon\" in mylist:\n",
    "   print(\"yes\")\n",
    "else:\n",
    "  print(\"no\")"
   ]
  },
  {
   "cell_type": "code",
   "execution_count": 67,
   "metadata": {
    "colab": {
     "base_uri": "https://localhost:8080/"
    },
    "id": "3yqgGbdg2SPp",
    "outputId": "51bfe497-90f8-4fda-d9cb-bdbda805d6f0"
   },
   "outputs": [
    {
     "data": {
      "text/plain": [
       "8"
      ]
     },
     "execution_count": 67,
     "metadata": {},
     "output_type": "execute_result"
    }
   ],
   "source": [
    "len(list)"
   ]
  },
  {
   "cell_type": "markdown",
   "metadata": {},
   "source": [
    "### Add Elements to a List"
   ]
  },
  {
   "cell_type": "code",
   "execution_count": 69,
   "metadata": {
    "colab": {
     "base_uri": "https://localhost:8080/"
    },
    "id": "ijSIsSKX2fO_",
    "outputId": "ee019330-3aca-4408-a586-48ece3a38497"
   },
   "outputs": [
    {
     "name": "stdout",
     "output_type": "stream",
     "text": [
      "['a', 'bc', 15, '%%mm', 'lemon']\n"
     ]
    }
   ],
   "source": [
    "#using append\n",
    "list=[\"a\",'bc',15,'%%mm']\n",
    "list.append(\"lemon\")\n",
    "print(list)"
   ]
  },
  {
   "cell_type": "code",
   "execution_count": 89,
   "metadata": {},
   "outputs": [
    {
     "name": "stdout",
     "output_type": "stream",
     "text": [
      "['a', 'bc', 15, '%%mm']\n",
      "['12', 'mz']\n",
      "new list1: ['a', 'bc', 15, '%%mm', '12', 'mz']\n"
     ]
    }
   ],
   "source": [
    "#using extend\n",
    "list1=[\"a\",'bc',15,'%%mm']\n",
    "print(list1)\n",
    "list2=[\"12\",'mz']\n",
    "print(list2)\n",
    "list1.extend(list2)\n",
    "print(\"new list1:\",list1)"
   ]
  },
  {
   "cell_type": "code",
   "execution_count": 93,
   "metadata": {
    "colab": {
     "base_uri": "https://localhost:8080/"
    },
    "id": "PHHG6pJC3DuH",
    "outputId": "2afe25aa-fbe6-4eb9-b7b0-5d43245b8487"
   },
   "outputs": [
    {
     "name": "stdout",
     "output_type": "stream",
     "text": [
      "['a', 'bc', 15, '%%mm']\n",
      "['a', 'John', 'bc', 15, '%%mm']\n"
     ]
    }
   ],
   "source": [
    "#insert specific location\n",
    "list=[\"a\",'bc',15,'%%mm']\n",
    "print(list)\n",
    "list.insert(1,\"John\")\n",
    "print(list)"
   ]
  },
  {
   "cell_type": "markdown",
   "metadata": {},
   "source": [
    "### pop return last elemen"
   ]
  },
  {
   "cell_type": "code",
   "execution_count": 101,
   "metadata": {
    "colab": {
     "base_uri": "https://localhost:8080/"
    },
    "id": "cEv91qug3dB8",
    "outputId": "5bcadf04-1319-406b-90cf-2e0efc8f6535"
   },
   "outputs": [
    {
     "name": "stdout",
     "output_type": "stream",
     "text": [
      "%%mm\n",
      "['a', 'bc', 15]\n"
     ]
    }
   ],
   "source": [
    "list=[\"a\",'bc',15,'%%mm']\n",
    "item=list.pop()\n",
    "print(item)\n",
    "print(list)"
   ]
  },
  {
   "cell_type": "code",
   "execution_count": 16,
   "metadata": {
    "id": "VMOXPo6N7SY4"
   },
   "outputs": [],
   "source": [
    "mylist=['banana','apple','cherry']"
   ]
  },
  {
   "cell_type": "code",
   "execution_count": 98,
   "metadata": {
    "colab": {
     "base_uri": "https://localhost:8080/"
    },
    "id": "QAKa9u3j72VS",
    "outputId": "38305188-4fdd-45dc-cace-e668819c147f"
   },
   "outputs": [
    {
     "name": "stdout",
     "output_type": "stream",
     "text": [
      "['a', 15, '%%mm']\n"
     ]
    }
   ],
   "source": [
    "list=[\"a\",'bc',15,'%%mm']\n",
    "list.remove(\"bc\")\n",
    "print(list)"
   ]
  },
  {
   "cell_type": "markdown",
   "metadata": {},
   "source": [
    "remove first elemen>"
   ]
  },
  {
   "cell_type": "code",
   "execution_count": 102,
   "metadata": {
    "colab": {
     "base_uri": "https://localhost:8080/",
     "height": 186
    },
    "id": "H49zh2BC75cv",
    "outputId": "8862834f-c922-443c-e573-a1b9562f7a66"
   },
   "outputs": [
    {
     "name": "stdout",
     "output_type": "stream",
     "text": [
      "['a', 'bc', 15, '%%mm']\n",
      "['bc', 15, '%%mm']\n"
     ]
    }
   ],
   "source": [
    "list=[\"a\",'bc',15,'%%mm']\n",
    "print(list)\n",
    "list.remove(\"a\")\n",
    "print(list)"
   ]
  },
  {
   "cell_type": "code",
   "execution_count": 103,
   "metadata": {
    "colab": {
     "base_uri": "https://localhost:8080/"
    },
    "id": "4BMTMh318IwR",
    "outputId": "1e93c1ba-189d-442e-a137-a063ad3cb56f"
   },
   "outputs": [
    {
     "name": "stdout",
     "output_type": "stream",
     "text": [
      "[]\n"
     ]
    }
   ],
   "source": [
    "list.clear()\n",
    "print(list)"
   ]
  },
  {
   "cell_type": "code",
   "execution_count": 111,
   "metadata": {
    "colab": {
     "base_uri": "https://localhost:8080/"
    },
    "id": "YTRxsLqg8Roa",
    "outputId": "1a3b4c8d-8038-4480-d3e9-a433a9502336"
   },
   "outputs": [
    {
     "name": "stdout",
     "output_type": "stream",
     "text": [
      "['a', 'bc', 15, '%%mm']\n",
      "reversed list: ['%%mm', 15, 'bc', 'a']\n"
     ]
    }
   ],
   "source": [
    "list=[\"a\",'bc',15,'%%mm']\n",
    "print(list)\n",
    "list.reverse()\n",
    "print(\"reversed list:\",list)"
   ]
  },
  {
   "cell_type": "code",
   "execution_count": 113,
   "metadata": {
    "colab": {
     "base_uri": "https://localhost:8080/"
    },
    "id": "Hu3fJ53dCuiS",
    "outputId": "9aff9301-f82d-4c2e-b6da-4d530b0dc4c4"
   },
   "outputs": [
    {
     "name": "stdout",
     "output_type": "stream",
     "text": [
      "['z', 'cherry', 'a1', 'gx33']\n",
      "sorted list: ['a1', 'cherry', 'gx33', 'z']\n"
     ]
    }
   ],
   "source": [
    "list=['z','cherry','a1','gx33']\n",
    "print(list)\n",
    "list.sort()\n",
    "print(\"sorted list:\",list)"
   ]
  },
  {
   "cell_type": "code",
   "execution_count": 116,
   "metadata": {
    "colab": {
     "base_uri": "https://localhost:8080/"
    },
    "id": "o_Cdj9gvDKC5",
    "outputId": "8caeea96-b228-4ddb-93fa-82e3e580d3aa"
   },
   "outputs": [
    {
     "name": "stdout",
     "output_type": "stream",
     "text": [
      "[4, 10, -7, 12, 7, -3, 3, 4, -5, 4]\n",
      "sorted list: [-7, -5, -3, 3, 4, 4, 4, 7, 10, 12]\n"
     ]
    }
   ],
   "source": [
    "list=[4,10,-7,12,7,-3,3,4,-5,4]\n",
    "print(list)\n",
    "list.sort()\n",
    "print(\"sorted list:\",list)"
   ]
  },
  {
   "cell_type": "code",
   "execution_count": 117,
   "metadata": {
    "colab": {
     "base_uri": "https://localhost:8080/"
    },
    "id": "UH5VKoWwDMj4",
    "outputId": "5281535a-f626-4855-f1da-24297d14fdfc"
   },
   "outputs": [
    {
     "name": "stdout",
     "output_type": "stream",
     "text": [
      "[-7, -5, -3, 3, 4, 4, 4, 7, 10, 12]\n",
      "[-7, -5, -3, 3, 4, 4, 4, 7, 10, 12]\n"
     ]
    }
   ],
   "source": [
    "list1=sorted(list)\n",
    "print(list)\n",
    "print(list1)"
   ]
  },
  {
   "cell_type": "code",
   "execution_count": 118,
   "metadata": {
    "colab": {
     "base_uri": "https://localhost:8080/"
    },
    "id": "m3KOcKdLDhZP",
    "outputId": "d976b55d-caeb-4233-8e6c-915186ef5695"
   },
   "outputs": [
    {
     "name": "stdout",
     "output_type": "stream",
     "text": [
      "[0, 0, 0, 0, 0]\n"
     ]
    }
   ],
   "source": [
    "list=[0]*5\n",
    "print(list)"
   ]
  },
  {
   "cell_type": "code",
   "execution_count": 119,
   "metadata": {
    "colab": {
     "base_uri": "https://localhost:8080/"
    },
    "id": "bS-1ILaIFG-g",
    "outputId": "0c3d1cc1-ea99-41c1-88a9-c2c0f5acf8e6"
   },
   "outputs": [
    {
     "name": "stdout",
     "output_type": "stream",
     "text": [
      "[1, 2, 3, 4, 5, 1, 2, 3, 4, 5, 1, 2, 3, 4, 5]\n"
     ]
    }
   ],
   "source": [
    "list=[1,2,3,4,5]*3\n",
    "print(list)"
   ]
  },
  {
   "cell_type": "code",
   "execution_count": 122,
   "metadata": {
    "colab": {
     "base_uri": "https://localhost:8080/"
    },
    "id": "RJgzfnOrFYkZ",
    "outputId": "305681fe-2194-4272-981b-e21144e5b250"
   },
   "outputs": [
    {
     "name": "stdout",
     "output_type": "stream",
     "text": [
      "[1, 2, 3, 4, 5]\n",
      "[0, 0, 0, 0, 0]\n",
      "[1, 2, 3, 4, 5, 0, 0, 0, 0, 0]\n"
     ]
    }
   ],
   "source": [
    "list1=[1,2,3,4,5]\n",
    "print(list1)\n",
    "list2=[0]*5\n",
    "print(list2)\n",
    "new_list=list1+list2\n",
    "print(new_list)"
   ]
  },
  {
   "cell_type": "code",
   "execution_count": 34,
   "metadata": {
    "colab": {
     "base_uri": "https://localhost:8080/"
    },
    "id": "AKWvMIgKHc73",
    "outputId": "e7065d31-2bca-4e5d-e071-442fc4f8c305"
   },
   "outputs": [
    {
     "name": "stdout",
     "output_type": "stream",
     "text": [
      "[1, 2, 3, 4, 5, 6, 7, 8, 9]\n"
     ]
    }
   ],
   "source": [
    "a=mylist1[::1]\n",
    "print(a)"
   ]
  },
  {
   "cell_type": "markdown",
   "metadata": {},
   "source": [
    "optional step index"
   ]
  },
  {
   "cell_type": "code",
   "execution_count": 35,
   "metadata": {
    "colab": {
     "base_uri": "https://localhost:8080/"
    },
    "id": "Cmk1fDQ9HqTJ",
    "outputId": "4cf71148-398e-4aa0-b5b3-2fa0baf51571"
   },
   "outputs": [
    {
     "name": "stdout",
     "output_type": "stream",
     "text": [
      "[1, 3, 5, 7, 9]\n"
     ]
    }
   ],
   "source": [
    "a=mylist1[::2]\n",
    "print(a)"
   ]
  },
  {
   "cell_type": "code",
   "execution_count": 36,
   "metadata": {
    "colab": {
     "base_uri": "https://localhost:8080/"
    },
    "id": "q9Ns7I0NH43p",
    "outputId": "71d90260-8ff1-4a07-bb89-8d62d74edd4b"
   },
   "outputs": [
    {
     "name": "stdout",
     "output_type": "stream",
     "text": [
      "[9, 8, 7, 6, 5, 4, 3, 2, 1]\n"
     ]
    }
   ],
   "source": [
    "a=mylist1[::-1]\n",
    "print(a)"
   ]
  },
  {
   "cell_type": "code",
   "execution_count": 37,
   "metadata": {
    "colab": {
     "base_uri": "https://localhost:8080/"
    },
    "id": "aEmMgRiiIDP6",
    "outputId": "709e5ddd-0396-4a25-f587-05fd664b7109"
   },
   "outputs": [
    {
     "name": "stdout",
     "output_type": "stream",
     "text": [
      "['banana', 'cherry', 'apple']\n"
     ]
    }
   ],
   "source": [
    "list_org=[\"banana\",\"cherry\",\"apple\"]\n",
    "print(list_org)"
   ]
  },
  {
   "cell_type": "code",
   "execution_count": 38,
   "metadata": {
    "id": "OFMFPpZNKL3g"
   },
   "outputs": [],
   "source": [
    "list_copy=list_org"
   ]
  },
  {
   "cell_type": "code",
   "execution_count": 39,
   "metadata": {
    "id": "WSfI4MPkKRxg"
   },
   "outputs": [],
   "source": [
    "list_copy.append(\"lemon\")"
   ]
  },
  {
   "cell_type": "code",
   "execution_count": 40,
   "metadata": {
    "colab": {
     "base_uri": "https://localhost:8080/"
    },
    "id": "w-K9GfbBKWnw",
    "outputId": "fb1ef210-d4b7-4aed-ca9e-a06246ce387c"
   },
   "outputs": [
    {
     "name": "stdout",
     "output_type": "stream",
     "text": [
      "['banana', 'cherry', 'apple', 'lemon']\n",
      "['banana', 'cherry', 'apple', 'lemon']\n"
     ]
    }
   ],
   "source": [
    "print(list_copy)\n",
    "print(list_org)"
   ]
  },
  {
   "cell_type": "code",
   "execution_count": 41,
   "metadata": {
    "colab": {
     "base_uri": "https://localhost:8080/"
    },
    "id": "Qz3an3l8KwIo",
    "outputId": "0d56db4b-5df4-40c2-cb88-b0bc2c55ea40"
   },
   "outputs": [
    {
     "name": "stdout",
     "output_type": "stream",
     "text": [
      "['banana', 'cherry', 'apple']\n"
     ]
    }
   ],
   "source": [
    "list_org=[\"banana\",\"cherry\",\"apple\"]\n",
    "print(list_org)"
   ]
  },
  {
   "cell_type": "markdown",
   "metadata": {},
   "source": [
    "original will not change"
   ]
  },
  {
   "cell_type": "code",
   "execution_count": null,
   "metadata": {
    "id": "GBoXbaq7KcHQ"
   },
   "outputs": [],
   "source": [
    "list_copy=list_org.copy()"
   ]
  },
  {
   "cell_type": "code",
   "execution_count": null,
   "metadata": {
    "id": "jIcmo8pdKo5Z"
   },
   "outputs": [],
   "source": [
    "list_copy.append(\"lemon\")"
   ]
  },
  {
   "cell_type": "code",
   "execution_count": null,
   "metadata": {
    "colab": {
     "base_uri": "https://localhost:8080/"
    },
    "id": "du64S3EtKrRA",
    "outputId": "ad90fdce-48c5-4b3e-9757-11f2d635dbe7"
   },
   "outputs": [
    {
     "name": "stdout",
     "output_type": "stream",
     "text": [
      "['banana', 'cherry', 'apple', 'lemon']\n",
      "['banana', 'cherry', 'apple']\n"
     ]
    }
   ],
   "source": [
    "print(list_copy)\n",
    "print(list_org)"
   ]
  },
  {
   "cell_type": "code",
   "execution_count": 25,
   "metadata": {
    "id": "5LwPf5E2KtAf"
   },
   "outputs": [],
   "source": [
    "list_org=[\"banana\",\"cherry\",\"apple\"]\n",
    "list_copy=list(list_org)"
   ]
  },
  {
   "cell_type": "code",
   "execution_count": 26,
   "metadata": {
    "colab": {
     "base_uri": "https://localhost:8080/"
    },
    "id": "oT9Iolf8rVTS",
    "outputId": "31499340-b3bd-4afb-8647-8e46a83ad8e4"
   },
   "outputs": [
    {
     "data": {
      "text/plain": [
       "['banana', 'cherry', 'apple']"
      ]
     },
     "execution_count": 26,
     "metadata": {},
     "output_type": "execute_result"
    }
   ],
   "source": [
    "list_copy"
   ]
  },
  {
   "cell_type": "code",
   "execution_count": 28,
   "metadata": {},
   "outputs": [],
   "source": [
    "list_cpy=list_org[:]"
   ]
  },
  {
   "cell_type": "code",
   "execution_count": 29,
   "metadata": {},
   "outputs": [
    {
     "name": "stdout",
     "output_type": "stream",
     "text": [
      "['banana', 'cherry', 'apple']\n"
     ]
    }
   ],
   "source": [
    "print(list_cpy)"
   ]
  },
  {
   "cell_type": "code",
   "execution_count": 30,
   "metadata": {
    "id": "yLoNtYO9LU9h"
   },
   "outputs": [],
   "source": [
    "list_copy.append(\"lemon\")"
   ]
  },
  {
   "cell_type": "code",
   "execution_count": 31,
   "metadata": {
    "colab": {
     "base_uri": "https://localhost:8080/"
    },
    "id": "ENue4k32LdcI",
    "outputId": "2d10a1f8-7a89-45ad-cdcc-b027368d0487"
   },
   "outputs": [
    {
     "name": "stdout",
     "output_type": "stream",
     "text": [
      "['banana', 'cherry', 'apple', 'lemon']\n",
      "['banana', 'cherry', 'apple']\n"
     ]
    }
   ],
   "source": [
    "print(list_copy)\n",
    "print(list_org)"
   ]
  },
  {
   "cell_type": "code",
   "execution_count": 129,
   "metadata": {
    "id": "cdNit6OnLd7o"
   },
   "outputs": [],
   "source": [
    "mylist=[1,2,3,4,5,6]"
   ]
  },
  {
   "cell_type": "code",
   "execution_count": 130,
   "metadata": {
    "colab": {
     "base_uri": "https://localhost:8080/"
    },
    "id": "NTOYdaJCOAeK",
    "outputId": "5d767937-a349-4321-c688-1d7fdec3ebb4"
   },
   "outputs": [
    {
     "name": "stdout",
     "output_type": "stream",
     "text": [
      "[1, 4, 9, 16, 25, 36]\n"
     ]
    }
   ],
   "source": [
    "b=[i*i for i in mylist]\n",
    "print(b)"
   ]
  },
  {
   "cell_type": "code",
   "execution_count": 138,
   "metadata": {
    "colab": {
     "base_uri": "https://localhost:8080/"
    },
    "id": "LZoj3POFUNuI",
    "outputId": "52abb87f-ff42-4b45-ae81-4751277caf7b"
   },
   "outputs": [
    {
     "name": "stdout",
     "output_type": "stream",
     "text": [
      "[4, 16, 36, 64, 100]\n"
     ]
    }
   ],
   "source": [
    "even_squares = [x*x  for x in mylist if x % 2 == 0]\n",
    "print(even_squares)"
   ]
  },
  {
   "cell_type": "code",
   "execution_count": 139,
   "metadata": {
    "colab": {
     "base_uri": "https://localhost:8080/"
    },
    "id": "tWP5lhDBUneA",
    "outputId": "4f06cf22-36b0-418c-97ca-21afe7fda396"
   },
   "outputs": [
    {
     "data": {
      "text/plain": [
       "['ab', 'abc', '2cab', '23  4ab']"
      ]
     },
     "execution_count": 139,
     "metadata": {},
     "output_type": "execute_result"
    }
   ],
   "source": [
    "lst = ['a', 'ab', 'abc', 'bac','2cab','23  4ab']\n",
    "[k for k in lst if 'ab' in k]"
   ]
  },
  {
   "cell_type": "code",
   "execution_count": 150,
   "metadata": {
    "id": "GdE9ZHtLr_ON"
   },
   "outputs": [
    {
     "name": "stdout",
     "output_type": "stream",
     "text": [
      "[16, 25, 36, 49]\n"
     ]
    }
   ],
   "source": [
    "c=[4,5,6,7]\n",
    "b=[c*c for c in c]\n",
    "print(b)"
   ]
  },
  {
   "cell_type": "markdown",
   "metadata": {},
   "source": [
    "### Nested List (2-D List )"
   ]
  },
  {
   "cell_type": "code",
   "execution_count": 160,
   "metadata": {
    "id": "zc4dRV8iXFFC"
   },
   "outputs": [
    {
     "name": "stdout",
     "output_type": "stream",
     "text": [
      "[[1, 2, 3], [4, 5, 6]]\n"
     ]
    }
   ],
   "source": [
    "#filtering elements from list of lists in Python?\n",
    "a = [[1,2,3],[4,5,6]]\n",
    "print(a)"
   ]
  },
  {
   "cell_type": "code",
   "execution_count": 161,
   "metadata": {},
   "outputs": [
    {
     "name": "stdout",
     "output_type": "stream",
     "text": [
      "[1, 2, 3]\n"
     ]
    }
   ],
   "source": [
    "print(a[0])"
   ]
  },
  {
   "cell_type": "code",
   "execution_count": 162,
   "metadata": {
    "colab": {
     "base_uri": "https://localhost:8080/"
    },
    "id": "0tO5kryFXncB",
    "outputId": "25ac33e0-0895-4120-a505-c1665529a468"
   },
   "outputs": [
    {
     "data": {
      "text/plain": [
       "[[4, 5, 6]]"
      ]
     },
     "execution_count": 162,
     "metadata": {},
     "output_type": "execute_result"
    }
   ],
   "source": [
    "[item for item in a if sum(item) > 10]"
   ]
  }
 ],
 "metadata": {
  "colab": {
   "collapsed_sections": [],
   "name": "list.ipynb",
   "provenance": []
  },
  "kernelspec": {
   "display_name": "Python 3 (ipykernel)",
   "language": "python",
   "name": "python3"
  },
  "language_info": {
   "codemirror_mode": {
    "name": "ipython",
    "version": 3
   },
   "file_extension": ".py",
   "mimetype": "text/x-python",
   "name": "python",
   "nbconvert_exporter": "python",
   "pygments_lexer": "ipython3",
   "version": "3.11.5"
  }
 },
 "nbformat": 4,
 "nbformat_minor": 4
}
