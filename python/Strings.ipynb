{
 "cells": [
  {
   "cell_type": "markdown",
   "id": "a2c33790-0fe5-4087-b581-7749d2e30bf3",
   "metadata": {},
   "source": [
    "# STRINGS"
   ]
  },
  {
   "cell_type": "markdown",
   "id": "0df85c1e",
   "metadata": {},
   "source": [
    "Strings are an ordered and immutable collection data type used for the text representation of data"
   ]
  },
  {
   "cell_type": "markdown",
   "id": "1cf6078b-91fb-47d6-96b5-5f5343a97ec1",
   "metadata": {},
   "source": [
    "### Single Quotes"
   ]
  },
  {
   "cell_type": "code",
   "execution_count": 20,
   "id": "510f3440-8bc8-4cb8-9cf6-3af9a890ebdf",
   "metadata": {},
   "outputs": [],
   "source": [
    "string='NMQ'"
   ]
  },
  {
   "cell_type": "code",
   "execution_count": 22,
   "id": "79a591c9-5e54-4565-a4e7-7ce9919f1b4c",
   "metadata": {},
   "outputs": [
    {
     "name": "stdout",
     "output_type": "stream",
     "text": [
      "<class 'str'>\n",
      "NMQ\n"
     ]
    }
   ],
   "source": [
    "print(type(string))\n",
    "print(string)"
   ]
  },
  {
   "cell_type": "markdown",
   "id": "e8b6a6eb-8bd4-44cc-9377-409ea34eb77d",
   "metadata": {},
   "source": [
    "### Double Quotes \""
   ]
  },
  {
   "cell_type": "markdown",
   "id": "76b8d2fd-2620-457d-9453-4261dc57663e",
   "metadata": {},
   "source": [
    "Alternatively, you can form a string by enclosing the text in double quotes."
   ]
  },
  {
   "cell_type": "code",
   "execution_count": 25,
   "id": "fb34c82a",
   "metadata": {},
   "outputs": [],
   "source": [
    "string=\"NMQ\""
   ]
  },
  {
   "cell_type": "code",
   "execution_count": 26,
   "id": "11cdfde2",
   "metadata": {},
   "outputs": [
    {
     "name": "stdout",
     "output_type": "stream",
     "text": [
      "<class 'str'>\n",
      "NMQ\n"
     ]
    }
   ],
   "source": [
    "print(type(string))\n",
    "print(string)"
   ]
  },
  {
   "cell_type": "markdown",
   "id": "0041fe24-27f3-43a0-8738-068def394312",
   "metadata": {},
   "source": [
    "### Three Double Quotes \""
   ]
  },
  {
   "cell_type": "markdown",
   "id": "f79e0f4f-69f0-476a-83bd-8fa582f628c6",
   "metadata": {},
   "source": [
    "Alternatively, you can form a string by enclosing the text in three double quotes."
   ]
  },
  {
   "cell_type": "code",
   "execution_count": 16,
   "id": "a3cffead-8686-4a9d-b89c-1356ee36226b",
   "metadata": {},
   "outputs": [],
   "source": [
    "string=\"\"\"NMQ\"\"\""
   ]
  },
  {
   "cell_type": "code",
   "execution_count": 17,
   "id": "825e8883-3f79-4335-aa78-8a67a19c0fb4",
   "metadata": {},
   "outputs": [
    {
     "name": "stdout",
     "output_type": "stream",
     "text": [
      "<class 'str'>\n",
      "NMQ\n"
     ]
    }
   ],
   "source": [
    "print(type(string))\n",
    "print(string)"
   ]
  },
  {
   "cell_type": "markdown",
   "id": "22e815af-dbfc-463b-9763-c43f9310ecd8",
   "metadata": {},
   "source": [
    "Whether you utilize single quotes ' or double quotes \" or 3 double quotes, the resulting strings are equivalent"
   ]
  },
  {
   "cell_type": "code",
   "execution_count": 19,
   "id": "be742ccf-5bfc-4d51-8842-71b2158512b1",
   "metadata": {},
   "outputs": [
    {
     "name": "stdout",
     "output_type": "stream",
     "text": [
      "True\n"
     ]
    }
   ],
   "source": [
    "string1='NMQ'\n",
    "string2=\"NMQ\"\n",
    "string3=\"\"\"NMQ\"\"\"\n",
    "print(string1==string2==string3)"
   ]
  },
  {
   "cell_type": "markdown",
   "id": "60d64ee3-99c7-4f86-9fc2-c275a7122f82",
   "metadata": {},
   "source": [
    "### Quotes in strings are handled differently"
   ]
  },
  {
   "cell_type": "markdown",
   "id": "af5e0d2b-f9b2-48df-9f23-67b9a531c64b",
   "metadata": {},
   "source": [
    "- Single quote allow you to embed \"double\" quotes in your string\n",
    "- Double quote allow you to embed 'single' quotes in your string\n",
    "- Triple quotes allows to embed \"double quotes\" as well as 'single quotes' in your string. \n",
    "And can also span across multiple lines"
   ]
  },
  {
   "cell_type": "markdown",
   "id": "cb858ecb-15a7-4ab6-be9f-1788a3884b36",
   "metadata": {},
   "source": [
    "In a string enclosed with single quotes ', you can use double quotes \" directly. However, single quotes ' need to be escaped with a backslash, like this: \\'. Writing \\\" for double quotes within the single-quoted string is also permissible, but unnecessary."
   ]
  },
  {
   "cell_type": "code",
   "execution_count": 25,
   "id": "bbd53cfd-e953-432d-8c03-3fe179671fb2",
   "metadata": {},
   "outputs": [
    {
     "ename": "SyntaxError",
     "evalue": "unterminated string literal (detected at line 1) (1909298260.py, line 1)",
     "output_type": "error",
     "traceback": [
      "\u001b[1;36m  Cell \u001b[1;32mIn[25], line 1\u001b[1;36m\u001b[0m\n\u001b[1;33m    string='I'am a senior data analyst'\u001b[0m\n\u001b[1;37m                                      ^\u001b[0m\n\u001b[1;31mSyntaxError\u001b[0m\u001b[1;31m:\u001b[0m unterminated string literal (detected at line 1)\n"
     ]
    }
   ],
   "source": [
    "string='I'am a senior data analyst'\n",
    "print(type(string))\n",
    "print(string)"
   ]
  },
  {
   "cell_type": "code",
   "execution_count": 26,
   "id": "2f27fdc0",
   "metadata": {},
   "outputs": [
    {
     "name": "stdout",
     "output_type": "stream",
     "text": [
      "<class 'str'>\n",
      "I'am a senior data analyst\n"
     ]
    }
   ],
   "source": [
    "string='I\\'am a senior data analyst'\n",
    "print(type(string))\n",
    "print(string)"
   ]
  },
  {
   "cell_type": "code",
   "execution_count": 27,
   "id": "47d9afb9",
   "metadata": {},
   "outputs": [
    {
     "name": "stdout",
     "output_type": "stream",
     "text": [
      "I'am a senior data analyst\n"
     ]
    }
   ],
   "source": [
    "my_string=\"\"\"I'am a senior data analyst\"\"\"\n",
    "print(my_string)"
   ]
  },
  {
   "cell_type": "markdown",
   "id": "bd3ab636-6bb6-4d1a-aee6-3452f5fe7957",
   "metadata": {},
   "source": [
    "### Handle line breaks"
   ]
  },
  {
   "cell_type": "code",
   "execution_count": 29,
   "id": "ed495754",
   "metadata": {},
   "outputs": [
    {
     "name": "stdout",
     "output_type": "stream",
     "text": [
      "I'am a senior data analyst\n"
     ]
    }
   ],
   "source": [
    "my_string=\"\"\"I'am a \\\n",
    "senior data analyst\"\"\"\n",
    "print(my_string)"
   ]
  },
  {
   "cell_type": "markdown",
   "id": "845c8617-217b-470f-a1c1-1258586d0757",
   "metadata": {},
   "source": [
    "### SLICING"
   ]
  },
  {
   "cell_type": "code",
   "execution_count": 51,
   "id": "29b29b46-bba4-4c73-acc7-53913aade7f1",
   "metadata": {},
   "outputs": [
    {
     "name": "stdout",
     "output_type": "stream",
     "text": [
      "abcd 'yz\n"
     ]
    }
   ],
   "source": [
    "s=\"abcd 'yz\"\n",
    "print(s)"
   ]
  },
  {
   "cell_type": "code",
   "execution_count": 53,
   "id": "a0916535",
   "metadata": {},
   "outputs": [
    {
     "name": "stdout",
     "output_type": "stream",
     "text": [
      "a\n",
      "b\n",
      "c\n",
      "d\n"
     ]
    }
   ],
   "source": [
    "print(s[0])\n",
    "print(s[1])\n",
    "print(s[2])\n",
    "print(s[3])"
   ]
  },
  {
   "cell_type": "code",
   "execution_count": 54,
   "id": "95f09ac6-239b-4db9-8e8d-a2ccddd73624",
   "metadata": {},
   "outputs": [
    {
     "name": "stdout",
     "output_type": "stream",
     "text": [
      "z\n",
      "y\n",
      "'\n"
     ]
    }
   ],
   "source": [
    "print(s[-1])\n",
    "print(s[-2])\n",
    "print(s[-3])"
   ]
  },
  {
   "cell_type": "markdown",
   "id": "f4cefda1-897c-4d6d-8eb7-7fdb8f24a41e",
   "metadata": {},
   "source": [
    "strings are immutable and they can never ever change "
   ]
  },
  {
   "cell_type": "code",
   "execution_count": 55,
   "id": "6417c2a2",
   "metadata": {},
   "outputs": [
    {
     "ename": "TypeError",
     "evalue": "'str' object does not support item assignment",
     "output_type": "error",
     "traceback": [
      "\u001b[1;31m---------------------------------------------------------------------------\u001b[0m",
      "\u001b[1;31mTypeError\u001b[0m                                 Traceback (most recent call last)",
      "Cell \u001b[1;32mIn[55], line 1\u001b[0m\n\u001b[1;32m----> 1\u001b[0m s[\u001b[38;5;241m0\u001b[39m]\u001b[38;5;241m=\u001b[39m\u001b[38;5;124m'\u001b[39m\u001b[38;5;124mm\u001b[39m\u001b[38;5;124m'\u001b[39m\n\u001b[0;32m      2\u001b[0m \u001b[38;5;28mprint\u001b[39m(char)\n",
      "\u001b[1;31mTypeError\u001b[0m: 'str' object does not support item assignment"
     ]
    }
   ],
   "source": [
    "s[0]='m'\n",
    "print(char)"
   ]
  },
  {
   "cell_type": "markdown",
   "id": "e1f0e31d-5d09-43b1-93d2-253b5b4951fc",
   "metadata": {},
   "source": [
    "if we want to change it we need we need ro assign the new string back to s"
   ]
  },
  {
   "cell_type": "code",
   "execution_count": 57,
   "id": "c4e11c5d-870d-4f24-8958-bbddd21bb139",
   "metadata": {},
   "outputs": [
    {
     "name": "stdout",
     "output_type": "stream",
     "text": [
      "Mbcd 'yz\n"
     ]
    }
   ],
   "source": [
    "s=s.replace('a','M')\n",
    "print(s)"
   ]
  },
  {
   "cell_type": "code",
   "execution_count": 59,
   "id": "44d43890-cf47-483a-8f8c-778887a19288",
   "metadata": {},
   "outputs": [
    {
     "name": "stdout",
     "output_type": "stream",
     "text": [
      "abcd 'yz\n"
     ]
    }
   ],
   "source": [
    "s=\"abcd 'yz\"\n",
    "print(s)"
   ]
  },
  {
   "cell_type": "code",
   "execution_count": 60,
   "id": "24bfe20e-8698-4af1-8031-e6ac3932ddcc",
   "metadata": {},
   "outputs": [
    {
     "name": "stdout",
     "output_type": "stream",
     "text": [
      "abcd 'yzKYZ\n"
     ]
    }
   ],
   "source": [
    "s+='KYZ'\n",
    "print(s)"
   ]
  },
  {
   "cell_type": "code",
   "execution_count": 65,
   "id": "e88b9e20-305b-4931-99fd-0f4ce5ef6827",
   "metadata": {},
   "outputs": [
    {
     "data": {
      "text/plain": [
       "1771480720048"
      ]
     },
     "execution_count": 65,
     "metadata": {},
     "output_type": "execute_result"
    }
   ],
   "source": [
    "s=\"abcd 'yz\" #what is the unique obhect ID of the item (string) that s refers to\n",
    "id(s)"
   ]
  },
  {
   "cell_type": "code",
   "execution_count": 68,
   "id": "4e66c099",
   "metadata": {},
   "outputs": [
    {
     "name": "stdout",
     "output_type": "stream",
     "text": [
      "bcd \n"
     ]
    }
   ],
   "source": [
    "s=\"abcd 'yz\"\n",
    "print(s[1:5])"
   ]
  },
  {
   "cell_type": "code",
   "execution_count": 71,
   "id": "79a1d2ad-0469-4f10-87d1-2cc4d91c0abb",
   "metadata": {},
   "outputs": [
    {
     "name": "stdout",
     "output_type": "stream",
     "text": [
      "abc\n"
     ]
    }
   ],
   "source": [
    "s=\"abcd 'yz\"\n",
    "print(s[:3])"
   ]
  },
  {
   "cell_type": "code",
   "execution_count": 72,
   "id": "5372070e-751d-4f67-9242-32821f764399",
   "metadata": {},
   "outputs": [
    {
     "name": "stdout",
     "output_type": "stream",
     "text": [
      "abcd 'yz\n"
     ]
    }
   ],
   "source": [
    "s=\"abcd 'yz\"\n",
    "print(s[:])"
   ]
  },
  {
   "cell_type": "markdown",
   "id": "eebc75d8",
   "metadata": {},
   "source": [
    "step index"
   ]
  },
  {
   "cell_type": "code",
   "execution_count": 75,
   "id": "7d7d0b6e-07ed-4228-8e52-5bebf33d0683",
   "metadata": {},
   "outputs": [
    {
     "name": "stdout",
     "output_type": "stream",
     "text": [
      "abcd 'yz\n"
     ]
    }
   ],
   "source": [
    "s=\"abcd 'yz\"\n",
    "print(s[::1])"
   ]
  },
  {
   "cell_type": "code",
   "execution_count": 80,
   "id": "3fbb2f6a-3251-46af-a295-7adbff506d10",
   "metadata": {},
   "outputs": [
    {
     "name": "stdout",
     "output_type": "stream",
     "text": [
      "ac y\n"
     ]
    }
   ],
   "source": [
    "print(s[::2])"
   ]
  },
  {
   "cell_type": "code",
   "execution_count": 81,
   "id": "412bf6ac",
   "metadata": {},
   "outputs": [
    {
     "name": "stdout",
     "output_type": "stream",
     "text": [
      "zy' dcba\n"
     ]
    }
   ],
   "source": [
    "s=\"abcd 'yz\"\n",
    "print(s[::-1])"
   ]
  },
  {
   "cell_type": "code",
   "execution_count": 83,
   "id": "9e77dae6",
   "metadata": {},
   "outputs": [],
   "source": [
    "s1=\"\"\"abcd\"\"\"\n",
    "s2=\"\"\"'efg\"\"\""
   ]
  },
  {
   "cell_type": "code",
   "execution_count": 84,
   "id": "55de2291",
   "metadata": {},
   "outputs": [
    {
     "name": "stdout",
     "output_type": "stream",
     "text": [
      "abcd'efg\n"
     ]
    }
   ],
   "source": [
    "sentence=s1+s2\n",
    "print(sentence)"
   ]
  },
  {
   "cell_type": "code",
   "execution_count": 85,
   "id": "842adfc9",
   "metadata": {},
   "outputs": [
    {
     "name": "stdout",
     "output_type": "stream",
     "text": [
      "'\n",
      "e\n",
      "f\n",
      "g\n"
     ]
    }
   ],
   "source": [
    "s2=\"\"\"'efg\"\"\"\n",
    "for i in s2:\n",
    "    print(i)"
   ]
  },
  {
   "cell_type": "code",
   "execution_count": 86,
   "id": "f4e8fe3c",
   "metadata": {},
   "outputs": [
    {
     "name": "stdout",
     "output_type": "stream",
     "text": [
      "yes\n"
     ]
    }
   ],
   "source": [
    "if 'e' in s2:\n",
    "    print('yes')\n",
    "else:\n",
    "    print('no')"
   ]
  },
  {
   "cell_type": "code",
   "execution_count": 87,
   "id": "4f738eac",
   "metadata": {},
   "outputs": [
    {
     "name": "stdout",
     "output_type": "stream",
     "text": [
      "yes\n"
     ]
    }
   ],
   "source": [
    "if 'fg' in s2:\n",
    "    print('yes')\n",
    "else:\n",
    "    print('no')"
   ]
  },
  {
   "cell_type": "code",
   "execution_count": 89,
   "id": "568c568c",
   "metadata": {},
   "outputs": [
    {
     "name": "stdout",
     "output_type": "stream",
     "text": [
      "no\n"
     ]
    }
   ],
   "source": [
    "if 'q' in s2:\n",
    "    print('yes')\n",
    "else:\n",
    "    print('no')"
   ]
  },
  {
   "cell_type": "markdown",
   "id": "792af9c6-5075-432a-b97b-a31ec40dd55b",
   "metadata": {},
   "source": [
    "### Strip"
   ]
  },
  {
   "cell_type": "code",
   "execution_count": 91,
   "id": "d94ccce9",
   "metadata": {},
   "outputs": [
    {
     "name": "stdout",
     "output_type": "stream",
     "text": [
      "  abcd \"\"efg    \n"
     ]
    }
   ],
   "source": [
    "s='  abcd \"\"efg    '\n",
    "print(s)"
   ]
  },
  {
   "cell_type": "code",
   "execution_count": 92,
   "id": "4954ef8a",
   "metadata": {},
   "outputs": [
    {
     "name": "stdout",
     "output_type": "stream",
     "text": [
      "abcd \"\"efg\n"
     ]
    }
   ],
   "source": [
    "s=s.strip()\n",
    "print(s)"
   ]
  },
  {
   "cell_type": "code",
   "execution_count": 96,
   "id": "6808e8fb",
   "metadata": {},
   "outputs": [
    {
     "name": "stdout",
     "output_type": "stream",
     "text": [
      "  abcd \"\"efg    \n"
     ]
    }
   ],
   "source": [
    "s='  abcd \"\"efg    '\n",
    "s.strip() #original not change\n",
    "print(s)"
   ]
  },
  {
   "cell_type": "markdown",
   "id": "8706b6d1-fea1-4ca1-81fd-c970938442bf",
   "metadata": {},
   "source": [
    "### upper & lower & startswith"
   ]
  },
  {
   "cell_type": "code",
   "execution_count": 97,
   "id": "dd805fa4",
   "metadata": {},
   "outputs": [
    {
     "name": "stdout",
     "output_type": "stream",
     "text": [
      "ABCD \"\"EFG\n",
      "abcd \"\"efg\n"
     ]
    }
   ],
   "source": [
    "s='abcd \"\"efg'\n",
    "print(s.upper())\n",
    "print(s)"
   ]
  },
  {
   "cell_type": "code",
   "execution_count": 99,
   "id": "6ed8bcd3",
   "metadata": {},
   "outputs": [
    {
     "name": "stdout",
     "output_type": "stream",
     "text": [
      "abcd \"\"efg\n",
      "ABCD \"\"efG\n"
     ]
    }
   ],
   "source": [
    "s='ABCD \"\"efG'\n",
    "print(s.lower())\n",
    "print(s)"
   ]
  },
  {
   "cell_type": "code",
   "execution_count": 100,
   "id": "94c7b22e",
   "metadata": {},
   "outputs": [
    {
     "name": "stdout",
     "output_type": "stream",
     "text": [
      "True\n",
      "abcd \"\"efg\n"
     ]
    }
   ],
   "source": [
    "s='abcd \"\"efg'\n",
    "print(s.startswith('abc'))\n",
    "print(s)"
   ]
  },
  {
   "cell_type": "code",
   "execution_count": 101,
   "id": "d6a342c2",
   "metadata": {},
   "outputs": [
    {
     "name": "stdout",
     "output_type": "stream",
     "text": [
      "False\n",
      "abcd \"\"efg\n"
     ]
    }
   ],
   "source": [
    "s='abcd \"\"efg'\n",
    "print(s.startswith('A'))\n",
    "print(s)"
   ]
  },
  {
   "cell_type": "code",
   "execution_count": 103,
   "id": "53b76f9e",
   "metadata": {},
   "outputs": [
    {
     "name": "stdout",
     "output_type": "stream",
     "text": [
      "True\n",
      "abcd \"\"efg\n"
     ]
    }
   ],
   "source": [
    "s='abcd \"\"efg'\n",
    "print(s.endswith('g'))\n",
    "print(s)"
   ]
  },
  {
   "cell_type": "code",
   "execution_count": 104,
   "id": "627ccbe1",
   "metadata": {},
   "outputs": [
    {
     "name": "stdout",
     "output_type": "stream",
     "text": [
      "True\n",
      "abcd \"\"efg\n"
     ]
    }
   ],
   "source": [
    "s='abcd \"\"efg'\n",
    "print(s.endswith('efg'))\n",
    "print(s)"
   ]
  },
  {
   "cell_type": "code",
   "execution_count": 105,
   "id": "e4715bac",
   "metadata": {},
   "outputs": [
    {
     "name": "stdout",
     "output_type": "stream",
     "text": [
      "7\n",
      "abcd \"\"efg\n"
     ]
    }
   ],
   "source": [
    "s='abcd \"\"efg'\n",
    "print(s.find('e'))\n",
    "print(s)"
   ]
  },
  {
   "cell_type": "code",
   "execution_count": 106,
   "id": "7799d4ee-d5b4-4194-817f-0677a5fbd1fc",
   "metadata": {},
   "outputs": [
    {
     "name": "stdout",
     "output_type": "stream",
     "text": [
      "7\n",
      "abcd \"\"efg\n"
     ]
    }
   ],
   "source": [
    "s='abcd \"\"efg'\n",
    "print(s.find('efg'))\n",
    "print(s)"
   ]
  },
  {
   "cell_type": "code",
   "execution_count": 107,
   "id": "208fd437",
   "metadata": {},
   "outputs": [
    {
     "name": "stdout",
     "output_type": "stream",
     "text": [
      "2\n",
      "abcd \"\"efg\n"
     ]
    }
   ],
   "source": [
    "s='abcd \"\"efg'\n",
    "print(s.find('cd'))\n",
    "print(s)"
   ]
  },
  {
   "cell_type": "code",
   "execution_count": 114,
   "id": "7b5cbee7",
   "metadata": {},
   "outputs": [
    {
     "name": "stdout",
     "output_type": "stream",
     "text": [
      "-1\n"
     ]
    }
   ],
   "source": [
    "my_string='Hello World'\n",
    "print(my_string.find('zk'))"
   ]
  },
  {
   "cell_type": "code",
   "execution_count": 116,
   "id": "0a61d9d2-3d74-418f-bea5-825b0a51f324",
   "metadata": {},
   "outputs": [
    {
     "name": "stdout",
     "output_type": "stream",
     "text": [
      "3\n",
      "abcd \"\"efga a\n"
     ]
    }
   ],
   "source": [
    "s='abcd \"\"efga a'\n",
    "print(s.count('a'))\n",
    "print(s)"
   ]
  },
  {
   "cell_type": "code",
   "execution_count": 117,
   "id": "a55df6b2",
   "metadata": {},
   "outputs": [
    {
     "name": "stdout",
     "output_type": "stream",
     "text": [
      "0\n",
      "abcd \"\"efga a\n"
     ]
    }
   ],
   "source": [
    "s='abcd \"\"efga a'\n",
    "print(s.count('q'))\n",
    "print(s)"
   ]
  },
  {
   "cell_type": "code",
   "execution_count": 65,
   "id": "c7897958",
   "metadata": {},
   "outputs": [
    {
     "name": "stdout",
     "output_type": "stream",
     "text": [
      "Hello eeel\n"
     ]
    }
   ],
   "source": [
    "my_string='Hello World'\n",
    "print(my_string.replace('World','eeel'))"
   ]
  },
  {
   "cell_type": "code",
   "execution_count": 120,
   "id": "5f597f86",
   "metadata": {},
   "outputs": [
    {
     "name": "stdout",
     "output_type": "stream",
     "text": [
      "abcd \"\"222a a\n"
     ]
    }
   ],
   "source": [
    "s='abcd \"\"efga a'\n",
    "print(s.replace('efg','222'))"
   ]
  },
  {
   "cell_type": "code",
   "execution_count": 124,
   "id": "f7b5a396",
   "metadata": {},
   "outputs": [
    {
     "name": "stdout",
     "output_type": "stream",
     "text": [
      "<class 'list'>\n",
      "['abcd', '\"\"efga', 'a']\n"
     ]
    }
   ],
   "source": [
    "s='abcd \"\"efga a'\n",
    "list=s.split()\n",
    "print(type(list))\n",
    "print(list)"
   ]
  },
  {
   "cell_type": "code",
   "execution_count": 126,
   "id": "588191c9",
   "metadata": {},
   "outputs": [
    {
     "name": "stdout",
     "output_type": "stream",
     "text": [
      "['abcd', '\"\"efga', 'a']\n"
     ]
    }
   ],
   "source": [
    "s='abcd \"\"efga a'\n",
    "list=s.split(\" \")\n",
    "print(list)"
   ]
  },
  {
   "cell_type": "code",
   "execution_count": 130,
   "id": "19be3cd1-eaa1-4c23-bfdd-bc7dbff1206a",
   "metadata": {},
   "outputs": [
    {
     "name": "stdout",
     "output_type": "stream",
     "text": [
      "['abcd', '\"\"', 'efga', ' a']\n"
     ]
    }
   ],
   "source": [
    "s='abcd,\"\",efga, a'\n",
    "list=s.split(\",\")\n",
    "print(list)"
   ]
  },
  {
   "cell_type": "code",
   "execution_count": 138,
   "id": "7a04e673-9280-4e1d-aa52-3d48a77cda13",
   "metadata": {},
   "outputs": [
    {
     "name": "stdout",
     "output_type": "stream",
     "text": [
      "['abcd', '\"\"', 'efga', ' a']\n",
      "abcd\"\"efga a\n"
     ]
    }
   ],
   "source": [
    "s='abcd,\"\",efga, a'\n",
    "s=s.split(\",\")\n",
    "print(s)\n",
    "s=''.join(s)\n",
    "print(s)"
   ]
  },
  {
   "cell_type": "code",
   "execution_count": 139,
   "id": "96da96f5",
   "metadata": {},
   "outputs": [
    {
     "name": "stdout",
     "output_type": "stream",
     "text": [
      "['abcd', '\"\"', 'efga', ' a']\n",
      "abcd \"\" efga  a\n"
     ]
    }
   ],
   "source": [
    "s='abcd,\"\",efga, a'\n",
    "s=s.split(\",\")\n",
    "print(s)\n",
    "s=' '.join(s)\n",
    "print(s)"
   ]
  },
  {
   "cell_type": "code",
   "execution_count": 133,
   "id": "02b8d0e9",
   "metadata": {},
   "outputs": [
    {
     "name": "stdout",
     "output_type": "stream",
     "text": [
      "['s', 's', 's', 's', 's', 's']\n"
     ]
    }
   ],
   "source": [
    "list=['s']*6\n",
    "print(list)"
   ]
  },
  {
   "cell_type": "code",
   "execution_count": 135,
   "id": "bcbd0737",
   "metadata": {},
   "outputs": [],
   "source": [
    "from timeit import default_timer as timer"
   ]
  },
  {
   "cell_type": "code",
   "execution_count": 143,
   "id": "31e21750",
   "metadata": {},
   "outputs": [
    {
     "name": "stdout",
     "output_type": "stream",
     "text": [
      "15.472886299947277\n"
     ]
    }
   ],
   "source": [
    "#bad code expensive to compute \n",
    "start=timer()\n",
    "list=['s']*1000000\n",
    "#print(list)\n",
    "s=''\n",
    "for i  in list:\n",
    "    s +=i\n",
    "    stop=timer()\n",
    "#print(s)\n",
    "print(stop-start)"
   ]
  },
  {
   "cell_type": "code",
   "execution_count": 144,
   "id": "522f75f8",
   "metadata": {},
   "outputs": [
    {
     "name": "stdout",
     "output_type": "stream",
     "text": [
      "0.01085089985281229\n"
     ]
    }
   ],
   "source": [
    "#good and cheap to compute\n",
    "start=timer()\n",
    "list=['s']*1000000\n",
    "#print(my_list)\n",
    "s =''.join(list)\n",
    "stop=timer()\n",
    "#print(my_string)\n",
    "print(stop-start)"
   ]
  },
  {
   "cell_type": "markdown",
   "id": "cce712dd",
   "metadata": {},
   "source": [
    "### format strings"
   ]
  },
  {
   "cell_type": "markdown",
   "id": "d37484ac-5fc1-4464-9733-721fba10586f",
   "metadata": {},
   "source": [
    "If variable is text"
   ]
  },
  {
   "cell_type": "code",
   "execution_count": 174,
   "id": "9e92bc09",
   "metadata": {},
   "outputs": [
    {
     "name": "stdout",
     "output_type": "stream",
     "text": [
      "my name is Alex\n"
     ]
    }
   ],
   "source": [
    "name=\"Alex\"\n",
    "s=\"my name is %s\" % name\n",
    "print(s)"
   ]
  },
  {
   "cell_type": "markdown",
   "id": "5ee4c69a-4ba8-41a7-9885-1812e56bbd1c",
   "metadata": {},
   "source": [
    "if variable is number"
   ]
  },
  {
   "cell_type": "code",
   "execution_count": 175,
   "id": "ce25acfc",
   "metadata": {},
   "outputs": [
    {
     "name": "stdout",
     "output_type": "stream",
     "text": [
      "my age is 44\n",
      "<class 'str'>\n"
     ]
    }
   ],
   "source": [
    "age=44\n",
    "s=\"my age is %d\" % age\n",
    "print(s)\n",
    "print(type(s))"
   ]
  },
  {
   "cell_type": "code",
   "execution_count": 209,
   "id": "958f45ab",
   "metadata": {},
   "outputs": [
    {
     "name": "stdout",
     "output_type": "stream",
     "text": [
      "he price of the product is 5 dollars\n"
     ]
    }
   ],
   "source": [
    "var=5.34256\n",
    "s=\"he price of the product is %d dollars\" % var\n",
    "print(s)"
   ]
  },
  {
   "cell_type": "code",
   "execution_count": 208,
   "id": "523503f9",
   "metadata": {},
   "outputs": [
    {
     "name": "stdout",
     "output_type": "stream",
     "text": [
      "the price of the product is 5.345672 dollars\n"
     ]
    }
   ],
   "source": [
    "var=5.34567234\n",
    "s=\"the price of the product is %f dollars\" % var \n",
    "print(s)"
   ]
  },
  {
   "cell_type": "code",
   "execution_count": 206,
   "id": "95cc2f11",
   "metadata": {},
   "outputs": [
    {
     "name": "stdout",
     "output_type": "stream",
     "text": [
      "the price of the product is 125.76 dollars\n"
     ]
    }
   ],
   "source": [
    "var=125.7644545634\n",
    "s=\"the price of the product is %.2f dollars\" % var\n",
    "print(s)"
   ]
  },
  {
   "cell_type": "code",
   "execution_count": 186,
   "id": "1401f437",
   "metadata": {},
   "outputs": [
    {
     "name": "stdout",
     "output_type": "stream",
     "text": [
      "the variable is 5.123456789456\n"
     ]
    }
   ],
   "source": [
    "var=5.123456789456\n",
    "s=\"the variable is {}\".format(var)\n",
    "print(s)"
   ]
  },
  {
   "cell_type": "code",
   "execution_count": 205,
   "id": "0e86419f",
   "metadata": {},
   "outputs": [
    {
     "name": "stdout",
     "output_type": "stream",
     "text": [
      "I have 23.46 dollars\n"
     ]
    }
   ],
   "source": [
    "var=23.4564546\n",
    "s=\"I have {:.2f} dollars\".format(var)\n",
    "print(s)"
   ]
  },
  {
   "cell_type": "code",
   "execution_count": 213,
   "id": "69f99d68",
   "metadata": {},
   "outputs": [
    {
     "name": "stdout",
     "output_type": "stream",
     "text": [
      "my height is 1.75 and my name is John\n"
     ]
    }
   ],
   "source": [
    "height=1.754\n",
    "name='John'\n",
    "s=\"my height is {:.2f} and my name is {}\".format(height,name)\n",
    "print(s)"
   ]
  },
  {
   "cell_type": "code",
   "execution_count": 212,
   "id": "80ac6236-617f-4e51-9741-d4bab25dc486",
   "metadata": {},
   "outputs": [
    {
     "name": "stdout",
     "output_type": "stream",
     "text": [
      "my height is 1.55 and my name is John\n"
     ]
    }
   ],
   "source": [
    "height=1.754\n",
    "name='John'\n",
    "s=\"my height is {height:.2f} and my name is {name}\".format(height=1.5467,name=\"John\")\n",
    "print(s)"
   ]
  },
  {
   "cell_type": "code",
   "execution_count": 196,
   "id": "813267f7",
   "metadata": {},
   "outputs": [
    {
     "name": "stdout",
     "output_type": "stream",
     "text": [
      "the variable is 11.35147156 and 6\n"
     ]
    }
   ],
   "source": [
    "var=5.67573578\n",
    "var2=6\n",
    "my_string=f\"the variable is {var*2} and {var2}\"\n",
    "print(my_string)"
   ]
  },
  {
   "cell_type": "code",
   "execution_count": 211,
   "id": "1958538c-f7e8-4cb2-ada2-f8385bbd1c9a",
   "metadata": {},
   "outputs": [
    {
     "name": "stdout",
     "output_type": "stream",
     "text": [
      "My name is Matt, I'm 36 years old\n"
     ]
    }
   ],
   "source": [
    "s = \"My name is {fname}, I'm {age} years old\".format(fname = \"Matt\", age = 36)\n",
    "print(s)"
   ]
  },
  {
   "cell_type": "code",
   "execution_count": 200,
   "id": "4e7ba4c8-0dae-4e79-9ec9-d5fcb34b4aef",
   "metadata": {},
   "outputs": [
    {
     "name": "stdout",
     "output_type": "stream",
     "text": [
      "My name is Matt, I'm 36\n"
     ]
    }
   ],
   "source": [
    "s = \"My name is {0}, I'm {1}\".format(\"Matt\", 36)\n",
    "print(s)"
   ]
  },
  {
   "cell_type": "code",
   "execution_count": 210,
   "id": "62ef98cb-b050-420c-9072-1762533fef2c",
   "metadata": {},
   "outputs": [
    {
     "name": "stdout",
     "output_type": "stream",
     "text": [
      "My name is Matt and I am 45 years old. My best friend is also 45 years old.\n"
     ]
    }
   ],
   "source": [
    "name=\"Matt\"\n",
    "age=45\n",
    "s = \"My name is {0} and I am {1} years old. My best friend is also {1} years old.\".format(name, age)\n",
    "print(s)"
   ]
  },
  {
   "cell_type": "code",
   "execution_count": 215,
   "id": "46a4476a-dbe4-49f5-b78d-30c2790f9a38",
   "metadata": {},
   "outputs": [
    {
     "name": "stdout",
     "output_type": "stream",
     "text": [
      "GeeksforGeeks, is a computer geeks science portal\n"
     ]
    }
   ],
   "source": [
    "my_string = \"{}, is a {} {} science portal\"\n",
    " \n",
    "print(my_string.format(\"GeeksforGeeks\", \"computer\", \"geeks\"))"
   ]
  }
 ],
 "metadata": {
  "kernelspec": {
   "display_name": "Python 3 (ipykernel)",
   "language": "python",
   "name": "python3"
  },
  "language_info": {
   "codemirror_mode": {
    "name": "ipython",
    "version": 3
   },
   "file_extension": ".py",
   "mimetype": "text/x-python",
   "name": "python",
   "nbconvert_exporter": "python",
   "pygments_lexer": "ipython3",
   "version": "3.11.5"
  }
 },
 "nbformat": 4,
 "nbformat_minor": 5
}
