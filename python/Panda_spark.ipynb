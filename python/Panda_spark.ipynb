{
 "cells": [
  {
   "cell_type": "markdown",
   "metadata": {},
   "source": [
    "20 milyon satırlı 5 kolonlu bir exceli jupyter ortamında okumam gerekti. Spark dataframe olarak okudum ve postgre'den  gelen tablolarıda spark dataframe cevirdim. Bunları joinledim. Bekledim ama gelmedi:). Spark dataframe'de istediğim performansı alamadım. Bunun üzerine okuduğum exceli ve postgreSQL'den gelen dataları panda dataframe cevirdim ve performans boom:). Panda dataframe veri bilimcilerin analiz edeceği datalar icin çok iyi performansa sahip ve yeterli. Tabi ki büyük veri icin spark dataframe önemli ama veriniz yeterince büyük mü? Verinizin kaynağı ne? Bu sorular cevaplanıp tercih yapılmalı.\n",
    "Kodlar asagıdadır."
   ]
  },
  {
   "cell_type": "code",
   "execution_count": null,
   "metadata": {},
   "outputs": [],
   "source": [
    "import pandas as pd # Panda dataframe \n",
    "import psycopg2  # PostgreSQL sorgusu için\n",
    "from pandas import DataFrame # PostgreSQL sorgusunu panda dataframe cevirmek icin gerekli"
   ]
  },
  {
   "cell_type": "code",
   "execution_count": null,
   "metadata": {},
   "outputs": [],
   "source": [
    "# Excelin panda dataframe cekilmesi\n",
    "colnames=['id', 'price'] \n",
    "dfexcel_panda = pd.read_csv(\"/Documents/df.csv\",names=colnames, header=None) "
   ]
  },
  {
   "cell_type": "code",
   "execution_count": null,
   "metadata": {},
   "outputs": [],
   "source": [
    "# Excelin spark dataframe cekilmesi\n",
    "dfexcel_spark= sqlContext.read.format('com.databricks.spark.csv').options(header='true', inferschema='true')\\\n",
    "               .load('/Documents/df.csv')"
   ]
  },
  {
   "cell_type": "code",
   "execution_count": null,
   "metadata": {},
   "outputs": [],
   "source": [
    "# PostgreSQL sorgusu icin\n",
    "# Bağlanacagınız makinenin bilgileri\n",
    "connection = psycopg2.connect(user = \"xxx\",\n",
    "                                  password = \"xxx\",\n",
    "                                  host = \"xxx\",\n",
    "                                  port = \"xxx\",\n",
    "                                  database = \"xxx\");"
   ]
  },
  {
   "cell_type": "code",
   "execution_count": null,
   "metadata": {},
   "outputs": [],
   "source": [
    "# PostgreSQL sorgusunun çekilmesi\n",
    "cursor = connection.cursor()\n",
    "cursor.execute(\"Postgresql Sorgusu\") "
   ]
  },
  {
   "cell_type": "code",
   "execution_count": null,
   "metadata": {},
   "outputs": [],
   "source": [
    "# Panda dataframe performans daha iyi\n",
    "df_panda= DataFrame(cursor.fetchall())"
   ]
  },
  {
   "cell_type": "code",
   "execution_count": null,
   "metadata": {},
   "outputs": [],
   "source": [
    "# Spark dataframe cevirme kısmı::performans düsüklügü\n",
    "spark = SparkSession(sc)\n",
    "df_spark = spark.createDataFrame(cursor.fetchall())  "
   ]
  },
  {
   "cell_type": "code",
   "execution_count": null,
   "metadata": {},
   "outputs": [],
   "source": [
    "# İki pandanın joinlenmesi\n",
    "df_final_panda=pd.merge(dfexcel_panda, df_panda, left_on='id', right_on='id')"
   ]
  },
  {
   "cell_type": "code",
   "execution_count": null,
   "metadata": {},
   "outputs": [],
   "source": [
    "# İki sparkın joinlenmesi::performans düsüklügü\n",
    "df_final_spark = dfexcel_spark.join(df_spark, dfexcel_spark.id== df_spark.id).drop(df_spark.id)"
   ]
  },
  {
   "cell_type": "code",
   "execution_count": null,
   "metadata": {},
   "outputs": [],
   "source": [
    "# Pandayı csv olarak  export et\n",
    "df_final_panda.to_csv('/Documents/df.csv')"
   ]
  },
  {
   "cell_type": "code",
   "execution_count": null,
   "metadata": {},
   "outputs": [],
   "source": [
    "# Sparkı csv olarak  export et\n",
    "df_final_spark.coalesce(1).write.format('com.databricks.spark.csv').save('/Documents/df.csv',header = 'true')"
   ]
  }
 ],
 "metadata": {
  "kernelspec": {
   "display_name": "Python 3",
   "language": "python",
   "name": "python3"
  },
  "language_info": {
   "codemirror_mode": {
    "name": "ipython",
    "version": 3
   },
   "file_extension": ".py",
   "mimetype": "text/x-python",
   "name": "python",
   "nbconvert_exporter": "python",
   "pygments_lexer": "ipython3",
   "version": "3.6.8"
  }
 },
 "nbformat": 4,
 "nbformat_minor": 2
}
