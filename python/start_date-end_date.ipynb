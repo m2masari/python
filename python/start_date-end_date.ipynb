{
 "cells": [
  {
   "cell_type": "code",
   "execution_count": 2,
   "id": "f05ae6b2",
   "metadata": {},
   "outputs": [],
   "source": [
    "from datetime import datetime\n",
    "import datetime"
   ]
  },
  {
   "cell_type": "code",
   "execution_count": 3,
   "id": "b15445d6",
   "metadata": {},
   "outputs": [],
   "source": [
    "start_date = datetime.date(2023, 1, 2)\n",
    "today= datetime.date.today()"
   ]
  },
  {
   "cell_type": "code",
   "execution_count": 5,
   "id": "231cb24a",
   "metadata": {},
   "outputs": [],
   "source": [
    "start_date = datetime.date(2023, 1, 2)\n",
    "today= datetime.date.today()\n",
    "date_list = []"
   ]
  },
  {
   "cell_type": "code",
   "execution_count": 6,
   "id": "aab7cfb7",
   "metadata": {},
   "outputs": [],
   "source": [
    "def date_range(start_date):\n",
    "    return [{\"startDate\": start_date.strftime(\"%Y-%m-%d\"),\n",
    "             \"endDate\": (start_date + datetime.timedelta(days=6.9)).strftime(\"%Y-%m-%d\")}]"
   ]
  },
  {
   "cell_type": "code",
   "execution_count": 7,
   "id": "a1197931",
   "metadata": {},
   "outputs": [
    {
     "data": {
      "text/plain": [
       "[{'startDate': '2023-01-02', 'endDate': '2023-01-08'}]"
      ]
     },
     "execution_count": 7,
     "metadata": {},
     "output_type": "execute_result"
    }
   ],
   "source": [
    "date_range(start_date)"
   ]
  },
  {
   "cell_type": "code",
   "execution_count": 8,
   "id": "699b86ab",
   "metadata": {},
   "outputs": [],
   "source": [
    "while start_date<today:\n",
    "      date_list.append(date_range(start_date))\n",
    "      start_date= (start_date + datetime.timedelta(days=7.9))"
   ]
  },
  {
   "cell_type": "code",
   "execution_count": 9,
   "id": "5ffea13a",
   "metadata": {},
   "outputs": [
    {
     "name": "stdout",
     "output_type": "stream",
     "text": [
      "2023-01-02 2023-01-08\n",
      "2023-01-09 2023-01-15\n",
      "2023-01-16 2023-01-22\n",
      "2023-01-23 2023-01-29\n",
      "2023-01-30 2023-02-05\n",
      "2023-02-06 2023-02-12\n",
      "2023-02-13 2023-02-19\n",
      "2023-02-20 2023-02-26\n",
      "2023-02-27 2023-03-05\n",
      "2023-03-06 2023-03-12\n",
      "2023-03-13 2023-03-19\n",
      "2023-03-20 2023-03-26\n",
      "2023-03-27 2023-04-02\n",
      "2023-04-03 2023-04-09\n",
      "2023-04-10 2023-04-16\n",
      "2023-04-17 2023-04-23\n",
      "2023-04-24 2023-04-30\n",
      "2023-05-01 2023-05-07\n",
      "2023-05-08 2023-05-14\n",
      "2023-05-15 2023-05-21\n"
     ]
    }
   ],
   "source": [
    "for date_item in date_list:\n",
    "    date_range = date_item[0]\n",
    "    startDate = date_range['startDate']\n",
    "    endDate = date_range['endDate']\n",
    "    print(startDate,endDate)"
   ]
  },
  {
   "cell_type": "code",
   "execution_count": null,
   "id": "a9562af8",
   "metadata": {},
   "outputs": [],
   "source": []
  }
 ],
 "metadata": {
  "kernelspec": {
   "display_name": "Python 3 (ipykernel)",
   "language": "python",
   "name": "python3"
  },
  "language_info": {
   "codemirror_mode": {
    "name": "ipython",
    "version": 3
   },
   "file_extension": ".py",
   "mimetype": "text/x-python",
   "name": "python",
   "nbconvert_exporter": "python",
   "pygments_lexer": "ipython3",
   "version": "3.9.7"
  }
 },
 "nbformat": 4,
 "nbformat_minor": 5
}
